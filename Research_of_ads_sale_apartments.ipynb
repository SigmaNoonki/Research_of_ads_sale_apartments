{
 "cells": [
  {
   "cell_type": "markdown",
   "metadata": {
    "toc": true
   },
   "source": [
    "<h1>Содержание<span class=\"tocSkip\"></span></h1>\n",
    "<div class=\"toc\"><ul class=\"toc-item\"><li><span><a href=\"#Изучение-данных-из-файла\" data-toc-modified-id=\"Изучение-данных-из-файла-1\"><span class=\"toc-item-num\">1&nbsp;&nbsp;</span>Изучение данных из файла</a></span><ul class=\"toc-item\"><li><span><a href=\"#Вывод\" data-toc-modified-id=\"Вывод-1.1\"><span class=\"toc-item-num\">1.1&nbsp;&nbsp;</span>Вывод</a></span></li></ul></li><li><span><a href=\"#Предобработка-данных\" data-toc-modified-id=\"Предобработка-данных-2\"><span class=\"toc-item-num\">2&nbsp;&nbsp;</span>Предобработка данных</a></span><ul class=\"toc-item\"><li><span><a href=\"#Заполнение-пропусков\" data-toc-modified-id=\"Заполнение-пропусков-2.1\"><span class=\"toc-item-num\">2.1&nbsp;&nbsp;</span>Заполнение пропусков</a></span></li></ul></li><li><span><a href=\"#Расчёты-и-добавление-результатов-в-таблицу\" data-toc-modified-id=\"Расчёты-и-добавление-результатов-в-таблицу-3\"><span class=\"toc-item-num\">3&nbsp;&nbsp;</span>Расчёты и добавление результатов в таблицу</a></span></li><li><span><a href=\"#Исследовательский-анализ-данных\" data-toc-modified-id=\"Исследовательский-анализ-данных-4\"><span class=\"toc-item-num\">4&nbsp;&nbsp;</span>Исследовательский анализ данных</a></span></li><li><span><a href=\"#Общий-вывод\" data-toc-modified-id=\"Общий-вывод-5\"><span class=\"toc-item-num\">5&nbsp;&nbsp;</span>Общий вывод</a></span></li><li><span><a href=\"#Чек-лист-готовности-проекта\" data-toc-modified-id=\"Чек-лист-готовности-проекта-6\"><span class=\"toc-item-num\">6&nbsp;&nbsp;</span>Чек-лист готовности проекта</a></span></li></ul></div>"
   ]
  },
  {
   "cell_type": "markdown",
   "metadata": {},
   "source": [
    "# Исследование объявлений о продаже квартир\n",
    "\n",
    "В нашем распоряжении данные сервиса Яндекc Недвижимость — архив объявлений о продаже квартир в Санкт-Петербурге и соседних населённых пунктах за несколько лет. Необходимо научиться определять рыночную стоимость объектов недвижимости. \n",
    "\n",
    "Задача — установить параметры, от которых зависит стоимость объекта.\n",
    "\n",
    "По каждой квартире на продажу доступны два вида данных. Первые вписаны пользователем, вторые получены автоматически на основе картографических данных (расстояние до центра, аэропорта, ближайшего парка и водоёма).\n",
    "\n",
    "Требуется разобраться:\n",
    " * влияет ли площадь, количество комнат и удаленность от центра на стоимость объекта\n",
    " * какие прочие параметры могут также оказывать влияние на стоимость объекта\n",
    "\n",
    "\n",
    "**Ход исследования**\n",
    "\n",
    "Данные об объявлениях содержатся в файле (Путь к файлу: /datasets/real_estate_data.csv). О качестве данных ничего не известно. Поэтому перед проверкой гипотез проведем обзор данных. \n",
    "\n",
    "Проверим данные на ошибки и оценим их влияние на исследование. На этапе предобработки исправим самые критичные ошибки данных.\n",
    " \n",
    "Таким образом, исследование содержит три этапа:\n",
    " 1. Обзор данных.\n",
    " 2. Предобработка данных.\n",
    " 3. Проверка гипотез.\n",
    "\n",
    "\n",
    "Результаты исследования будут учтены при построении автоматизированной системы: она отследит аномалии и мошенническую деятельность."
   ]
  },
  {
   "cell_type": "markdown",
   "metadata": {},
   "source": [
    "## Изучение данных из файла"
   ]
  },
  {
   "cell_type": "code",
   "execution_count": 894,
   "metadata": {},
   "outputs": [],
   "source": [
    "from IPython.display import display\n",
    "import pandas as pd\n",
    "import datetime\n",
    "import matplotlib.pyplot as plt"
   ]
  },
  {
   "cell_type": "code",
   "execution_count": 895,
   "metadata": {},
   "outputs": [],
   "source": [
    "df = pd.read_csv('/datasets/real_estate_data.csv')"
   ]
  },
  {
   "cell_type": "code",
   "execution_count": 896,
   "metadata": {},
   "outputs": [
    {
     "data": {
      "text/html": [
       "<div>\n",
       "<style scoped>\n",
       "    .dataframe tbody tr th:only-of-type {\n",
       "        vertical-align: middle;\n",
       "    }\n",
       "\n",
       "    .dataframe tbody tr th {\n",
       "        vertical-align: top;\n",
       "    }\n",
       "\n",
       "    .dataframe thead th {\n",
       "        text-align: right;\n",
       "    }\n",
       "</style>\n",
       "<table border=\"1\" class=\"dataframe\">\n",
       "  <thead>\n",
       "    <tr style=\"text-align: right;\">\n",
       "      <th></th>\n",
       "      <th>total_images\\tlast_price\\ttotal_area\\tfirst_day_exposition\\trooms\\tceiling_height\\tfloors_total\\tliving_area\\tfloor\\tis_apartment\\tstudio\\topen_plan\\tkitchen_area\\tbalcony\\tlocality_name\\tairports_nearest\\tcityCenters_nearest\\tparks_around3000\\tparks_nearest\\tponds_around3000\\tponds_nearest\\tdays_exposition</th>\n",
       "    </tr>\n",
       "  </thead>\n",
       "  <tbody>\n",
       "    <tr>\n",
       "      <th>0</th>\n",
       "      <td>20\\t13000000.0\\t108.0\\t2019-03-07T00:00:00\\t3\\...</td>\n",
       "    </tr>\n",
       "    <tr>\n",
       "      <th>1</th>\n",
       "      <td>7\\t3350000.0\\t40.4\\t2018-12-04T00:00:00\\t1\\t\\t...</td>\n",
       "    </tr>\n",
       "    <tr>\n",
       "      <th>2</th>\n",
       "      <td>10\\t5196000.0\\t56.0\\t2015-08-20T00:00:00\\t2\\t\\...</td>\n",
       "    </tr>\n",
       "    <tr>\n",
       "      <th>3</th>\n",
       "      <td>0\\t64900000.0\\t159.0\\t2015-07-24T00:00:00\\t3\\t...</td>\n",
       "    </tr>\n",
       "    <tr>\n",
       "      <th>4</th>\n",
       "      <td>2\\t10000000.0\\t100.0\\t2018-06-19T00:00:00\\t2\\t...</td>\n",
       "    </tr>\n",
       "    <tr>\n",
       "      <th>5</th>\n",
       "      <td>10\\t2890000.0\\t30.4\\t2018-09-10T00:00:00\\t1\\t\\...</td>\n",
       "    </tr>\n",
       "    <tr>\n",
       "      <th>6</th>\n",
       "      <td>6\\t3700000.0\\t37.3\\t2017-11-02T00:00:00\\t1\\t\\t...</td>\n",
       "    </tr>\n",
       "    <tr>\n",
       "      <th>7</th>\n",
       "      <td>5\\t7915000.0\\t71.6\\t2019-04-18T00:00:00\\t2\\t\\t...</td>\n",
       "    </tr>\n",
       "    <tr>\n",
       "      <th>8</th>\n",
       "      <td>20\\t2900000.0\\t33.16\\t2018-05-23T00:00:00\\t1\\t...</td>\n",
       "    </tr>\n",
       "    <tr>\n",
       "      <th>9</th>\n",
       "      <td>18\\t5400000.0\\t61.0\\t2017-02-26T00:00:00\\t3\\t2...</td>\n",
       "    </tr>\n",
       "  </tbody>\n",
       "</table>\n",
       "</div>"
      ],
      "text/plain": [
       "  total_images\\tlast_price\\ttotal_area\\tfirst_day_exposition\\trooms\\tceiling_height\\tfloors_total\\tliving_area\\tfloor\\tis_apartment\\tstudio\\topen_plan\\tkitchen_area\\tbalcony\\tlocality_name\\tairports_nearest\\tcityCenters_nearest\\tparks_around3000\\tparks_nearest\\tponds_around3000\\tponds_nearest\\tdays_exposition\n",
       "0  20\\t13000000.0\\t108.0\\t2019-03-07T00:00:00\\t3\\...                                                                                                                                                                                                                                                                  \n",
       "1  7\\t3350000.0\\t40.4\\t2018-12-04T00:00:00\\t1\\t\\t...                                                                                                                                                                                                                                                                  \n",
       "2  10\\t5196000.0\\t56.0\\t2015-08-20T00:00:00\\t2\\t\\...                                                                                                                                                                                                                                                                  \n",
       "3  0\\t64900000.0\\t159.0\\t2015-07-24T00:00:00\\t3\\t...                                                                                                                                                                                                                                                                  \n",
       "4  2\\t10000000.0\\t100.0\\t2018-06-19T00:00:00\\t2\\t...                                                                                                                                                                                                                                                                  \n",
       "5  10\\t2890000.0\\t30.4\\t2018-09-10T00:00:00\\t1\\t\\...                                                                                                                                                                                                                                                                  \n",
       "6  6\\t3700000.0\\t37.3\\t2017-11-02T00:00:00\\t1\\t\\t...                                                                                                                                                                                                                                                                  \n",
       "7  5\\t7915000.0\\t71.6\\t2019-04-18T00:00:00\\t2\\t\\t...                                                                                                                                                                                                                                                                  \n",
       "8  20\\t2900000.0\\t33.16\\t2018-05-23T00:00:00\\t1\\t...                                                                                                                                                                                                                                                                  \n",
       "9  18\\t5400000.0\\t61.0\\t2017-02-26T00:00:00\\t3\\t2...                                                                                                                                                                                                                                                                  "
      ]
     },
     "execution_count": 896,
     "metadata": {},
     "output_type": "execute_result"
    }
   ],
   "source": [
    "df.head(10) #печать первых 10 строк таблицы данных"
   ]
  },
  {
   "cell_type": "markdown",
   "metadata": {},
   "source": [
    "Данные склеились в одну строку вместо того, чтобы разбиться по колонкам. Для начала требуется разделить строку на колонки."
   ]
  },
  {
   "cell_type": "code",
   "execution_count": 897,
   "metadata": {},
   "outputs": [
    {
     "data": {
      "text/html": [
       "<div>\n",
       "<style scoped>\n",
       "    .dataframe tbody tr th:only-of-type {\n",
       "        vertical-align: middle;\n",
       "    }\n",
       "\n",
       "    .dataframe tbody tr th {\n",
       "        vertical-align: top;\n",
       "    }\n",
       "\n",
       "    .dataframe thead th {\n",
       "        text-align: right;\n",
       "    }\n",
       "</style>\n",
       "<table border=\"1\" class=\"dataframe\">\n",
       "  <thead>\n",
       "    <tr style=\"text-align: right;\">\n",
       "      <th></th>\n",
       "      <th>total_images</th>\n",
       "      <th>last_price</th>\n",
       "      <th>total_area</th>\n",
       "      <th>first_day_exposition</th>\n",
       "      <th>rooms</th>\n",
       "      <th>ceiling_height</th>\n",
       "      <th>floors_total</th>\n",
       "      <th>living_area</th>\n",
       "      <th>floor</th>\n",
       "      <th>is_apartment</th>\n",
       "      <th>...</th>\n",
       "      <th>kitchen_area</th>\n",
       "      <th>balcony</th>\n",
       "      <th>locality_name</th>\n",
       "      <th>airports_nearest</th>\n",
       "      <th>cityCenters_nearest</th>\n",
       "      <th>parks_around3000</th>\n",
       "      <th>parks_nearest</th>\n",
       "      <th>ponds_around3000</th>\n",
       "      <th>ponds_nearest</th>\n",
       "      <th>days_exposition</th>\n",
       "    </tr>\n",
       "  </thead>\n",
       "  <tbody>\n",
       "    <tr>\n",
       "      <th>0</th>\n",
       "      <td>20</td>\n",
       "      <td>13000000.0</td>\n",
       "      <td>108.00</td>\n",
       "      <td>2019-03-07T00:00:00</td>\n",
       "      <td>3</td>\n",
       "      <td>2.70</td>\n",
       "      <td>16.0</td>\n",
       "      <td>51.00</td>\n",
       "      <td>8</td>\n",
       "      <td>NaN</td>\n",
       "      <td>...</td>\n",
       "      <td>25.00</td>\n",
       "      <td>NaN</td>\n",
       "      <td>Санкт-Петербург</td>\n",
       "      <td>18863.0</td>\n",
       "      <td>16028.0</td>\n",
       "      <td>1.0</td>\n",
       "      <td>482.0</td>\n",
       "      <td>2.0</td>\n",
       "      <td>755.0</td>\n",
       "      <td>NaN</td>\n",
       "    </tr>\n",
       "    <tr>\n",
       "      <th>1</th>\n",
       "      <td>7</td>\n",
       "      <td>3350000.0</td>\n",
       "      <td>40.40</td>\n",
       "      <td>2018-12-04T00:00:00</td>\n",
       "      <td>1</td>\n",
       "      <td>NaN</td>\n",
       "      <td>11.0</td>\n",
       "      <td>18.60</td>\n",
       "      <td>1</td>\n",
       "      <td>NaN</td>\n",
       "      <td>...</td>\n",
       "      <td>11.00</td>\n",
       "      <td>2.0</td>\n",
       "      <td>посёлок Шушары</td>\n",
       "      <td>12817.0</td>\n",
       "      <td>18603.0</td>\n",
       "      <td>0.0</td>\n",
       "      <td>NaN</td>\n",
       "      <td>0.0</td>\n",
       "      <td>NaN</td>\n",
       "      <td>81.0</td>\n",
       "    </tr>\n",
       "    <tr>\n",
       "      <th>2</th>\n",
       "      <td>10</td>\n",
       "      <td>5196000.0</td>\n",
       "      <td>56.00</td>\n",
       "      <td>2015-08-20T00:00:00</td>\n",
       "      <td>2</td>\n",
       "      <td>NaN</td>\n",
       "      <td>5.0</td>\n",
       "      <td>34.30</td>\n",
       "      <td>4</td>\n",
       "      <td>NaN</td>\n",
       "      <td>...</td>\n",
       "      <td>8.30</td>\n",
       "      <td>0.0</td>\n",
       "      <td>Санкт-Петербург</td>\n",
       "      <td>21741.0</td>\n",
       "      <td>13933.0</td>\n",
       "      <td>1.0</td>\n",
       "      <td>90.0</td>\n",
       "      <td>2.0</td>\n",
       "      <td>574.0</td>\n",
       "      <td>558.0</td>\n",
       "    </tr>\n",
       "    <tr>\n",
       "      <th>3</th>\n",
       "      <td>0</td>\n",
       "      <td>64900000.0</td>\n",
       "      <td>159.00</td>\n",
       "      <td>2015-07-24T00:00:00</td>\n",
       "      <td>3</td>\n",
       "      <td>NaN</td>\n",
       "      <td>14.0</td>\n",
       "      <td>NaN</td>\n",
       "      <td>9</td>\n",
       "      <td>NaN</td>\n",
       "      <td>...</td>\n",
       "      <td>NaN</td>\n",
       "      <td>0.0</td>\n",
       "      <td>Санкт-Петербург</td>\n",
       "      <td>28098.0</td>\n",
       "      <td>6800.0</td>\n",
       "      <td>2.0</td>\n",
       "      <td>84.0</td>\n",
       "      <td>3.0</td>\n",
       "      <td>234.0</td>\n",
       "      <td>424.0</td>\n",
       "    </tr>\n",
       "    <tr>\n",
       "      <th>4</th>\n",
       "      <td>2</td>\n",
       "      <td>10000000.0</td>\n",
       "      <td>100.00</td>\n",
       "      <td>2018-06-19T00:00:00</td>\n",
       "      <td>2</td>\n",
       "      <td>3.03</td>\n",
       "      <td>14.0</td>\n",
       "      <td>32.00</td>\n",
       "      <td>13</td>\n",
       "      <td>NaN</td>\n",
       "      <td>...</td>\n",
       "      <td>41.00</td>\n",
       "      <td>NaN</td>\n",
       "      <td>Санкт-Петербург</td>\n",
       "      <td>31856.0</td>\n",
       "      <td>8098.0</td>\n",
       "      <td>2.0</td>\n",
       "      <td>112.0</td>\n",
       "      <td>1.0</td>\n",
       "      <td>48.0</td>\n",
       "      <td>121.0</td>\n",
       "    </tr>\n",
       "    <tr>\n",
       "      <th>5</th>\n",
       "      <td>10</td>\n",
       "      <td>2890000.0</td>\n",
       "      <td>30.40</td>\n",
       "      <td>2018-09-10T00:00:00</td>\n",
       "      <td>1</td>\n",
       "      <td>NaN</td>\n",
       "      <td>12.0</td>\n",
       "      <td>14.40</td>\n",
       "      <td>5</td>\n",
       "      <td>NaN</td>\n",
       "      <td>...</td>\n",
       "      <td>9.10</td>\n",
       "      <td>NaN</td>\n",
       "      <td>городской посёлок Янино-1</td>\n",
       "      <td>NaN</td>\n",
       "      <td>NaN</td>\n",
       "      <td>NaN</td>\n",
       "      <td>NaN</td>\n",
       "      <td>NaN</td>\n",
       "      <td>NaN</td>\n",
       "      <td>55.0</td>\n",
       "    </tr>\n",
       "    <tr>\n",
       "      <th>6</th>\n",
       "      <td>6</td>\n",
       "      <td>3700000.0</td>\n",
       "      <td>37.30</td>\n",
       "      <td>2017-11-02T00:00:00</td>\n",
       "      <td>1</td>\n",
       "      <td>NaN</td>\n",
       "      <td>26.0</td>\n",
       "      <td>10.60</td>\n",
       "      <td>6</td>\n",
       "      <td>NaN</td>\n",
       "      <td>...</td>\n",
       "      <td>14.40</td>\n",
       "      <td>1.0</td>\n",
       "      <td>посёлок Парголово</td>\n",
       "      <td>52996.0</td>\n",
       "      <td>19143.0</td>\n",
       "      <td>0.0</td>\n",
       "      <td>NaN</td>\n",
       "      <td>0.0</td>\n",
       "      <td>NaN</td>\n",
       "      <td>155.0</td>\n",
       "    </tr>\n",
       "    <tr>\n",
       "      <th>7</th>\n",
       "      <td>5</td>\n",
       "      <td>7915000.0</td>\n",
       "      <td>71.60</td>\n",
       "      <td>2019-04-18T00:00:00</td>\n",
       "      <td>2</td>\n",
       "      <td>NaN</td>\n",
       "      <td>24.0</td>\n",
       "      <td>NaN</td>\n",
       "      <td>22</td>\n",
       "      <td>NaN</td>\n",
       "      <td>...</td>\n",
       "      <td>18.90</td>\n",
       "      <td>2.0</td>\n",
       "      <td>Санкт-Петербург</td>\n",
       "      <td>23982.0</td>\n",
       "      <td>11634.0</td>\n",
       "      <td>0.0</td>\n",
       "      <td>NaN</td>\n",
       "      <td>0.0</td>\n",
       "      <td>NaN</td>\n",
       "      <td>NaN</td>\n",
       "    </tr>\n",
       "    <tr>\n",
       "      <th>8</th>\n",
       "      <td>20</td>\n",
       "      <td>2900000.0</td>\n",
       "      <td>33.16</td>\n",
       "      <td>2018-05-23T00:00:00</td>\n",
       "      <td>1</td>\n",
       "      <td>NaN</td>\n",
       "      <td>27.0</td>\n",
       "      <td>15.43</td>\n",
       "      <td>26</td>\n",
       "      <td>NaN</td>\n",
       "      <td>...</td>\n",
       "      <td>8.81</td>\n",
       "      <td>NaN</td>\n",
       "      <td>посёлок Мурино</td>\n",
       "      <td>NaN</td>\n",
       "      <td>NaN</td>\n",
       "      <td>NaN</td>\n",
       "      <td>NaN</td>\n",
       "      <td>NaN</td>\n",
       "      <td>NaN</td>\n",
       "      <td>189.0</td>\n",
       "    </tr>\n",
       "    <tr>\n",
       "      <th>9</th>\n",
       "      <td>18</td>\n",
       "      <td>5400000.0</td>\n",
       "      <td>61.00</td>\n",
       "      <td>2017-02-26T00:00:00</td>\n",
       "      <td>3</td>\n",
       "      <td>2.50</td>\n",
       "      <td>9.0</td>\n",
       "      <td>43.60</td>\n",
       "      <td>7</td>\n",
       "      <td>NaN</td>\n",
       "      <td>...</td>\n",
       "      <td>6.50</td>\n",
       "      <td>2.0</td>\n",
       "      <td>Санкт-Петербург</td>\n",
       "      <td>50898.0</td>\n",
       "      <td>15008.0</td>\n",
       "      <td>0.0</td>\n",
       "      <td>NaN</td>\n",
       "      <td>0.0</td>\n",
       "      <td>NaN</td>\n",
       "      <td>289.0</td>\n",
       "    </tr>\n",
       "  </tbody>\n",
       "</table>\n",
       "<p>10 rows × 22 columns</p>\n",
       "</div>"
      ],
      "text/plain": [
       "   total_images  last_price  total_area first_day_exposition  rooms  \\\n",
       "0            20  13000000.0      108.00  2019-03-07T00:00:00      3   \n",
       "1             7   3350000.0       40.40  2018-12-04T00:00:00      1   \n",
       "2            10   5196000.0       56.00  2015-08-20T00:00:00      2   \n",
       "3             0  64900000.0      159.00  2015-07-24T00:00:00      3   \n",
       "4             2  10000000.0      100.00  2018-06-19T00:00:00      2   \n",
       "5            10   2890000.0       30.40  2018-09-10T00:00:00      1   \n",
       "6             6   3700000.0       37.30  2017-11-02T00:00:00      1   \n",
       "7             5   7915000.0       71.60  2019-04-18T00:00:00      2   \n",
       "8            20   2900000.0       33.16  2018-05-23T00:00:00      1   \n",
       "9            18   5400000.0       61.00  2017-02-26T00:00:00      3   \n",
       "\n",
       "   ceiling_height  floors_total  living_area  floor is_apartment  ...  \\\n",
       "0            2.70          16.0        51.00      8          NaN  ...   \n",
       "1             NaN          11.0        18.60      1          NaN  ...   \n",
       "2             NaN           5.0        34.30      4          NaN  ...   \n",
       "3             NaN          14.0          NaN      9          NaN  ...   \n",
       "4            3.03          14.0        32.00     13          NaN  ...   \n",
       "5             NaN          12.0        14.40      5          NaN  ...   \n",
       "6             NaN          26.0        10.60      6          NaN  ...   \n",
       "7             NaN          24.0          NaN     22          NaN  ...   \n",
       "8             NaN          27.0        15.43     26          NaN  ...   \n",
       "9            2.50           9.0        43.60      7          NaN  ...   \n",
       "\n",
       "   kitchen_area  balcony              locality_name  airports_nearest  \\\n",
       "0         25.00      NaN            Санкт-Петербург           18863.0   \n",
       "1         11.00      2.0             посёлок Шушары           12817.0   \n",
       "2          8.30      0.0            Санкт-Петербург           21741.0   \n",
       "3           NaN      0.0            Санкт-Петербург           28098.0   \n",
       "4         41.00      NaN            Санкт-Петербург           31856.0   \n",
       "5          9.10      NaN  городской посёлок Янино-1               NaN   \n",
       "6         14.40      1.0          посёлок Парголово           52996.0   \n",
       "7         18.90      2.0            Санкт-Петербург           23982.0   \n",
       "8          8.81      NaN             посёлок Мурино               NaN   \n",
       "9          6.50      2.0            Санкт-Петербург           50898.0   \n",
       "\n",
       "  cityCenters_nearest  parks_around3000  parks_nearest  ponds_around3000  \\\n",
       "0             16028.0               1.0          482.0               2.0   \n",
       "1             18603.0               0.0            NaN               0.0   \n",
       "2             13933.0               1.0           90.0               2.0   \n",
       "3              6800.0               2.0           84.0               3.0   \n",
       "4              8098.0               2.0          112.0               1.0   \n",
       "5                 NaN               NaN            NaN               NaN   \n",
       "6             19143.0               0.0            NaN               0.0   \n",
       "7             11634.0               0.0            NaN               0.0   \n",
       "8                 NaN               NaN            NaN               NaN   \n",
       "9             15008.0               0.0            NaN               0.0   \n",
       "\n",
       "   ponds_nearest  days_exposition  \n",
       "0          755.0              NaN  \n",
       "1            NaN             81.0  \n",
       "2          574.0            558.0  \n",
       "3          234.0            424.0  \n",
       "4           48.0            121.0  \n",
       "5            NaN             55.0  \n",
       "6            NaN            155.0  \n",
       "7            NaN              NaN  \n",
       "8            NaN            189.0  \n",
       "9            NaN            289.0  \n",
       "\n",
       "[10 rows x 22 columns]"
      ]
     },
     "execution_count": 897,
     "metadata": {},
     "output_type": "execute_result"
    }
   ],
   "source": [
    "df = pd.read_csv('/datasets/real_estate_data.csv', sep='\\t') #Прочитаем данные ещё раз с учётом разделителя столбцов\n",
    "df.head(10) #печать первых 10 строк таблицы данных"
   ]
  },
  {
   "cell_type": "markdown",
   "metadata": {},
   "source": [
    "Общая информация о таблице:"
   ]
  },
  {
   "cell_type": "code",
   "execution_count": 898,
   "metadata": {},
   "outputs": [
    {
     "name": "stdout",
     "output_type": "stream",
     "text": [
      "<class 'pandas.core.frame.DataFrame'>\n",
      "RangeIndex: 23699 entries, 0 to 23698\n",
      "Data columns (total 22 columns):\n",
      " #   Column                Non-Null Count  Dtype  \n",
      "---  ------                --------------  -----  \n",
      " 0   total_images          23699 non-null  int64  \n",
      " 1   last_price            23699 non-null  float64\n",
      " 2   total_area            23699 non-null  float64\n",
      " 3   first_day_exposition  23699 non-null  object \n",
      " 4   rooms                 23699 non-null  int64  \n",
      " 5   ceiling_height        14504 non-null  float64\n",
      " 6   floors_total          23613 non-null  float64\n",
      " 7   living_area           21796 non-null  float64\n",
      " 8   floor                 23699 non-null  int64  \n",
      " 9   is_apartment          2775 non-null   object \n",
      " 10  studio                23699 non-null  bool   \n",
      " 11  open_plan             23699 non-null  bool   \n",
      " 12  kitchen_area          21421 non-null  float64\n",
      " 13  balcony               12180 non-null  float64\n",
      " 14  locality_name         23650 non-null  object \n",
      " 15  airports_nearest      18157 non-null  float64\n",
      " 16  cityCenters_nearest   18180 non-null  float64\n",
      " 17  parks_around3000      18181 non-null  float64\n",
      " 18  parks_nearest         8079 non-null   float64\n",
      " 19  ponds_around3000      18181 non-null  float64\n",
      " 20  ponds_nearest         9110 non-null   float64\n",
      " 21  days_exposition       20518 non-null  float64\n",
      "dtypes: bool(2), float64(14), int64(3), object(3)\n",
      "memory usage: 3.7+ MB\n"
     ]
    }
   ],
   "source": [
    "df.info()"
   ]
  },
  {
   "cell_type": "markdown",
   "metadata": {},
   "source": [
    "Итого: 23699 строк. Тип данных - int64 (целые числа), float64\t(числа с плавающей точкой), object(текстовые или смешанные числовые и нечисловые значения), bool(логический типа данных).\n",
    "\n",
    "Согласно документации к данным:\n",
    "* `airports_nearest` — расстояние до ближайшего аэропорта в метрах (м)\n",
    "* `balcony` — число балконов\n",
    "* `ceiling_height` — высота потолков (м)\n",
    "* `cityCenters_nearest` — расстояние до центра города (м)\n",
    "* `days_exposition` — сколько дней было размещено объявление (от публикации до снятия)\n",
    "* `first_day_exposition` — дата публикации\n",
    "* `floor` — этаж\n",
    "* `floors_total` — всего этажей в доме\n",
    "* `is_apartment` — апартаменты (булев тип)\n",
    "* `kitchen_area` — площадь кухни в квадратных метрах (м²)\n",
    "* `last_price` — цена на момент снятия с публикации\n",
    "* `living_area` — жилая площадь в квадратных метрах (м²)\n",
    "* `locality_name` — название населённого пункта\n",
    "* `open_plan` — свободная планировка (булев тип)\n",
    "* `parks_around3000` — число парков в радиусе 3 км\n",
    "* `parks_nearest` — расстояние до ближайшего парка (м)\n",
    "* `ponds_around3000` — число водоёмов в радиусе 3 км\n",
    "* `ponds_nearest` — расстояние до ближайшего водоёма (м)\n",
    "* `rooms` — число комнат\n",
    "* `studio` — квартира-студия (булев тип)\n",
    "* `total_area` — площадь квартиры в квадратных метрах (м²)\n",
    "* `total_images` — число фотографий квартиры в объявлении\n",
    "\n"
   ]
  },
  {
   "cell_type": "markdown",
   "metadata": {},
   "source": [
    "### Вывод"
   ]
  },
  {
   "cell_type": "markdown",
   "metadata": {},
   "source": [
    "\n",
    "В каждой строке таблицы - данные об объявлении о продаже объекта недвижимости.\n",
    "\n",
    "Предварительно можно утверждать, что данных достаточно для проверки гипотез. Но встречаются пропуски в данных, заметно расхождение типов данных с предусловиями документации.\n",
    "\n",
    "Чтобы двигаться дальше, устраним проблемы в данных."
   ]
  },
  {
   "cell_type": "markdown",
   "metadata": {},
   "source": [
    "## Предобработка данных\n",
    "- исключим пропуски\n",
    "- проверим данные на дубликаты и аномалии\n",
    "- проверим правильность типов данных"
   ]
  },
  {
   "cell_type": "markdown",
   "metadata": {},
   "source": [
    "###  Заполнение пропусков\n",
    "\n",
    "Количество значений в некоторых столбцах различается от общего числа строк. Значит, в данных есть пропущенные значения.\n",
    "\n",
    "Проверим количество пропущенных значений по всей таблице:"
   ]
  },
  {
   "cell_type": "code",
   "execution_count": 899,
   "metadata": {},
   "outputs": [
    {
     "name": "stdout",
     "output_type": "stream",
     "text": [
      "total_images                0\n",
      "last_price                  0\n",
      "total_area                  0\n",
      "first_day_exposition        0\n",
      "rooms                       0\n",
      "ceiling_height           9195\n",
      "floors_total               86\n",
      "living_area              1903\n",
      "floor                       0\n",
      "is_apartment            20924\n",
      "studio                      0\n",
      "open_plan                   0\n",
      "kitchen_area             2278\n",
      "balcony                 11519\n",
      "locality_name              49\n",
      "airports_nearest         5542\n",
      "cityCenters_nearest      5519\n",
      "parks_around3000         5518\n",
      "parks_nearest           15620\n",
      "ponds_around3000         5518\n",
      "ponds_nearest           14589\n",
      "days_exposition          3181\n",
      "dtype: int64\n"
     ]
    }
   ],
   "source": [
    "print(df.isna().sum())"
   ]
  },
  {
   "cell_type": "markdown",
   "metadata": {},
   "source": [
    "Начнем со столбца *'ceiling_height' (высота потолка)*. Просмотрим его уникальные названия в порядке возрастания:"
   ]
  },
  {
   "cell_type": "code",
   "execution_count": 900,
   "metadata": {},
   "outputs": [
    {
     "data": {
      "text/plain": [
       "[1.0,\n",
       " 2.0,\n",
       " 2.3,\n",
       " 2.4,\n",
       " 2.45,\n",
       " 2.46,\n",
       " 2.48,\n",
       " 2.53,\n",
       " 2.59,\n",
       " 2.62,\n",
       " 2.63,\n",
       " 2.7,\n",
       " nan,\n",
       " 1.2,\n",
       " 1.75,\n",
       " 2.2,\n",
       " 2.25,\n",
       " 2.34,\n",
       " 2.47,\n",
       " 2.49,\n",
       " 2.5,\n",
       " 2.51,\n",
       " 2.52,\n",
       " 2.54,\n",
       " 2.55,\n",
       " 2.56,\n",
       " 2.57,\n",
       " 2.58,\n",
       " 2.6,\n",
       " 2.61,\n",
       " 2.64,\n",
       " 2.65,\n",
       " 2.66,\n",
       " 2.67,\n",
       " 2.68,\n",
       " 2.69,\n",
       " 2.71,\n",
       " 2.72,\n",
       " 2.73,\n",
       " 2.74,\n",
       " 2.75,\n",
       " 2.76,\n",
       " 2.77,\n",
       " 2.78,\n",
       " 2.79,\n",
       " 2.8,\n",
       " 2.81,\n",
       " 2.82,\n",
       " 2.83,\n",
       " 2.84,\n",
       " 2.85,\n",
       " 2.86,\n",
       " 2.87,\n",
       " 2.88,\n",
       " 2.89,\n",
       " 2.9,\n",
       " 2.91,\n",
       " 2.92,\n",
       " 2.93,\n",
       " 2.94,\n",
       " 2.95,\n",
       " 2.96,\n",
       " 2.97,\n",
       " 2.98,\n",
       " 2.99,\n",
       " 3.0,\n",
       " 3.01,\n",
       " 3.02,\n",
       " 3.03,\n",
       " 3.04,\n",
       " 3.05,\n",
       " 3.06,\n",
       " 3.07,\n",
       " 3.08,\n",
       " 3.09,\n",
       " 3.1,\n",
       " 3.11,\n",
       " 3.12,\n",
       " 3.13,\n",
       " 3.14,\n",
       " 3.15,\n",
       " 3.16,\n",
       " 3.17,\n",
       " 3.18,\n",
       " 3.2,\n",
       " 3.21,\n",
       " 3.22,\n",
       " 3.23,\n",
       " 3.24,\n",
       " 3.25,\n",
       " 3.26,\n",
       " 3.27,\n",
       " 3.28,\n",
       " 3.29,\n",
       " 3.3,\n",
       " 3.31,\n",
       " 3.32,\n",
       " 3.33,\n",
       " 3.34,\n",
       " 3.35,\n",
       " 3.36,\n",
       " 3.37,\n",
       " 3.38,\n",
       " 3.39,\n",
       " 3.4,\n",
       " 3.42,\n",
       " 3.43,\n",
       " 3.44,\n",
       " 3.45,\n",
       " 3.46,\n",
       " 3.47,\n",
       " 3.48,\n",
       " 3.49,\n",
       " 3.5,\n",
       " 3.51,\n",
       " 3.52,\n",
       " 3.53,\n",
       " 3.54,\n",
       " 3.55,\n",
       " 3.56,\n",
       " 3.57,\n",
       " 3.58,\n",
       " 3.59,\n",
       " 3.6,\n",
       " 3.62,\n",
       " 3.63,\n",
       " 3.65,\n",
       " 3.66,\n",
       " 3.67,\n",
       " 3.68,\n",
       " 3.69,\n",
       " 3.7,\n",
       " 3.75,\n",
       " 3.76,\n",
       " 3.78,\n",
       " 3.8,\n",
       " 3.82,\n",
       " 3.83,\n",
       " 3.84,\n",
       " 3.85,\n",
       " 3.86,\n",
       " 3.87,\n",
       " 3.88,\n",
       " 3.9,\n",
       " 3.93,\n",
       " 3.95,\n",
       " 3.98,\n",
       " 4.0,\n",
       " 4.06,\n",
       " 4.1,\n",
       " 4.14,\n",
       " 4.15,\n",
       " 4.19,\n",
       " 4.2,\n",
       " 4.25,\n",
       " 4.3,\n",
       " 4.37,\n",
       " 4.4,\n",
       " 4.45,\n",
       " 4.5,\n",
       " 4.65,\n",
       " 4.7,\n",
       " 4.8,\n",
       " 4.9,\n",
       " 5.0,\n",
       " 5.2,\n",
       " 5.3,\n",
       " 5.5,\n",
       " 5.6,\n",
       " 5.8,\n",
       " 6.0,\n",
       " 8.0,\n",
       " 8.3,\n",
       " 10.3,\n",
       " 14.0,\n",
       " 20.0,\n",
       " 22.6,\n",
       " 24.0,\n",
       " 25.0,\n",
       " 26.0,\n",
       " 27.0,\n",
       " 27.5,\n",
       " 32.0,\n",
       " 100.0]"
      ]
     },
     "metadata": {},
     "output_type": "display_data"
    }
   ],
   "source": [
    "display(sorted(df['ceiling_height'].unique())) \n"
   ]
  },
  {
   "cell_type": "markdown",
   "metadata": {},
   "source": [
    "В глаза бросаются несколько значений - nan,значения до 2,5 м и значения свыше 6 м (6м например возможно в двухуровневых квартирах). Обработаем пропуски nan в данных по высоте потолка. Для этого посмотрим среднее и медианное значение высоты потолка:"
   ]
  },
  {
   "cell_type": "code",
   "execution_count": 901,
   "metadata": {},
   "outputs": [
    {
     "name": "stdout",
     "output_type": "stream",
     "text": [
      "2.77149889685604\n",
      "2.65\n"
     ]
    }
   ],
   "source": [
    "print(df['ceiling_height'].mean())\n",
    "print(df['ceiling_height'].median())\n"
   ]
  },
  {
   "cell_type": "code",
   "execution_count": 902,
   "metadata": {},
   "outputs": [],
   "source": [
    "ceiling_height_median = df['ceiling_height'].median()#Для заполнения пропусков в нашем случае логичнее использовать именно \n",
    "#медианные значения, тк из перечня уникальных значений видно, что велика разница минимальнойго и максимального значения\n",
    "df['ceiling_height'] = df['ceiling_height'].fillna(ceiling_height_median)"
   ]
  },
  {
   "cell_type": "markdown",
   "metadata": {},
   "source": [
    "\n",
    "Проверим, сколько значений \"до 2,5 м и свыше 8м\" встречается в данных:"
   ]
  },
  {
   "cell_type": "code",
   "execution_count": 903,
   "metadata": {},
   "outputs": [
    {
     "data": {
      "text/plain": [
       "ceiling_height\n",
       "1.00       1\n",
       "1.20       1\n",
       "1.75       1\n",
       "2.00      11\n",
       "2.20       1\n",
       "2.25       1\n",
       "2.30       4\n",
       "2.34       1\n",
       "2.40      23\n",
       "2.45      15\n",
       "2.46       2\n",
       "2.47       3\n",
       "2.48       8\n",
       "2.49       1\n",
       "2.50    3515\n",
       "Name: ceiling_height, dtype: int64"
      ]
     },
     "metadata": {},
     "output_type": "display_data"
    },
    {
     "data": {
      "text/plain": [
       "ceiling_height\n",
       "5.8      1\n",
       "6.0      1\n",
       "8.0      3\n",
       "8.3      1\n",
       "10.3     1\n",
       "14.0     1\n",
       "20.0     1\n",
       "22.6     1\n",
       "24.0     1\n",
       "25.0     7\n",
       "26.0     1\n",
       "27.0     8\n",
       "27.5     1\n",
       "32.0     2\n",
       "100.0    1\n",
       "Name: ceiling_height, dtype: int64"
      ]
     },
     "metadata": {},
     "output_type": "display_data"
    }
   ],
   "source": [
    "display(df.groupby('ceiling_height')['ceiling_height'].count().head(15))\n",
    "display(df.groupby('ceiling_height')['ceiling_height'].count().tail(15))"
   ]
  },
  {
   "cell_type": "markdown",
   "metadata": {},
   "source": [
    "Ошибочные значение, которые можно удалить. Ведь высоту потолков в многоквартирных домах стандартной застройки 5.8 СНиП 31-01-2003 (минимальная высота - 2,5м). При этом данным СНиП не регламентируется максимальная высота потолков. Природа ошибки не понятна, но доля таких объявлений мала. Исключение не повлияет на ход исследования."
   ]
  },
  {
   "cell_type": "code",
   "execution_count": 904,
   "metadata": {},
   "outputs": [
    {
     "data": {
      "text/plain": [
       "[2.5,\n",
       " 2.51,\n",
       " 2.52,\n",
       " 2.53,\n",
       " 2.54,\n",
       " 2.55,\n",
       " 2.56,\n",
       " 2.57,\n",
       " 2.58,\n",
       " 2.59,\n",
       " 2.6,\n",
       " 2.61,\n",
       " 2.62,\n",
       " 2.63,\n",
       " 2.64,\n",
       " 2.65,\n",
       " 2.66,\n",
       " 2.67,\n",
       " 2.68,\n",
       " 2.69,\n",
       " 2.7,\n",
       " 2.71,\n",
       " 2.72,\n",
       " 2.73,\n",
       " 2.74,\n",
       " 2.75,\n",
       " 2.76,\n",
       " 2.77,\n",
       " 2.78,\n",
       " 2.79,\n",
       " 2.8,\n",
       " 2.81,\n",
       " 2.82,\n",
       " 2.83,\n",
       " 2.84,\n",
       " 2.85,\n",
       " 2.86,\n",
       " 2.87,\n",
       " 2.88,\n",
       " 2.89,\n",
       " 2.9,\n",
       " 2.91,\n",
       " 2.92,\n",
       " 2.93,\n",
       " 2.94,\n",
       " 2.95,\n",
       " 2.96,\n",
       " 2.97,\n",
       " 2.98,\n",
       " 2.99,\n",
       " 3.0,\n",
       " 3.01,\n",
       " 3.02,\n",
       " 3.03,\n",
       " 3.04,\n",
       " 3.05,\n",
       " 3.06,\n",
       " 3.07,\n",
       " 3.08,\n",
       " 3.09,\n",
       " 3.1,\n",
       " 3.11,\n",
       " 3.12,\n",
       " 3.13,\n",
       " 3.14,\n",
       " 3.15,\n",
       " 3.16,\n",
       " 3.17,\n",
       " 3.18,\n",
       " 3.2,\n",
       " 3.21,\n",
       " 3.22,\n",
       " 3.23,\n",
       " 3.24,\n",
       " 3.25,\n",
       " 3.26,\n",
       " 3.27,\n",
       " 3.28,\n",
       " 3.29,\n",
       " 3.3,\n",
       " 3.31,\n",
       " 3.32,\n",
       " 3.33,\n",
       " 3.34,\n",
       " 3.35,\n",
       " 3.36,\n",
       " 3.37,\n",
       " 3.38,\n",
       " 3.39,\n",
       " 3.4,\n",
       " 3.42,\n",
       " 3.43,\n",
       " 3.44,\n",
       " 3.45,\n",
       " 3.46,\n",
       " 3.47,\n",
       " 3.48,\n",
       " 3.49,\n",
       " 3.5,\n",
       " 3.51,\n",
       " 3.52,\n",
       " 3.53,\n",
       " 3.54,\n",
       " 3.55,\n",
       " 3.56,\n",
       " 3.57,\n",
       " 3.58,\n",
       " 3.59,\n",
       " 3.6,\n",
       " 3.62,\n",
       " 3.63,\n",
       " 3.65,\n",
       " 3.66,\n",
       " 3.67,\n",
       " 3.68,\n",
       " 3.69,\n",
       " 3.7,\n",
       " 3.75,\n",
       " 3.76,\n",
       " 3.78,\n",
       " 3.8,\n",
       " 3.82,\n",
       " 3.83,\n",
       " 3.84,\n",
       " 3.85,\n",
       " 3.86,\n",
       " 3.87,\n",
       " 3.88,\n",
       " 3.9,\n",
       " 3.93,\n",
       " 3.95,\n",
       " 3.98,\n",
       " 4.0,\n",
       " 4.06,\n",
       " 4.1,\n",
       " 4.14,\n",
       " 4.15,\n",
       " 4.19,\n",
       " 4.2,\n",
       " 4.25,\n",
       " 4.3,\n",
       " 4.37,\n",
       " 4.4,\n",
       " 4.45,\n",
       " 4.5,\n",
       " 4.65,\n",
       " 4.7,\n",
       " 4.8,\n",
       " 4.9,\n",
       " 5.0,\n",
       " 5.2,\n",
       " 5.3,\n",
       " 5.5,\n",
       " 5.6,\n",
       " 5.8,\n",
       " 6.0]"
      ]
     },
     "metadata": {},
     "output_type": "display_data"
    }
   ],
   "source": [
    "df=df.query('ceiling_height>=2.5 and ceiling_height<=6')\n",
    "display(sorted(df['ceiling_height'].unique()))#проверим результат удаления"
   ]
  },
  {
   "cell_type": "markdown",
   "metadata": {},
   "source": [
    "Следующие небольшие (!!!) пропуски наблюдаются в столбцах *'floors_total', 'locality_name'*. Проверим долю таких  пропусков во всех данных:"
   ]
  },
  {
   "cell_type": "code",
   "execution_count": 905,
   "metadata": {},
   "outputs": [
    {
     "name": "stdout",
     "output_type": "stream",
     "text": [
      "Доля пропущенных значений в столбце общего количества этажей: 0.3644531084459889 %\n",
      "Доля пропущенных значений в столбце названия населенного пункта: 0.20765351527736575 %\n"
     ]
    }
   ],
   "source": [
    "print('Доля пропущенных значений в столбце общего количества этажей:', \n",
    "      df['floors_total'].isna().sum()/df['floor'].count()*100,'%')\n",
    "\n",
    "print('Доля пропущенных значений в столбце названия населенного пункта:', \n",
    "      df['locality_name'].isna().sum()/df['floor'].count()*100,'%')"
   ]
  },
  {
   "cell_type": "code",
   "execution_count": 906,
   "metadata": {},
   "outputs": [
    {
     "name": "stdout",
     "output_type": "stream",
     "text": [
      "total_images                0\n",
      "last_price                  0\n",
      "total_area                  0\n",
      "first_day_exposition        0\n",
      "rooms                       0\n",
      "ceiling_height              0\n",
      "floors_total                0\n",
      "living_area              1859\n",
      "floor                       0\n",
      "is_apartment            20728\n",
      "studio                      0\n",
      "open_plan                   0\n",
      "kitchen_area             2209\n",
      "balcony                 11436\n",
      "locality_name               0\n",
      "airports_nearest         5483\n",
      "cityCenters_nearest      5460\n",
      "parks_around3000         5459\n",
      "parks_nearest           15468\n",
      "ponds_around3000         5459\n",
      "ponds_nearest           14458\n",
      "days_exposition          3155\n",
      "dtype: int64\n"
     ]
    }
   ],
   "source": [
    "df=df.dropna(subset=['floors_total','locality_name'])#доля прпусков мала, поэтому удалим их\n",
    "print(df.isna().sum())#проверим результат"
   ]
  },
  {
   "cell_type": "markdown",
   "metadata": {},
   "source": [
    "Проверим уникальные значения в данных по столбцу *'balcony'*:"
   ]
  },
  {
   "cell_type": "code",
   "execution_count": 907,
   "metadata": {},
   "outputs": [
    {
     "data": {
      "text/plain": [
       "[nan, 0.0, 1.0, 2.0, 3.0, 4.0, 5.0]"
      ]
     },
     "metadata": {},
     "output_type": "display_data"
    }
   ],
   "source": [
    "display(sorted(df['balcony'].unique()))#проверим результат замены"
   ]
  },
  {
   "cell_type": "markdown",
   "metadata": {},
   "source": [
    "Пропуски nan в данных по количеству балконов можно объяснить как отсутствие балкона в объекте недвижимости. Заполним пропуски значением 0:"
   ]
  },
  {
   "cell_type": "code",
   "execution_count": 908,
   "metadata": {},
   "outputs": [
    {
     "data": {
      "text/plain": [
       "balcony\n",
       "0.0    15110\n",
       "1.0     4157\n",
       "2.0     3637\n",
       "3.0       79\n",
       "4.0      181\n",
       "Name: balcony, dtype: int64"
      ]
     },
     "metadata": {},
     "output_type": "display_data"
    }
   ],
   "source": [
    "df['balcony'] = df['balcony'].fillna(0)\n",
    "display(df.groupby('balcony')['balcony'].count().head())#проверим уникальные значения"
   ]
  },
  {
   "cell_type": "markdown",
   "metadata": {},
   "source": [
    "Встречаются значения балконов - 3 и 4. И опять же доля таких значений в сумме менее 1% от данных. Поэтому удалим такие строки,т.к. это явно выбивающиеся значения, относящиеся к целым домам,а не квартирам."
   ]
  },
  {
   "cell_type": "code",
   "execution_count": 909,
   "metadata": {},
   "outputs": [
    {
     "name": "stdout",
     "output_type": "stream",
     "text": [
      "total_images                0\n",
      "last_price                  0\n",
      "total_area                  0\n",
      "first_day_exposition        0\n",
      "rooms                       0\n",
      "ceiling_height              0\n",
      "floors_total                0\n",
      "living_area              1846\n",
      "floor                       0\n",
      "is_apartment            20524\n",
      "studio                      0\n",
      "open_plan                   0\n",
      "kitchen_area             2200\n",
      "balcony                     0\n",
      "locality_name               0\n",
      "airports_nearest         5425\n",
      "cityCenters_nearest      5402\n",
      "parks_around3000         5401\n",
      "parks_nearest           15322\n",
      "ponds_around3000         5401\n",
      "ponds_nearest           14308\n",
      "days_exposition          3108\n",
      "dtype: int64\n"
     ]
    }
   ],
   "source": [
    "#df=df.query('ceiling_height!=3 and ceiling_height!=4') #НЕВЕРНО БЫЛО, надо балконы же убрать!\n",
    "df=df.query('balcony!=3 and balcony!=4') #ВОТ ТАК\n",
    "\n",
    "print(df.isna().sum())#проверим результат"
   ]
  },
  {
   "cell_type": "markdown",
   "metadata": {},
   "source": [
    "Касаемо пропусков в столбцах *'airports_nearest' и 'cityCenters_nearest'*  будем считать, что могли произойти сбои в системе геоопределения. И логичнее на данном этапе пропуски оставить."
   ]
  },
  {
   "cell_type": "markdown",
   "metadata": {},
   "source": [
    " Пропуски в столбце *'parks_around3000'* составляют 25% от всех строк. Посмотрим, какие значения и в каком количестве присутсвуют в данных:"
   ]
  },
  {
   "cell_type": "code",
   "execution_count": 845,
   "metadata": {},
   "outputs": [
    {
     "data": {
      "text/plain": [
       "parks_around3000\n",
       "0.0    9925\n",
       "1.0    5541\n",
       "2.0    1704\n",
       "3.0     632\n",
       "Name: parks_around3000, dtype: int64"
      ]
     },
     "metadata": {},
     "output_type": "display_data"
    }
   ],
   "source": [
    "display(df.groupby('parks_around3000')['parks_around3000'].count())"
   ]
  },
  {
   "cell_type": "markdown",
   "metadata": {},
   "source": [
    "Таким образом, можно утверждать, что при заполнении объявления на продажу объекта неуказание количества парков можкт быть свзяано как с их отсутствием в радиусе 3 км от объекта недвижимости, так и с отсутствием у продавца такой информации. Пропуск оставляем. В дальнейшем посмотрим, на влияние этого параметра. "
   ]
  },
  {
   "cell_type": "markdown",
   "metadata": {},
   "source": [
    "Так же проверим столбцы *'parks_nearest','ponds_around3000','ponds_nearest'*. Доля пропусков в них велика. Посмотрим, какие значения и в каком количестве присутсвуют в данных:"
   ]
  },
  {
   "cell_type": "code",
   "execution_count": 910,
   "metadata": {},
   "outputs": [
    {
     "data": {
      "text/plain": [
       "parks_nearest\n",
       "1.0       1\n",
       "3.0       1\n",
       "4.0       1\n",
       "7.0       1\n",
       "9.0       2\n",
       "         ..\n",
       "2905.0    1\n",
       "2984.0    1\n",
       "3013.0    1\n",
       "3064.0    1\n",
       "3190.0    2\n",
       "Name: parks_nearest, Length: 993, dtype: int64"
      ]
     },
     "metadata": {},
     "output_type": "display_data"
    },
    {
     "data": {
      "text/plain": [
       "ponds_around3000\n",
       "0.0       0\n",
       "1.0    5580\n",
       "2.0    1857\n",
       "3.0    1458\n",
       "Name: ponds_nearest, dtype: int64"
      ]
     },
     "metadata": {},
     "output_type": "display_data"
    },
    {
     "data": {
      "text/plain": [
       "ponds_nearest\n",
       "13.0      2\n",
       "16.0      8\n",
       "19.0      4\n",
       "20.0      5\n",
       "22.0      7\n",
       "         ..\n",
       "1299.0    1\n",
       "1313.0    1\n",
       "1337.0    1\n",
       "1341.0    2\n",
       "1344.0    1\n",
       "Name: ponds_nearest, Length: 1096, dtype: int64"
      ]
     },
     "metadata": {},
     "output_type": "display_data"
    }
   ],
   "source": [
    "display(df.groupby('parks_nearest')['parks_nearest'].count())\n",
    "display(df.groupby('ponds_around3000')['ponds_nearest'].count())\n",
    "display(df.groupby('ponds_nearest')['ponds_nearest'].count())"
   ]
  },
  {
   "cell_type": "markdown",
   "metadata": {},
   "source": [
    "Так же можно утверждать, что при заполнении объявления на продажу объекта неуказание данных по этим параметрам може быть связано как с их отсутствием поблизости, так и с отсутствием у продавца такой информации. Пропуски оставляем. В дальнейшем посмотрим, на влияние этого параметра. "
   ]
  },
  {
   "cell_type": "code",
   "execution_count": 911,
   "metadata": {},
   "outputs": [
    {
     "name": "stdout",
     "output_type": "stream",
     "text": [
      "total_images                0\n",
      "last_price                  0\n",
      "total_area                  0\n",
      "first_day_exposition        0\n",
      "rooms                       0\n",
      "ceiling_height              0\n",
      "floors_total                0\n",
      "living_area              1846\n",
      "floor                       0\n",
      "is_apartment            20524\n",
      "studio                      0\n",
      "open_plan                   0\n",
      "kitchen_area             2200\n",
      "balcony                     0\n",
      "locality_name               0\n",
      "airports_nearest         5425\n",
      "cityCenters_nearest      5402\n",
      "parks_around3000         5401\n",
      "parks_nearest           15322\n",
      "ponds_around3000         5401\n",
      "ponds_nearest           14308\n",
      "days_exposition          3108\n",
      "dtype: int64\n"
     ]
    }
   ],
   "source": [
    "print(df.isna().sum())"
   ]
  },
  {
   "cell_type": "markdown",
   "metadata": {},
   "source": [
    "Остались пропуски по количеству дней публикации *'days_exposition'*. Логично заключить, что пропуски могут быть связаны с дейстующими по настоящий день объявлениями, т.е. объекты еще находятся в продаже. Поэтому пропуски в данном столбце оставим неизменными.\n"
   ]
  },
  {
   "cell_type": "code",
   "execution_count": 912,
   "metadata": {},
   "outputs": [
    {
     "name": "stdout",
     "output_type": "stream",
     "text": [
      "total_images                0\n",
      "last_price                  0\n",
      "total_area                  0\n",
      "first_day_exposition        0\n",
      "rooms                       0\n",
      "ceiling_height              0\n",
      "floors_total                0\n",
      "living_area              1846\n",
      "floor                       0\n",
      "is_apartment            20524\n",
      "studio                      0\n",
      "open_plan                   0\n",
      "kitchen_area             2200\n",
      "balcony                     0\n",
      "locality_name               0\n",
      "airports_nearest         5425\n",
      "cityCenters_nearest      5402\n",
      "parks_around3000         5401\n",
      "parks_nearest           15322\n",
      "ponds_around3000         5401\n",
      "ponds_nearest           14308\n",
      "days_exposition          3108\n",
      "dtype: int64\n"
     ]
    }
   ],
   "source": [
    "print(df.isna().sum())"
   ]
  },
  {
   "cell_type": "markdown",
   "metadata": {},
   "source": [
    "Пропуски по булевым столбцам (у соответствии с описанием данных) также оставляем без изменения!!! Это столбцы *'is_apartment', 'studio', 'open_plan'*. "
   ]
  },
  {
   "cell_type": "code",
   "execution_count": 913,
   "metadata": {},
   "outputs": [
    {
     "name": "stdout",
     "output_type": "stream",
     "text": [
      "<class 'pandas.core.frame.DataFrame'>\n",
      "Int64Index: 23203 entries, 0 to 23698\n",
      "Data columns (total 22 columns):\n",
      " #   Column                Non-Null Count  Dtype  \n",
      "---  ------                --------------  -----  \n",
      " 0   total_images          23203 non-null  int64  \n",
      " 1   last_price            23203 non-null  float64\n",
      " 2   total_area            23203 non-null  float64\n",
      " 3   first_day_exposition  23203 non-null  object \n",
      " 4   rooms                 23203 non-null  int64  \n",
      " 5   ceiling_height        23203 non-null  float64\n",
      " 6   floors_total          23203 non-null  float64\n",
      " 7   living_area           21357 non-null  float64\n",
      " 8   floor                 23203 non-null  int64  \n",
      " 9   is_apartment          2679 non-null   object \n",
      " 10  studio                23203 non-null  bool   \n",
      " 11  open_plan             23203 non-null  bool   \n",
      " 12  kitchen_area          21003 non-null  float64\n",
      " 13  balcony               23203 non-null  float64\n",
      " 14  locality_name         23203 non-null  object \n",
      " 15  airports_nearest      17778 non-null  float64\n",
      " 16  cityCenters_nearest   17801 non-null  float64\n",
      " 17  parks_around3000      17802 non-null  float64\n",
      " 18  parks_nearest         7881 non-null   float64\n",
      " 19  ponds_around3000      17802 non-null  float64\n",
      " 20  ponds_nearest         8895 non-null   float64\n",
      " 21  days_exposition       20095 non-null  float64\n",
      "dtypes: bool(2), float64(14), int64(3), object(3)\n",
      "memory usage: 3.8+ MB\n"
     ]
    }
   ],
   "source": [
    "df.info()"
   ]
  },
  {
   "cell_type": "markdown",
   "metadata": {},
   "source": [
    "Из описания данных понятно, что столбец first_day_exposition должен иметь формат данных даты (вместо указанного в общей информации - object). Изменим формат данных на верный:"
   ]
  },
  {
   "cell_type": "code",
   "execution_count": 914,
   "metadata": {},
   "outputs": [
    {
     "name": "stdout",
     "output_type": "stream",
     "text": [
      "<class 'pandas.core.frame.DataFrame'>\n",
      "Int64Index: 23203 entries, 0 to 23698\n",
      "Data columns (total 22 columns):\n",
      " #   Column                Non-Null Count  Dtype         \n",
      "---  ------                --------------  -----         \n",
      " 0   total_images          23203 non-null  int64         \n",
      " 1   last_price            23203 non-null  float64       \n",
      " 2   total_area            23203 non-null  float64       \n",
      " 3   first_day_exposition  23203 non-null  datetime64[ns]\n",
      " 4   rooms                 23203 non-null  int64         \n",
      " 5   ceiling_height        23203 non-null  float64       \n",
      " 6   floors_total          23203 non-null  float64       \n",
      " 7   living_area           21357 non-null  float64       \n",
      " 8   floor                 23203 non-null  int64         \n",
      " 9   is_apartment          2679 non-null   object        \n",
      " 10  studio                23203 non-null  bool          \n",
      " 11  open_plan             23203 non-null  bool          \n",
      " 12  kitchen_area          21003 non-null  float64       \n",
      " 13  balcony               23203 non-null  float64       \n",
      " 14  locality_name         23203 non-null  object        \n",
      " 15  airports_nearest      17778 non-null  float64       \n",
      " 16  cityCenters_nearest   17801 non-null  float64       \n",
      " 17  parks_around3000      17802 non-null  float64       \n",
      " 18  parks_nearest         7881 non-null   float64       \n",
      " 19  ponds_around3000      17802 non-null  float64       \n",
      " 20  ponds_nearest         8895 non-null   float64       \n",
      " 21  days_exposition       20095 non-null  float64       \n",
      "dtypes: bool(2), datetime64[ns](1), float64(14), int64(3), object(2)\n",
      "memory usage: 3.8+ MB\n"
     ]
    }
   ],
   "source": [
    "df['first_day_exposition'] = pd.to_datetime(df['first_day_exposition']).dt.date#при этом убираем часть со временем, \n",
    "#она не влияет\n",
    "df['first_day_exposition']=pd.to_datetime(df['first_day_exposition'],format='%Y-%m-%d')\n",
    "df.info()#проверим\n"
   ]
  },
  {
   "cell_type": "markdown",
   "metadata": {},
   "source": [
    "Пропуски в столбце 'is_apartment' заполним значением False, тк чаще всего среди объектов недвижимости встречаются квартиры (апартаменты являются коммерческой недвижимостью!):"
   ]
  },
  {
   "cell_type": "code",
   "execution_count": 915,
   "metadata": {},
   "outputs": [],
   "source": [
    "df['is_apartment'] = df['is_apartment'].fillna(False)\n",
    "\n",
    "df['is_apartment']= df['is_apartment'].astype('bool')#изменим тип данных в соответствии с описанием параметров!\n"
   ]
  },
  {
   "cell_type": "code",
   "execution_count": 916,
   "metadata": {},
   "outputs": [
    {
     "name": "stdout",
     "output_type": "stream",
     "text": [
      "total_images                0\n",
      "last_price                  0\n",
      "total_area                  0\n",
      "first_day_exposition        0\n",
      "rooms                       0\n",
      "ceiling_height              0\n",
      "floors_total                0\n",
      "living_area              1846\n",
      "floor                       0\n",
      "is_apartment                0\n",
      "studio                      0\n",
      "open_plan                   0\n",
      "kitchen_area             2200\n",
      "balcony                     0\n",
      "locality_name               0\n",
      "airports_nearest         5425\n",
      "cityCenters_nearest      5402\n",
      "parks_around3000         5401\n",
      "parks_nearest           15322\n",
      "ponds_around3000         5401\n",
      "ponds_nearest           14308\n",
      "days_exposition          3108\n",
      "dtype: int64\n"
     ]
    }
   ],
   "source": [
    "print(df.isna().sum())"
   ]
  },
  {
   "cell_type": "markdown",
   "metadata": {},
   "source": [
    "Пропуски в столбцах *'living_area', 'kitchen_area'* правильнее оставить без изменения, тк адекватной замены для них нет. А удаление строк с такими прпусками может сильно исказить результат исследования. Природа пропусков не ясна, т.к. в объвлениях это одни из главных параметров объектов недвижимости."
   ]
  },
  {
   "cell_type": "markdown",
   "metadata": {},
   "source": [
    "## Расчёты и добавление результатов в таблицу"
   ]
  },
  {
   "cell_type": "markdown",
   "metadata": {},
   "source": [
    "Добавим в таблицу данных столбец с ценой за квадратный метр:"
   ]
  },
  {
   "cell_type": "code",
   "execution_count": 917,
   "metadata": {},
   "outputs": [],
   "source": [
    "df['price_square_meter'] = (df['last_price']/df['total_area']).astype('int')#считаем цену за квадратный метр, \n",
    "#с обращением резульата в целое число для упрощения восприятия информации/ добавляем в таблицу\n",
    "                                      "
   ]
  },
  {
   "cell_type": "markdown",
   "metadata": {},
   "source": [
    "Добавим в таблицу данных столбцы с данными о годе,месяце и дне недели публикации объявления:"
   ]
  },
  {
   "cell_type": "code",
   "execution_count": 918,
   "metadata": {},
   "outputs": [],
   "source": [
    "df['year'] = pd.DatetimeIndex(df['first_day_exposition']).year\n",
    "df['month'] = pd.DatetimeIndex(df['first_day_exposition']).month \n",
    "df['week_day'] = pd.DatetimeIndex(df['first_day_exposition']).weekday "
   ]
  },
  {
   "cell_type": "code",
   "execution_count": 919,
   "metadata": {},
   "outputs": [
    {
     "data": {
      "text/html": [
       "<div>\n",
       "<style scoped>\n",
       "    .dataframe tbody tr th:only-of-type {\n",
       "        vertical-align: middle;\n",
       "    }\n",
       "\n",
       "    .dataframe tbody tr th {\n",
       "        vertical-align: top;\n",
       "    }\n",
       "\n",
       "    .dataframe thead th {\n",
       "        text-align: right;\n",
       "    }\n",
       "</style>\n",
       "<table border=\"1\" class=\"dataframe\">\n",
       "  <thead>\n",
       "    <tr style=\"text-align: right;\">\n",
       "      <th></th>\n",
       "      <th>total_images</th>\n",
       "      <th>last_price</th>\n",
       "      <th>total_area</th>\n",
       "      <th>first_day_exposition</th>\n",
       "      <th>rooms</th>\n",
       "      <th>ceiling_height</th>\n",
       "      <th>floors_total</th>\n",
       "      <th>living_area</th>\n",
       "      <th>floor</th>\n",
       "      <th>is_apartment</th>\n",
       "      <th>...</th>\n",
       "      <th>cityCenters_nearest</th>\n",
       "      <th>parks_around3000</th>\n",
       "      <th>parks_nearest</th>\n",
       "      <th>ponds_around3000</th>\n",
       "      <th>ponds_nearest</th>\n",
       "      <th>days_exposition</th>\n",
       "      <th>price_square_meter</th>\n",
       "      <th>year</th>\n",
       "      <th>month</th>\n",
       "      <th>week_day</th>\n",
       "    </tr>\n",
       "  </thead>\n",
       "  <tbody>\n",
       "    <tr>\n",
       "      <th>0</th>\n",
       "      <td>20</td>\n",
       "      <td>13000000.0</td>\n",
       "      <td>108.0</td>\n",
       "      <td>2019-03-07</td>\n",
       "      <td>3</td>\n",
       "      <td>2.70</td>\n",
       "      <td>16.0</td>\n",
       "      <td>51.0</td>\n",
       "      <td>8</td>\n",
       "      <td>False</td>\n",
       "      <td>...</td>\n",
       "      <td>16028.0</td>\n",
       "      <td>1.0</td>\n",
       "      <td>482.0</td>\n",
       "      <td>2.0</td>\n",
       "      <td>755.0</td>\n",
       "      <td>NaN</td>\n",
       "      <td>120370</td>\n",
       "      <td>2019</td>\n",
       "      <td>3</td>\n",
       "      <td>3</td>\n",
       "    </tr>\n",
       "    <tr>\n",
       "      <th>1</th>\n",
       "      <td>7</td>\n",
       "      <td>3350000.0</td>\n",
       "      <td>40.4</td>\n",
       "      <td>2018-12-04</td>\n",
       "      <td>1</td>\n",
       "      <td>2.65</td>\n",
       "      <td>11.0</td>\n",
       "      <td>18.6</td>\n",
       "      <td>1</td>\n",
       "      <td>False</td>\n",
       "      <td>...</td>\n",
       "      <td>18603.0</td>\n",
       "      <td>0.0</td>\n",
       "      <td>NaN</td>\n",
       "      <td>0.0</td>\n",
       "      <td>NaN</td>\n",
       "      <td>81.0</td>\n",
       "      <td>82920</td>\n",
       "      <td>2018</td>\n",
       "      <td>12</td>\n",
       "      <td>1</td>\n",
       "    </tr>\n",
       "    <tr>\n",
       "      <th>2</th>\n",
       "      <td>10</td>\n",
       "      <td>5196000.0</td>\n",
       "      <td>56.0</td>\n",
       "      <td>2015-08-20</td>\n",
       "      <td>2</td>\n",
       "      <td>2.65</td>\n",
       "      <td>5.0</td>\n",
       "      <td>34.3</td>\n",
       "      <td>4</td>\n",
       "      <td>False</td>\n",
       "      <td>...</td>\n",
       "      <td>13933.0</td>\n",
       "      <td>1.0</td>\n",
       "      <td>90.0</td>\n",
       "      <td>2.0</td>\n",
       "      <td>574.0</td>\n",
       "      <td>558.0</td>\n",
       "      <td>92785</td>\n",
       "      <td>2015</td>\n",
       "      <td>8</td>\n",
       "      <td>3</td>\n",
       "    </tr>\n",
       "    <tr>\n",
       "      <th>3</th>\n",
       "      <td>0</td>\n",
       "      <td>64900000.0</td>\n",
       "      <td>159.0</td>\n",
       "      <td>2015-07-24</td>\n",
       "      <td>3</td>\n",
       "      <td>2.65</td>\n",
       "      <td>14.0</td>\n",
       "      <td>NaN</td>\n",
       "      <td>9</td>\n",
       "      <td>False</td>\n",
       "      <td>...</td>\n",
       "      <td>6800.0</td>\n",
       "      <td>2.0</td>\n",
       "      <td>84.0</td>\n",
       "      <td>3.0</td>\n",
       "      <td>234.0</td>\n",
       "      <td>424.0</td>\n",
       "      <td>408176</td>\n",
       "      <td>2015</td>\n",
       "      <td>7</td>\n",
       "      <td>4</td>\n",
       "    </tr>\n",
       "    <tr>\n",
       "      <th>4</th>\n",
       "      <td>2</td>\n",
       "      <td>10000000.0</td>\n",
       "      <td>100.0</td>\n",
       "      <td>2018-06-19</td>\n",
       "      <td>2</td>\n",
       "      <td>3.03</td>\n",
       "      <td>14.0</td>\n",
       "      <td>32.0</td>\n",
       "      <td>13</td>\n",
       "      <td>False</td>\n",
       "      <td>...</td>\n",
       "      <td>8098.0</td>\n",
       "      <td>2.0</td>\n",
       "      <td>112.0</td>\n",
       "      <td>1.0</td>\n",
       "      <td>48.0</td>\n",
       "      <td>121.0</td>\n",
       "      <td>100000</td>\n",
       "      <td>2018</td>\n",
       "      <td>6</td>\n",
       "      <td>1</td>\n",
       "    </tr>\n",
       "  </tbody>\n",
       "</table>\n",
       "<p>5 rows × 26 columns</p>\n",
       "</div>"
      ],
      "text/plain": [
       "   total_images  last_price  total_area first_day_exposition  rooms  \\\n",
       "0            20  13000000.0       108.0           2019-03-07      3   \n",
       "1             7   3350000.0        40.4           2018-12-04      1   \n",
       "2            10   5196000.0        56.0           2015-08-20      2   \n",
       "3             0  64900000.0       159.0           2015-07-24      3   \n",
       "4             2  10000000.0       100.0           2018-06-19      2   \n",
       "\n",
       "   ceiling_height  floors_total  living_area  floor  is_apartment  ...  \\\n",
       "0            2.70          16.0         51.0      8         False  ...   \n",
       "1            2.65          11.0         18.6      1         False  ...   \n",
       "2            2.65           5.0         34.3      4         False  ...   \n",
       "3            2.65          14.0          NaN      9         False  ...   \n",
       "4            3.03          14.0         32.0     13         False  ...   \n",
       "\n",
       "   cityCenters_nearest  parks_around3000  parks_nearest  ponds_around3000  \\\n",
       "0              16028.0               1.0          482.0               2.0   \n",
       "1              18603.0               0.0            NaN               0.0   \n",
       "2              13933.0               1.0           90.0               2.0   \n",
       "3               6800.0               2.0           84.0               3.0   \n",
       "4               8098.0               2.0          112.0               1.0   \n",
       "\n",
       "  ponds_nearest  days_exposition  price_square_meter  year  month  week_day  \n",
       "0         755.0              NaN              120370  2019      3         3  \n",
       "1           NaN             81.0               82920  2018     12         1  \n",
       "2         574.0            558.0               92785  2015      8         3  \n",
       "3         234.0            424.0              408176  2015      7         4  \n",
       "4          48.0            121.0              100000  2018      6         1  \n",
       "\n",
       "[5 rows x 26 columns]"
      ]
     },
     "execution_count": 919,
     "metadata": {},
     "output_type": "execute_result"
    }
   ],
   "source": [
    "df.head(5)#выведем результат для проверки"
   ]
  },
  {
   "cell_type": "markdown",
   "metadata": {},
   "source": [
    "Проверим уникальные значения по столбцу *'floor'* и частоту их встречи:"
   ]
  },
  {
   "cell_type": "code",
   "execution_count": 920,
   "metadata": {
    "scrolled": true
   },
   "outputs": [
    {
     "data": {
      "text/plain": [
       "floor\n",
       "1     2885\n",
       "2     3303\n",
       "3     3019\n",
       "4     2740\n",
       "5     2566\n",
       "6     1271\n",
       "7     1192\n",
       "8     1050\n",
       "9     1030\n",
       "10     677\n",
       "11     509\n",
       "12     511\n",
       "13     372\n",
       "14     330\n",
       "15     330\n",
       "16     311\n",
       "17     222\n",
       "18     172\n",
       "19     141\n",
       "20     106\n",
       "21     118\n",
       "22     108\n",
       "23      98\n",
       "24      57\n",
       "25      45\n",
       "26      24\n",
       "27      10\n",
       "28       1\n",
       "29       1\n",
       "30       1\n",
       "31       1\n",
       "32       1\n",
       "33       1\n",
       "Name: floor, dtype: int64"
      ]
     },
     "metadata": {},
     "output_type": "display_data"
    }
   ],
   "source": [
    "display(df.groupby('floor')['floor'].count())\n"
   ]
  },
  {
   "cell_type": "markdown",
   "metadata": {},
   "source": [
    "Можно утверждать, что для покупателей важно, чтоб объект не находился на первом или последнем этажи. Такой выбор всега редкий. Поэтому выделим категории этажноси (Первый, Последний, Другие) в отдельный столбец таблицы:"
   ]
  },
  {
   "cell_type": "code",
   "execution_count": 921,
   "metadata": {},
   "outputs": [
    {
     "data": {
      "text/html": [
       "<div>\n",
       "<style scoped>\n",
       "    .dataframe tbody tr th:only-of-type {\n",
       "        vertical-align: middle;\n",
       "    }\n",
       "\n",
       "    .dataframe tbody tr th {\n",
       "        vertical-align: top;\n",
       "    }\n",
       "\n",
       "    .dataframe thead th {\n",
       "        text-align: right;\n",
       "    }\n",
       "</style>\n",
       "<table border=\"1\" class=\"dataframe\">\n",
       "  <thead>\n",
       "    <tr style=\"text-align: right;\">\n",
       "      <th></th>\n",
       "      <th>total_images</th>\n",
       "      <th>last_price</th>\n",
       "      <th>total_area</th>\n",
       "      <th>first_day_exposition</th>\n",
       "      <th>rooms</th>\n",
       "      <th>ceiling_height</th>\n",
       "      <th>floors_total</th>\n",
       "      <th>living_area</th>\n",
       "      <th>floor</th>\n",
       "      <th>is_apartment</th>\n",
       "      <th>...</th>\n",
       "      <th>parks_around3000</th>\n",
       "      <th>parks_nearest</th>\n",
       "      <th>ponds_around3000</th>\n",
       "      <th>ponds_nearest</th>\n",
       "      <th>days_exposition</th>\n",
       "      <th>price_square_meter</th>\n",
       "      <th>year</th>\n",
       "      <th>month</th>\n",
       "      <th>week_day</th>\n",
       "      <th>floor_group</th>\n",
       "    </tr>\n",
       "  </thead>\n",
       "  <tbody>\n",
       "    <tr>\n",
       "      <th>0</th>\n",
       "      <td>20</td>\n",
       "      <td>13000000.0</td>\n",
       "      <td>108.00</td>\n",
       "      <td>2019-03-07</td>\n",
       "      <td>3</td>\n",
       "      <td>2.70</td>\n",
       "      <td>16.0</td>\n",
       "      <td>51.00</td>\n",
       "      <td>8</td>\n",
       "      <td>False</td>\n",
       "      <td>...</td>\n",
       "      <td>1.0</td>\n",
       "      <td>482.0</td>\n",
       "      <td>2.0</td>\n",
       "      <td>755.0</td>\n",
       "      <td>NaN</td>\n",
       "      <td>120370</td>\n",
       "      <td>2019</td>\n",
       "      <td>3</td>\n",
       "      <td>3</td>\n",
       "      <td>Другие</td>\n",
       "    </tr>\n",
       "    <tr>\n",
       "      <th>1</th>\n",
       "      <td>7</td>\n",
       "      <td>3350000.0</td>\n",
       "      <td>40.40</td>\n",
       "      <td>2018-12-04</td>\n",
       "      <td>1</td>\n",
       "      <td>2.65</td>\n",
       "      <td>11.0</td>\n",
       "      <td>18.60</td>\n",
       "      <td>1</td>\n",
       "      <td>False</td>\n",
       "      <td>...</td>\n",
       "      <td>0.0</td>\n",
       "      <td>NaN</td>\n",
       "      <td>0.0</td>\n",
       "      <td>NaN</td>\n",
       "      <td>81.0</td>\n",
       "      <td>82920</td>\n",
       "      <td>2018</td>\n",
       "      <td>12</td>\n",
       "      <td>1</td>\n",
       "      <td>Первый</td>\n",
       "    </tr>\n",
       "    <tr>\n",
       "      <th>2</th>\n",
       "      <td>10</td>\n",
       "      <td>5196000.0</td>\n",
       "      <td>56.00</td>\n",
       "      <td>2015-08-20</td>\n",
       "      <td>2</td>\n",
       "      <td>2.65</td>\n",
       "      <td>5.0</td>\n",
       "      <td>34.30</td>\n",
       "      <td>4</td>\n",
       "      <td>False</td>\n",
       "      <td>...</td>\n",
       "      <td>1.0</td>\n",
       "      <td>90.0</td>\n",
       "      <td>2.0</td>\n",
       "      <td>574.0</td>\n",
       "      <td>558.0</td>\n",
       "      <td>92785</td>\n",
       "      <td>2015</td>\n",
       "      <td>8</td>\n",
       "      <td>3</td>\n",
       "      <td>Другие</td>\n",
       "    </tr>\n",
       "    <tr>\n",
       "      <th>3</th>\n",
       "      <td>0</td>\n",
       "      <td>64900000.0</td>\n",
       "      <td>159.00</td>\n",
       "      <td>2015-07-24</td>\n",
       "      <td>3</td>\n",
       "      <td>2.65</td>\n",
       "      <td>14.0</td>\n",
       "      <td>NaN</td>\n",
       "      <td>9</td>\n",
       "      <td>False</td>\n",
       "      <td>...</td>\n",
       "      <td>2.0</td>\n",
       "      <td>84.0</td>\n",
       "      <td>3.0</td>\n",
       "      <td>234.0</td>\n",
       "      <td>424.0</td>\n",
       "      <td>408176</td>\n",
       "      <td>2015</td>\n",
       "      <td>7</td>\n",
       "      <td>4</td>\n",
       "      <td>Другие</td>\n",
       "    </tr>\n",
       "    <tr>\n",
       "      <th>4</th>\n",
       "      <td>2</td>\n",
       "      <td>10000000.0</td>\n",
       "      <td>100.00</td>\n",
       "      <td>2018-06-19</td>\n",
       "      <td>2</td>\n",
       "      <td>3.03</td>\n",
       "      <td>14.0</td>\n",
       "      <td>32.00</td>\n",
       "      <td>13</td>\n",
       "      <td>False</td>\n",
       "      <td>...</td>\n",
       "      <td>2.0</td>\n",
       "      <td>112.0</td>\n",
       "      <td>1.0</td>\n",
       "      <td>48.0</td>\n",
       "      <td>121.0</td>\n",
       "      <td>100000</td>\n",
       "      <td>2018</td>\n",
       "      <td>6</td>\n",
       "      <td>1</td>\n",
       "      <td>Другие</td>\n",
       "    </tr>\n",
       "    <tr>\n",
       "      <th>5</th>\n",
       "      <td>10</td>\n",
       "      <td>2890000.0</td>\n",
       "      <td>30.40</td>\n",
       "      <td>2018-09-10</td>\n",
       "      <td>1</td>\n",
       "      <td>2.65</td>\n",
       "      <td>12.0</td>\n",
       "      <td>14.40</td>\n",
       "      <td>5</td>\n",
       "      <td>False</td>\n",
       "      <td>...</td>\n",
       "      <td>NaN</td>\n",
       "      <td>NaN</td>\n",
       "      <td>NaN</td>\n",
       "      <td>NaN</td>\n",
       "      <td>55.0</td>\n",
       "      <td>95065</td>\n",
       "      <td>2018</td>\n",
       "      <td>9</td>\n",
       "      <td>0</td>\n",
       "      <td>Другие</td>\n",
       "    </tr>\n",
       "    <tr>\n",
       "      <th>6</th>\n",
       "      <td>6</td>\n",
       "      <td>3700000.0</td>\n",
       "      <td>37.30</td>\n",
       "      <td>2017-11-02</td>\n",
       "      <td>1</td>\n",
       "      <td>2.65</td>\n",
       "      <td>26.0</td>\n",
       "      <td>10.60</td>\n",
       "      <td>6</td>\n",
       "      <td>False</td>\n",
       "      <td>...</td>\n",
       "      <td>0.0</td>\n",
       "      <td>NaN</td>\n",
       "      <td>0.0</td>\n",
       "      <td>NaN</td>\n",
       "      <td>155.0</td>\n",
       "      <td>99195</td>\n",
       "      <td>2017</td>\n",
       "      <td>11</td>\n",
       "      <td>3</td>\n",
       "      <td>Другие</td>\n",
       "    </tr>\n",
       "    <tr>\n",
       "      <th>7</th>\n",
       "      <td>5</td>\n",
       "      <td>7915000.0</td>\n",
       "      <td>71.60</td>\n",
       "      <td>2019-04-18</td>\n",
       "      <td>2</td>\n",
       "      <td>2.65</td>\n",
       "      <td>24.0</td>\n",
       "      <td>NaN</td>\n",
       "      <td>22</td>\n",
       "      <td>False</td>\n",
       "      <td>...</td>\n",
       "      <td>0.0</td>\n",
       "      <td>NaN</td>\n",
       "      <td>0.0</td>\n",
       "      <td>NaN</td>\n",
       "      <td>NaN</td>\n",
       "      <td>110544</td>\n",
       "      <td>2019</td>\n",
       "      <td>4</td>\n",
       "      <td>3</td>\n",
       "      <td>Другие</td>\n",
       "    </tr>\n",
       "    <tr>\n",
       "      <th>8</th>\n",
       "      <td>20</td>\n",
       "      <td>2900000.0</td>\n",
       "      <td>33.16</td>\n",
       "      <td>2018-05-23</td>\n",
       "      <td>1</td>\n",
       "      <td>2.65</td>\n",
       "      <td>27.0</td>\n",
       "      <td>15.43</td>\n",
       "      <td>26</td>\n",
       "      <td>False</td>\n",
       "      <td>...</td>\n",
       "      <td>NaN</td>\n",
       "      <td>NaN</td>\n",
       "      <td>NaN</td>\n",
       "      <td>NaN</td>\n",
       "      <td>189.0</td>\n",
       "      <td>87454</td>\n",
       "      <td>2018</td>\n",
       "      <td>5</td>\n",
       "      <td>2</td>\n",
       "      <td>Другие</td>\n",
       "    </tr>\n",
       "    <tr>\n",
       "      <th>9</th>\n",
       "      <td>18</td>\n",
       "      <td>5400000.0</td>\n",
       "      <td>61.00</td>\n",
       "      <td>2017-02-26</td>\n",
       "      <td>3</td>\n",
       "      <td>2.50</td>\n",
       "      <td>9.0</td>\n",
       "      <td>43.60</td>\n",
       "      <td>7</td>\n",
       "      <td>False</td>\n",
       "      <td>...</td>\n",
       "      <td>0.0</td>\n",
       "      <td>NaN</td>\n",
       "      <td>0.0</td>\n",
       "      <td>NaN</td>\n",
       "      <td>289.0</td>\n",
       "      <td>88524</td>\n",
       "      <td>2017</td>\n",
       "      <td>2</td>\n",
       "      <td>6</td>\n",
       "      <td>Другие</td>\n",
       "    </tr>\n",
       "    <tr>\n",
       "      <th>10</th>\n",
       "      <td>5</td>\n",
       "      <td>5050000.0</td>\n",
       "      <td>39.60</td>\n",
       "      <td>2017-11-16</td>\n",
       "      <td>1</td>\n",
       "      <td>2.67</td>\n",
       "      <td>12.0</td>\n",
       "      <td>20.30</td>\n",
       "      <td>3</td>\n",
       "      <td>False</td>\n",
       "      <td>...</td>\n",
       "      <td>1.0</td>\n",
       "      <td>310.0</td>\n",
       "      <td>2.0</td>\n",
       "      <td>553.0</td>\n",
       "      <td>137.0</td>\n",
       "      <td>127525</td>\n",
       "      <td>2017</td>\n",
       "      <td>11</td>\n",
       "      <td>3</td>\n",
       "      <td>Другие</td>\n",
       "    </tr>\n",
       "    <tr>\n",
       "      <th>11</th>\n",
       "      <td>9</td>\n",
       "      <td>3300000.0</td>\n",
       "      <td>44.00</td>\n",
       "      <td>2018-08-27</td>\n",
       "      <td>2</td>\n",
       "      <td>2.65</td>\n",
       "      <td>5.0</td>\n",
       "      <td>31.00</td>\n",
       "      <td>4</td>\n",
       "      <td>False</td>\n",
       "      <td>...</td>\n",
       "      <td>0.0</td>\n",
       "      <td>NaN</td>\n",
       "      <td>0.0</td>\n",
       "      <td>NaN</td>\n",
       "      <td>7.0</td>\n",
       "      <td>75000</td>\n",
       "      <td>2018</td>\n",
       "      <td>8</td>\n",
       "      <td>0</td>\n",
       "      <td>Другие</td>\n",
       "    </tr>\n",
       "    <tr>\n",
       "      <th>12</th>\n",
       "      <td>10</td>\n",
       "      <td>3890000.0</td>\n",
       "      <td>54.00</td>\n",
       "      <td>2016-06-30</td>\n",
       "      <td>2</td>\n",
       "      <td>2.65</td>\n",
       "      <td>5.0</td>\n",
       "      <td>30.00</td>\n",
       "      <td>5</td>\n",
       "      <td>False</td>\n",
       "      <td>...</td>\n",
       "      <td>NaN</td>\n",
       "      <td>NaN</td>\n",
       "      <td>NaN</td>\n",
       "      <td>NaN</td>\n",
       "      <td>90.0</td>\n",
       "      <td>72037</td>\n",
       "      <td>2016</td>\n",
       "      <td>6</td>\n",
       "      <td>3</td>\n",
       "      <td>Последний</td>\n",
       "    </tr>\n",
       "    <tr>\n",
       "      <th>13</th>\n",
       "      <td>20</td>\n",
       "      <td>3550000.0</td>\n",
       "      <td>42.80</td>\n",
       "      <td>2017-07-01</td>\n",
       "      <td>2</td>\n",
       "      <td>2.56</td>\n",
       "      <td>5.0</td>\n",
       "      <td>27.00</td>\n",
       "      <td>5</td>\n",
       "      <td>False</td>\n",
       "      <td>...</td>\n",
       "      <td>1.0</td>\n",
       "      <td>294.0</td>\n",
       "      <td>3.0</td>\n",
       "      <td>298.0</td>\n",
       "      <td>366.0</td>\n",
       "      <td>82943</td>\n",
       "      <td>2017</td>\n",
       "      <td>7</td>\n",
       "      <td>5</td>\n",
       "      <td>Последний</td>\n",
       "    </tr>\n",
       "    <tr>\n",
       "      <th>14</th>\n",
       "      <td>1</td>\n",
       "      <td>4400000.0</td>\n",
       "      <td>36.00</td>\n",
       "      <td>2016-06-23</td>\n",
       "      <td>1</td>\n",
       "      <td>2.65</td>\n",
       "      <td>6.0</td>\n",
       "      <td>17.00</td>\n",
       "      <td>1</td>\n",
       "      <td>False</td>\n",
       "      <td>...</td>\n",
       "      <td>0.0</td>\n",
       "      <td>NaN</td>\n",
       "      <td>1.0</td>\n",
       "      <td>96.0</td>\n",
       "      <td>203.0</td>\n",
       "      <td>122222</td>\n",
       "      <td>2016</td>\n",
       "      <td>6</td>\n",
       "      <td>3</td>\n",
       "      <td>Первый</td>\n",
       "    </tr>\n",
       "    <tr>\n",
       "      <th>15</th>\n",
       "      <td>16</td>\n",
       "      <td>4650000.0</td>\n",
       "      <td>39.00</td>\n",
       "      <td>2017-11-18</td>\n",
       "      <td>1</td>\n",
       "      <td>2.65</td>\n",
       "      <td>14.0</td>\n",
       "      <td>20.50</td>\n",
       "      <td>5</td>\n",
       "      <td>False</td>\n",
       "      <td>...</td>\n",
       "      <td>1.0</td>\n",
       "      <td>590.0</td>\n",
       "      <td>1.0</td>\n",
       "      <td>296.0</td>\n",
       "      <td>19.0</td>\n",
       "      <td>119230</td>\n",
       "      <td>2017</td>\n",
       "      <td>11</td>\n",
       "      <td>5</td>\n",
       "      <td>Другие</td>\n",
       "    </tr>\n",
       "    <tr>\n",
       "      <th>16</th>\n",
       "      <td>11</td>\n",
       "      <td>6700000.0</td>\n",
       "      <td>82.00</td>\n",
       "      <td>2017-11-23</td>\n",
       "      <td>3</td>\n",
       "      <td>3.05</td>\n",
       "      <td>5.0</td>\n",
       "      <td>55.60</td>\n",
       "      <td>1</td>\n",
       "      <td>False</td>\n",
       "      <td>...</td>\n",
       "      <td>3.0</td>\n",
       "      <td>420.0</td>\n",
       "      <td>0.0</td>\n",
       "      <td>NaN</td>\n",
       "      <td>397.0</td>\n",
       "      <td>81707</td>\n",
       "      <td>2017</td>\n",
       "      <td>11</td>\n",
       "      <td>3</td>\n",
       "      <td>Первый</td>\n",
       "    </tr>\n",
       "    <tr>\n",
       "      <th>17</th>\n",
       "      <td>6</td>\n",
       "      <td>4180000.0</td>\n",
       "      <td>36.00</td>\n",
       "      <td>2016-09-09</td>\n",
       "      <td>1</td>\n",
       "      <td>2.65</td>\n",
       "      <td>17.0</td>\n",
       "      <td>16.50</td>\n",
       "      <td>7</td>\n",
       "      <td>False</td>\n",
       "      <td>...</td>\n",
       "      <td>0.0</td>\n",
       "      <td>NaN</td>\n",
       "      <td>1.0</td>\n",
       "      <td>859.0</td>\n",
       "      <td>571.0</td>\n",
       "      <td>116111</td>\n",
       "      <td>2016</td>\n",
       "      <td>9</td>\n",
       "      <td>4</td>\n",
       "      <td>Другие</td>\n",
       "    </tr>\n",
       "    <tr>\n",
       "      <th>18</th>\n",
       "      <td>8</td>\n",
       "      <td>3250000.0</td>\n",
       "      <td>31.00</td>\n",
       "      <td>2017-01-27</td>\n",
       "      <td>1</td>\n",
       "      <td>2.50</td>\n",
       "      <td>5.0</td>\n",
       "      <td>19.40</td>\n",
       "      <td>2</td>\n",
       "      <td>False</td>\n",
       "      <td>...</td>\n",
       "      <td>1.0</td>\n",
       "      <td>759.0</td>\n",
       "      <td>0.0</td>\n",
       "      <td>NaN</td>\n",
       "      <td>168.0</td>\n",
       "      <td>104838</td>\n",
       "      <td>2017</td>\n",
       "      <td>1</td>\n",
       "      <td>4</td>\n",
       "      <td>Другие</td>\n",
       "    </tr>\n",
       "    <tr>\n",
       "      <th>19</th>\n",
       "      <td>16</td>\n",
       "      <td>14200000.0</td>\n",
       "      <td>121.00</td>\n",
       "      <td>2019-01-09</td>\n",
       "      <td>3</td>\n",
       "      <td>2.75</td>\n",
       "      <td>16.0</td>\n",
       "      <td>76.00</td>\n",
       "      <td>8</td>\n",
       "      <td>False</td>\n",
       "      <td>...</td>\n",
       "      <td>0.0</td>\n",
       "      <td>NaN</td>\n",
       "      <td>0.0</td>\n",
       "      <td>NaN</td>\n",
       "      <td>97.0</td>\n",
       "      <td>117355</td>\n",
       "      <td>2019</td>\n",
       "      <td>1</td>\n",
       "      <td>2</td>\n",
       "      <td>Другие</td>\n",
       "    </tr>\n",
       "  </tbody>\n",
       "</table>\n",
       "<p>20 rows × 27 columns</p>\n",
       "</div>"
      ],
      "text/plain": [
       "    total_images  last_price  total_area first_day_exposition  rooms  \\\n",
       "0             20  13000000.0      108.00           2019-03-07      3   \n",
       "1              7   3350000.0       40.40           2018-12-04      1   \n",
       "2             10   5196000.0       56.00           2015-08-20      2   \n",
       "3              0  64900000.0      159.00           2015-07-24      3   \n",
       "4              2  10000000.0      100.00           2018-06-19      2   \n",
       "5             10   2890000.0       30.40           2018-09-10      1   \n",
       "6              6   3700000.0       37.30           2017-11-02      1   \n",
       "7              5   7915000.0       71.60           2019-04-18      2   \n",
       "8             20   2900000.0       33.16           2018-05-23      1   \n",
       "9             18   5400000.0       61.00           2017-02-26      3   \n",
       "10             5   5050000.0       39.60           2017-11-16      1   \n",
       "11             9   3300000.0       44.00           2018-08-27      2   \n",
       "12            10   3890000.0       54.00           2016-06-30      2   \n",
       "13            20   3550000.0       42.80           2017-07-01      2   \n",
       "14             1   4400000.0       36.00           2016-06-23      1   \n",
       "15            16   4650000.0       39.00           2017-11-18      1   \n",
       "16            11   6700000.0       82.00           2017-11-23      3   \n",
       "17             6   4180000.0       36.00           2016-09-09      1   \n",
       "18             8   3250000.0       31.00           2017-01-27      1   \n",
       "19            16  14200000.0      121.00           2019-01-09      3   \n",
       "\n",
       "    ceiling_height  floors_total  living_area  floor  is_apartment  ...  \\\n",
       "0             2.70          16.0        51.00      8         False  ...   \n",
       "1             2.65          11.0        18.60      1         False  ...   \n",
       "2             2.65           5.0        34.30      4         False  ...   \n",
       "3             2.65          14.0          NaN      9         False  ...   \n",
       "4             3.03          14.0        32.00     13         False  ...   \n",
       "5             2.65          12.0        14.40      5         False  ...   \n",
       "6             2.65          26.0        10.60      6         False  ...   \n",
       "7             2.65          24.0          NaN     22         False  ...   \n",
       "8             2.65          27.0        15.43     26         False  ...   \n",
       "9             2.50           9.0        43.60      7         False  ...   \n",
       "10            2.67          12.0        20.30      3         False  ...   \n",
       "11            2.65           5.0        31.00      4         False  ...   \n",
       "12            2.65           5.0        30.00      5         False  ...   \n",
       "13            2.56           5.0        27.00      5         False  ...   \n",
       "14            2.65           6.0        17.00      1         False  ...   \n",
       "15            2.65          14.0        20.50      5         False  ...   \n",
       "16            3.05           5.0        55.60      1         False  ...   \n",
       "17            2.65          17.0        16.50      7         False  ...   \n",
       "18            2.50           5.0        19.40      2         False  ...   \n",
       "19            2.75          16.0        76.00      8         False  ...   \n",
       "\n",
       "    parks_around3000  parks_nearest  ponds_around3000  ponds_nearest  \\\n",
       "0                1.0          482.0               2.0          755.0   \n",
       "1                0.0            NaN               0.0            NaN   \n",
       "2                1.0           90.0               2.0          574.0   \n",
       "3                2.0           84.0               3.0          234.0   \n",
       "4                2.0          112.0               1.0           48.0   \n",
       "5                NaN            NaN               NaN            NaN   \n",
       "6                0.0            NaN               0.0            NaN   \n",
       "7                0.0            NaN               0.0            NaN   \n",
       "8                NaN            NaN               NaN            NaN   \n",
       "9                0.0            NaN               0.0            NaN   \n",
       "10               1.0          310.0               2.0          553.0   \n",
       "11               0.0            NaN               0.0            NaN   \n",
       "12               NaN            NaN               NaN            NaN   \n",
       "13               1.0          294.0               3.0          298.0   \n",
       "14               0.0            NaN               1.0           96.0   \n",
       "15               1.0          590.0               1.0          296.0   \n",
       "16               3.0          420.0               0.0            NaN   \n",
       "17               0.0            NaN               1.0          859.0   \n",
       "18               1.0          759.0               0.0            NaN   \n",
       "19               0.0            NaN               0.0            NaN   \n",
       "\n",
       "   days_exposition  price_square_meter  year  month  week_day  floor_group  \n",
       "0              NaN              120370  2019      3         3       Другие  \n",
       "1             81.0               82920  2018     12         1       Первый  \n",
       "2            558.0               92785  2015      8         3       Другие  \n",
       "3            424.0              408176  2015      7         4       Другие  \n",
       "4            121.0              100000  2018      6         1       Другие  \n",
       "5             55.0               95065  2018      9         0       Другие  \n",
       "6            155.0               99195  2017     11         3       Другие  \n",
       "7              NaN              110544  2019      4         3       Другие  \n",
       "8            189.0               87454  2018      5         2       Другие  \n",
       "9            289.0               88524  2017      2         6       Другие  \n",
       "10           137.0              127525  2017     11         3       Другие  \n",
       "11             7.0               75000  2018      8         0       Другие  \n",
       "12            90.0               72037  2016      6         3    Последний  \n",
       "13           366.0               82943  2017      7         5    Последний  \n",
       "14           203.0              122222  2016      6         3       Первый  \n",
       "15            19.0              119230  2017     11         5       Другие  \n",
       "16           397.0               81707  2017     11         3       Первый  \n",
       "17           571.0              116111  2016      9         4       Другие  \n",
       "18           168.0              104838  2017      1         4       Другие  \n",
       "19            97.0              117355  2019      1         2       Другие  \n",
       "\n",
       "[20 rows x 27 columns]"
      ]
     },
     "metadata": {},
     "output_type": "display_data"
    }
   ],
   "source": [
    "df.loc[df['floor'] ==df['floors_total'], 'floor_group'] = 'Последний'\n",
    "df.loc[df['floor'] ==1, 'floor_group'] = 'Первый'\n",
    "df['floor_group'] = df['floor_group'].where(df['floor_group'].isin(['Первый','Последний']),'Другие')\n",
    "\n",
    "display(df.head(20))#проверим работу группировок\n"
   ]
  },
  {
   "cell_type": "markdown",
   "metadata": {},
   "source": [
    "Дополнительно добавим солбцы отношения жилой и кухонной площадей к общей площади (столбцы также будут иметь пропуски в данных):"
   ]
  },
  {
   "cell_type": "code",
   "execution_count": 922,
   "metadata": {},
   "outputs": [
    {
     "data": {
      "text/html": [
       "<div>\n",
       "<style scoped>\n",
       "    .dataframe tbody tr th:only-of-type {\n",
       "        vertical-align: middle;\n",
       "    }\n",
       "\n",
       "    .dataframe tbody tr th {\n",
       "        vertical-align: top;\n",
       "    }\n",
       "\n",
       "    .dataframe thead th {\n",
       "        text-align: right;\n",
       "    }\n",
       "</style>\n",
       "<table border=\"1\" class=\"dataframe\">\n",
       "  <thead>\n",
       "    <tr style=\"text-align: right;\">\n",
       "      <th></th>\n",
       "      <th>total_images</th>\n",
       "      <th>last_price</th>\n",
       "      <th>total_area</th>\n",
       "      <th>first_day_exposition</th>\n",
       "      <th>rooms</th>\n",
       "      <th>ceiling_height</th>\n",
       "      <th>floors_total</th>\n",
       "      <th>living_area</th>\n",
       "      <th>floor</th>\n",
       "      <th>is_apartment</th>\n",
       "      <th>...</th>\n",
       "      <th>ponds_around3000</th>\n",
       "      <th>ponds_nearest</th>\n",
       "      <th>days_exposition</th>\n",
       "      <th>price_square_meter</th>\n",
       "      <th>year</th>\n",
       "      <th>month</th>\n",
       "      <th>week_day</th>\n",
       "      <th>floor_group</th>\n",
       "      <th>ratio_living_area</th>\n",
       "      <th>ratio_kitchen_area</th>\n",
       "    </tr>\n",
       "  </thead>\n",
       "  <tbody>\n",
       "    <tr>\n",
       "      <th>0</th>\n",
       "      <td>20</td>\n",
       "      <td>13000000.0</td>\n",
       "      <td>108.0</td>\n",
       "      <td>2019-03-07</td>\n",
       "      <td>3</td>\n",
       "      <td>2.70</td>\n",
       "      <td>16.0</td>\n",
       "      <td>51.0</td>\n",
       "      <td>8</td>\n",
       "      <td>False</td>\n",
       "      <td>...</td>\n",
       "      <td>2.0</td>\n",
       "      <td>755.0</td>\n",
       "      <td>NaN</td>\n",
       "      <td>120370</td>\n",
       "      <td>2019</td>\n",
       "      <td>3</td>\n",
       "      <td>3</td>\n",
       "      <td>Другие</td>\n",
       "      <td>0.472222</td>\n",
       "      <td>0.231481</td>\n",
       "    </tr>\n",
       "    <tr>\n",
       "      <th>1</th>\n",
       "      <td>7</td>\n",
       "      <td>3350000.0</td>\n",
       "      <td>40.4</td>\n",
       "      <td>2018-12-04</td>\n",
       "      <td>1</td>\n",
       "      <td>2.65</td>\n",
       "      <td>11.0</td>\n",
       "      <td>18.6</td>\n",
       "      <td>1</td>\n",
       "      <td>False</td>\n",
       "      <td>...</td>\n",
       "      <td>0.0</td>\n",
       "      <td>NaN</td>\n",
       "      <td>81.0</td>\n",
       "      <td>82920</td>\n",
       "      <td>2018</td>\n",
       "      <td>12</td>\n",
       "      <td>1</td>\n",
       "      <td>Первый</td>\n",
       "      <td>0.460396</td>\n",
       "      <td>0.272277</td>\n",
       "    </tr>\n",
       "    <tr>\n",
       "      <th>2</th>\n",
       "      <td>10</td>\n",
       "      <td>5196000.0</td>\n",
       "      <td>56.0</td>\n",
       "      <td>2015-08-20</td>\n",
       "      <td>2</td>\n",
       "      <td>2.65</td>\n",
       "      <td>5.0</td>\n",
       "      <td>34.3</td>\n",
       "      <td>4</td>\n",
       "      <td>False</td>\n",
       "      <td>...</td>\n",
       "      <td>2.0</td>\n",
       "      <td>574.0</td>\n",
       "      <td>558.0</td>\n",
       "      <td>92785</td>\n",
       "      <td>2015</td>\n",
       "      <td>8</td>\n",
       "      <td>3</td>\n",
       "      <td>Другие</td>\n",
       "      <td>0.612500</td>\n",
       "      <td>0.148214</td>\n",
       "    </tr>\n",
       "    <tr>\n",
       "      <th>3</th>\n",
       "      <td>0</td>\n",
       "      <td>64900000.0</td>\n",
       "      <td>159.0</td>\n",
       "      <td>2015-07-24</td>\n",
       "      <td>3</td>\n",
       "      <td>2.65</td>\n",
       "      <td>14.0</td>\n",
       "      <td>NaN</td>\n",
       "      <td>9</td>\n",
       "      <td>False</td>\n",
       "      <td>...</td>\n",
       "      <td>3.0</td>\n",
       "      <td>234.0</td>\n",
       "      <td>424.0</td>\n",
       "      <td>408176</td>\n",
       "      <td>2015</td>\n",
       "      <td>7</td>\n",
       "      <td>4</td>\n",
       "      <td>Другие</td>\n",
       "      <td>NaN</td>\n",
       "      <td>NaN</td>\n",
       "    </tr>\n",
       "    <tr>\n",
       "      <th>4</th>\n",
       "      <td>2</td>\n",
       "      <td>10000000.0</td>\n",
       "      <td>100.0</td>\n",
       "      <td>2018-06-19</td>\n",
       "      <td>2</td>\n",
       "      <td>3.03</td>\n",
       "      <td>14.0</td>\n",
       "      <td>32.0</td>\n",
       "      <td>13</td>\n",
       "      <td>False</td>\n",
       "      <td>...</td>\n",
       "      <td>1.0</td>\n",
       "      <td>48.0</td>\n",
       "      <td>121.0</td>\n",
       "      <td>100000</td>\n",
       "      <td>2018</td>\n",
       "      <td>6</td>\n",
       "      <td>1</td>\n",
       "      <td>Другие</td>\n",
       "      <td>0.320000</td>\n",
       "      <td>0.410000</td>\n",
       "    </tr>\n",
       "  </tbody>\n",
       "</table>\n",
       "<p>5 rows × 29 columns</p>\n",
       "</div>"
      ],
      "text/plain": [
       "   total_images  last_price  total_area first_day_exposition  rooms  \\\n",
       "0            20  13000000.0       108.0           2019-03-07      3   \n",
       "1             7   3350000.0        40.4           2018-12-04      1   \n",
       "2            10   5196000.0        56.0           2015-08-20      2   \n",
       "3             0  64900000.0       159.0           2015-07-24      3   \n",
       "4             2  10000000.0       100.0           2018-06-19      2   \n",
       "\n",
       "   ceiling_height  floors_total  living_area  floor  is_apartment  ...  \\\n",
       "0            2.70          16.0         51.0      8         False  ...   \n",
       "1            2.65          11.0         18.6      1         False  ...   \n",
       "2            2.65           5.0         34.3      4         False  ...   \n",
       "3            2.65          14.0          NaN      9         False  ...   \n",
       "4            3.03          14.0         32.0     13         False  ...   \n",
       "\n",
       "   ponds_around3000  ponds_nearest  days_exposition  price_square_meter  year  \\\n",
       "0               2.0          755.0              NaN              120370  2019   \n",
       "1               0.0            NaN             81.0               82920  2018   \n",
       "2               2.0          574.0            558.0               92785  2015   \n",
       "3               3.0          234.0            424.0              408176  2015   \n",
       "4               1.0           48.0            121.0              100000  2018   \n",
       "\n",
       "   month  week_day  floor_group  ratio_living_area  ratio_kitchen_area  \n",
       "0      3         3       Другие           0.472222            0.231481  \n",
       "1     12         1       Первый           0.460396            0.272277  \n",
       "2      8         3       Другие           0.612500            0.148214  \n",
       "3      7         4       Другие                NaN                 NaN  \n",
       "4      6         1       Другие           0.320000            0.410000  \n",
       "\n",
       "[5 rows x 29 columns]"
      ]
     },
     "execution_count": 922,
     "metadata": {},
     "output_type": "execute_result"
    }
   ],
   "source": [
    "df['ratio_living_area']= df['living_area']/df['total_area']\n",
    "\n",
    "df['ratio_kitchen_area'] = df['kitchen_area']/df['total_area']\n",
    "df.head()#проверим\n"
   ]
  },
  {
   "cell_type": "markdown",
   "metadata": {},
   "source": [
    "Теперь таблица данных готова для анализа."
   ]
  },
  {
   "cell_type": "code",
   "execution_count": 923,
   "metadata": {},
   "outputs": [
    {
     "name": "stdout",
     "output_type": "stream",
     "text": [
      "<class 'pandas.core.frame.DataFrame'>\n",
      "Int64Index: 23203 entries, 0 to 23698\n",
      "Data columns (total 29 columns):\n",
      " #   Column                Non-Null Count  Dtype         \n",
      "---  ------                --------------  -----         \n",
      " 0   total_images          23203 non-null  int64         \n",
      " 1   last_price            23203 non-null  float64       \n",
      " 2   total_area            23203 non-null  float64       \n",
      " 3   first_day_exposition  23203 non-null  datetime64[ns]\n",
      " 4   rooms                 23203 non-null  int64         \n",
      " 5   ceiling_height        23203 non-null  float64       \n",
      " 6   floors_total          23203 non-null  float64       \n",
      " 7   living_area           21357 non-null  float64       \n",
      " 8   floor                 23203 non-null  int64         \n",
      " 9   is_apartment          23203 non-null  bool          \n",
      " 10  studio                23203 non-null  bool          \n",
      " 11  open_plan             23203 non-null  bool          \n",
      " 12  kitchen_area          21003 non-null  float64       \n",
      " 13  balcony               23203 non-null  float64       \n",
      " 14  locality_name         23203 non-null  object        \n",
      " 15  airports_nearest      17778 non-null  float64       \n",
      " 16  cityCenters_nearest   17801 non-null  float64       \n",
      " 17  parks_around3000      17802 non-null  float64       \n",
      " 18  parks_nearest         7881 non-null   float64       \n",
      " 19  ponds_around3000      17802 non-null  float64       \n",
      " 20  ponds_nearest         8895 non-null   float64       \n",
      " 21  days_exposition       20095 non-null  float64       \n",
      " 22  price_square_meter    23203 non-null  int64         \n",
      " 23  year                  23203 non-null  int64         \n",
      " 24  month                 23203 non-null  int64         \n",
      " 25  week_day              23203 non-null  int64         \n",
      " 26  floor_group           23203 non-null  object        \n",
      " 27  ratio_living_area     21357 non-null  float64       \n",
      " 28  ratio_kitchen_area    21003 non-null  float64       \n",
      "dtypes: bool(3), datetime64[ns](1), float64(16), int64(7), object(2)\n",
      "memory usage: 4.8+ MB\n"
     ]
    }
   ],
   "source": [
    "df.info()"
   ]
  },
  {
   "cell_type": "markdown",
   "metadata": {},
   "source": [
    "## Исследовательский анализ данных"
   ]
  },
  {
   "cell_type": "markdown",
   "metadata": {},
   "source": [
    "Посмотрим сведения о столбце *'total_area'* и построим распределение числа объявлений по этому параметру:"
   ]
  },
  {
   "cell_type": "code",
   "execution_count": 924,
   "metadata": {},
   "outputs": [
    {
     "name": "stdout",
     "output_type": "stream",
     "text": [
      "count    23203.000000\n",
      "mean        60.108223\n",
      "std         35.570345\n",
      "min         12.000000\n",
      "25%         40.000000\n",
      "50%         52.000000\n",
      "75%         69.100000\n",
      "max        900.000000\n",
      "Name: total_area, dtype: float64\n"
     ]
    }
   ],
   "source": [
    "print(df['total_area'].describe())"
   ]
  },
  {
   "cell_type": "code",
   "execution_count": 925,
   "metadata": {},
   "outputs": [
    {
     "data": {
      "text/plain": [
       "<AxesSubplot:>"
      ]
     },
     "execution_count": 925,
     "metadata": {},
     "output_type": "execute_result"
    },
    {
     "data": {
      "image/png": "[encoded data removed]",
      "text/plain": [
       "<Figure size 432x288 with 1 Axes>"
      ]
     },
     "metadata": {
      "needs_background": "light"
     },
     "output_type": "display_data"
    }
   ],
   "source": [
    "pd.Series(df['total_area']).hist(range = (12,900),bins=100)#построим гистограмму с предельными значениями из describe"
   ]
  },
  {
   "cell_type": "markdown",
   "metadata": {},
   "source": [
    "Из гистограммы видно, что распредление имеет правильный вид. Но при этом значения площади от 200 до 900 не очевидны. Построим диаграмму размаха:"
   ]
  },
  {
   "cell_type": "code",
   "execution_count": 926,
   "metadata": {},
   "outputs": [
    {
     "data": {
      "image/png": "[encoded data removed]",
      "text/plain": [
       "<Figure size 432x288 with 1 Axes>"
      ]
     },
     "metadata": {
      "needs_background": "light"
     },
     "output_type": "display_data"
    }
   ],
   "source": [
    "plt.ylim(0,900)\n",
    "plt.xlim(0,2)\n",
    "df.boxplot(column=['total_area'])\n",
    "plt.show()"
   ]
  },
  {
   "cell_type": "markdown",
   "metadata": {},
   "source": [
    "Видно, что большая часть значений лежит до 150 кв.м.Поэтому построим гистограмму с новыми предельными значениями, отбросив значения свыше 150:"
   ]
  },
  {
   "cell_type": "code",
   "execution_count": 927,
   "metadata": {
    "scrolled": true
   },
   "outputs": [
    {
     "data": {
      "text/plain": [
       "<AxesSubplot:>"
      ]
     },
     "execution_count": 927,
     "metadata": {},
     "output_type": "execute_result"
    },
    {
     "data": {
      "image/png": "[encoded data removed]",
      "text/plain": [
       "<Figure size 720x360 with 1 Axes>"
      ]
     },
     "metadata": {
      "needs_background": "light"
     },
     "output_type": "display_data"
    }
   ],
   "source": [
    "pd.Series(df['total_area']).hist(range = (12,150),bins=100,figsize=(10,5))"
   ]
  },
  {
   "cell_type": "markdown",
   "metadata": {},
   "source": [
    "Из гистограммы видно, что большое количество объявлений приходится на площадь от 30 до 80 кв.м."
   ]
  },
  {
   "cell_type": "code",
   "execution_count": 928,
   "metadata": {},
   "outputs": [
    {
     "name": "stdout",
     "output_type": "stream",
     "text": [
      "<class 'pandas.core.frame.DataFrame'>\n",
      "Int64Index: 22638 entries, 0 to 23698\n",
      "Data columns (total 29 columns):\n",
      " #   Column                Non-Null Count  Dtype         \n",
      "---  ------                --------------  -----         \n",
      " 0   total_images          22638 non-null  int64         \n",
      " 1   last_price            22638 non-null  float64       \n",
      " 2   total_area            22638 non-null  float64       \n",
      " 3   first_day_exposition  22638 non-null  datetime64[ns]\n",
      " 4   rooms                 22638 non-null  int64         \n",
      " 5   ceiling_height        22638 non-null  float64       \n",
      " 6   floors_total          22638 non-null  float64       \n",
      " 7   living_area           20858 non-null  float64       \n",
      " 8   floor                 22638 non-null  int64         \n",
      " 9   is_apartment          22638 non-null  bool          \n",
      " 10  studio                22638 non-null  bool          \n",
      " 11  open_plan             22638 non-null  bool          \n",
      " 12  kitchen_area          20507 non-null  float64       \n",
      " 13  balcony               22638 non-null  float64       \n",
      " 14  locality_name         22638 non-null  object        \n",
      " 15  airports_nearest      17233 non-null  float64       \n",
      " 16  cityCenters_nearest   17253 non-null  float64       \n",
      " 17  parks_around3000      17254 non-null  float64       \n",
      " 18  parks_nearest         7513 non-null   float64       \n",
      " 19  ponds_around3000      17254 non-null  float64       \n",
      " 20  ponds_nearest         8499 non-null   float64       \n",
      " 21  days_exposition       19675 non-null  float64       \n",
      " 22  price_square_meter    22638 non-null  int64         \n",
      " 23  year                  22638 non-null  int64         \n",
      " 24  month                 22638 non-null  int64         \n",
      " 25  week_day              22638 non-null  int64         \n",
      " 26  floor_group           22638 non-null  object        \n",
      " 27  ratio_living_area     20858 non-null  float64       \n",
      " 28  ratio_kitchen_area    20507 non-null  float64       \n",
      "dtypes: bool(3), datetime64[ns](1), float64(16), int64(7), object(2)\n",
      "memory usage: 4.7+ MB\n"
     ]
    }
   ],
   "source": [
    "df=df.query('total_area < 150')#ограничим выбор объектов площадью до 150 кв.м\n",
    "df.info()"
   ]
  },
  {
   "cell_type": "markdown",
   "metadata": {},
   "source": [
    "**Видно, что мы убрали примерно 2,5% объявлений таким ограничением**"
   ]
  },
  {
   "cell_type": "markdown",
   "metadata": {},
   "source": [
    "Посмотрим сведения о столбце *'last_price'* и построим распределение числа объявлений по этому параметру:"
   ]
  },
  {
   "cell_type": "code",
   "execution_count": 929,
   "metadata": {},
   "outputs": [
    {
     "name": "stdout",
     "output_type": "stream",
     "text": [
      "count    2.263800e+04\n",
      "mean     5.655609e+06\n",
      "std      4.465969e+06\n",
      "min      1.219000e+04\n",
      "25%      3.400000e+06\n",
      "50%      4.550000e+06\n",
      "75%      6.500000e+06\n",
      "max      1.240000e+08\n",
      "Name: last_price, dtype: float64\n"
     ]
    }
   ],
   "source": [
    "print(df['last_price'].describe())"
   ]
  },
  {
   "cell_type": "code",
   "execution_count": 930,
   "metadata": {},
   "outputs": [
    {
     "data": {
      "text/plain": [
       "<AxesSubplot:>"
      ]
     },
     "execution_count": 930,
     "metadata": {},
     "output_type": "execute_result"
    },
    {
     "data": {
      "image/png": "[encoded data removed]",
      "text/plain": [
       "<Figure size 432x288 with 1 Axes>"
      ]
     },
     "metadata": {
      "needs_background": "light"
     },
     "output_type": "display_data"
    }
   ],
   "source": [
    "pd.Series(df['last_price']).hist(range = (1.219000e+04,7.630000e+08),bins=100)#построим гистограмму с предельными значениями из describe"
   ]
  },
  {
   "cell_type": "markdown",
   "metadata": {},
   "source": [
    "Из гистограммы видно, что распредление имеет более-менее правильный вид. Но при этом значения стоимости свыше 15 000 000 руб не очевидны. Построим диаграмму размаха. Но посмотрим предварительно уникальные значения цены и на всякий случай частоту их встреч:"
   ]
  },
  {
   "cell_type": "code",
   "execution_count": 931,
   "metadata": {},
   "outputs": [
    {
     "data": {
      "text/plain": [
       "last_price\n",
       "12190.0        1\n",
       "430000.0       2\n",
       "440000.0       1\n",
       "450000.0       4\n",
       "470000.0       3\n",
       "              ..\n",
       "77349000.0     1\n",
       "82000000.0     1\n",
       "85000000.0     1\n",
       "122000000.0    1\n",
       "124000000.0    1\n",
       "Name: last_price, Length: 2680, dtype: int64"
      ]
     },
     "metadata": {},
     "output_type": "display_data"
    }
   ],
   "source": [
    "display(df.groupby('last_price')['last_price'].count())"
   ]
  },
  {
   "cell_type": "code",
   "execution_count": 932,
   "metadata": {},
   "outputs": [
    {
     "data": {
      "image/png": "[encoded data removed]",
      "text/plain": [
       "<Figure size 432x288 with 1 Axes>"
      ]
     },
     "metadata": {
      "needs_background": "light"
     },
     "output_type": "display_data"
    }
   ],
   "source": [
    "plt.ylim(430000,15000000)#выбираем значения исходя из гистограммы и уникальных значений, чтобы диаграмма размаха была читабельной!!!\n",
    "plt.xlim(0,2)\n",
    "df.boxplot(column=['last_price'])\n",
    "plt.show()"
   ]
  },
  {
   "cell_type": "markdown",
   "metadata": {},
   "source": [
    "Видно, что большая часть значений лежит до 15 млн руб.Поэтому построим гистограмму с новыми предельными значениями, отбросив значения до 430 000 и более 11 000 000 руб:"
   ]
  },
  {
   "cell_type": "code",
   "execution_count": 933,
   "metadata": {},
   "outputs": [
    {
     "data": {
      "text/plain": [
       "<AxesSubplot:>"
      ]
     },
     "execution_count": 933,
     "metadata": {},
     "output_type": "execute_result"
    },
    {
     "data": {
      "image/png": "[encoded data removed]",
      "text/plain": [
       "<Figure size 1080x576 with 1 Axes>"
      ]
     },
     "metadata": {
      "needs_background": "light"
     },
     "output_type": "display_data"
    }
   ],
   "source": [
    "pd.Series(df['last_price']).hist(range = (430000,15000000),bins=300, figsize=(15,8))\n"
   ]
  },
  {
   "cell_type": "markdown",
   "metadata": {},
   "source": [
    "Из гистограммы видно, что большое количество объявлений приходится на объекты стоимостью 1,5-8 млн руб (1 продажа раз в 3 дня и чаще,например)."
   ]
  },
  {
   "cell_type": "code",
   "execution_count": 934,
   "metadata": {},
   "outputs": [
    {
     "name": "stdout",
     "output_type": "stream",
     "text": [
      "<class 'pandas.core.frame.DataFrame'>\n",
      "Int64Index: 21927 entries, 0 to 23698\n",
      "Data columns (total 29 columns):\n",
      " #   Column                Non-Null Count  Dtype         \n",
      "---  ------                --------------  -----         \n",
      " 0   total_images          21927 non-null  int64         \n",
      " 1   last_price            21927 non-null  float64       \n",
      " 2   total_area            21927 non-null  float64       \n",
      " 3   first_day_exposition  21927 non-null  datetime64[ns]\n",
      " 4   rooms                 21927 non-null  int64         \n",
      " 5   ceiling_height        21927 non-null  float64       \n",
      " 6   floors_total          21927 non-null  float64       \n",
      " 7   living_area           20227 non-null  float64       \n",
      " 8   floor                 21927 non-null  int64         \n",
      " 9   is_apartment          21927 non-null  bool          \n",
      " 10  studio                21927 non-null  bool          \n",
      " 11  open_plan             21927 non-null  bool          \n",
      " 12  kitchen_area          19862 non-null  float64       \n",
      " 13  balcony               21927 non-null  float64       \n",
      " 14  locality_name         21927 non-null  object        \n",
      " 15  airports_nearest      16534 non-null  float64       \n",
      " 16  cityCenters_nearest   16549 non-null  float64       \n",
      " 17  parks_around3000      16550 non-null  float64       \n",
      " 18  parks_nearest         7000 non-null   float64       \n",
      " 19  ponds_around3000      16550 non-null  float64       \n",
      " 20  ponds_nearest         8017 non-null   float64       \n",
      " 21  days_exposition       19187 non-null  float64       \n",
      " 22  price_square_meter    21927 non-null  int64         \n",
      " 23  year                  21927 non-null  int64         \n",
      " 24  month                 21927 non-null  int64         \n",
      " 25  week_day              21927 non-null  int64         \n",
      " 26  floor_group           21927 non-null  object        \n",
      " 27  ratio_living_area     20227 non-null  float64       \n",
      " 28  ratio_kitchen_area    19862 non-null  float64       \n",
      "dtypes: bool(3), datetime64[ns](1), float64(16), int64(7), object(2)\n",
      "memory usage: 4.6+ MB\n"
     ]
    }
   ],
   "source": [
    "df=df.query('last_price < 15000000')#ограничим выбор объектов ценой до 15 млн.руб.\n",
    "df.info()"
   ]
  },
  {
   "cell_type": "markdown",
   "metadata": {},
   "source": [
    "**Видно, что мы потеряли примерно 2,8% объявлений таким ограничением**"
   ]
  },
  {
   "cell_type": "markdown",
   "metadata": {},
   "source": [
    "Посмотрим сведения о столбце *'rooms'* и построим распределение числа объявлений по этому параметру:"
   ]
  },
  {
   "cell_type": "code",
   "execution_count": 935,
   "metadata": {},
   "outputs": [
    {
     "name": "stdout",
     "output_type": "stream",
     "text": [
      "count    21927.000000\n",
      "mean         1.958043\n",
      "std          0.928420\n",
      "min          0.000000\n",
      "25%          1.000000\n",
      "50%          2.000000\n",
      "75%          3.000000\n",
      "max          7.000000\n",
      "Name: rooms, dtype: float64\n"
     ]
    }
   ],
   "source": [
    "print(df['rooms'].describe())"
   ]
  },
  {
   "cell_type": "code",
   "execution_count": 936,
   "metadata": {},
   "outputs": [
    {
     "data": {
      "text/plain": [
       "rooms\n",
       "0     191\n",
       "1    7937\n",
       "2    7600\n",
       "3    5192\n",
       "4     838\n",
       "5     147\n",
       "6      20\n",
       "7       2\n",
       "Name: rooms, dtype: int64"
      ]
     },
     "metadata": {},
     "output_type": "display_data"
    }
   ],
   "source": [
    "display(df.groupby('rooms')['rooms'].count().head(35))#дополнительно проверим частоту встреч значения параметра"
   ]
  },
  {
   "cell_type": "code",
   "execution_count": 937,
   "metadata": {
    "scrolled": true
   },
   "outputs": [
    {
     "data": {
      "text/plain": [
       "<AxesSubplot:>"
      ]
     },
     "execution_count": 937,
     "metadata": {},
     "output_type": "execute_result"
    },
    {
     "data": {
      "image/png": "[encoded data removed]",
      "text/plain": [
       "<Figure size 432x288 with 1 Axes>"
      ]
     },
     "metadata": {
      "needs_background": "light"
     },
     "output_type": "display_data"
    }
   ],
   "source": [
    "pd.Series(df['rooms']).hist(range = (0,19),bins=100)\n",
    "#построим гистограмму с предельными значениями из describe"
   ]
  },
  {
   "cell_type": "markdown",
   "metadata": {},
   "source": [
    "Из гистограммы видно, что распредление имеет более-менее правильный вид. Но при этом значения комнат свыше 6 не очевидны. Построим диаграмму размаха. "
   ]
  },
  {
   "cell_type": "code",
   "execution_count": 938,
   "metadata": {},
   "outputs": [
    {
     "data": {
      "image/png": "[encoded data removed]",
      "text/plain": [
       "<Figure size 432x288 with 1 Axes>"
      ]
     },
     "metadata": {
      "needs_background": "light"
     },
     "output_type": "display_data"
    }
   ],
   "source": [
    "plt.ylim(0,19)\n",
    "plt.xlim(0,2)\n",
    "df.boxplot(column=['rooms'])\n",
    "plt.show()"
   ]
  },
  {
   "cell_type": "markdown",
   "metadata": {},
   "source": [
    "Видно, что большая часть значений лежит до 6.Поэтому построим гистограмму с новыми предельными значениями, отбросив значения до свыше 6 комнат:"
   ]
  },
  {
   "cell_type": "code",
   "execution_count": 939,
   "metadata": {},
   "outputs": [
    {
     "data": {
      "text/plain": [
       "<AxesSubplot:>"
      ]
     },
     "execution_count": 939,
     "metadata": {},
     "output_type": "execute_result"
    },
    {
     "data": {
      "image/png": "[encoded data removed]",
      "text/plain": [
       "<Figure size 432x288 with 1 Axes>"
      ]
     },
     "metadata": {
      "needs_background": "light"
     },
     "output_type": "display_data"
    }
   ],
   "source": [
    "pd.Series(df['rooms']).hist(range = (0,6),bins=10)\n"
   ]
  },
  {
   "cell_type": "markdown",
   "metadata": {},
   "source": [
    "Из гистограммы видно, что большое количество объявлений приходится на объекты с 1-3 комнатами."
   ]
  },
  {
   "cell_type": "code",
   "execution_count": 940,
   "metadata": {},
   "outputs": [
    {
     "name": "stdout",
     "output_type": "stream",
     "text": [
      "<class 'pandas.core.frame.DataFrame'>\n",
      "Int64Index: 20920 entries, 0 to 23698\n",
      "Data columns (total 29 columns):\n",
      " #   Column                Non-Null Count  Dtype         \n",
      "---  ------                --------------  -----         \n",
      " 0   total_images          20920 non-null  int64         \n",
      " 1   last_price            20920 non-null  float64       \n",
      " 2   total_area            20920 non-null  float64       \n",
      " 3   first_day_exposition  20920 non-null  datetime64[ns]\n",
      " 4   rooms                 20920 non-null  int64         \n",
      " 5   ceiling_height        20920 non-null  float64       \n",
      " 6   floors_total          20920 non-null  float64       \n",
      " 7   living_area           19293 non-null  float64       \n",
      " 8   floor                 20920 non-null  int64         \n",
      " 9   is_apartment          20920 non-null  bool          \n",
      " 10  studio                20920 non-null  bool          \n",
      " 11  open_plan             20920 non-null  bool          \n",
      " 12  kitchen_area          18945 non-null  float64       \n",
      " 13  balcony               20920 non-null  float64       \n",
      " 14  locality_name         20920 non-null  object        \n",
      " 15  airports_nearest      15662 non-null  float64       \n",
      " 16  cityCenters_nearest   15676 non-null  float64       \n",
      " 17  parks_around3000      15677 non-null  float64       \n",
      " 18  parks_nearest         6573 non-null   float64       \n",
      " 19  ponds_around3000      15677 non-null  float64       \n",
      " 20  ponds_nearest         7540 non-null   float64       \n",
      " 21  days_exposition       18367 non-null  float64       \n",
      " 22  price_square_meter    20920 non-null  int64         \n",
      " 23  year                  20920 non-null  int64         \n",
      " 24  month                 20920 non-null  int64         \n",
      " 25  week_day              20920 non-null  int64         \n",
      " 26  floor_group           20920 non-null  object        \n",
      " 27  ratio_living_area     19293 non-null  float64       \n",
      " 28  ratio_kitchen_area    18945 non-null  float64       \n",
      "dtypes: bool(3), datetime64[ns](1), float64(16), int64(7), object(2)\n",
      "memory usage: 4.4+ MB\n"
     ]
    }
   ],
   "source": [
    "df=df.query('rooms < 4')#ограничим выбор на объектах с максимум 4 комнатами.\n",
    "df.info()"
   ]
  },
  {
   "cell_type": "markdown",
   "metadata": {},
   "source": [
    "**Видно, что мы потеряли примерно 4,5% объявлений таким ограничением**"
   ]
  },
  {
   "cell_type": "markdown",
   "metadata": {},
   "source": [
    "Посмотрим сведения о столбце *'ceiling_height'* и построим распределение числа объявлений по этому параметру:"
   ]
  },
  {
   "cell_type": "code",
   "execution_count": 941,
   "metadata": {},
   "outputs": [
    {
     "name": "stdout",
     "output_type": "stream",
     "text": [
      "count    20920.000000\n",
      "mean         2.674480\n",
      "std          0.181018\n",
      "min          2.500000\n",
      "25%          2.600000\n",
      "50%          2.650000\n",
      "75%          2.700000\n",
      "max          5.800000\n",
      "Name: ceiling_height, dtype: float64\n"
     ]
    }
   ],
   "source": [
    "print(df['ceiling_height'].describe())"
   ]
  },
  {
   "cell_type": "code",
   "execution_count": 942,
   "metadata": {},
   "outputs": [
    {
     "data": {
      "text/plain": [
       "ceiling_height\n",
       "2.50    3331\n",
       "2.51      34\n",
       "2.52      76\n",
       "2.53      64\n",
       "2.54      80\n",
       "2.55     932\n",
       "2.56     130\n",
       "2.57      96\n",
       "2.58      57\n",
       "2.59      13\n",
       "2.60    1545\n",
       "2.61       5\n",
       "2.62      12\n",
       "2.63      12\n",
       "2.64      80\n",
       "2.65    8945\n",
       "2.66      16\n",
       "2.67      33\n",
       "2.68      23\n",
       "2.69       2\n",
       "2.70    1478\n",
       "2.71      12\n",
       "2.72      27\n",
       "2.73      26\n",
       "2.74      24\n",
       "2.75     849\n",
       "2.76      54\n",
       "2.77      55\n",
       "2.78      44\n",
       "2.79      10\n",
       "2.80     877\n",
       "2.81       8\n",
       "2.82      15\n",
       "2.83      11\n",
       "2.84      17\n",
       "2.85      90\n",
       "2.86       6\n",
       "2.87       5\n",
       "2.88      11\n",
       "2.89       1\n",
       "2.90     130\n",
       "2.91       1\n",
       "2.92       7\n",
       "2.93       3\n",
       "2.94       1\n",
       "2.95      31\n",
       "2.96       3\n",
       "2.97       3\n",
       "2.98       2\n",
       "2.99       1\n",
       "3.00     791\n",
       "3.01       4\n",
       "3.02       5\n",
       "3.03       3\n",
       "3.04       3\n",
       "Name: ceiling_height, dtype: int64"
      ]
     },
     "metadata": {},
     "output_type": "display_data"
    },
    {
     "data": {
      "text/plain": [
       "ceiling_height\n",
       "3.31     1\n",
       "3.32     2\n",
       "3.33     3\n",
       "3.34     1\n",
       "3.35     8\n",
       "3.36     1\n",
       "3.37     1\n",
       "3.38     4\n",
       "3.39     1\n",
       "3.40    48\n",
       "3.42     1\n",
       "3.44     1\n",
       "3.45     6\n",
       "3.46     1\n",
       "3.47     4\n",
       "3.48     1\n",
       "3.49     1\n",
       "3.50    61\n",
       "3.52     1\n",
       "3.54     5\n",
       "3.55    10\n",
       "3.56     2\n",
       "3.60    16\n",
       "3.62     2\n",
       "3.63     2\n",
       "3.65     2\n",
       "3.66     1\n",
       "3.67     1\n",
       "3.68     1\n",
       "3.70    16\n",
       "3.75     4\n",
       "3.78     1\n",
       "3.80    10\n",
       "3.83     1\n",
       "3.84     1\n",
       "3.88     1\n",
       "3.90     3\n",
       "3.95     4\n",
       "3.98     1\n",
       "4.00    20\n",
       "4.06     1\n",
       "4.10     1\n",
       "4.15     1\n",
       "4.19     2\n",
       "4.20     5\n",
       "4.25     1\n",
       "4.30     1\n",
       "4.37     1\n",
       "4.40     1\n",
       "4.50     4\n",
       "4.70     1\n",
       "4.80     1\n",
       "5.00     1\n",
       "5.30     1\n",
       "5.80     1\n",
       "Name: ceiling_height, dtype: int64"
      ]
     },
     "metadata": {},
     "output_type": "display_data"
    }
   ],
   "source": [
    "display(df.groupby('ceiling_height')['ceiling_height'].count().head(55))\n",
    "display(df.groupby('ceiling_height')['ceiling_height'].count().tail(55))\n",
    "\n",
    "#дополнительно проверим частоту встреч значения параметра"
   ]
  },
  {
   "cell_type": "code",
   "execution_count": 943,
   "metadata": {},
   "outputs": [
    {
     "data": {
      "text/plain": [
       "<AxesSubplot:>"
      ]
     },
     "execution_count": 943,
     "metadata": {},
     "output_type": "execute_result"
    },
    {
     "data": {
      "image/png": "[encoded data removed]",
      "text/plain": [
       "<Figure size 720x1080 with 1 Axes>"
      ]
     },
     "metadata": {
      "needs_background": "light"
     },
     "output_type": "display_data"
    }
   ],
   "source": [
    "pd.Series(df['ceiling_height']).hist(range = (2.5,6),bins=180,figsize=(10,15))\n",
    "#построим гистограмму с предельными значениями из describe"
   ]
  },
  {
   "cell_type": "markdown",
   "metadata": {},
   "source": [
    "Из гистограммы видно, что распредление имеет более-менее правильный вид. Но при этом значения стоимости свыше 5 метров не очевидны. Построим диаграмму размаха. "
   ]
  },
  {
   "cell_type": "code",
   "execution_count": 944,
   "metadata": {},
   "outputs": [
    {
     "data": {
      "image/png": "[encoded data removed]",
      "text/plain": [
       "<Figure size 432x288 with 1 Axes>"
      ]
     },
     "metadata": {
      "needs_background": "light"
     },
     "output_type": "display_data"
    }
   ],
   "source": [
    "import matplotlib.pyplot as plt\n",
    "plt.ylim(2,5)\n",
    "plt.xlim(0,2)\n",
    "df.boxplot(column=['ceiling_height'])\n",
    "plt.show()"
   ]
  },
  {
   "cell_type": "markdown",
   "metadata": {},
   "source": [
    "Видно, что большая часть значений лежит до 4.5.Поэтому построим гистограмму с новыми предельными значениями, отбросив значения свыше 4.5 метров:"
   ]
  },
  {
   "cell_type": "code",
   "execution_count": 945,
   "metadata": {},
   "outputs": [
    {
     "data": {
      "text/plain": [
       "<AxesSubplot:>"
      ]
     },
     "execution_count": 945,
     "metadata": {},
     "output_type": "execute_result"
    },
    {
     "data": {
      "image/png": "[encoded data removed]",
      "text/plain": [
       "<Figure size 360x360 with 1 Axes>"
      ]
     },
     "metadata": {
      "needs_background": "light"
     },
     "output_type": "display_data"
    }
   ],
   "source": [
    "pd.Series(df['ceiling_height']).hist(range = (2,4.5),bins=80,figsize=(5,5))"
   ]
  },
  {
   "cell_type": "markdown",
   "metadata": {},
   "source": [
    "Из гистограммы видно, что большое количество объявлений приходится на объекты с высотой потолков примерно 2,65м."
   ]
  },
  {
   "cell_type": "code",
   "execution_count": 946,
   "metadata": {},
   "outputs": [
    {
     "name": "stdout",
     "output_type": "stream",
     "text": [
      "<class 'pandas.core.frame.DataFrame'>\n",
      "Int64Index: 20911 entries, 0 to 23698\n",
      "Data columns (total 29 columns):\n",
      " #   Column                Non-Null Count  Dtype         \n",
      "---  ------                --------------  -----         \n",
      " 0   total_images          20911 non-null  int64         \n",
      " 1   last_price            20911 non-null  float64       \n",
      " 2   total_area            20911 non-null  float64       \n",
      " 3   first_day_exposition  20911 non-null  datetime64[ns]\n",
      " 4   rooms                 20911 non-null  int64         \n",
      " 5   ceiling_height        20911 non-null  float64       \n",
      " 6   floors_total          20911 non-null  float64       \n",
      " 7   living_area           19286 non-null  float64       \n",
      " 8   floor                 20911 non-null  int64         \n",
      " 9   is_apartment          20911 non-null  bool          \n",
      " 10  studio                20911 non-null  bool          \n",
      " 11  open_plan             20911 non-null  bool          \n",
      " 12  kitchen_area          18939 non-null  float64       \n",
      " 13  balcony               20911 non-null  float64       \n",
      " 14  locality_name         20911 non-null  object        \n",
      " 15  airports_nearest      15656 non-null  float64       \n",
      " 16  cityCenters_nearest   15670 non-null  float64       \n",
      " 17  parks_around3000      15671 non-null  float64       \n",
      " 18  parks_nearest         6569 non-null   float64       \n",
      " 19  ponds_around3000      15671 non-null  float64       \n",
      " 20  ponds_nearest         7535 non-null   float64       \n",
      " 21  days_exposition       18359 non-null  float64       \n",
      " 22  price_square_meter    20911 non-null  int64         \n",
      " 23  year                  20911 non-null  int64         \n",
      " 24  month                 20911 non-null  int64         \n",
      " 25  week_day              20911 non-null  int64         \n",
      " 26  floor_group           20911 non-null  object        \n",
      " 27  ratio_living_area     19286 non-null  float64       \n",
      " 28  ratio_kitchen_area    18939 non-null  float64       \n",
      "dtypes: bool(3), datetime64[ns](1), float64(16), int64(7), object(2)\n",
      "memory usage: 4.4+ MB\n"
     ]
    }
   ],
   "source": [
    "df=df.query('ceiling_height<4.5')#ограничим выбор на объектах с максимум 4 комнатами.\n",
    "df.info()"
   ]
  },
  {
   "cell_type": "markdown",
   "metadata": {},
   "source": [
    "**Таким ограничением мы потеряли единичные объекты**"
   ]
  },
  {
   "cell_type": "markdown",
   "metadata": {},
   "source": [
    "Посмотрим сведения о столбце *'days_exposition'* и построим распределение числа объявлений по этому параметру:"
   ]
  },
  {
   "cell_type": "code",
   "execution_count": 947,
   "metadata": {},
   "outputs": [
    {
     "name": "stdout",
     "output_type": "stream",
     "text": [
      "count    18359.000000\n",
      "mean       172.293807\n",
      "std        211.073143\n",
      "min          1.000000\n",
      "25%         43.000000\n",
      "50%         90.000000\n",
      "75%        217.000000\n",
      "max       1553.000000\n",
      "Name: days_exposition, dtype: float64\n"
     ]
    }
   ],
   "source": [
    "print(df['days_exposition'].describe())"
   ]
  },
  {
   "cell_type": "code",
   "execution_count": 948,
   "metadata": {},
   "outputs": [
    {
     "data": {
      "text/plain": [
       "<AxesSubplot:>"
      ]
     },
     "execution_count": 948,
     "metadata": {},
     "output_type": "execute_result"
    },
    {
     "data": {
      "image/png": "[encoded data removed]",
      "text/plain": [
       "<Figure size 432x288 with 1 Axes>"
      ]
     },
     "metadata": {
      "needs_background": "light"
     },
     "output_type": "display_data"
    }
   ],
   "source": [
    "pd.Series(df['days_exposition']).hist(range = (1,1580),bins=100)"
   ]
  },
  {
   "cell_type": "code",
   "execution_count": 949,
   "metadata": {},
   "outputs": [
    {
     "data": {
      "image/png": "[encoded data removed]",
      "text/plain": [
       "<Figure size 432x288 with 1 Axes>"
      ]
     },
     "metadata": {
      "needs_background": "light"
     },
     "output_type": "display_data"
    }
   ],
   "source": [
    "plt.ylim(2,1580)\n",
    "plt.xlim(0,2)\n",
    "df.boxplot(column=['days_exposition'])\n",
    "plt.show()"
   ]
  },
  {
   "cell_type": "markdown",
   "metadata": {},
   "source": [
    "Таким образом, судя по гистограмме времени продажи квартиры, большое количесвто продаж приходится на первые месяцы после размещения объявления.\n",
    "Заметен огромный  пик в районе 80 дней (3 месяца), связанный с медианным значением 95 дней.Далее закономерно идет на спад. \n",
    "Однако на графике виден еще высокий пик около 0. Скорее всего, он имеет иную природу. Возможно ошибки в данных или выгодное соотношение цены-площади вызывает быстрый интерес к покупке такой недвижимости.\n",
    "Продажи недвижимости спустя год с момента публикации объявления идут заметно хуже и закономерно стремятся к 0.\n",
    "\n",
    "Из графика можно заключить, что обычно продажа занимает от 1 до 3 месяцев. Пик продаж приходится на срок в 3 месяца. И необычно долго идут продажи при сроках публикации объявления свыше года (при значении 365 можно увидеть 1 продажу в день, что вполне еще можно считать активным рынком).\n",
    "**Однако, важно помнить, что у нас есть объекты, данные по которым НЕ содержат данных о количестве дней размещения!!! Такие объекты скорее всего относятся к активным (3000 с лишним пропусков!!!),  поэтому важно не проводить ограничения по срокам, ведь 15% данных могут сильно изменить нашу гистограмму по срокам объявления**"
   ]
  },
  {
   "cell_type": "markdown",
   "metadata": {},
   "source": [
    "**При срезах данных произошла фильтрация объектов примерно на 10% (23200 строк в предобработанных данных против 20900 строк при фильтрации), что является допустимым для дальнейшего анализа**"
   ]
  },
  {
   "cell_type": "code",
   "execution_count": 950,
   "metadata": {},
   "outputs": [
    {
     "name": "stdout",
     "output_type": "stream",
     "text": [
      "<class 'pandas.core.frame.DataFrame'>\n",
      "Int64Index: 20911 entries, 0 to 23698\n",
      "Data columns (total 29 columns):\n",
      " #   Column                Non-Null Count  Dtype         \n",
      "---  ------                --------------  -----         \n",
      " 0   total_images          20911 non-null  int64         \n",
      " 1   last_price            20911 non-null  float64       \n",
      " 2   total_area            20911 non-null  float64       \n",
      " 3   first_day_exposition  20911 non-null  datetime64[ns]\n",
      " 4   rooms                 20911 non-null  int64         \n",
      " 5   ceiling_height        20911 non-null  float64       \n",
      " 6   floors_total          20911 non-null  float64       \n",
      " 7   living_area           19286 non-null  float64       \n",
      " 8   floor                 20911 non-null  int64         \n",
      " 9   is_apartment          20911 non-null  bool          \n",
      " 10  studio                20911 non-null  bool          \n",
      " 11  open_plan             20911 non-null  bool          \n",
      " 12  kitchen_area          18939 non-null  float64       \n",
      " 13  balcony               20911 non-null  float64       \n",
      " 14  locality_name         20911 non-null  object        \n",
      " 15  airports_nearest      15656 non-null  float64       \n",
      " 16  cityCenters_nearest   15670 non-null  float64       \n",
      " 17  parks_around3000      15671 non-null  float64       \n",
      " 18  parks_nearest         6569 non-null   float64       \n",
      " 19  ponds_around3000      15671 non-null  float64       \n",
      " 20  ponds_nearest         7535 non-null   float64       \n",
      " 21  days_exposition       18359 non-null  float64       \n",
      " 22  price_square_meter    20911 non-null  int64         \n",
      " 23  year                  20911 non-null  int64         \n",
      " 24  month                 20911 non-null  int64         \n",
      " 25  week_day              20911 non-null  int64         \n",
      " 26  floor_group           20911 non-null  object        \n",
      " 27  ratio_living_area     19286 non-null  float64       \n",
      " 28  ratio_kitchen_area    18939 non-null  float64       \n",
      "dtypes: bool(3), datetime64[ns](1), float64(16), int64(7), object(2)\n",
      "memory usage: 4.4+ MB\n"
     ]
    }
   ],
   "source": [
    "df.info()"
   ]
  },
  {
   "cell_type": "markdown",
   "metadata": {},
   "source": [
    "Получили срез на 20911 строк!"
   ]
  },
  {
   "cell_type": "markdown",
   "metadata": {},
   "source": [
    "Проведем анализ стоимости объекта в зависимости от общей площади, количества комнат и удаленности от центра города. Для этого построим графики этих зависимостей."
   ]
  },
  {
   "cell_type": "markdown",
   "metadata": {},
   "source": [
    "У нас были пропуски по столбцу *'cityCenters_nearest'*. Проверим, какими данными заполнен столбец"
   ]
  },
  {
   "cell_type": "code",
   "execution_count": 952,
   "metadata": {},
   "outputs": [
    {
     "data": {
      "text/plain": [
       "[208.0,\n",
       " 287.0,\n",
       " 399.0,\n",
       " 467.0,\n",
       " 472.0,\n",
       " 515.0,\n",
       " 583.0,\n",
       " 671.0,\n",
       " 730.0,\n",
       " 743.0,\n",
       " 801.0,\n",
       " 830.0,\n",
       " 835.0,\n",
       " 853.0,\n",
       " 936.0,\n",
       " 964.0,\n",
       " 996.0,\n",
       " 1053.0,\n",
       " 1090.0,\n",
       " 1097.0,\n",
       " 1166.0,\n",
       " 1181.0,\n",
       " 1211.0,\n",
       " 1249.0,\n",
       " 1276.0,\n",
       " 1283.0,\n",
       " 1292.0,\n",
       " 1369.0,\n",
       " 1381.0,\n",
       " 1431.0,\n",
       " 1509.0,\n",
       " 1514.0,\n",
       " 1572.0,\n",
       " 1589.0,\n",
       " 1592.0,\n",
       " 1641.0,\n",
       " 1754.0,\n",
       " 1755.0,\n",
       " 1796.0,\n",
       " 1826.0,\n",
       " 1862.0,\n",
       " 1898.0,\n",
       " 1921.0,\n",
       " 1936.0,\n",
       " 1949.0,\n",
       " 1963.0,\n",
       " 2004.0,\n",
       " 2009.0,\n",
       " 2056.0,\n",
       " 2139.0,\n",
       " 2142.0,\n",
       " 2143.0,\n",
       " 2144.0,\n",
       " 2169.0,\n",
       " 2229.0,\n",
       " 2254.0,\n",
       " 2267.0,\n",
       " 2277.0,\n",
       " 2282.0,\n",
       " 2309.0,\n",
       " 2318.0,\n",
       " 2329.0,\n",
       " 2336.0,\n",
       " 2348.0,\n",
       " 2357.0,\n",
       " 2371.0,\n",
       " 2404.0,\n",
       " 2423.0,\n",
       " 2427.0,\n",
       " 2443.0,\n",
       " 2446.0,\n",
       " 2447.0,\n",
       " 2485.0,\n",
       " 2487.0,\n",
       " 2552.0,\n",
       " 2627.0,\n",
       " 2648.0,\n",
       " 2671.0,\n",
       " 2723.0,\n",
       " 2739.0,\n",
       " 2758.0,\n",
       " 2767.0,\n",
       " 2802.0,\n",
       " 2803.0,\n",
       " 2807.0,\n",
       " 2814.0,\n",
       " 2838.0,\n",
       " 2846.0,\n",
       " 2879.0,\n",
       " 2913.0,\n",
       " 2990.0,\n",
       " 3004.0,\n",
       " 3062.0,\n",
       " 3066.0,\n",
       " 3075.0,\n",
       " 3082.0,\n",
       " 3084.0,\n",
       " 3090.0,\n",
       " 3106.0,\n",
       " 3110.0,\n",
       " 3167.0,\n",
       " 3175.0,\n",
       " 3220.0,\n",
       " 3223.0,\n",
       " 3224.0,\n",
       " 3232.0,\n",
       " 3233.0,\n",
       " 3250.0,\n",
       " 3254.0,\n",
       " 3260.0,\n",
       " 3269.0,\n",
       " 3275.0,\n",
       " 3286.0,\n",
       " 3294.0,\n",
       " 3316.0,\n",
       " 3318.0,\n",
       " 3324.0,\n",
       " 3333.0,\n",
       " 3336.0,\n",
       " 3371.0,\n",
       " 3372.0,\n",
       " 3386.0,\n",
       " 3389.0,\n",
       " 3399.0,\n",
       " 3400.0,\n",
       " 3407.0,\n",
       " 3415.0,\n",
       " 3468.0,\n",
       " 3488.0,\n",
       " 3531.0,\n",
       " 3541.0,\n",
       " 3578.0,\n",
       " 3580.0,\n",
       " 3592.0,\n",
       " 3608.0,\n",
       " 3618.0,\n",
       " 3619.0,\n",
       " 3624.0,\n",
       " 3625.0,\n",
       " 3637.0,\n",
       " 3639.0,\n",
       " 3644.0,\n",
       " 3659.0,\n",
       " 3660.0,\n",
       " 3670.0,\n",
       " 3671.0,\n",
       " 3677.0,\n",
       " 3685.0,\n",
       " 3712.0,\n",
       " 3717.0,\n",
       " 3720.0,\n",
       " 3748.0,\n",
       " 3756.0,\n",
       " 3775.0,\n",
       " 3785.0,\n",
       " 3786.0,\n",
       " 3793.0,\n",
       " 3797.0,\n",
       " 3809.0,\n",
       " 3813.0,\n",
       " 3816.0,\n",
       " 3848.0,\n",
       " 3855.0,\n",
       " 3860.0,\n",
       " 3865.0,\n",
       " 3866.0,\n",
       " 3867.0,\n",
       " 3878.0,\n",
       " 3884.0,\n",
       " 3888.0,\n",
       " 3896.0,\n",
       " 3907.0,\n",
       " 3936.0,\n",
       " 3943.0,\n",
       " 3953.0,\n",
       " 3959.0,\n",
       " 3965.0,\n",
       " 3974.0,\n",
       " 3996.0,\n",
       " 4010.0,\n",
       " 4017.0,\n",
       " 4033.0,\n",
       " 4034.0,\n",
       " 4054.0,\n",
       " 4069.0,\n",
       " 4073.0,\n",
       " 4087.0,\n",
       " 4091.0,\n",
       " 4092.0,\n",
       " 4096.0,\n",
       " 4099.0,\n",
       " 4103.0,\n",
       " 4125.0,\n",
       " 4155.0,\n",
       " 4176.0,\n",
       " 4195.0,\n",
       " 4196.0,\n",
       " 4212.0,\n",
       " 4219.0,\n",
       " 4232.0,\n",
       " 4236.0,\n",
       " 4246.0,\n",
       " 4252.0,\n",
       " 4256.0,\n",
       " 4262.0,\n",
       " 4263.0,\n",
       " 4281.0,\n",
       " 4282.0,\n",
       " 4288.0,\n",
       " 4297.0,\n",
       " 4301.0,\n",
       " 4303.0,\n",
       " 4324.0,\n",
       " 4325.0,\n",
       " 4341.0,\n",
       " 4346.0,\n",
       " 4352.0,\n",
       " 4353.0,\n",
       " 4365.0,\n",
       " 4367.0,\n",
       " 4377.0,\n",
       " 4390.0,\n",
       " 4391.0,\n",
       " 4392.0,\n",
       " 4396.0,\n",
       " 4399.0,\n",
       " 4415.0,\n",
       " 4419.0,\n",
       " 4441.0,\n",
       " 4442.0,\n",
       " 4465.0,\n",
       " 4466.0,\n",
       " 4475.0,\n",
       " 4487.0,\n",
       " 4489.0,\n",
       " 4497.0,\n",
       " 4499.0,\n",
       " 4502.0,\n",
       " 4511.0,\n",
       " 4516.0,\n",
       " 4517.0,\n",
       " 4523.0,\n",
       " 4525.0,\n",
       " 4526.0,\n",
       " 4527.0,\n",
       " 4529.0,\n",
       " 4540.0,\n",
       " 4563.0,\n",
       " 4580.0,\n",
       " 4593.0,\n",
       " 4597.0,\n",
       " 4599.0,\n",
       " 4600.0,\n",
       " 4608.0,\n",
       " 4615.0,\n",
       " 4617.0,\n",
       " 4622.0,\n",
       " 4623.0,\n",
       " 4628.0,\n",
       " 4651.0,\n",
       " 4683.0,\n",
       " 4686.0,\n",
       " 4706.0,\n",
       " 4725.0,\n",
       " 4733.0,\n",
       " 4736.0,\n",
       " 4743.0,\n",
       " 4749.0,\n",
       " 4753.0,\n",
       " 4756.0,\n",
       " 4766.0,\n",
       " 4768.0,\n",
       " 4769.0,\n",
       " 4779.0,\n",
       " 4782.0,\n",
       " 4790.0,\n",
       " 4801.0,\n",
       " 4805.0,\n",
       " 4823.0,\n",
       " 4831.0,\n",
       " 4836.0,\n",
       " 4837.0,\n",
       " 4844.0,\n",
       " 4850.0,\n",
       " 4858.0,\n",
       " 4861.0,\n",
       " 4870.0,\n",
       " 4882.0,\n",
       " 4893.0,\n",
       " 4913.0,\n",
       " 4914.0,\n",
       " 4917.0,\n",
       " 4924.0,\n",
       " 4931.0,\n",
       " 4937.0,\n",
       " 4944.0,\n",
       " 4947.0,\n",
       " 4948.0,\n",
       " 4957.0,\n",
       " 4964.0,\n",
       " 4969.0,\n",
       " 4996.0,\n",
       " 5016.0,\n",
       " 5020.0,\n",
       " 5026.0,\n",
       " 5032.0,\n",
       " 5037.0,\n",
       " 5038.0,\n",
       " 5048.0,\n",
       " 5050.0,\n",
       " 5061.0,\n",
       " 5065.0,\n",
       " 5070.0,\n",
       " 5074.0,\n",
       " 5076.0,\n",
       " 5080.0,\n",
       " 5082.0,\n",
       " 5096.0,\n",
       " 5109.0,\n",
       " 5126.0,\n",
       " 5127.0,\n",
       " 5137.0,\n",
       " 5142.0,\n",
       " 5159.0,\n",
       " 5164.0,\n",
       " 5172.0,\n",
       " 5200.0,\n",
       " 5208.0,\n",
       " 5232.0,\n",
       " 5233.0,\n",
       " 5236.0,\n",
       " 5241.0,\n",
       " 5243.0,\n",
       " 5246.0,\n",
       " 5247.0,\n",
       " 5249.0,\n",
       " 5258.0,\n",
       " 5262.0,\n",
       " 5263.0,\n",
       " 5269.0,\n",
       " 5271.0,\n",
       " 5278.0,\n",
       " 5284.0,\n",
       " 5290.0,\n",
       " 5294.0,\n",
       " 5302.0,\n",
       " 5314.0,\n",
       " 5318.0,\n",
       " 5320.0,\n",
       " 5332.0,\n",
       " 5334.0,\n",
       " 5393.0,\n",
       " 5402.0,\n",
       " 5409.0,\n",
       " 5436.0,\n",
       " 5448.0,\n",
       " 5455.0,\n",
       " 5467.0,\n",
       " 5472.0,\n",
       " 5481.0,\n",
       " 5494.0,\n",
       " 5498.0,\n",
       " 5508.0,\n",
       " 5510.0,\n",
       " 5517.0,\n",
       " 5538.0,\n",
       " 5552.0,\n",
       " 5573.0,\n",
       " 5594.0,\n",
       " 5595.0,\n",
       " 5598.0,\n",
       " 5601.0,\n",
       " 5605.0,\n",
       " 5614.0,\n",
       " 5615.0,\n",
       " 5670.0,\n",
       " 5684.0,\n",
       " 5690.0,\n",
       " 5693.0,\n",
       " 5699.0,\n",
       " 5713.0,\n",
       " 5714.0,\n",
       " 5726.0,\n",
       " 5729.0,\n",
       " 5733.0,\n",
       " 5741.0,\n",
       " 5747.0,\n",
       " 5761.0,\n",
       " 5768.0,\n",
       " 5779.0,\n",
       " 5791.0,\n",
       " 5803.0,\n",
       " 5823.0,\n",
       " 5827.0,\n",
       " 5831.0,\n",
       " 5838.0,\n",
       " 5853.0,\n",
       " 5854.0,\n",
       " 5857.0,\n",
       " 5859.0,\n",
       " 5862.0,\n",
       " 5879.0,\n",
       " 5881.0,\n",
       " 5894.0,\n",
       " 5899.0,\n",
       " 5914.0,\n",
       " 5917.0,\n",
       " 5921.0,\n",
       " 5937.0,\n",
       " 5945.0,\n",
       " 5949.0,\n",
       " 5952.0,\n",
       " 5954.0,\n",
       " 5955.0,\n",
       " 5961.0,\n",
       " 5964.0,\n",
       " 5966.0,\n",
       " 5982.0,\n",
       " 5992.0,\n",
       " 6010.0,\n",
       " 6014.0,\n",
       " 6016.0,\n",
       " 6017.0,\n",
       " 6027.0,\n",
       " 6031.0,\n",
       " 6049.0,\n",
       " 6072.0,\n",
       " 6074.0,\n",
       " 6075.0,\n",
       " 6085.0,\n",
       " 6105.0,\n",
       " 6107.0,\n",
       " 6111.0,\n",
       " 6116.0,\n",
       " 6119.0,\n",
       " 6127.0,\n",
       " 6131.0,\n",
       " 6175.0,\n",
       " 6177.0,\n",
       " 6185.0,\n",
       " 6201.0,\n",
       " 6209.0,\n",
       " 6218.0,\n",
       " 6254.0,\n",
       " 6255.0,\n",
       " 6262.0,\n",
       " 6269.0,\n",
       " 6277.0,\n",
       " 6294.0,\n",
       " 6346.0,\n",
       " 6370.0,\n",
       " 6390.0,\n",
       " 6402.0,\n",
       " 6407.0,\n",
       " 6432.0,\n",
       " 6438.0,\n",
       " 6466.0,\n",
       " 6469.0,\n",
       " 6473.0,\n",
       " 6480.0,\n",
       " 6506.0,\n",
       " 6515.0,\n",
       " 6550.0,\n",
       " 6553.0,\n",
       " 6555.0,\n",
       " 6562.0,\n",
       " 6563.0,\n",
       " 6570.0,\n",
       " 6572.0,\n",
       " 6573.0,\n",
       " 6582.0,\n",
       " 6583.0,\n",
       " 6597.0,\n",
       " 6608.0,\n",
       " 6615.0,\n",
       " 6623.0,\n",
       " 6653.0,\n",
       " 6662.0,\n",
       " 6670.0,\n",
       " 6673.0,\n",
       " 6678.0,\n",
       " 6693.0,\n",
       " 6707.0,\n",
       " 6731.0,\n",
       " 6793.0,\n",
       " 6828.0,\n",
       " 6837.0,\n",
       " 6839.0,\n",
       " 6886.0,\n",
       " 6901.0,\n",
       " 6921.0,\n",
       " 6923.0,\n",
       " 6924.0,\n",
       " 6925.0,\n",
       " 6934.0,\n",
       " 6947.0,\n",
       " 6957.0,\n",
       " 6963.0,\n",
       " 6996.0,\n",
       " 7018.0,\n",
       " 7038.0,\n",
       " 7044.0,\n",
       " 7055.0,\n",
       " 7068.0,\n",
       " 7091.0,\n",
       " 7110.0,\n",
       " 7154.0,\n",
       " 7206.0,\n",
       " 7252.0,\n",
       " 7257.0,\n",
       " 7264.0,\n",
       " 7287.0,\n",
       " 7303.0,\n",
       " 7345.0,\n",
       " 7348.0,\n",
       " 7350.0,\n",
       " 7359.0,\n",
       " 7364.0,\n",
       " 7372.0,\n",
       " 7382.0,\n",
       " 7384.0,\n",
       " 7400.0,\n",
       " 7413.0,\n",
       " 7436.0,\n",
       " 7447.0,\n",
       " 7457.0,\n",
       " 7467.0,\n",
       " 7480.0,\n",
       " 7485.0,\n",
       " 7489.0,\n",
       " 7498.0,\n",
       " 7518.0,\n",
       " 7524.0,\n",
       " 7534.0,\n",
       " 7552.0,\n",
       " 7574.0,\n",
       " 7605.0,\n",
       " 7610.0,\n",
       " 7616.0,\n",
       " 7624.0,\n",
       " 7625.0,\n",
       " 7647.0,\n",
       " 7651.0,\n",
       " 7666.0,\n",
       " 7682.0,\n",
       " 7693.0,\n",
       " 7701.0,\n",
       " 7734.0,\n",
       " 7736.0,\n",
       " 7737.0,\n",
       " 7744.0,\n",
       " 7748.0,\n",
       " 7751.0,\n",
       " 7756.0,\n",
       " 7765.0,\n",
       " 7821.0,\n",
       " 7848.0,\n",
       " 7887.0,\n",
       " 7889.0,\n",
       " 7897.0,\n",
       " 7922.0,\n",
       " 7925.0,\n",
       " 7943.0,\n",
       " 7947.0,\n",
       " 7948.0,\n",
       " 7953.0,\n",
       " 7963.0,\n",
       " 7976.0,\n",
       " 7990.0,\n",
       " 8005.0,\n",
       " 8007.0,\n",
       " 8017.0,\n",
       " 8044.0,\n",
       " 8046.0,\n",
       " 8048.0,\n",
       " 8059.0,\n",
       " 8066.0,\n",
       " 8069.0,\n",
       " 8074.0,\n",
       " 8080.0,\n",
       " 8084.0,\n",
       " 8098.0,\n",
       " 8106.0,\n",
       " 8109.0,\n",
       " 8111.0,\n",
       " 8126.0,\n",
       " 8133.0,\n",
       " 8135.0,\n",
       " 8136.0,\n",
       " 8137.0,\n",
       " 8142.0,\n",
       " 8159.0,\n",
       " 8164.0,\n",
       " 8175.0,\n",
       " 8180.0,\n",
       " 8182.0,\n",
       " 8191.0,\n",
       " 8195.0,\n",
       " 8205.0,\n",
       " 8212.0,\n",
       " 8221.0,\n",
       " 8229.0,\n",
       " 8248.0,\n",
       " 8250.0,\n",
       " 8261.0,\n",
       " 8279.0,\n",
       " 8285.0,\n",
       " 8294.0,\n",
       " 8297.0,\n",
       " 8305.0,\n",
       " 8308.0,\n",
       " 8312.0,\n",
       " 8313.0,\n",
       " 8322.0,\n",
       " 8335.0,\n",
       " 8340.0,\n",
       " 8360.0,\n",
       " 8368.0,\n",
       " 8376.0,\n",
       " 8386.0,\n",
       " 8397.0,\n",
       " 8399.0,\n",
       " 8409.0,\n",
       " 8433.0,\n",
       " 8446.0,\n",
       " 8448.0,\n",
       " 8452.0,\n",
       " 8467.0,\n",
       " 8474.0,\n",
       " 8476.0,\n",
       " 8484.0,\n",
       " 8491.0,\n",
       " 8503.0,\n",
       " 8504.0,\n",
       " 8514.0,\n",
       " 8521.0,\n",
       " 8535.0,\n",
       " 8536.0,\n",
       " 8537.0,\n",
       " 8572.0,\n",
       " 8573.0,\n",
       " 8579.0,\n",
       " 8607.0,\n",
       " 8608.0,\n",
       " 8619.0,\n",
       " 8621.0,\n",
       " 8623.0,\n",
       " 8636.0,\n",
       " 8643.0,\n",
       " 8663.0,\n",
       " 8665.0,\n",
       " 8667.0,\n",
       " 8679.0,\n",
       " 8686.0,\n",
       " 8690.0,\n",
       " 8720.0,\n",
       " 8729.0,\n",
       " 8731.0,\n",
       " 8752.0,\n",
       " 8760.0,\n",
       " 8767.0,\n",
       " 8770.0,\n",
       " 8774.0,\n",
       " 8778.0,\n",
       " 8784.0,\n",
       " 8791.0,\n",
       " 8801.0,\n",
       " 8813.0,\n",
       " 8838.0,\n",
       " 8849.0,\n",
       " 8850.0,\n",
       " 8852.0,\n",
       " 8867.0,\n",
       " 8887.0,\n",
       " 8895.0,\n",
       " 8896.0,\n",
       " 8910.0,\n",
       " 8911.0,\n",
       " 8919.0,\n",
       " 8929.0,\n",
       " 8930.0,\n",
       " 8936.0,\n",
       " 8942.0,\n",
       " 8945.0,\n",
       " 8955.0,\n",
       " 8964.0,\n",
       " 8973.0,\n",
       " 8990.0,\n",
       " 9001.0,\n",
       " 9004.0,\n",
       " 9014.0,\n",
       " 9015.0,\n",
       " 9037.0,\n",
       " 9049.0,\n",
       " 9052.0,\n",
       " 9053.0,\n",
       " 9054.0,\n",
       " 9058.0,\n",
       " 9072.0,\n",
       " 9089.0,\n",
       " 9092.0,\n",
       " 9105.0,\n",
       " 9118.0,\n",
       " 9148.0,\n",
       " 9150.0,\n",
       " 9155.0,\n",
       " 9162.0,\n",
       " 9164.0,\n",
       " 9174.0,\n",
       " 9176.0,\n",
       " 9184.0,\n",
       " 9196.0,\n",
       " 9229.0,\n",
       " 9233.0,\n",
       " 9234.0,\n",
       " 9238.0,\n",
       " 9241.0,\n",
       " 9249.0,\n",
       " 9252.0,\n",
       " 9253.0,\n",
       " 9257.0,\n",
       " 9265.0,\n",
       " 9271.0,\n",
       " 9277.0,\n",
       " 9283.0,\n",
       " 9289.0,\n",
       " 9304.0,\n",
       " 9315.0,\n",
       " 9319.0,\n",
       " 9324.0,\n",
       " 9328.0,\n",
       " 9329.0,\n",
       " 9350.0,\n",
       " 9361.0,\n",
       " 9385.0,\n",
       " 9393.0,\n",
       " 9399.0,\n",
       " 9400.0,\n",
       " 9402.0,\n",
       " 9404.0,\n",
       " 9405.0,\n",
       " 9416.0,\n",
       " 9422.0,\n",
       " 9425.0,\n",
       " 9426.0,\n",
       " 9432.0,\n",
       " 9442.0,\n",
       " 9444.0,\n",
       " 9461.0,\n",
       " 9479.0,\n",
       " 9486.0,\n",
       " 9487.0,\n",
       " 9488.0,\n",
       " 9490.0,\n",
       " 9491.0,\n",
       " 9496.0,\n",
       " 9508.0,\n",
       " 9510.0,\n",
       " 9514.0,\n",
       " 9518.0,\n",
       " 9528.0,\n",
       " 9532.0,\n",
       " 9534.0,\n",
       " 9541.0,\n",
       " 9542.0,\n",
       " 9549.0,\n",
       " 9550.0,\n",
       " 9551.0,\n",
       " 9560.0,\n",
       " 9566.0,\n",
       " 9575.0,\n",
       " 9592.0,\n",
       " 9594.0,\n",
       " 9620.0,\n",
       " 9626.0,\n",
       " 9636.0,\n",
       " 9649.0,\n",
       " 9659.0,\n",
       " 9661.0,\n",
       " 9668.0,\n",
       " 9684.0,\n",
       " 9700.0,\n",
       " 9706.0,\n",
       " 9718.0,\n",
       " 9719.0,\n",
       " 9722.0,\n",
       " 9723.0,\n",
       " 9726.0,\n",
       " 9742.0,\n",
       " 9747.0,\n",
       " 9760.0,\n",
       " 9766.0,\n",
       " 9767.0,\n",
       " 9781.0,\n",
       " 9782.0,\n",
       " 9784.0,\n",
       " 9791.0,\n",
       " 9794.0,\n",
       " 9798.0,\n",
       " 9800.0,\n",
       " 9814.0,\n",
       " 9815.0,\n",
       " 9816.0,\n",
       " 9820.0,\n",
       " 9831.0,\n",
       " 9841.0,\n",
       " 9850.0,\n",
       " 9856.0,\n",
       " 9860.0,\n",
       " 9866.0,\n",
       " 9868.0,\n",
       " 9869.0,\n",
       " 9874.0,\n",
       " 9877.0,\n",
       " 9886.0,\n",
       " 9888.0,\n",
       " 9889.0,\n",
       " 9894.0,\n",
       " 9897.0,\n",
       " 9906.0,\n",
       " 9913.0,\n",
       " 9949.0,\n",
       " 9953.0,\n",
       " 9961.0,\n",
       " 9962.0,\n",
       " 9963.0,\n",
       " 9983.0,\n",
       " 10003.0,\n",
       " 10006.0,\n",
       " 10007.0,\n",
       " 10009.0,\n",
       " 10010.0,\n",
       " 10017.0,\n",
       " 10048.0,\n",
       " 10060.0,\n",
       " 10061.0,\n",
       " 10062.0,\n",
       " 10071.0,\n",
       " 10073.0,\n",
       " 10080.0,\n",
       " 10085.0,\n",
       " 10110.0,\n",
       " 10113.0,\n",
       " 10123.0,\n",
       " 10124.0,\n",
       " 10130.0,\n",
       " 10147.0,\n",
       " 10154.0,\n",
       " 10159.0,\n",
       " 10166.0,\n",
       " 10176.0,\n",
       " 10186.0,\n",
       " 10199.0,\n",
       " 10200.0,\n",
       " 10202.0,\n",
       " 10207.0,\n",
       " 10223.0,\n",
       " 10240.0,\n",
       " 10251.0,\n",
       " 10252.0,\n",
       " 10254.0,\n",
       " 10255.0,\n",
       " 10257.0,\n",
       " 10263.0,\n",
       " 10294.0,\n",
       " 10297.0,\n",
       " 10304.0,\n",
       " 10316.0,\n",
       " 10319.0,\n",
       " 10325.0,\n",
       " 10326.0,\n",
       " 10330.0,\n",
       " 10332.0,\n",
       " 10333.0,\n",
       " 10337.0,\n",
       " 10346.0,\n",
       " 10347.0,\n",
       " 10352.0,\n",
       " 10364.0,\n",
       " 10370.0,\n",
       " 10379.0,\n",
       " 10382.0,\n",
       " 10389.0,\n",
       " 10391.0,\n",
       " 10396.0,\n",
       " 10400.0,\n",
       " 10403.0,\n",
       " 10407.0,\n",
       " 10412.0,\n",
       " 10414.0,\n",
       " 10416.0,\n",
       " 10418.0,\n",
       " 10420.0,\n",
       " 10428.0,\n",
       " 10434.0,\n",
       " 10445.0,\n",
       " 10448.0,\n",
       " 10449.0,\n",
       " 10450.0,\n",
       " 10466.0,\n",
       " 10473.0,\n",
       " 10475.0,\n",
       " 10484.0,\n",
       " 10487.0,\n",
       " 10500.0,\n",
       " 10523.0,\n",
       " 10547.0,\n",
       " 10554.0,\n",
       " 10556.0,\n",
       " 10560.0,\n",
       " 10565.0,\n",
       " 10567.0,\n",
       " 10568.0,\n",
       " 10573.0,\n",
       " 10580.0,\n",
       " 10581.0,\n",
       " 10584.0,\n",
       " 10591.0,\n",
       " 10592.0,\n",
       " 10596.0,\n",
       " 10597.0,\n",
       " 10599.0,\n",
       " 10606.0,\n",
       " 10617.0,\n",
       " 10626.0,\n",
       " 10637.0,\n",
       " 10645.0,\n",
       " 10647.0,\n",
       " 10649.0,\n",
       " 10650.0,\n",
       " 10652.0,\n",
       " 10655.0,\n",
       " 10659.0,\n",
       " 10660.0,\n",
       " 10661.0,\n",
       " 10662.0,\n",
       " 10666.0,\n",
       " 10667.0,\n",
       " 10668.0,\n",
       " 10676.0,\n",
       " 10680.0,\n",
       " 10698.0,\n",
       " 10704.0,\n",
       " 10708.0,\n",
       " 10723.0,\n",
       " 10724.0,\n",
       " 10726.0,\n",
       " 10731.0,\n",
       " 10733.0,\n",
       " 10735.0,\n",
       " 10736.0,\n",
       " 10744.0,\n",
       " 10753.0,\n",
       " 10759.0,\n",
       " 10763.0,\n",
       " 10764.0,\n",
       " 10770.0,\n",
       " 10798.0,\n",
       " 10801.0,\n",
       " 10804.0,\n",
       " 10807.0,\n",
       " 10813.0,\n",
       " 10814.0,\n",
       " 10822.0,\n",
       " 10842.0,\n",
       " 10846.0,\n",
       " 10862.0,\n",
       " 10866.0,\n",
       " 10871.0,\n",
       " 10876.0,\n",
       " 10879.0,\n",
       " 10880.0,\n",
       " 10882.0,\n",
       " 10886.0,\n",
       " 10888.0,\n",
       " 10890.0,\n",
       " 10894.0,\n",
       " 10898.0,\n",
       " 10910.0,\n",
       " 10912.0,\n",
       " 10914.0,\n",
       " 10915.0,\n",
       " 10923.0,\n",
       " 10927.0,\n",
       " 10934.0,\n",
       " 10935.0,\n",
       " 10939.0,\n",
       " 10946.0,\n",
       " 10949.0,\n",
       " 10952.0,\n",
       " 10955.0,\n",
       " 10956.0,\n",
       " 10960.0,\n",
       " 10965.0,\n",
       " 10970.0,\n",
       " 10972.0,\n",
       " 10976.0,\n",
       " 10977.0,\n",
       " 10982.0,\n",
       " 10985.0,\n",
       " ...]"
      ]
     },
     "metadata": {},
     "output_type": "display_data"
    }
   ],
   "source": [
    "display(sorted(df['cityCenters_nearest'].unique())) "
   ]
  },
  {
   "cell_type": "code",
   "execution_count": 955,
   "metadata": {},
   "outputs": [
    {
     "data": {
      "image/png": "[encoded data removed]",
      "text/plain": [
       "<Figure size 432x288 with 1 Axes>"
      ]
     },
     "metadata": {
      "needs_background": "light"
     },
     "output_type": "display_data"
    },
    {
     "data": {
      "text/plain": [
       "<AxesSubplot:xlabel='cityCenters_nearest_km'>"
      ]
     },
     "execution_count": 955,
     "metadata": {},
     "output_type": "execute_result"
    },
    {
     "data": {
      "image/png": "[encoded data removed]",
      "text/plain": [
       "<Figure size 432x288 with 1 Axes>"
      ]
     },
     "metadata": {
      "needs_background": "light"
     },
     "output_type": "display_data"
    },
    {
     "data": {
      "image/png": "[encoded data removed]",
      "text/plain": [
       "<Figure size 432x288 with 1 Axes>"
      ]
     },
     "metadata": {
      "needs_background": "light"
     },
     "output_type": "display_data"
    }
   ],
   "source": [
    "df.plot(x='total_area',y='last_price',kind='scatter',grid=True,alpha=0.03) #удобно посмотреть на диаграмму рассеяниня \n",
    "plt.show()\n",
    "\n",
    "\n",
    "rooms_grouped = df.pivot_table(index='rooms', values='last_price', aggfunc=['mean'])\n",
    "rooms_grouped.columns = ['last_price']\n",
    "rooms_grouped.plot(y='last_price',kind='bar')#удобно использовать bar для нескольких целых значений rooms\n",
    "\n",
    "df['cityCenters_nearest'] = df['cityCenters_nearest'].fillna(0)#можно заполнить пропуски 0,тк отсутствует в уник значениях\n",
    "\n",
    "df['cityCenters_nearest_km'] = (df['cityCenters_nearest']/1000).astype('int')#добавим столбец с целочисленным расстоянием до центра в к\n",
    "cityCenters_nearest_km_grouped = df.pivot_table(index='cityCenters_nearest_km', values='last_price', aggfunc=['mean'])\n",
    "cityCenters_nearest_km_grouped.columns = ['last_price']\n",
    "cityCenters_nearest_km_grouped.plot(y='last_price',kind='bar')#удобно использовать bar для нескольких целых значений km"
   ]
  },
  {
   "cell_type": "markdown",
   "metadata": {},
   "source": [
    "Из графиков видно, что стоимость объекта:\n",
    "* растет закономерно и прямо пропорционально росту площади\n",
    "* растет прямо пропорционально росту числа комнат\n",
    "* умееьшается с увеличием расстояния от центра."
   ]
  },
  {
   "cell_type": "markdown",
   "metadata": {},
   "source": [
    "Дополнительно посчитаем коэффициенты Пирсона для связей:"
   ]
  },
  {
   "cell_type": "code",
   "execution_count": 956,
   "metadata": {
    "scrolled": true
   },
   "outputs": [
    {
     "name": "stdout",
     "output_type": "stream",
     "text": [
      "                        cityCenters_nearest_km  last_price     rooms  \\\n",
      "cityCenters_nearest_km                1.000000    0.079145 -0.002370   \n",
      "last_price                            0.079145    1.000000  0.431446   \n",
      "rooms                                -0.002370    0.431446  1.000000   \n",
      "total_area                           -0.012777    0.724881  0.778306   \n",
      "\n",
      "                        total_area  \n",
      "cityCenters_nearest_km   -0.012777  \n",
      "last_price                0.724881  \n",
      "rooms                     0.778306  \n",
      "total_area                1.000000  \n"
     ]
    }
   ],
   "source": [
    "location_stat_multi = df.pivot_table(index=df.index,values=['last_price','rooms','total_area','cityCenters_nearest_km'],aggfunc='mean')\n",
    "print(location_stat_multi.corr())\n"
   ]
  },
  {
   "cell_type": "markdown",
   "metadata": {},
   "source": [
    "Самая высокая корреляция в 0.72 говорит о наличии связи между ценой и площадью, однако в нашем случае она не слишком сильная. Увеличение площади приводит к увеличению цены! Что аполне логично!"
   ]
  },
  {
   "cell_type": "markdown",
   "metadata": {},
   "source": [
    "Изучим зависимость цены от того, на каком этаже расположена квартира: первом, последнем или другом: "
   ]
  },
  {
   "cell_type": "code",
   "execution_count": 957,
   "metadata": {},
   "outputs": [
    {
     "data": {
      "text/plain": [
       "<AxesSubplot:xlabel='floor_group'>"
      ]
     },
     "execution_count": 957,
     "metadata": {},
     "output_type": "execute_result"
    },
    {
     "data": {
      "image/png": "[encoded data removed]",
      "text/plain": [
       "<Figure size 432x288 with 1 Axes>"
      ]
     },
     "metadata": {
      "needs_background": "light"
     },
     "output_type": "display_data"
    }
   ],
   "source": [
    "floor_grouped = df.pivot_table(index='floor_group', values='last_price', aggfunc=['mean'])\n",
    "floor_grouped.columns = ['last_price']\n",
    "floor_grouped.plot(y='last_price',kind='bar')"
   ]
  },
  {
   "cell_type": "markdown",
   "metadata": {},
   "source": [
    "В соответствии с результатом можно утверждать, что стоимость объектов на первом и последних этажах снидена по сравнению с другими этажами. При этом стоимость объектов на последнем этаже будет выше, чем на первом."
   ]
  },
  {
   "cell_type": "markdown",
   "metadata": {},
   "source": [
    "Теперь изучим зависимость стоимости объекта от даты размещения: дня недели, месяца и года."
   ]
  },
  {
   "cell_type": "code",
   "execution_count": 959,
   "metadata": {},
   "outputs": [
    {
     "data": {
      "text/plain": [
       "<AxesSubplot:xlabel='week_day'>"
      ]
     },
     "execution_count": 959,
     "metadata": {},
     "output_type": "execute_result"
    },
    {
     "data": {
      "image/png": "[encoded data removed]",
      "text/plain": [
       "<Figure size 432x288 with 1 Axes>"
      ]
     },
     "metadata": {
      "needs_background": "light"
     },
     "output_type": "display_data"
    },
    {
     "data": {
      "image/png": "[encoded data removed]",
      "text/plain": [
       "<Figure size 432x288 with 1 Axes>"
      ]
     },
     "metadata": {
      "needs_background": "light"
     },
     "output_type": "display_data"
    },
    {
     "data": {
      "image/png": "[encoded data removed]",
      "text/plain": [
       "<Figure size 432x288 with 1 Axes>"
      ]
     },
     "metadata": {
      "needs_background": "light"
     },
     "output_type": "display_data"
    }
   ],
   "source": [
    "year_grouped = df.pivot_table(index='year', values='last_price', aggfunc=['mean'])\n",
    "year_grouped.columns = ['last_price']\n",
    "year_grouped.plot(y='last_price',kind='bar')\n",
    "\n",
    "month_grouped = df.pivot_table(index='month', values='last_price', aggfunc=['mean'])\n",
    "month_grouped.columns = ['last_price']\n",
    "month_grouped.plot(y='last_price',kind='bar')\n",
    "\n",
    "week_day_grouped = df.pivot_table(index='week_day', values='last_price', aggfunc=['mean'])\n",
    "week_day_grouped.columns = ['last_price']\n",
    "week_day_grouped.plot(y='last_price',kind='bar')\n"
   ]
  },
  {
   "cell_type": "markdown",
   "metadata": {},
   "source": [
    "Анализ показывает, что стоимость объектов держится примерно на одном уровне 5 лет. При этом Нет четкого разграничения внутри года по месяцам. Касаемо дней недели вывод также очевиден - размещение объявления в тот или иной день недели никак не сказывается на уовне цены на объект."
   ]
  },
  {
   "cell_type": "markdown",
   "metadata": {},
   "source": [
    "Выберем 10 населённых пунктов с наибольшим числом объявлений:"
   ]
  },
  {
   "cell_type": "code",
   "execution_count": 960,
   "metadata": {},
   "outputs": [
    {
     "name": "stdout",
     "output_type": "stream",
     "text": [
      "locality_name\n",
      "Выборг                 216\n",
      "Гатчина                295\n",
      "деревня Кудрово        298\n",
      "Колпино                309\n",
      "посёлок Парголово      323\n",
      "Пушкин                 326\n",
      "Всеволожск             377\n",
      "посёлок Шушары         424\n",
      "посёлок Мурино         511\n",
      "Санкт-Петербург      13399\n",
      "Name: locality_name, dtype: int64\n"
     ]
    }
   ],
   "source": [
    "df_locacity=df.groupby('locality_name')['locality_name'].count().sort_values().tail(10)\n",
    "\n",
    "print(df_locacity)\n",
    "pd.set_option('display.max_columns', None)\n"
   ]
  },
  {
   "cell_type": "markdown",
   "metadata": {},
   "source": [
    "Определим среднюю цену квадратного метра в этих населённых пунктах и найдем населённые пункты с самой высокой и низкой стоимостью жилья:"
   ]
  },
  {
   "cell_type": "code",
   "execution_count": 961,
   "metadata": {},
   "outputs": [
    {
     "data": {
      "text/html": [
       "<div>\n",
       "<style scoped>\n",
       "    .dataframe tbody tr th:only-of-type {\n",
       "        vertical-align: middle;\n",
       "    }\n",
       "\n",
       "    .dataframe tbody tr th {\n",
       "        vertical-align: top;\n",
       "    }\n",
       "\n",
       "    .dataframe thead th {\n",
       "        text-align: right;\n",
       "    }\n",
       "</style>\n",
       "<table border=\"1\" class=\"dataframe\">\n",
       "  <thead>\n",
       "    <tr style=\"text-align: right;\">\n",
       "      <th></th>\n",
       "      <th>price_square_meter</th>\n",
       "    </tr>\n",
       "    <tr>\n",
       "      <th>locality_name</th>\n",
       "      <th></th>\n",
       "    </tr>\n",
       "  </thead>\n",
       "  <tbody>\n",
       "    <tr>\n",
       "      <th>Выборг</th>\n",
       "      <td>58487.157407</td>\n",
       "    </tr>\n",
       "    <tr>\n",
       "      <th>Всеволожск</th>\n",
       "      <td>67492.379310</td>\n",
       "    </tr>\n",
       "    <tr>\n",
       "      <th>Гатчина</th>\n",
       "      <td>68500.976271</td>\n",
       "    </tr>\n",
       "    <tr>\n",
       "      <th>Колпино</th>\n",
       "      <td>76022.822006</td>\n",
       "    </tr>\n",
       "    <tr>\n",
       "      <th>посёлок Шушары</th>\n",
       "      <td>78685.870283</td>\n",
       "    </tr>\n",
       "    <tr>\n",
       "      <th>посёлок Мурино</th>\n",
       "      <td>85899.138943</td>\n",
       "    </tr>\n",
       "    <tr>\n",
       "      <th>посёлок Парголово</th>\n",
       "      <td>90524.928793</td>\n",
       "    </tr>\n",
       "    <tr>\n",
       "      <th>деревня Кудрово</th>\n",
       "      <td>92430.708054</td>\n",
       "    </tr>\n",
       "    <tr>\n",
       "      <th>Пушкин</th>\n",
       "      <td>101254.558282</td>\n",
       "    </tr>\n",
       "    <tr>\n",
       "      <th>Санкт-Петербург</th>\n",
       "      <td>108126.712740</td>\n",
       "    </tr>\n",
       "  </tbody>\n",
       "</table>\n",
       "</div>"
      ],
      "text/plain": [
       "                   price_square_meter\n",
       "locality_name                        \n",
       "Выборг                   58487.157407\n",
       "Всеволожск               67492.379310\n",
       "Гатчина                  68500.976271\n",
       "Колпино                  76022.822006\n",
       "посёлок Шушары           78685.870283\n",
       "посёлок Мурино           85899.138943\n",
       "посёлок Парголово        90524.928793\n",
       "деревня Кудрово          92430.708054\n",
       "Пушкин                  101254.558282\n",
       "Санкт-Петербург         108126.712740"
      ]
     },
     "metadata": {},
     "output_type": "display_data"
    }
   ],
   "source": [
    "good_locacity = df.query('locality_name in @df_locacity.index')#отбор интересующих нас населенных пунктов\n",
    "locacity_stat = good_locacity.pivot_table(index='locality_name', values='price_square_meter', aggfunc='mean')\n",
    "display(locacity_stat.sort_values(by='price_square_meter'))"
   ]
  },
  {
   "cell_type": "markdown",
   "metadata": {},
   "source": [
    " Населенные пункты с самой высокой и низкой стоимостью жилья - Санкт-Петербург и Выборг соответственно!"
   ]
  },
  {
   "cell_type": "markdown",
   "metadata": {},
   "source": [
    "Расммотрим объекты, расположенные в Санкт-Петербурге."
   ]
  },
  {
   "cell_type": "code",
   "execution_count": 962,
   "metadata": {},
   "outputs": [],
   "source": [
    "df_locacity_spb = df.query('locality_name==\"Санкт-Петербург\"').reset_index()"
   ]
  },
  {
   "cell_type": "markdown",
   "metadata": {},
   "source": [
    "Посчитаем среднюю цену объектов в зависимости от удаленности от центра (для каждого км) и построим график, который покажет, как цена зависит от удалённости от центра:"
   ]
  },
  {
   "cell_type": "code",
   "execution_count": 963,
   "metadata": {},
   "outputs": [
    {
     "data": {
      "text/plain": [
       "<AxesSubplot:xlabel='cityCenters_nearest_km'>"
      ]
     },
     "execution_count": 963,
     "metadata": {},
     "output_type": "execute_result"
    },
    {
     "data": {
      "image/png": "[encoded data removed]",
      "text/plain": [
       "<Figure size 432x288 with 1 Axes>"
      ]
     },
     "metadata": {
      "needs_background": "light"
     },
     "output_type": "display_data"
    }
   ],
   "source": [
    "df_locacity_spb_price_km = df_locacity_spb.pivot_table(index='cityCenters_nearest_km',values='last_price', aggfunc=['mean'])\n",
    "#df_locacity_spb_price_km['cityCenters_nearest_km']=df_locacity_spb_price_km.index\n",
    "df_locacity_spb_price_km.columns=['last_price']\n",
    "df_locacity_spb_price_km.plot(y='last_price',kind='bar')"
   ]
  },
  {
   "cell_type": "markdown",
   "metadata": {},
   "source": [
    "Из графика видно, что в пределаз 3-5 км от центра цена приблизительно оинаковая. Далее цена на объекты начинает падать, что логично для удаленности объектов от центра города. **Обязательно стоит иметь в виду, что объекты на значении 0 - неинформативная полоса (тк это просто заполненные пропуски)**\n",
    "\n",
    "Так же стоит заметить, что имеются пики по стоимости на расстоянии 20 и 28 км от центра города. Это может быть связано с объектами, расположенными, например, в интересных новых загородных комплексах коттеджного типа."
   ]
  },
  {
   "cell_type": "markdown",
   "metadata": {},
   "source": [
    "Выделим сегмент квартир в центре и проанализзируем следующие параметры: площадь, цена, число комнат, высота потолков (как делали это для всех объектов базы). \n",
    "\n",
    "Также выделим факторы, которые влияют на стоимость квартиры (число комнат, этаж, удалённость от центра, дата размещения объявления)."
   ]
  },
  {
   "cell_type": "code",
   "execution_count": 964,
   "metadata": {},
   "outputs": [],
   "source": [
    "df_locacity_spb_centre=df_locacity_spb.query('cityCenters_nearest_km<=5')"
   ]
  },
  {
   "cell_type": "code",
   "execution_count": 965,
   "metadata": {},
   "outputs": [
    {
     "data": {
      "text/plain": [
       "<AxesSubplot:>"
      ]
     },
     "execution_count": 965,
     "metadata": {},
     "output_type": "execute_result"
    },
    {
     "data": {
      "image/png": "[encoded data removed]",
      "text/plain": [
       "<Figure size 432x288 with 1 Axes>"
      ]
     },
     "metadata": {
      "needs_background": "light"
     },
     "output_type": "display_data"
    }
   ],
   "source": [
    "pd.Series(df_locacity_spb_centre['total_area']).hist(range = (12,200),bins=50)"
   ]
  },
  {
   "cell_type": "code",
   "execution_count": 966,
   "metadata": {},
   "outputs": [
    {
     "data": {
      "text/plain": [
       "<AxesSubplot:>"
      ]
     },
     "execution_count": 966,
     "metadata": {},
     "output_type": "execute_result"
    },
    {
     "data": {
      "image/png": "[encoded data removed]",
      "text/plain": [
       "<Figure size 432x288 with 1 Axes>"
      ]
     },
     "metadata": {
      "needs_background": "light"
     },
     "output_type": "display_data"
    }
   ],
   "source": [
    "pd.Series(df_locacity_spb_centre['last_price']).hist(range = (12190,15000000),bins=50)"
   ]
  },
  {
   "cell_type": "code",
   "execution_count": 967,
   "metadata": {},
   "outputs": [
    {
     "data": {
      "text/plain": [
       "<AxesSubplot:>"
      ]
     },
     "execution_count": 967,
     "metadata": {},
     "output_type": "execute_result"
    },
    {
     "data": {
      "image/png": "[encoded data removed]",
      "text/plain": [
       "<Figure size 432x288 with 1 Axes>"
      ]
     },
     "metadata": {
      "needs_background": "light"
     },
     "output_type": "display_data"
    }
   ],
   "source": [
    "pd.Series(df_locacity_spb_centre['ceiling_height']).hist(range = (2.5,5),bins=50)"
   ]
  },
  {
   "cell_type": "code",
   "execution_count": 968,
   "metadata": {},
   "outputs": [
    {
     "data": {
      "text/plain": [
       "<AxesSubplot:>"
      ]
     },
     "execution_count": 968,
     "metadata": {},
     "output_type": "execute_result"
    },
    {
     "data": {
      "image/png": "[encoded data removed]",
      "text/plain": [
       "<Figure size 432x288 with 1 Axes>"
      ]
     },
     "metadata": {
      "needs_background": "light"
     },
     "output_type": "display_data"
    }
   ],
   "source": [
    "pd.Series(df_locacity_spb_centre['rooms']).hist(range = (0,8),bins=80)\n"
   ]
  },
  {
   "cell_type": "markdown",
   "metadata": {},
   "source": [
    "Из гистограмм видно, что: \n",
    "\n",
    "* большое количество объявлений приходится на объекты с высотой потолков примерно 2,65м\n",
    "* большое количество объявлений приходится на объекты с 1-3 комнатами\n",
    "* большое количество объявлений приходится на объекты стоимостью 4-10 млн руб \n",
    "* большое количество объявлений приходится на площадь от 30 до 80 кв.м."
   ]
  },
  {
   "cell_type": "code",
   "execution_count": 969,
   "metadata": {},
   "outputs": [
    {
     "data": {
      "image/png": "[encoded data removed]",
      "text/plain": [
       "<Figure size 432x288 with 1 Axes>"
      ]
     },
     "metadata": {
      "needs_background": "light"
     },
     "output_type": "display_data"
    },
    {
     "data": {
      "text/plain": [
       "<AxesSubplot:xlabel='cityCenters_nearest_km'>"
      ]
     },
     "execution_count": 969,
     "metadata": {},
     "output_type": "execute_result"
    },
    {
     "data": {
      "image/png": "[encoded data removed]",
      "text/plain": [
       "<Figure size 432x288 with 1 Axes>"
      ]
     },
     "metadata": {
      "needs_background": "light"
     },
     "output_type": "display_data"
    },
    {
     "data": {
      "image/png": "[encoded data removed]",
      "text/plain": [
       "<Figure size 432x288 with 1 Axes>"
      ]
     },
     "metadata": {
      "needs_background": "light"
     },
     "output_type": "display_data"
    }
   ],
   "source": [
    "#df_locacity_spb_centre['id']=df_locacity_spb_centre.index\n",
    "#station_stat_multi = df_locacity_spb_centre.pivot_table(index='id',values=['last_price','rooms','total_area','cityCenters_nearest'])\n",
    "#print(station_stat_multi.corr())\n",
    "#pd.plotting.scatter_matrix(station_stat_multi,figsize=(9,9))\n",
    "\n",
    "#import matplotlib.pyplot as plt\n",
    "\n",
    "df_locacity_spb_centre.plot(x='total_area',y='last_price',kind='scatter',grid=True,alpha=0.3) #удобно посмотреть на диаграмму рассеяниня \n",
    "plt.show()\n",
    "\n",
    "\n",
    "rooms_grouped_spb = df_locacity_spb_centre.pivot_table(index='rooms', values='last_price', aggfunc=['mean'])\n",
    "rooms_grouped_spb.columns = ['last_price']\n",
    "rooms_grouped_spb.plot(y='last_price',kind='bar')#удобно использовать bar для нескольких целых значений rooms\n",
    "\n",
    "\n",
    "cityCenters_nearest_km_grouped_spb = df_locacity_spb_centre.pivot_table(index='cityCenters_nearest_km', values='last_price', aggfunc=['mean'])\n",
    "cityCenters_nearest_km_grouped_spb.columns = ['last_price']\n",
    "cityCenters_nearest_km_grouped_spb.plot(y='last_price',kind='bar')#удобно использовать bar для нескольких целых значений km"
   ]
  },
  {
   "cell_type": "markdown",
   "metadata": {},
   "source": [
    "Из графиков видно, что стоимость объекта:\n",
    "* растет закономерно и прямо пропорционально росту площади\n",
    "* растет прямо пропорционально росту числа комнат\n",
    "* остается примерно на одном уровне в радиусе 5 км от центра."
   ]
  },
  {
   "cell_type": "code",
   "execution_count": 974,
   "metadata": {},
   "outputs": [
    {
     "name": "stdout",
     "output_type": "stream",
     "text": [
      "                        cityCenters_nearest_km  last_price     rooms  \\\n",
      "cityCenters_nearest_km                1.000000   -0.032668 -0.076724   \n",
      "last_price                           -0.032668    1.000000  0.404265   \n",
      "rooms                                -0.076724    0.404265  1.000000   \n",
      "total_area                           -0.072311    0.692077  0.711453   \n",
      "\n",
      "                        total_area  \n",
      "cityCenters_nearest_km   -0.072311  \n",
      "last_price                0.692077  \n",
      "rooms                     0.711453  \n",
      "total_area                1.000000  \n"
     ]
    }
   ],
   "source": [
    "spb_stat_multi = df_locacity_spb_centre.pivot_table(index=df_locacity_spb_centre.index,values=['last_price','rooms','total_area','cityCenters_nearest_km'],aggfunc='mean')\n",
    "print(spb_stat_multi.corr())"
   ]
  },
  {
   "cell_type": "markdown",
   "metadata": {},
   "source": [
    "Видно зависимость цены только от общей площади объекта!"
   ]
  },
  {
   "cell_type": "markdown",
   "metadata": {},
   "source": [
    "Изучим зависимость цены от того, на каком этаже расположена квартира: первом, последнем или другом: "
   ]
  },
  {
   "cell_type": "code",
   "execution_count": 977,
   "metadata": {},
   "outputs": [
    {
     "data": {
      "text/plain": [
       "<AxesSubplot:xlabel='floor_group'>"
      ]
     },
     "execution_count": 977,
     "metadata": {},
     "output_type": "execute_result"
    },
    {
     "data": {
      "image/png": "[encoded data removed]",
      "text/plain": [
       "<Figure size 432x288 with 1 Axes>"
      ]
     },
     "metadata": {
      "needs_background": "light"
     },
     "output_type": "display_data"
    }
   ],
   "source": [
    "floor_grouped_spb = df_locacity_spb_centre.pivot_table(index='floor_group', values='last_price', aggfunc=['mean'])\n",
    "floor_grouped_spb.columns = ['last_price']\n",
    "floor_grouped_spb.plot(y='last_price',kind='bar')"
   ]
  },
  {
   "cell_type": "markdown",
   "metadata": {},
   "source": [
    "В соответствии с результатом можно утверждать, что стоимость объектов на первом этаже снижена по сравнению с другими этажами. При этом стоимость объектов на последнем этаже приближается к стоимости объектов на прочих этажах. Это может быть связано с тем, что мы рассматриваем центр Санкт-Петербурга, поэтому расположением объекта нп последнем этаже в данном случае может даже являться преимуществом."
   ]
  },
  {
   "cell_type": "markdown",
   "metadata": {},
   "source": [
    "Теперь изучим зависимость стоимости объекта от даты размещения: дня недели, месяца и года."
   ]
  },
  {
   "cell_type": "code",
   "execution_count": 978,
   "metadata": {},
   "outputs": [
    {
     "data": {
      "text/plain": [
       "<AxesSubplot:xlabel='week_day'>"
      ]
     },
     "execution_count": 978,
     "metadata": {},
     "output_type": "execute_result"
    },
    {
     "data": {
      "image/png": "[encoded data removed]",
      "text/plain": [
       "<Figure size 432x288 with 1 Axes>"
      ]
     },
     "metadata": {
      "needs_background": "light"
     },
     "output_type": "display_data"
    },
    {
     "data": {
      "image/png": "[encoded data removed]",
      "text/plain": [
       "<Figure size 432x288 with 1 Axes>"
      ]
     },
     "metadata": {
      "needs_background": "light"
     },
     "output_type": "display_data"
    },
    {
     "data": {
      "image/png": "[encoded data removed]",
      "text/plain": [
       "<Figure size 432x288 with 1 Axes>"
      ]
     },
     "metadata": {
      "needs_background": "light"
     },
     "output_type": "display_data"
    }
   ],
   "source": [
    "year_grouped_spb = df_locacity_spb_centre.pivot_table(index='year', values='last_price', aggfunc=['mean'])\n",
    "year_grouped_spb.columns = ['last_price']\n",
    "year_grouped_spb.plot(y='last_price',kind='bar')\n",
    "\n",
    "month_grouped_spb = df_locacity_spb_centre.pivot_table(index='month', values='last_price', aggfunc=['mean'])\n",
    "month_grouped_spb.columns = ['last_price']\n",
    "month_grouped_spb.plot(y='last_price',kind='bar')\n",
    "\n",
    "week_day_grouped_spb = df_locacity_spb_centre.pivot_table(index='week_day', values='last_price', aggfunc=['mean'])\n",
    "week_day_grouped_spb.columns = ['last_price']\n",
    "week_day_grouped_spb.plot(y='last_price',kind='bar')"
   ]
  },
  {
   "cell_type": "markdown",
   "metadata": {},
   "source": [
    "Анализ показывает, что стоимость объектов держится примерно на одном уровне 5 лет. При этом Нет четкого разграничения внутри года по месяцам. Касаемо дней недели вывод также очевиден - размещение объявления в тот или иной день недели никак не сказывается на уовне цены на объект."
   ]
  },
  {
   "cell_type": "markdown",
   "metadata": {},
   "source": [
    "## Общий вывод"
   ]
  },
  {
   "cell_type": "markdown",
   "metadata": {},
   "source": [
    "Согласно представленным входным данным проведен анализ базы объявлений объектов недвижимости. \n",
    "\n",
    "Для начала был выявлен ряд несоответствий, пропуски данных, неверные значения, тип данных и тд. Такие моменты были устранены. \n",
    "\n",
    "Далее проверили несколько гипотез и установили:\n",
    "\n",
    "1. Для СПб и регионов:\n",
    "* большое количество объявлений приходится на объекты с высотой потолков примерно 2,65м\n",
    "* большое количество объявлений приходится на объекты с 1-3 комнатами\n",
    "* большое количество объявлений приходится на объекты стоимостью 3-9 млн руб \n",
    "* большое количество объявлений приходится на площадь от 30 до 80 кв.м.\n",
    "\n",
    "2. Также большое количесвто продаж приходится на первые месяцы после размещения объявления.Далее закономерно идет на спад (но имеется пик продаж в районе 80 дней - требуется отдельный анализ ждля этого). Высокий пик около 0 скорее всего имеет иную природу. Возможно ошибки в данных или выгодное соотношение цены-площади вызывает быстрый интерес к покупке такой недвижимости. Продажи недвижимости спустя год с момента публикации объявления идут заметно хуже и закономерно стремятся к 0.\n",
    "\n",
    "3. Для всех объявлений стоимость объекта:\n",
    "* растет закономерно и прямо пропорционально росту площади\n",
    "* растет прямо пропорционально росту числа комнат\n",
    "* уменьшается с увеличием расстояния от центра.\n",
    "\n",
    "4. Для Санкт-Петербурга в отдельности стоимость объекта:\n",
    "* растет закономерно и прямо пропорционально росту площади\n",
    "* растет прямо пропорционально росту числа комнат\n",
    "* остается примерно на одном уровне в радиусе 5 км от центра.\n",
    "\n",
    "5. Анализ показывает, что стоимость объектов держится примерно на одном уровне 5 лет. При этом Нет четкого разграничения внутри года по месяцам. Касаемо дней недели вывод также очевиден - размещение объявления в тот или иной день недели никак не сказывается на уовне цены на объект.\n",
    "\n",
    "\n",
    "\n",
    "Заказчику рекомендуется обращать внимание на зависимость цены от площади (соответственно и количества комнат) и расстояния от центра города. И иметь в виду, что объявления, которые не будут соответствовать таким выводам можно подвергать фильтру аномалий или мошенничества.\n",
    "\n",
    "\n",
    "\n",
    "Дополнительно стоит отметить, что анализ проводился на узком (но самом основном!) перечне факторов, влияющих на стоимость. Отдельно можно рассмотреть аномалии в графиках (выявленные пики, пропуски в данных по площади объектов и тд), дополнительные факторы (наличие парков, прудов"
   ]
  }
 ],
 "metadata": {
  "ExecuteTimeLog": [
   {
    "duration": 268,
    "start_time": "2022-03-09T04:33:08.757Z"
   },
   {
    "duration": 555,
    "start_time": "2022-03-09T04:33:16.497Z"
   },
   {
    "duration": 55,
    "start_time": "2022-03-09T04:33:17.054Z"
   },
   {
    "duration": 13,
    "start_time": "2022-03-09T04:33:32.508Z"
   },
   {
    "duration": 2,
    "start_time": "2022-03-09T04:36:48.271Z"
   },
   {
    "duration": 52,
    "start_time": "2022-03-09T04:36:48.527Z"
   },
   {
    "duration": 7,
    "start_time": "2022-03-09T04:36:49.160Z"
   },
   {
    "duration": 1800,
    "start_time": "2022-03-09T04:38:06.820Z"
   },
   {
    "duration": 808,
    "start_time": "2022-03-09T04:38:07.814Z"
   },
   {
    "duration": 2,
    "start_time": "2022-03-09T04:38:10.770Z"
   },
   {
    "duration": 1665,
    "start_time": "2022-03-09T04:38:11.011Z"
   },
   {
    "duration": 812,
    "start_time": "2022-03-09T04:38:11.866Z"
   },
   {
    "duration": 105,
    "start_time": "2022-03-09T04:38:36.995Z"
   },
   {
    "duration": 7,
    "start_time": "2022-03-09T04:38:38.008Z"
   },
   {
    "duration": 3,
    "start_time": "2022-03-09T04:38:48.350Z"
   },
   {
    "duration": 103,
    "start_time": "2022-03-09T04:38:48.712Z"
   },
   {
    "duration": 7,
    "start_time": "2022-03-09T04:38:49.022Z"
   },
   {
    "duration": 104,
    "start_time": "2022-03-09T04:38:59.820Z"
   },
   {
    "duration": 27,
    "start_time": "2022-03-09T04:39:01.030Z"
   },
   {
    "duration": 53,
    "start_time": "2022-03-09T04:41:22.362Z"
   },
   {
    "duration": 54,
    "start_time": "2022-03-09T04:41:23.557Z"
   },
   {
    "duration": 7,
    "start_time": "2022-03-09T04:41:25.078Z"
   },
   {
    "duration": 63,
    "start_time": "2022-03-09T04:41:30.268Z"
   },
   {
    "duration": 81,
    "start_time": "2022-03-09T04:41:39.787Z"
   },
   {
    "duration": 12,
    "start_time": "2022-03-09T04:43:19.943Z"
   },
   {
    "duration": 25,
    "start_time": "2022-03-09T04:55:20.575Z"
   },
   {
    "duration": 14,
    "start_time": "2022-03-09T04:55:34.931Z"
   },
   {
    "duration": 8,
    "start_time": "2022-03-09T04:55:51.230Z"
   },
   {
    "duration": 6,
    "start_time": "2022-03-09T05:00:53.525Z"
   },
   {
    "duration": 5,
    "start_time": "2022-03-09T05:01:04.250Z"
   },
   {
    "duration": 318,
    "start_time": "2022-03-09T05:01:10.811Z"
   },
   {
    "duration": 6,
    "start_time": "2022-03-09T05:02:22.138Z"
   },
   {
    "duration": 11,
    "start_time": "2022-03-09T05:03:02.096Z"
   },
   {
    "duration": 7,
    "start_time": "2022-03-09T05:03:12.069Z"
   },
   {
    "duration": 5,
    "start_time": "2022-03-09T05:03:33.913Z"
   },
   {
    "duration": 6,
    "start_time": "2022-03-09T05:03:40.840Z"
   },
   {
    "duration": 74,
    "start_time": "2022-03-09T05:03:46.561Z"
   },
   {
    "duration": 226,
    "start_time": "2022-03-09T05:03:53.698Z"
   },
   {
    "duration": 280,
    "start_time": "2022-03-09T05:03:58.214Z"
   },
   {
    "duration": 5,
    "start_time": "2022-03-09T05:04:14.418Z"
   },
   {
    "duration": 5,
    "start_time": "2022-03-09T05:04:21.181Z"
   },
   {
    "duration": 243,
    "start_time": "2022-03-09T05:04:26.393Z"
   },
   {
    "duration": 5,
    "start_time": "2022-03-09T05:06:41.229Z"
   },
   {
    "duration": 5,
    "start_time": "2022-03-09T05:07:05.958Z"
   },
   {
    "duration": 16,
    "start_time": "2022-03-09T05:07:38.088Z"
   },
   {
    "duration": 7,
    "start_time": "2022-03-09T05:13:35.259Z"
   },
   {
    "duration": 5,
    "start_time": "2022-03-09T05:14:29.414Z"
   },
   {
    "duration": 6,
    "start_time": "2022-03-09T05:14:42.929Z"
   },
   {
    "duration": 7,
    "start_time": "2022-03-09T05:14:53.084Z"
   },
   {
    "duration": 10,
    "start_time": "2022-03-09T05:15:01.200Z"
   },
   {
    "duration": 10,
    "start_time": "2022-03-09T05:15:07.331Z"
   },
   {
    "duration": 10,
    "start_time": "2022-03-09T05:15:16.168Z"
   },
   {
    "duration": 13,
    "start_time": "2022-03-09T05:17:28.764Z"
   },
   {
    "duration": 14,
    "start_time": "2022-03-09T05:17:37.638Z"
   },
   {
    "duration": 15,
    "start_time": "2022-03-09T05:17:46.195Z"
   },
   {
    "duration": 1624,
    "start_time": "2022-03-09T05:18:16.163Z"
   },
   {
    "duration": 20,
    "start_time": "2022-03-09T05:18:44.096Z"
   },
   {
    "duration": 21,
    "start_time": "2022-03-09T05:20:36.642Z"
   },
   {
    "duration": 22,
    "start_time": "2022-03-09T05:20:50.178Z"
   },
   {
    "duration": 25,
    "start_time": "2022-03-09T05:21:01.562Z"
   },
   {
    "duration": 79,
    "start_time": "2022-03-09T05:21:50.255Z"
   },
   {
    "duration": 232,
    "start_time": "2022-03-09T05:21:55.339Z"
   },
   {
    "duration": 300,
    "start_time": "2022-03-09T05:22:09.858Z"
   },
   {
    "duration": 258,
    "start_time": "2022-03-09T05:22:27.075Z"
   },
   {
    "duration": 9,
    "start_time": "2022-03-09T05:22:41.426Z"
   },
   {
    "duration": 21,
    "start_time": "2022-03-09T05:22:59.676Z"
   },
   {
    "duration": 29,
    "start_time": "2022-03-09T05:23:14.057Z"
   },
   {
    "duration": 87,
    "start_time": "2022-03-09T05:23:25.742Z"
   },
   {
    "duration": 7,
    "start_time": "2022-03-09T05:23:28.541Z"
   },
   {
    "duration": 24,
    "start_time": "2022-03-09T05:23:37.421Z"
   },
   {
    "duration": 7,
    "start_time": "2022-03-09T05:23:55.651Z"
   },
   {
    "duration": 6,
    "start_time": "2022-03-09T05:24:08.478Z"
   },
   {
    "duration": 6,
    "start_time": "2022-03-09T05:24:16.702Z"
   },
   {
    "duration": 26,
    "start_time": "2022-03-09T05:25:24.374Z"
   },
   {
    "duration": 6,
    "start_time": "2022-03-09T05:26:58.390Z"
   },
   {
    "duration": 5,
    "start_time": "2022-03-09T05:32:58.425Z"
   },
   {
    "duration": 11,
    "start_time": "2022-03-09T05:33:24.394Z"
   },
   {
    "duration": 7,
    "start_time": "2022-03-09T05:34:30.759Z"
   },
   {
    "duration": 5,
    "start_time": "2022-03-09T05:34:44.582Z"
   },
   {
    "duration": 7,
    "start_time": "2022-03-09T05:35:37.641Z"
   },
   {
    "duration": 7,
    "start_time": "2022-03-09T05:38:04.509Z"
   },
   {
    "duration": 221,
    "start_time": "2022-03-09T05:38:14.112Z"
   },
   {
    "duration": 222,
    "start_time": "2022-03-09T05:38:23.766Z"
   },
   {
    "duration": 9,
    "start_time": "2022-03-09T05:38:29.077Z"
   },
   {
    "duration": 7,
    "start_time": "2022-03-09T05:38:46.307Z"
   },
   {
    "duration": 7,
    "start_time": "2022-03-09T05:39:05.596Z"
   },
   {
    "duration": 7,
    "start_time": "2022-03-09T05:39:15.021Z"
   },
   {
    "duration": 7,
    "start_time": "2022-03-09T05:39:21.394Z"
   },
   {
    "duration": 7,
    "start_time": "2022-03-09T05:39:26.542Z"
   },
   {
    "duration": 6,
    "start_time": "2022-03-09T05:39:29.559Z"
   },
   {
    "duration": 7,
    "start_time": "2022-03-09T05:39:51.250Z"
   },
   {
    "duration": 7,
    "start_time": "2022-03-09T05:39:59.905Z"
   },
   {
    "duration": 7,
    "start_time": "2022-03-09T05:40:04.358Z"
   },
   {
    "duration": 7,
    "start_time": "2022-03-09T05:40:16.924Z"
   },
   {
    "duration": 98,
    "start_time": "2022-03-09T05:40:31.033Z"
   },
   {
    "duration": 5,
    "start_time": "2022-03-09T05:40:35.634Z"
   },
   {
    "duration": 5,
    "start_time": "2022-03-09T05:40:55.433Z"
   },
   {
    "duration": 7,
    "start_time": "2022-03-09T05:41:04.712Z"
   },
   {
    "duration": 7,
    "start_time": "2022-03-09T05:42:29.049Z"
   },
   {
    "duration": 7,
    "start_time": "2022-03-09T05:42:42.871Z"
   },
   {
    "duration": 5,
    "start_time": "2022-03-09T05:42:43.922Z"
   },
   {
    "duration": 266,
    "start_time": "2022-03-09T05:42:59.487Z"
   },
   {
    "duration": 88,
    "start_time": "2022-03-09T05:43:08.814Z"
   },
   {
    "duration": 5,
    "start_time": "2022-03-09T05:43:13.534Z"
   },
   {
    "duration": 6,
    "start_time": "2022-03-09T05:43:30.490Z"
   },
   {
    "duration": 24,
    "start_time": "2022-03-09T05:45:23.602Z"
   },
   {
    "duration": 8,
    "start_time": "2022-03-09T05:45:33.130Z"
   },
   {
    "duration": 9,
    "start_time": "2022-03-09T05:46:39.177Z"
   },
   {
    "duration": 9,
    "start_time": "2022-03-09T05:49:22.399Z"
   },
   {
    "duration": 10,
    "start_time": "2022-03-09T05:49:28.107Z"
   },
   {
    "duration": 10,
    "start_time": "2022-03-09T05:49:36.204Z"
   },
   {
    "duration": 8,
    "start_time": "2022-03-09T05:50:30.379Z"
   },
   {
    "duration": 5,
    "start_time": "2022-03-09T05:54:40.759Z"
   },
   {
    "duration": 81,
    "start_time": "2022-03-09T05:55:34.139Z"
   },
   {
    "duration": 78,
    "start_time": "2022-03-09T05:56:39.405Z"
   },
   {
    "duration": 71,
    "start_time": "2022-03-09T05:57:00.897Z"
   },
   {
    "duration": 4,
    "start_time": "2022-03-09T05:57:38.021Z"
   },
   {
    "duration": 6,
    "start_time": "2022-03-09T06:00:15.568Z"
   },
   {
    "duration": 9,
    "start_time": "2022-03-09T06:00:52.275Z"
   },
   {
    "duration": 2,
    "start_time": "2022-03-09T06:01:09.345Z"
   },
   {
    "duration": 59,
    "start_time": "2022-03-09T06:01:09.631Z"
   },
   {
    "duration": 7,
    "start_time": "2022-03-09T06:01:09.871Z"
   },
   {
    "duration": 82,
    "start_time": "2022-03-09T06:01:10.746Z"
   },
   {
    "duration": 11,
    "start_time": "2022-03-09T06:01:10.942Z"
   },
   {
    "duration": 8,
    "start_time": "2022-03-09T06:01:11.149Z"
   },
   {
    "duration": 7,
    "start_time": "2022-03-09T06:01:11.386Z"
   },
   {
    "duration": 5,
    "start_time": "2022-03-09T06:01:11.633Z"
   },
   {
    "duration": 9,
    "start_time": "2022-03-09T06:01:11.860Z"
   },
   {
    "duration": 10,
    "start_time": "2022-03-09T06:01:12.097Z"
   },
   {
    "duration": 114,
    "start_time": "2022-03-09T06:01:12.345Z"
   },
   {
    "duration": 10,
    "start_time": "2022-03-09T06:01:12.718Z"
   },
   {
    "duration": 4,
    "start_time": "2022-03-09T06:01:23.271Z"
   },
   {
    "duration": 9,
    "start_time": "2022-03-09T06:01:24.286Z"
   },
   {
    "duration": 227,
    "start_time": "2022-03-09T06:05:25.324Z"
   },
   {
    "duration": 13,
    "start_time": "2022-03-09T06:05:35.100Z"
   },
   {
    "duration": 3,
    "start_time": "2022-03-09T06:05:49.972Z"
   },
   {
    "duration": 57,
    "start_time": "2022-03-09T06:05:50.190Z"
   },
   {
    "duration": 7,
    "start_time": "2022-03-09T06:05:50.365Z"
   },
   {
    "duration": 85,
    "start_time": "2022-03-09T06:05:51.134Z"
   },
   {
    "duration": 11,
    "start_time": "2022-03-09T06:05:51.799Z"
   },
   {
    "duration": 8,
    "start_time": "2022-03-09T06:05:52.241Z"
   },
   {
    "duration": 6,
    "start_time": "2022-03-09T06:05:52.681Z"
   },
   {
    "duration": 5,
    "start_time": "2022-03-09T06:05:53.190Z"
   },
   {
    "duration": 9,
    "start_time": "2022-03-09T06:05:53.610Z"
   },
   {
    "duration": 11,
    "start_time": "2022-03-09T06:05:54.244Z"
   },
   {
    "duration": 5,
    "start_time": "2022-03-09T06:05:54.769Z"
   },
   {
    "duration": 13,
    "start_time": "2022-03-09T06:05:56.010Z"
   },
   {
    "duration": 237,
    "start_time": "2022-03-09T06:07:27.091Z"
   },
   {
    "duration": 15,
    "start_time": "2022-03-09T06:07:50.789Z"
   },
   {
    "duration": 5,
    "start_time": "2022-03-09T06:08:06.496Z"
   },
   {
    "duration": 14,
    "start_time": "2022-03-09T06:08:06.895Z"
   },
   {
    "duration": 13,
    "start_time": "2022-03-09T06:08:24.359Z"
   },
   {
    "duration": 9,
    "start_time": "2022-03-09T06:14:23.926Z"
   },
   {
    "duration": 10,
    "start_time": "2022-03-09T06:14:32.458Z"
   },
   {
    "duration": 3,
    "start_time": "2022-03-09T06:14:45.097Z"
   },
   {
    "duration": 55,
    "start_time": "2022-03-09T06:14:45.328Z"
   },
   {
    "duration": 7,
    "start_time": "2022-03-09T06:14:45.484Z"
   },
   {
    "duration": 85,
    "start_time": "2022-03-09T06:14:46.394Z"
   },
   {
    "duration": 11,
    "start_time": "2022-03-09T06:14:46.621Z"
   },
   {
    "duration": 9,
    "start_time": "2022-03-09T06:14:46.792Z"
   },
   {
    "duration": 7,
    "start_time": "2022-03-09T06:14:46.979Z"
   },
   {
    "duration": 5,
    "start_time": "2022-03-09T06:14:47.174Z"
   },
   {
    "duration": 9,
    "start_time": "2022-03-09T06:14:47.364Z"
   },
   {
    "duration": 10,
    "start_time": "2022-03-09T06:14:47.568Z"
   },
   {
    "duration": 5,
    "start_time": "2022-03-09T06:14:47.754Z"
   },
   {
    "duration": 13,
    "start_time": "2022-03-09T06:14:47.957Z"
   },
   {
    "duration": 9,
    "start_time": "2022-03-09T06:14:48.160Z"
   },
   {
    "duration": 10,
    "start_time": "2022-03-09T06:15:35.471Z"
   },
   {
    "duration": 3,
    "start_time": "2022-03-09T06:15:47.388Z"
   },
   {
    "duration": 57,
    "start_time": "2022-03-09T06:15:47.601Z"
   },
   {
    "duration": 8,
    "start_time": "2022-03-09T06:15:48.105Z"
   },
   {
    "duration": 77,
    "start_time": "2022-03-09T06:15:48.228Z"
   },
   {
    "duration": 12,
    "start_time": "2022-03-09T06:15:48.308Z"
   },
   {
    "duration": 10,
    "start_time": "2022-03-09T06:15:48.322Z"
   },
   {
    "duration": 28,
    "start_time": "2022-03-09T06:15:48.334Z"
   },
   {
    "duration": 6,
    "start_time": "2022-03-09T06:15:48.364Z"
   },
   {
    "duration": 9,
    "start_time": "2022-03-09T06:15:48.386Z"
   },
   {
    "duration": 12,
    "start_time": "2022-03-09T06:15:49.035Z"
   },
   {
    "duration": 8,
    "start_time": "2022-03-09T06:15:49.851Z"
   },
   {
    "duration": 14,
    "start_time": "2022-03-09T06:16:16.508Z"
   },
   {
    "duration": 9,
    "start_time": "2022-03-09T06:16:17.233Z"
   },
   {
    "duration": 16,
    "start_time": "2022-03-09T06:16:33.446Z"
   },
   {
    "duration": 14,
    "start_time": "2022-03-09T06:16:44.662Z"
   },
   {
    "duration": 9,
    "start_time": "2022-03-09T06:16:44.908Z"
   },
   {
    "duration": 9,
    "start_time": "2022-03-09T06:21:31.430Z"
   },
   {
    "duration": 7,
    "start_time": "2022-03-09T06:22:08.614Z"
   },
   {
    "duration": 19,
    "start_time": "2022-03-09T06:22:25.753Z"
   },
   {
    "duration": 72,
    "start_time": "2022-03-09T06:23:03.821Z"
   },
   {
    "duration": 8,
    "start_time": "2022-03-09T06:23:07.972Z"
   },
   {
    "duration": 9,
    "start_time": "2022-03-09T06:23:26.506Z"
   },
   {
    "duration": 5,
    "start_time": "2022-03-09T06:24:09.887Z"
   },
   {
    "duration": 5,
    "start_time": "2022-03-09T06:25:03.031Z"
   },
   {
    "duration": 6,
    "start_time": "2022-03-09T06:25:10.239Z"
   },
   {
    "duration": 221,
    "start_time": "2022-03-09T06:25:58.758Z"
   },
   {
    "duration": 4,
    "start_time": "2022-03-09T06:26:07.420Z"
   },
   {
    "duration": 46,
    "start_time": "2022-03-09T06:26:15.556Z"
   },
   {
    "duration": 11,
    "start_time": "2022-03-09T06:26:25.716Z"
   },
   {
    "duration": 88,
    "start_time": "2022-03-09T06:26:43.033Z"
   },
   {
    "duration": 18,
    "start_time": "2022-03-09T06:26:46.670Z"
   },
   {
    "duration": 9,
    "start_time": "2022-03-09T06:27:16.694Z"
   },
   {
    "duration": 14,
    "start_time": "2022-03-09T06:27:53.010Z"
   },
   {
    "duration": 9,
    "start_time": "2022-03-09T06:28:02.508Z"
   },
   {
    "duration": 9,
    "start_time": "2022-03-09T06:28:12.146Z"
   },
   {
    "duration": 5,
    "start_time": "2022-03-09T06:29:00.271Z"
   },
   {
    "duration": 4,
    "start_time": "2022-03-09T06:30:35.756Z"
   },
   {
    "duration": 10,
    "start_time": "2022-03-09T06:30:47.983Z"
   },
   {
    "duration": 14,
    "start_time": "2022-03-09T06:31:18.950Z"
   },
   {
    "duration": 6,
    "start_time": "2022-03-09T06:31:41.627Z"
   },
   {
    "duration": 12,
    "start_time": "2022-03-09T06:32:26.039Z"
   },
   {
    "duration": 6,
    "start_time": "2022-03-09T06:38:35.236Z"
   },
   {
    "duration": 10,
    "start_time": "2022-03-09T06:38:41.088Z"
   },
   {
    "duration": 9,
    "start_time": "2022-03-09T06:47:54.978Z"
   },
   {
    "duration": 3,
    "start_time": "2022-03-09T06:48:03.814Z"
   },
   {
    "duration": 53,
    "start_time": "2022-03-09T06:48:04.002Z"
   },
   {
    "duration": 6,
    "start_time": "2022-03-09T06:48:04.164Z"
   },
   {
    "duration": 75,
    "start_time": "2022-03-09T06:48:04.835Z"
   },
   {
    "duration": 10,
    "start_time": "2022-03-09T06:48:05.023Z"
   },
   {
    "duration": 8,
    "start_time": "2022-03-09T06:48:05.206Z"
   },
   {
    "duration": 7,
    "start_time": "2022-03-09T06:48:05.393Z"
   },
   {
    "duration": 5,
    "start_time": "2022-03-09T06:48:05.585Z"
   },
   {
    "duration": 9,
    "start_time": "2022-03-09T06:48:05.780Z"
   },
   {
    "duration": 11,
    "start_time": "2022-03-09T06:48:05.974Z"
   },
   {
    "duration": 8,
    "start_time": "2022-03-09T06:48:06.170Z"
   },
   {
    "duration": 15,
    "start_time": "2022-03-09T06:48:06.376Z"
   },
   {
    "duration": 8,
    "start_time": "2022-03-09T06:48:06.670Z"
   },
   {
    "duration": 14,
    "start_time": "2022-03-09T06:48:06.981Z"
   },
   {
    "duration": 7,
    "start_time": "2022-03-09T06:48:07.264Z"
   },
   {
    "duration": 17,
    "start_time": "2022-03-09T06:48:07.572Z"
   },
   {
    "duration": 10,
    "start_time": "2022-03-09T06:48:08.001Z"
   },
   {
    "duration": 13,
    "start_time": "2022-03-09T07:01:41.065Z"
   },
   {
    "duration": 2,
    "start_time": "2022-03-09T07:02:12.055Z"
   },
   {
    "duration": 56,
    "start_time": "2022-03-09T07:02:12.338Z"
   },
   {
    "duration": 7,
    "start_time": "2022-03-09T07:02:12.529Z"
   },
   {
    "duration": 81,
    "start_time": "2022-03-09T07:02:13.262Z"
   },
   {
    "duration": 11,
    "start_time": "2022-03-09T07:02:13.423Z"
   },
   {
    "duration": 8,
    "start_time": "2022-03-09T07:02:13.624Z"
   },
   {
    "duration": 7,
    "start_time": "2022-03-09T07:02:13.865Z"
   },
   {
    "duration": 5,
    "start_time": "2022-03-09T07:02:14.128Z"
   },
   {
    "duration": 9,
    "start_time": "2022-03-09T07:02:14.350Z"
   },
   {
    "duration": 11,
    "start_time": "2022-03-09T07:02:14.668Z"
   },
   {
    "duration": 7,
    "start_time": "2022-03-09T07:02:15.157Z"
   },
   {
    "duration": 15,
    "start_time": "2022-03-09T07:02:15.905Z"
   },
   {
    "duration": 9,
    "start_time": "2022-03-09T07:02:16.333Z"
   },
   {
    "duration": 14,
    "start_time": "2022-03-09T07:02:16.923Z"
   },
   {
    "duration": 7,
    "start_time": "2022-03-09T07:02:18.294Z"
   },
   {
    "duration": 11,
    "start_time": "2022-03-09T07:02:18.776Z"
   },
   {
    "duration": 14,
    "start_time": "2022-03-09T07:02:19.662Z"
   },
   {
    "duration": 9,
    "start_time": "2022-03-09T07:07:37.357Z"
   },
   {
    "duration": 19,
    "start_time": "2022-03-09T07:09:58.886Z"
   },
   {
    "duration": 2,
    "start_time": "2022-03-09T07:10:09.250Z"
   },
   {
    "duration": 56,
    "start_time": "2022-03-09T07:10:09.427Z"
   },
   {
    "duration": 8,
    "start_time": "2022-03-09T07:10:09.613Z"
   },
   {
    "duration": 80,
    "start_time": "2022-03-09T07:10:10.275Z"
   },
   {
    "duration": 11,
    "start_time": "2022-03-09T07:10:10.526Z"
   },
   {
    "duration": 9,
    "start_time": "2022-03-09T07:10:10.747Z"
   },
   {
    "duration": 8,
    "start_time": "2022-03-09T07:10:10.946Z"
   },
   {
    "duration": 6,
    "start_time": "2022-03-09T07:10:11.136Z"
   },
   {
    "duration": 10,
    "start_time": "2022-03-09T07:10:11.347Z"
   },
   {
    "duration": 11,
    "start_time": "2022-03-09T07:10:11.550Z"
   },
   {
    "duration": 8,
    "start_time": "2022-03-09T07:10:11.762Z"
   },
   {
    "duration": 17,
    "start_time": "2022-03-09T07:10:12.003Z"
   },
   {
    "duration": 10,
    "start_time": "2022-03-09T07:10:12.306Z"
   },
   {
    "duration": 15,
    "start_time": "2022-03-09T07:10:12.565Z"
   },
   {
    "duration": 7,
    "start_time": "2022-03-09T07:10:12.972Z"
   },
   {
    "duration": 12,
    "start_time": "2022-03-09T07:10:13.462Z"
   },
   {
    "duration": 16,
    "start_time": "2022-03-09T07:10:13.951Z"
   },
   {
    "duration": 82,
    "start_time": "2022-03-09T07:14:23.558Z"
   },
   {
    "duration": 267,
    "start_time": "2022-03-09T07:14:31.320Z"
   },
   {
    "duration": 44,
    "start_time": "2022-03-09T07:14:45.418Z"
   },
   {
    "duration": 26,
    "start_time": "2022-03-09T07:14:58.362Z"
   },
   {
    "duration": 14,
    "start_time": "2022-03-09T07:15:25.391Z"
   },
   {
    "duration": 8,
    "start_time": "2022-03-09T07:16:02.056Z"
   },
   {
    "duration": 3,
    "start_time": "2022-03-09T07:16:16.364Z"
   },
   {
    "duration": 56,
    "start_time": "2022-03-09T07:16:16.395Z"
   },
   {
    "duration": 6,
    "start_time": "2022-03-09T07:16:16.453Z"
   },
   {
    "duration": 85,
    "start_time": "2022-03-09T07:16:16.546Z"
   },
   {
    "duration": 11,
    "start_time": "2022-03-09T07:16:16.633Z"
   },
   {
    "duration": 16,
    "start_time": "2022-03-09T07:16:16.646Z"
   },
   {
    "duration": 8,
    "start_time": "2022-03-09T07:16:16.663Z"
   },
   {
    "duration": 4,
    "start_time": "2022-03-09T07:16:16.673Z"
   },
   {
    "duration": 9,
    "start_time": "2022-03-09T07:16:16.698Z"
   },
   {
    "duration": 10,
    "start_time": "2022-03-09T07:16:16.726Z"
   },
   {
    "duration": 6,
    "start_time": "2022-03-09T07:16:16.758Z"
   },
   {
    "duration": 15,
    "start_time": "2022-03-09T07:16:16.786Z"
   },
   {
    "duration": 10,
    "start_time": "2022-03-09T07:16:17.205Z"
   },
   {
    "duration": 14,
    "start_time": "2022-03-09T07:16:17.453Z"
   },
   {
    "duration": 6,
    "start_time": "2022-03-09T07:16:17.685Z"
   },
   {
    "duration": 11,
    "start_time": "2022-03-09T07:16:17.907Z"
   },
   {
    "duration": 7,
    "start_time": "2022-03-09T07:16:18.130Z"
   },
   {
    "duration": 12,
    "start_time": "2022-03-09T07:22:31.726Z"
   },
   {
    "duration": 15,
    "start_time": "2022-03-09T07:25:10.501Z"
   },
   {
    "duration": 16,
    "start_time": "2022-03-09T07:25:48.660Z"
   },
   {
    "duration": 22,
    "start_time": "2022-03-09T07:26:00.613Z"
   },
   {
    "duration": 20,
    "start_time": "2022-03-09T07:26:31.977Z"
   },
   {
    "duration": 21,
    "start_time": "2022-03-09T07:27:17.276Z"
   },
   {
    "duration": 22,
    "start_time": "2022-03-09T07:28:41.504Z"
   },
   {
    "duration": 2,
    "start_time": "2022-03-09T07:28:57.202Z"
   },
   {
    "duration": 60,
    "start_time": "2022-03-09T07:28:57.355Z"
   },
   {
    "duration": 7,
    "start_time": "2022-03-09T07:28:57.527Z"
   },
   {
    "duration": 79,
    "start_time": "2022-03-09T07:28:58.230Z"
   },
   {
    "duration": 11,
    "start_time": "2022-03-09T07:28:58.381Z"
   },
   {
    "duration": 9,
    "start_time": "2022-03-09T07:28:58.536Z"
   },
   {
    "duration": 7,
    "start_time": "2022-03-09T07:28:58.743Z"
   },
   {
    "duration": 5,
    "start_time": "2022-03-09T07:28:59.008Z"
   },
   {
    "duration": 10,
    "start_time": "2022-03-09T07:28:59.208Z"
   },
   {
    "duration": 10,
    "start_time": "2022-03-09T07:28:59.391Z"
   },
   {
    "duration": 7,
    "start_time": "2022-03-09T07:28:59.572Z"
   },
   {
    "duration": 16,
    "start_time": "2022-03-09T07:28:59.762Z"
   },
   {
    "duration": 10,
    "start_time": "2022-03-09T07:28:59.949Z"
   },
   {
    "duration": 14,
    "start_time": "2022-03-09T07:29:00.140Z"
   },
   {
    "duration": 7,
    "start_time": "2022-03-09T07:29:00.336Z"
   },
   {
    "duration": 11,
    "start_time": "2022-03-09T07:29:00.569Z"
   },
   {
    "duration": 24,
    "start_time": "2022-03-09T07:29:00.806Z"
   },
   {
    "duration": 27,
    "start_time": "2022-03-09T07:31:13.795Z"
   },
   {
    "duration": 23,
    "start_time": "2022-03-09T07:31:27.066Z"
   },
   {
    "duration": 22,
    "start_time": "2022-03-09T07:32:09.751Z"
   },
   {
    "duration": 3,
    "start_time": "2022-03-09T07:32:24.967Z"
   },
   {
    "duration": 54,
    "start_time": "2022-03-09T07:32:25.208Z"
   },
   {
    "duration": 7,
    "start_time": "2022-03-09T07:32:25.382Z"
   },
   {
    "duration": 78,
    "start_time": "2022-03-09T07:32:26.066Z"
   },
   {
    "duration": 11,
    "start_time": "2022-03-09T07:32:26.237Z"
   },
   {
    "duration": 8,
    "start_time": "2022-03-09T07:32:26.410Z"
   },
   {
    "duration": 7,
    "start_time": "2022-03-09T07:32:26.601Z"
   },
   {
    "duration": 5,
    "start_time": "2022-03-09T07:32:26.794Z"
   },
   {
    "duration": 8,
    "start_time": "2022-03-09T07:32:27.020Z"
   },
   {
    "duration": 10,
    "start_time": "2022-03-09T07:32:27.362Z"
   },
   {
    "duration": 8,
    "start_time": "2022-03-09T07:32:27.792Z"
   },
   {
    "duration": 16,
    "start_time": "2022-03-09T07:32:28.136Z"
   },
   {
    "duration": 11,
    "start_time": "2022-03-09T07:32:28.558Z"
   },
   {
    "duration": 14,
    "start_time": "2022-03-09T07:32:29.133Z"
   },
   {
    "duration": 8,
    "start_time": "2022-03-09T07:32:29.636Z"
   },
   {
    "duration": 13,
    "start_time": "2022-03-09T07:32:30.231Z"
   },
   {
    "duration": 26,
    "start_time": "2022-03-09T07:32:31.256Z"
   },
   {
    "duration": 22,
    "start_time": "2022-03-09T07:33:52.573Z"
   },
   {
    "duration": 40,
    "start_time": "2022-03-09T07:35:36.599Z"
   },
   {
    "duration": 33,
    "start_time": "2022-03-09T07:39:31.249Z"
   },
   {
    "duration": 30,
    "start_time": "2022-03-09T07:39:38.567Z"
   },
   {
    "duration": 24,
    "start_time": "2022-03-09T07:39:59.000Z"
   },
   {
    "duration": 5,
    "start_time": "2022-03-09T07:41:37.396Z"
   },
   {
    "duration": 229,
    "start_time": "2022-03-09T07:41:55.953Z"
   },
   {
    "duration": 258,
    "start_time": "2022-03-09T07:42:04.457Z"
   },
   {
    "duration": 7,
    "start_time": "2022-03-09T07:42:14.733Z"
   },
   {
    "duration": 6,
    "start_time": "2022-03-09T07:42:26.394Z"
   },
   {
    "duration": 6,
    "start_time": "2022-03-09T07:43:06.730Z"
   },
   {
    "duration": 4,
    "start_time": "2022-03-09T07:45:19.052Z"
   },
   {
    "duration": 9,
    "start_time": "2022-03-09T07:45:35.911Z"
   },
   {
    "duration": 11,
    "start_time": "2022-03-09T07:45:53.208Z"
   },
   {
    "duration": 4,
    "start_time": "2022-03-09T07:45:58.551Z"
   },
   {
    "duration": 8,
    "start_time": "2022-03-09T07:47:27.999Z"
   },
   {
    "duration": 7,
    "start_time": "2022-03-09T07:47:40.348Z"
   },
   {
    "duration": 7,
    "start_time": "2022-03-09T07:47:47.472Z"
   },
   {
    "duration": 12,
    "start_time": "2022-03-09T07:48:12.325Z"
   },
   {
    "duration": 7,
    "start_time": "2022-03-09T07:49:05.446Z"
   },
   {
    "duration": 6,
    "start_time": "2022-03-09T07:49:24.908Z"
   },
   {
    "duration": 7,
    "start_time": "2022-03-09T07:49:44.521Z"
   },
   {
    "duration": 13,
    "start_time": "2022-03-09T07:50:08.050Z"
   },
   {
    "duration": 11,
    "start_time": "2022-03-09T07:50:23.528Z"
   },
   {
    "duration": 229,
    "start_time": "2022-03-09T07:50:37.852Z"
   },
   {
    "duration": 13,
    "start_time": "2022-03-09T07:51:01.731Z"
   },
   {
    "duration": 11,
    "start_time": "2022-03-09T07:51:13.048Z"
   },
   {
    "duration": 12,
    "start_time": "2022-03-09T07:51:21.279Z"
   },
   {
    "duration": 7,
    "start_time": "2022-03-09T07:53:04.884Z"
   },
   {
    "duration": 8,
    "start_time": "2022-03-09T07:54:10.990Z"
   },
   {
    "duration": 9,
    "start_time": "2022-03-09T07:54:56.730Z"
   },
   {
    "duration": 12,
    "start_time": "2022-03-09T07:55:15.189Z"
   },
   {
    "duration": 19,
    "start_time": "2022-03-09T07:55:44.384Z"
   },
   {
    "duration": 10,
    "start_time": "2022-03-09T07:56:01.216Z"
   },
   {
    "duration": 17,
    "start_time": "2022-03-09T07:58:04.711Z"
   },
   {
    "duration": 21,
    "start_time": "2022-03-09T07:59:13.923Z"
   },
   {
    "duration": 7,
    "start_time": "2022-03-09T07:59:23.452Z"
   },
   {
    "duration": 8,
    "start_time": "2022-03-09T07:59:30.400Z"
   },
   {
    "duration": 12,
    "start_time": "2022-03-09T07:59:43.872Z"
   },
   {
    "duration": 15,
    "start_time": "2022-03-09T08:00:27.289Z"
   },
   {
    "duration": 21,
    "start_time": "2022-03-09T08:01:47.958Z"
   },
   {
    "duration": 2,
    "start_time": "2022-03-09T08:01:58.016Z"
   },
   {
    "duration": 11,
    "start_time": "2022-03-09T08:21:56.546Z"
   },
   {
    "duration": 2260,
    "start_time": "2022-03-09T08:32:41.048Z"
   },
   {
    "duration": 9,
    "start_time": "2022-03-09T08:33:02.400Z"
   },
   {
    "duration": 12,
    "start_time": "2022-03-09T08:33:19.496Z"
   },
   {
    "duration": 22,
    "start_time": "2022-03-09T08:35:20.729Z"
   },
   {
    "duration": 325,
    "start_time": "2022-03-09T08:35:37.616Z"
   },
   {
    "duration": 33,
    "start_time": "2022-03-09T08:35:48.233Z"
   },
   {
    "duration": 46,
    "start_time": "2022-03-09T08:35:55.717Z"
   },
   {
    "duration": 25,
    "start_time": "2022-03-09T08:36:12.461Z"
   },
   {
    "duration": 25,
    "start_time": "2022-03-09T08:36:32.222Z"
   },
   {
    "duration": 73,
    "start_time": "2022-03-09T08:58:33.400Z"
   },
   {
    "duration": 15,
    "start_time": "2022-03-09T08:58:42.628Z"
   },
   {
    "duration": 21,
    "start_time": "2022-03-09T08:58:51.324Z"
   },
   {
    "duration": 26,
    "start_time": "2022-03-09T08:59:28.262Z"
   },
   {
    "duration": 34,
    "start_time": "2022-03-09T08:59:51.725Z"
   },
   {
    "duration": 22,
    "start_time": "2022-03-09T08:59:56.777Z"
   },
   {
    "duration": 25,
    "start_time": "2022-03-09T09:00:14.109Z"
   },
   {
    "duration": 23,
    "start_time": "2022-03-09T09:00:22.648Z"
   },
   {
    "duration": 43,
    "start_time": "2022-03-09T09:00:37.890Z"
   },
   {
    "duration": 8,
    "start_time": "2022-03-09T09:02:09.551Z"
   },
   {
    "duration": 11,
    "start_time": "2022-03-09T09:12:27.520Z"
   },
   {
    "duration": 9,
    "start_time": "2022-03-09T09:12:34.242Z"
   },
   {
    "duration": 12,
    "start_time": "2022-03-09T09:12:50.946Z"
   },
   {
    "duration": 3,
    "start_time": "2022-03-09T09:13:04.642Z"
   },
   {
    "duration": 57,
    "start_time": "2022-03-09T09:13:04.827Z"
   },
   {
    "duration": 7,
    "start_time": "2022-03-09T09:13:05.007Z"
   },
   {
    "duration": 74,
    "start_time": "2022-03-09T09:13:05.799Z"
   },
   {
    "duration": 11,
    "start_time": "2022-03-09T09:13:05.983Z"
   },
   {
    "duration": 10,
    "start_time": "2022-03-09T09:13:06.212Z"
   },
   {
    "duration": 6,
    "start_time": "2022-03-09T09:13:06.438Z"
   },
   {
    "duration": 5,
    "start_time": "2022-03-09T09:13:06.669Z"
   },
   {
    "duration": 9,
    "start_time": "2022-03-09T09:13:06.915Z"
   },
   {
    "duration": 10,
    "start_time": "2022-03-09T09:13:07.175Z"
   },
   {
    "duration": 8,
    "start_time": "2022-03-09T09:13:07.421Z"
   },
   {
    "duration": 15,
    "start_time": "2022-03-09T09:13:07.637Z"
   },
   {
    "duration": 10,
    "start_time": "2022-03-09T09:13:07.854Z"
   },
   {
    "duration": 14,
    "start_time": "2022-03-09T09:13:08.081Z"
   },
   {
    "duration": 7,
    "start_time": "2022-03-09T09:13:08.309Z"
   },
   {
    "duration": 12,
    "start_time": "2022-03-09T09:13:08.536Z"
   },
   {
    "duration": 10,
    "start_time": "2022-03-09T09:13:08.783Z"
   },
   {
    "duration": 12,
    "start_time": "2022-03-09T09:13:09.080Z"
   },
   {
    "duration": 18,
    "start_time": "2022-03-09T09:13:09.405Z"
   },
   {
    "duration": 9,
    "start_time": "2022-03-09T09:13:09.722Z"
   },
   {
    "duration": 2,
    "start_time": "2022-03-09T09:13:10.060Z"
   },
   {
    "duration": 45,
    "start_time": "2022-03-09T09:13:10.600Z"
   },
   {
    "duration": 8,
    "start_time": "2022-03-09T09:13:11.177Z"
   },
   {
    "duration": 65,
    "start_time": "2022-03-09T09:13:45.096Z"
   },
   {
    "duration": 86,
    "start_time": "2022-03-09T09:13:56.247Z"
   },
   {
    "duration": 76,
    "start_time": "2022-03-09T09:14:00.085Z"
   },
   {
    "duration": 10,
    "start_time": "2022-03-09T09:14:06.551Z"
   },
   {
    "duration": 14,
    "start_time": "2022-03-09T09:14:23.192Z"
   },
   {
    "duration": 13,
    "start_time": "2022-03-09T09:14:51.058Z"
   },
   {
    "duration": 8,
    "start_time": "2022-03-09T09:15:26.938Z"
   },
   {
    "duration": 45,
    "start_time": "2022-03-09T09:15:39.710Z"
   },
   {
    "duration": 3,
    "start_time": "2022-03-09T09:15:43.241Z"
   },
   {
    "duration": 54,
    "start_time": "2022-03-09T09:15:43.437Z"
   },
   {
    "duration": 6,
    "start_time": "2022-03-09T09:15:43.609Z"
   },
   {
    "duration": 79,
    "start_time": "2022-03-09T09:15:44.347Z"
   },
   {
    "duration": 11,
    "start_time": "2022-03-09T09:15:44.528Z"
   },
   {
    "duration": 8,
    "start_time": "2022-03-09T09:15:44.740Z"
   },
   {
    "duration": 7,
    "start_time": "2022-03-09T09:15:44.957Z"
   },
   {
    "duration": 5,
    "start_time": "2022-03-09T09:15:45.179Z"
   },
   {
    "duration": 9,
    "start_time": "2022-03-09T09:15:46.315Z"
   },
   {
    "duration": 43,
    "start_time": "2022-03-09T09:15:46.326Z"
   },
   {
    "duration": 29,
    "start_time": "2022-03-09T09:15:46.371Z"
   },
   {
    "duration": 29,
    "start_time": "2022-03-09T09:15:46.402Z"
   },
   {
    "duration": 8,
    "start_time": "2022-03-09T09:15:46.582Z"
   },
   {
    "duration": 14,
    "start_time": "2022-03-09T09:15:46.937Z"
   },
   {
    "duration": 7,
    "start_time": "2022-03-09T09:15:47.326Z"
   },
   {
    "duration": 12,
    "start_time": "2022-03-09T09:15:47.765Z"
   },
   {
    "duration": 9,
    "start_time": "2022-03-09T09:15:48.103Z"
   },
   {
    "duration": 11,
    "start_time": "2022-03-09T09:15:48.451Z"
   },
   {
    "duration": 16,
    "start_time": "2022-03-09T09:15:48.849Z"
   },
   {
    "duration": 8,
    "start_time": "2022-03-09T09:15:49.385Z"
   },
   {
    "duration": 2,
    "start_time": "2022-03-09T09:15:49.768Z"
   },
   {
    "duration": 47,
    "start_time": "2022-03-09T09:15:50.263Z"
   },
   {
    "duration": 12,
    "start_time": "2022-03-09T09:15:51.130Z"
   },
   {
    "duration": 9,
    "start_time": "2022-03-09T09:16:01.268Z"
   },
   {
    "duration": 2,
    "start_time": "2022-03-09T09:16:06.949Z"
   },
   {
    "duration": 56,
    "start_time": "2022-03-09T09:16:07.135Z"
   },
   {
    "duration": 6,
    "start_time": "2022-03-09T09:16:07.315Z"
   },
   {
    "duration": 78,
    "start_time": "2022-03-09T09:16:07.962Z"
   },
   {
    "duration": 10,
    "start_time": "2022-03-09T09:16:08.126Z"
   },
   {
    "duration": 8,
    "start_time": "2022-03-09T09:16:08.319Z"
   },
   {
    "duration": 7,
    "start_time": "2022-03-09T09:16:08.479Z"
   },
   {
    "duration": 6,
    "start_time": "2022-03-09T09:16:08.657Z"
   },
   {
    "duration": 8,
    "start_time": "2022-03-09T09:16:08.827Z"
   },
   {
    "duration": 11,
    "start_time": "2022-03-09T09:16:09.019Z"
   },
   {
    "duration": 7,
    "start_time": "2022-03-09T09:16:09.195Z"
   },
   {
    "duration": 15,
    "start_time": "2022-03-09T09:16:09.379Z"
   },
   {
    "duration": 9,
    "start_time": "2022-03-09T09:16:09.550Z"
   },
   {
    "duration": 14,
    "start_time": "2022-03-09T09:16:09.758Z"
   },
   {
    "duration": 7,
    "start_time": "2022-03-09T09:16:09.973Z"
   },
   {
    "duration": 11,
    "start_time": "2022-03-09T09:16:10.179Z"
   },
   {
    "duration": 11,
    "start_time": "2022-03-09T09:16:10.367Z"
   },
   {
    "duration": 11,
    "start_time": "2022-03-09T09:16:10.580Z"
   },
   {
    "duration": 18,
    "start_time": "2022-03-09T09:16:10.965Z"
   },
   {
    "duration": 8,
    "start_time": "2022-03-09T09:16:11.411Z"
   },
   {
    "duration": 3,
    "start_time": "2022-03-09T09:16:11.724Z"
   },
   {
    "duration": 49,
    "start_time": "2022-03-09T09:16:12.210Z"
   },
   {
    "duration": 10,
    "start_time": "2022-03-09T09:16:13.047Z"
   },
   {
    "duration": 11,
    "start_time": "2022-03-09T09:17:03.973Z"
   },
   {
    "duration": 5,
    "start_time": "2022-03-09T09:17:18.197Z"
   },
   {
    "duration": 9,
    "start_time": "2022-03-09T09:17:44.864Z"
   },
   {
    "duration": 9,
    "start_time": "2022-03-09T09:25:58.318Z"
   },
   {
    "duration": 5536,
    "start_time": "2022-03-09T09:26:26.198Z"
   },
   {
    "duration": 5420,
    "start_time": "2022-03-09T09:26:45.182Z"
   },
   {
    "duration": 13,
    "start_time": "2022-03-09T09:26:57.056Z"
   },
   {
    "duration": 16,
    "start_time": "2022-03-09T09:27:10.142Z"
   },
   {
    "duration": 16,
    "start_time": "2022-03-09T09:27:45.482Z"
   },
   {
    "duration": 3,
    "start_time": "2022-03-09T09:27:49.404Z"
   },
   {
    "duration": 59,
    "start_time": "2022-03-09T09:27:49.576Z"
   },
   {
    "duration": 7,
    "start_time": "2022-03-09T09:27:49.770Z"
   },
   {
    "duration": 76,
    "start_time": "2022-03-09T09:27:50.496Z"
   },
   {
    "duration": 12,
    "start_time": "2022-03-09T09:27:50.681Z"
   },
   {
    "duration": 8,
    "start_time": "2022-03-09T09:27:50.869Z"
   },
   {
    "duration": 6,
    "start_time": "2022-03-09T09:27:51.090Z"
   },
   {
    "duration": 6,
    "start_time": "2022-03-09T09:27:51.374Z"
   },
   {
    "duration": 9,
    "start_time": "2022-03-09T09:27:51.647Z"
   },
   {
    "duration": 11,
    "start_time": "2022-03-09T09:27:51.887Z"
   },
   {
    "duration": 8,
    "start_time": "2022-03-09T09:27:52.084Z"
   },
   {
    "duration": 16,
    "start_time": "2022-03-09T09:27:52.270Z"
   },
   {
    "duration": 11,
    "start_time": "2022-03-09T09:27:52.485Z"
   },
   {
    "duration": 13,
    "start_time": "2022-03-09T09:27:52.704Z"
   },
   {
    "duration": 6,
    "start_time": "2022-03-09T09:27:52.926Z"
   },
   {
    "duration": 11,
    "start_time": "2022-03-09T09:27:53.238Z"
   },
   {
    "duration": 11,
    "start_time": "2022-03-09T09:27:53.533Z"
   },
   {
    "duration": 11,
    "start_time": "2022-03-09T09:27:53.853Z"
   },
   {
    "duration": 18,
    "start_time": "2022-03-09T09:27:54.317Z"
   },
   {
    "duration": 7,
    "start_time": "2022-03-09T09:27:54.822Z"
   },
   {
    "duration": 2,
    "start_time": "2022-03-09T09:27:55.805Z"
   },
   {
    "duration": 45,
    "start_time": "2022-03-09T09:27:56.356Z"
   },
   {
    "duration": 18,
    "start_time": "2022-03-09T09:27:57.280Z"
   },
   {
    "duration": 19,
    "start_time": "2022-03-09T09:28:36.645Z"
   },
   {
    "duration": 12,
    "start_time": "2022-03-09T09:28:53.281Z"
   },
   {
    "duration": 10,
    "start_time": "2022-03-09T09:29:01.798Z"
   },
   {
    "duration": 10,
    "start_time": "2022-03-09T09:29:22.861Z"
   },
   {
    "duration": 29,
    "start_time": "2022-03-09T09:29:38.926Z"
   },
   {
    "duration": 12,
    "start_time": "2022-03-09T09:34:33.463Z"
   },
   {
    "duration": 11,
    "start_time": "2022-03-09T09:34:53.815Z"
   },
   {
    "duration": 13,
    "start_time": "2022-03-09T09:35:49.557Z"
   },
   {
    "duration": 68,
    "start_time": "2022-03-09T09:41:28.787Z"
   },
   {
    "duration": 88,
    "start_time": "2022-03-09T09:41:36.295Z"
   },
   {
    "duration": 88,
    "start_time": "2022-03-09T09:41:49.528Z"
   },
   {
    "duration": 31,
    "start_time": "2022-03-09T09:41:56.352Z"
   },
   {
    "duration": 29,
    "start_time": "2022-03-09T09:44:17.465Z"
   },
   {
    "duration": 29,
    "start_time": "2022-03-09T09:45:29.864Z"
   },
   {
    "duration": 27,
    "start_time": "2022-03-09T09:56:54.410Z"
   },
   {
    "duration": 29,
    "start_time": "2022-03-09T09:57:56.120Z"
   },
   {
    "duration": 32,
    "start_time": "2022-03-09T10:00:10.258Z"
   },
   {
    "duration": 42,
    "start_time": "2022-03-09T10:07:30.556Z"
   },
   {
    "duration": 223,
    "start_time": "2022-03-09T10:08:10.830Z"
   },
   {
    "duration": 40,
    "start_time": "2022-03-09T10:08:23.824Z"
   },
   {
    "duration": 40,
    "start_time": "2022-03-09T10:08:35.743Z"
   },
   {
    "duration": 31,
    "start_time": "2022-03-09T10:08:47.394Z"
   },
   {
    "duration": 9,
    "start_time": "2022-03-09T10:08:50.753Z"
   },
   {
    "duration": 6,
    "start_time": "2022-03-09T10:09:00.064Z"
   },
   {
    "duration": 83,
    "start_time": "2022-03-09T10:12:33.580Z"
   },
   {
    "duration": 79,
    "start_time": "2022-03-09T10:12:43.144Z"
   },
   {
    "duration": 177,
    "start_time": "2022-03-09T10:13:00.532Z"
   },
   {
    "duration": 166,
    "start_time": "2022-03-09T10:13:08.405Z"
   },
   {
    "duration": 168,
    "start_time": "2022-03-09T10:13:23.854Z"
   },
   {
    "duration": 1273,
    "start_time": "2022-03-09T10:13:42.069Z"
   },
   {
    "duration": 172,
    "start_time": "2022-03-09T10:13:48.038Z"
   },
   {
    "duration": 234,
    "start_time": "2022-03-09T10:15:56.760Z"
   },
   {
    "duration": 229,
    "start_time": "2022-03-09T10:16:16.348Z"
   },
   {
    "duration": 16,
    "start_time": "2022-03-09T10:16:24.401Z"
   },
   {
    "duration": 10,
    "start_time": "2022-03-09T10:16:39.419Z"
   },
   {
    "duration": 3,
    "start_time": "2022-03-09T13:43:46.714Z"
   },
   {
    "duration": 68,
    "start_time": "2022-03-09T13:43:46.719Z"
   },
   {
    "duration": 8,
    "start_time": "2022-03-09T13:43:46.789Z"
   },
   {
    "duration": 87,
    "start_time": "2022-03-09T13:43:48.895Z"
   },
   {
    "duration": 12,
    "start_time": "2022-03-09T13:43:49.399Z"
   },
   {
    "duration": 9,
    "start_time": "2022-03-09T13:43:49.879Z"
   },
   {
    "duration": 8,
    "start_time": "2022-03-09T13:43:50.382Z"
   },
   {
    "duration": 6,
    "start_time": "2022-03-09T13:43:50.947Z"
   },
   {
    "duration": 8,
    "start_time": "2022-03-09T13:43:51.426Z"
   },
   {
    "duration": 11,
    "start_time": "2022-03-09T13:43:51.910Z"
   },
   {
    "duration": 6,
    "start_time": "2022-03-09T13:43:52.430Z"
   },
   {
    "duration": 15,
    "start_time": "2022-03-09T13:43:53.017Z"
   },
   {
    "duration": 9,
    "start_time": "2022-03-09T13:43:53.945Z"
   },
   {
    "duration": 14,
    "start_time": "2022-03-09T13:43:54.923Z"
   },
   {
    "duration": 9,
    "start_time": "2022-03-09T13:43:55.764Z"
   },
   {
    "duration": 12,
    "start_time": "2022-03-09T13:43:57.827Z"
   },
   {
    "duration": 10,
    "start_time": "2022-03-09T13:43:58.468Z"
   },
   {
    "duration": 12,
    "start_time": "2022-03-09T13:43:59.310Z"
   },
   {
    "duration": 17,
    "start_time": "2022-03-09T13:44:00.190Z"
   },
   {
    "duration": 9,
    "start_time": "2022-03-09T13:44:02.726Z"
   },
   {
    "duration": 3,
    "start_time": "2022-03-09T13:44:04.944Z"
   },
   {
    "duration": 48,
    "start_time": "2022-03-09T13:44:05.535Z"
   },
   {
    "duration": 11,
    "start_time": "2022-03-09T13:44:06.244Z"
   },
   {
    "duration": 18,
    "start_time": "2022-03-09T13:44:07.142Z"
   },
   {
    "duration": 33,
    "start_time": "2022-03-09T13:44:10.829Z"
   },
   {
    "duration": 35,
    "start_time": "2022-03-09T13:44:11.963Z"
   },
   {
    "duration": 8,
    "start_time": "2022-03-09T13:44:12.873Z"
   },
   {
    "duration": 74,
    "start_time": "2022-03-09T13:46:34.943Z"
   },
   {
    "duration": 67,
    "start_time": "2022-03-09T13:46:43.093Z"
   },
   {
    "duration": 100,
    "start_time": "2022-03-09T13:49:04.653Z"
   },
   {
    "duration": 8,
    "start_time": "2022-03-09T13:49:30.878Z"
   },
   {
    "duration": 9,
    "start_time": "2022-03-09T13:49:46.920Z"
   },
   {
    "duration": 6,
    "start_time": "2022-03-09T13:50:06.152Z"
   },
   {
    "duration": 86,
    "start_time": "2022-03-09T13:52:43.169Z"
   },
   {
    "duration": 74,
    "start_time": "2022-03-09T13:52:54.879Z"
   },
   {
    "duration": 11,
    "start_time": "2022-03-09T13:52:58.882Z"
   },
   {
    "duration": 13,
    "start_time": "2022-03-09T13:53:23.096Z"
   },
   {
    "duration": 152,
    "start_time": "2022-03-09T13:54:26.755Z"
   },
   {
    "duration": 88,
    "start_time": "2022-03-09T13:54:44.123Z"
   },
   {
    "duration": 68,
    "start_time": "2022-03-09T13:54:48.498Z"
   },
   {
    "duration": 9,
    "start_time": "2022-03-09T13:55:01.701Z"
   },
   {
    "duration": 11,
    "start_time": "2022-03-09T13:55:42.907Z"
   },
   {
    "duration": 21,
    "start_time": "2022-03-09T13:55:55.603Z"
   },
   {
    "duration": 30,
    "start_time": "2022-03-09T13:56:00.566Z"
   },
   {
    "duration": 31,
    "start_time": "2022-03-09T13:56:21.319Z"
   },
   {
    "duration": 3,
    "start_time": "2022-03-09T13:56:36.984Z"
   },
   {
    "duration": 55,
    "start_time": "2022-03-09T13:56:37.246Z"
   },
   {
    "duration": 7,
    "start_time": "2022-03-09T13:56:37.448Z"
   },
   {
    "duration": 88,
    "start_time": "2022-03-09T13:56:38.351Z"
   },
   {
    "duration": 12,
    "start_time": "2022-03-09T13:56:38.597Z"
   },
   {
    "duration": 9,
    "start_time": "2022-03-09T13:56:38.890Z"
   },
   {
    "duration": 8,
    "start_time": "2022-03-09T13:56:39.313Z"
   },
   {
    "duration": 5,
    "start_time": "2022-03-09T13:56:39.578Z"
   },
   {
    "duration": 8,
    "start_time": "2022-03-09T13:56:39.941Z"
   },
   {
    "duration": 11,
    "start_time": "2022-03-09T13:56:40.168Z"
   },
   {
    "duration": 8,
    "start_time": "2022-03-09T13:56:40.349Z"
   },
   {
    "duration": 16,
    "start_time": "2022-03-09T13:56:40.609Z"
   },
   {
    "duration": 9,
    "start_time": "2022-03-09T13:56:40.832Z"
   },
   {
    "duration": 14,
    "start_time": "2022-03-09T13:56:41.104Z"
   },
   {
    "duration": 8,
    "start_time": "2022-03-09T13:56:41.396Z"
   },
   {
    "duration": 12,
    "start_time": "2022-03-09T13:56:41.679Z"
   },
   {
    "duration": 10,
    "start_time": "2022-03-09T13:56:42.033Z"
   },
   {
    "duration": 11,
    "start_time": "2022-03-09T13:56:42.334Z"
   },
   {
    "duration": 18,
    "start_time": "2022-03-09T13:56:42.669Z"
   },
   {
    "duration": 10,
    "start_time": "2022-03-09T13:56:43.209Z"
   },
   {
    "duration": 2,
    "start_time": "2022-03-09T13:56:43.552Z"
   },
   {
    "duration": 44,
    "start_time": "2022-03-09T13:56:44.056Z"
   },
   {
    "duration": 9,
    "start_time": "2022-03-09T13:56:44.549Z"
   },
   {
    "duration": 14,
    "start_time": "2022-03-09T13:56:45.746Z"
   },
   {
    "duration": 31,
    "start_time": "2022-03-09T13:56:46.209Z"
   },
   {
    "duration": 34,
    "start_time": "2022-03-09T13:56:49.423Z"
   },
   {
    "duration": 8,
    "start_time": "2022-03-09T13:56:53.581Z"
   },
   {
    "duration": 29,
    "start_time": "2022-03-09T13:56:58.358Z"
   },
   {
    "duration": 69,
    "start_time": "2022-03-09T13:59:29.586Z"
   },
   {
    "duration": 92,
    "start_time": "2022-03-09T14:00:05.691Z"
   },
   {
    "duration": 302,
    "start_time": "2022-03-09T14:00:23.921Z"
   },
   {
    "duration": 78,
    "start_time": "2022-03-09T14:00:29.631Z"
   },
   {
    "duration": 242,
    "start_time": "2022-03-09T14:00:42.424Z"
   },
   {
    "duration": 102,
    "start_time": "2022-03-09T14:00:50.998Z"
   },
   {
    "duration": 354,
    "start_time": "2022-03-09T14:01:57.790Z"
   },
   {
    "duration": 153,
    "start_time": "2022-03-09T14:07:51.085Z"
   },
   {
    "duration": 37,
    "start_time": "2022-03-09T14:07:58.828Z"
   },
   {
    "duration": 2,
    "start_time": "2022-03-09T14:08:05.938Z"
   },
   {
    "duration": 52,
    "start_time": "2022-03-09T14:08:06.218Z"
   },
   {
    "duration": 6,
    "start_time": "2022-03-09T14:08:06.460Z"
   },
   {
    "duration": 87,
    "start_time": "2022-03-09T14:08:07.241Z"
   },
   {
    "duration": 11,
    "start_time": "2022-03-09T14:08:31.639Z"
   },
   {
    "duration": 9,
    "start_time": "2022-03-09T14:08:32.134Z"
   },
   {
    "duration": 7,
    "start_time": "2022-03-09T14:08:32.703Z"
   },
   {
    "duration": 5,
    "start_time": "2022-03-09T14:08:33.062Z"
   },
   {
    "duration": 8,
    "start_time": "2022-03-09T14:08:33.384Z"
   },
   {
    "duration": 11,
    "start_time": "2022-03-09T14:08:33.749Z"
   },
   {
    "duration": 7,
    "start_time": "2022-03-09T14:08:34.232Z"
   },
   {
    "duration": 17,
    "start_time": "2022-03-09T14:08:34.514Z"
   },
   {
    "duration": 9,
    "start_time": "2022-03-09T14:08:34.721Z"
   },
   {
    "duration": 14,
    "start_time": "2022-03-09T14:08:34.993Z"
   },
   {
    "duration": 7,
    "start_time": "2022-03-09T14:08:35.252Z"
   },
   {
    "duration": 13,
    "start_time": "2022-03-09T14:08:35.574Z"
   },
   {
    "duration": 10,
    "start_time": "2022-03-09T14:08:35.936Z"
   },
   {
    "duration": 12,
    "start_time": "2022-03-09T14:08:36.268Z"
   },
   {
    "duration": 20,
    "start_time": "2022-03-09T14:08:36.757Z"
   },
   {
    "duration": 10,
    "start_time": "2022-03-09T14:08:37.282Z"
   },
   {
    "duration": 2,
    "start_time": "2022-03-09T14:08:37.625Z"
   },
   {
    "duration": 47,
    "start_time": "2022-03-09T14:08:38.023Z"
   },
   {
    "duration": 11,
    "start_time": "2022-03-09T14:08:38.714Z"
   },
   {
    "duration": 16,
    "start_time": "2022-03-09T14:08:39.823Z"
   },
   {
    "duration": 31,
    "start_time": "2022-03-09T14:08:40.260Z"
   },
   {
    "duration": 32,
    "start_time": "2022-03-09T14:08:42.207Z"
   },
   {
    "duration": 8,
    "start_time": "2022-03-09T14:08:43.099Z"
   },
   {
    "duration": 6018,
    "start_time": "2022-03-09T14:08:44.173Z"
   },
   {
    "duration": 11,
    "start_time": "2022-03-09T14:09:25.626Z"
   },
   {
    "duration": 26,
    "start_time": "2022-03-09T14:10:03.904Z"
   },
   {
    "duration": 32,
    "start_time": "2022-03-09T14:10:27.390Z"
   },
   {
    "duration": 267,
    "start_time": "2022-03-10T03:26:07.649Z"
   },
   {
    "duration": 669,
    "start_time": "2022-03-10T03:26:43.427Z"
   },
   {
    "duration": 71,
    "start_time": "2022-03-10T03:26:44.099Z"
   },
   {
    "duration": 18,
    "start_time": "2022-03-10T03:26:44.173Z"
   },
   {
    "duration": 110,
    "start_time": "2022-03-10T03:26:44.778Z"
   },
   {
    "duration": 15,
    "start_time": "2022-03-10T03:26:45.023Z"
   },
   {
    "duration": 10,
    "start_time": "2022-03-10T03:26:45.275Z"
   },
   {
    "duration": 10,
    "start_time": "2022-03-10T03:26:45.531Z"
   },
   {
    "duration": 7,
    "start_time": "2022-03-10T03:26:45.754Z"
   },
   {
    "duration": 13,
    "start_time": "2022-03-10T03:26:46.169Z"
   },
   {
    "duration": 14,
    "start_time": "2022-03-10T03:26:46.443Z"
   },
   {
    "duration": 10,
    "start_time": "2022-03-10T03:26:46.694Z"
   },
   {
    "duration": 20,
    "start_time": "2022-03-10T03:26:46.914Z"
   },
   {
    "duration": 12,
    "start_time": "2022-03-10T03:26:47.090Z"
   },
   {
    "duration": 19,
    "start_time": "2022-03-10T03:26:47.292Z"
   },
   {
    "duration": 10,
    "start_time": "2022-03-10T03:26:47.520Z"
   },
   {
    "duration": 15,
    "start_time": "2022-03-10T03:26:47.753Z"
   },
   {
    "duration": 12,
    "start_time": "2022-03-10T03:26:47.958Z"
   },
   {
    "duration": 15,
    "start_time": "2022-03-10T03:26:48.150Z"
   },
   {
    "duration": 23,
    "start_time": "2022-03-10T03:26:48.370Z"
   },
   {
    "duration": 11,
    "start_time": "2022-03-10T03:26:48.952Z"
   },
   {
    "duration": 3,
    "start_time": "2022-03-10T03:26:49.367Z"
   },
   {
    "duration": 66,
    "start_time": "2022-03-10T03:26:49.729Z"
   },
   {
    "duration": 11,
    "start_time": "2022-03-10T03:26:50.156Z"
   },
   {
    "duration": 19,
    "start_time": "2022-03-10T03:26:50.677Z"
   },
   {
    "duration": 43,
    "start_time": "2022-03-10T03:26:51.229Z"
   },
   {
    "duration": 51,
    "start_time": "2022-03-10T03:26:52.471Z"
   },
   {
    "duration": 10,
    "start_time": "2022-03-10T03:26:52.914Z"
   },
   {
    "duration": 302,
    "start_time": "2022-03-10T03:26:53.355Z"
   },
   {
    "duration": 48,
    "start_time": "2022-03-10T03:27:22.240Z"
   },
   {
    "duration": 66,
    "start_time": "2022-03-10T03:27:46.116Z"
   },
   {
    "duration": 94,
    "start_time": "2022-03-10T03:27:56.223Z"
   },
   {
    "duration": 79,
    "start_time": "2022-03-10T03:28:58.206Z"
   },
   {
    "duration": 66,
    "start_time": "2022-03-10T03:29:06.301Z"
   },
   {
    "duration": 69,
    "start_time": "2022-03-10T03:29:24.908Z"
   },
   {
    "duration": 66,
    "start_time": "2022-03-10T03:29:48.154Z"
   },
   {
    "duration": 64,
    "start_time": "2022-03-10T03:30:06.998Z"
   },
   {
    "duration": 75,
    "start_time": "2022-03-10T03:30:15.480Z"
   },
   {
    "duration": 79,
    "start_time": "2022-03-10T03:30:23.804Z"
   },
   {
    "duration": 4,
    "start_time": "2022-03-10T03:30:36.348Z"
   },
   {
    "duration": 73,
    "start_time": "2022-03-10T03:30:36.526Z"
   },
   {
    "duration": 10,
    "start_time": "2022-03-10T03:30:36.711Z"
   },
   {
    "duration": 111,
    "start_time": "2022-03-10T03:30:37.451Z"
   },
   {
    "duration": 28,
    "start_time": "2022-03-10T03:30:37.565Z"
   },
   {
    "duration": 12,
    "start_time": "2022-03-10T03:30:37.597Z"
   },
   {
    "duration": 23,
    "start_time": "2022-03-10T03:30:37.612Z"
   },
   {
    "duration": 8,
    "start_time": "2022-03-10T03:30:37.637Z"
   },
   {
    "duration": 43,
    "start_time": "2022-03-10T03:30:37.648Z"
   },
   {
    "duration": 31,
    "start_time": "2022-03-10T03:30:37.695Z"
   },
   {
    "duration": 11,
    "start_time": "2022-03-10T03:30:37.729Z"
   },
   {
    "duration": 50,
    "start_time": "2022-03-10T03:30:37.742Z"
   },
   {
    "duration": 13,
    "start_time": "2022-03-10T03:30:37.796Z"
   },
   {
    "duration": 24,
    "start_time": "2022-03-10T03:30:37.812Z"
   },
   {
    "duration": 48,
    "start_time": "2022-03-10T03:30:37.839Z"
   },
   {
    "duration": 14,
    "start_time": "2022-03-10T03:30:37.891Z"
   },
   {
    "duration": 19,
    "start_time": "2022-03-10T03:30:37.908Z"
   },
   {
    "duration": 53,
    "start_time": "2022-03-10T03:30:37.929Z"
   },
   {
    "duration": 25,
    "start_time": "2022-03-10T03:30:37.985Z"
   },
   {
    "duration": 11,
    "start_time": "2022-03-10T03:30:38.012Z"
   },
   {
    "duration": 3,
    "start_time": "2022-03-10T03:30:38.322Z"
   },
   {
    "duration": 67,
    "start_time": "2022-03-10T03:30:38.943Z"
   },
   {
    "duration": 13,
    "start_time": "2022-03-10T03:30:39.178Z"
   },
   {
    "duration": 19,
    "start_time": "2022-03-10T03:30:39.429Z"
   },
   {
    "duration": 44,
    "start_time": "2022-03-10T03:30:39.643Z"
   },
   {
    "duration": 46,
    "start_time": "2022-03-10T03:30:40.098Z"
   },
   {
    "duration": 14,
    "start_time": "2022-03-10T03:30:40.320Z"
   },
   {
    "duration": 79,
    "start_time": "2022-03-10T03:30:40.487Z"
   },
   {
    "duration": 226,
    "start_time": "2022-03-10T03:38:16.884Z"
   },
   {
    "duration": 5333,
    "start_time": "2022-03-10T03:38:26.387Z"
   },
   {
    "duration": 5218,
    "start_time": "2022-03-10T03:38:42.186Z"
   },
   {
    "duration": 4,
    "start_time": "2022-03-10T03:38:54.567Z"
   },
   {
    "duration": 65,
    "start_time": "2022-03-10T03:38:54.590Z"
   },
   {
    "duration": 11,
    "start_time": "2022-03-10T03:38:54.658Z"
   },
   {
    "duration": 99,
    "start_time": "2022-03-10T03:38:54.754Z"
   },
   {
    "duration": 27,
    "start_time": "2022-03-10T03:38:54.855Z"
   },
   {
    "duration": 11,
    "start_time": "2022-03-10T03:38:54.885Z"
   },
   {
    "duration": 10,
    "start_time": "2022-03-10T03:38:54.898Z"
   },
   {
    "duration": 6,
    "start_time": "2022-03-10T03:38:54.910Z"
   },
   {
    "duration": 65,
    "start_time": "2022-03-10T03:38:54.919Z"
   },
   {
    "duration": 18,
    "start_time": "2022-03-10T03:38:54.987Z"
   },
   {
    "duration": 8,
    "start_time": "2022-03-10T03:38:55.008Z"
   },
   {
    "duration": 64,
    "start_time": "2022-03-10T03:38:55.019Z"
   },
   {
    "duration": 12,
    "start_time": "2022-03-10T03:38:55.086Z"
   },
   {
    "duration": 17,
    "start_time": "2022-03-10T03:38:55.101Z"
   },
   {
    "duration": 10,
    "start_time": "2022-03-10T03:38:55.121Z"
   },
   {
    "duration": 16,
    "start_time": "2022-03-10T03:38:55.184Z"
   },
   {
    "duration": 13,
    "start_time": "2022-03-10T03:38:55.430Z"
   },
   {
    "duration": 15,
    "start_time": "2022-03-10T03:38:55.858Z"
   },
   {
    "duration": 30,
    "start_time": "2022-03-10T03:38:56.244Z"
   },
   {
    "duration": 11,
    "start_time": "2022-03-10T03:38:56.685Z"
   },
   {
    "duration": 3,
    "start_time": "2022-03-10T03:38:57.154Z"
   },
   {
    "duration": 66,
    "start_time": "2022-03-10T03:38:57.829Z"
   },
   {
    "duration": 13,
    "start_time": "2022-03-10T03:38:58.451Z"
   },
   {
    "duration": 19,
    "start_time": "2022-03-10T03:38:59.338Z"
   },
   {
    "duration": 44,
    "start_time": "2022-03-10T03:38:59.765Z"
   },
   {
    "duration": 49,
    "start_time": "2022-03-10T03:39:00.733Z"
   },
   {
    "duration": 10,
    "start_time": "2022-03-10T03:39:01.960Z"
   },
   {
    "duration": 5298,
    "start_time": "2022-03-10T03:39:03.615Z"
   },
   {
    "duration": 5159,
    "start_time": "2022-03-10T03:39:22.037Z"
   },
   {
    "duration": 40,
    "start_time": "2022-03-10T03:41:27.019Z"
   },
   {
    "duration": 214,
    "start_time": "2022-03-10T03:42:34.333Z"
   },
   {
    "duration": 226,
    "start_time": "2022-03-10T03:42:52.443Z"
   },
   {
    "duration": 81,
    "start_time": "2022-03-10T03:43:09.895Z"
   },
   {
    "duration": 211,
    "start_time": "2022-03-10T03:43:24.307Z"
   },
   {
    "duration": 222,
    "start_time": "2022-03-10T03:43:39.440Z"
   },
   {
    "duration": 202,
    "start_time": "2022-03-10T03:43:44.888Z"
   },
   {
    "duration": 245,
    "start_time": "2022-03-10T03:44:15.756Z"
   },
   {
    "duration": 70,
    "start_time": "2022-03-10T03:44:45.776Z"
   },
   {
    "duration": 200,
    "start_time": "2022-03-10T03:44:53.880Z"
   },
   {
    "duration": 4,
    "start_time": "2022-03-10T03:45:08.255Z"
   },
   {
    "duration": 66,
    "start_time": "2022-03-10T03:45:08.290Z"
   },
   {
    "duration": 10,
    "start_time": "2022-03-10T03:45:08.359Z"
   },
   {
    "duration": 103,
    "start_time": "2022-03-10T03:45:08.438Z"
   },
   {
    "duration": 16,
    "start_time": "2022-03-10T03:45:08.544Z"
   },
   {
    "duration": 27,
    "start_time": "2022-03-10T03:45:08.563Z"
   },
   {
    "duration": 9,
    "start_time": "2022-03-10T03:45:08.593Z"
   },
   {
    "duration": 9,
    "start_time": "2022-03-10T03:45:08.605Z"
   },
   {
    "duration": 23,
    "start_time": "2022-03-10T03:45:08.617Z"
   },
   {
    "duration": 51,
    "start_time": "2022-03-10T03:45:08.643Z"
   },
   {
    "duration": 10,
    "start_time": "2022-03-10T03:45:08.697Z"
   },
   {
    "duration": 32,
    "start_time": "2022-03-10T03:45:08.710Z"
   },
   {
    "duration": 49,
    "start_time": "2022-03-10T03:45:08.745Z"
   },
   {
    "duration": 21,
    "start_time": "2022-03-10T03:45:08.797Z"
   },
   {
    "duration": 23,
    "start_time": "2022-03-10T03:45:08.821Z"
   },
   {
    "duration": 47,
    "start_time": "2022-03-10T03:45:08.847Z"
   },
   {
    "duration": 14,
    "start_time": "2022-03-10T03:45:08.896Z"
   },
   {
    "duration": 20,
    "start_time": "2022-03-10T03:45:08.912Z"
   },
   {
    "duration": 67,
    "start_time": "2022-03-10T03:45:08.935Z"
   },
   {
    "duration": 10,
    "start_time": "2022-03-10T03:45:09.005Z"
   },
   {
    "duration": 13,
    "start_time": "2022-03-10T03:45:09.018Z"
   },
   {
    "duration": 112,
    "start_time": "2022-03-10T03:45:09.034Z"
   },
   {
    "duration": 13,
    "start_time": "2022-03-10T03:45:09.187Z"
   },
   {
    "duration": 18,
    "start_time": "2022-03-10T03:45:09.391Z"
   },
   {
    "duration": 45,
    "start_time": "2022-03-10T03:45:09.607Z"
   },
   {
    "duration": 46,
    "start_time": "2022-03-10T03:45:10.174Z"
   },
   {
    "duration": 10,
    "start_time": "2022-03-10T03:45:10.475Z"
   },
   {
    "duration": 41,
    "start_time": "2022-03-10T03:45:10.897Z"
   },
   {
    "duration": 5002,
    "start_time": "2022-03-10T03:45:52.842Z"
   },
   {
    "duration": 39,
    "start_time": "2022-03-10T03:46:14.155Z"
   },
   {
    "duration": 9,
    "start_time": "2022-03-10T03:46:22.180Z"
   },
   {
    "duration": 65,
    "start_time": "2022-03-10T03:46:22.215Z"
   },
   {
    "duration": 11,
    "start_time": "2022-03-10T03:46:22.283Z"
   },
   {
    "duration": 104,
    "start_time": "2022-03-10T03:46:22.367Z"
   },
   {
    "duration": 15,
    "start_time": "2022-03-10T03:46:22.482Z"
   },
   {
    "duration": 11,
    "start_time": "2022-03-10T03:46:22.500Z"
   },
   {
    "duration": 12,
    "start_time": "2022-03-10T03:46:22.513Z"
   },
   {
    "duration": 54,
    "start_time": "2022-03-10T03:46:22.528Z"
   },
   {
    "duration": 13,
    "start_time": "2022-03-10T03:46:22.586Z"
   },
   {
    "duration": 15,
    "start_time": "2022-03-10T03:46:22.602Z"
   },
   {
    "duration": 9,
    "start_time": "2022-03-10T03:46:22.620Z"
   },
   {
    "duration": 20,
    "start_time": "2022-03-10T03:46:22.682Z"
   },
   {
    "duration": 12,
    "start_time": "2022-03-10T03:46:22.705Z"
   },
   {
    "duration": 65,
    "start_time": "2022-03-10T03:46:22.719Z"
   },
   {
    "duration": 9,
    "start_time": "2022-03-10T03:46:22.787Z"
   },
   {
    "duration": 14,
    "start_time": "2022-03-10T03:46:22.800Z"
   },
   {
    "duration": 12,
    "start_time": "2022-03-10T03:46:22.816Z"
   },
   {
    "duration": 64,
    "start_time": "2022-03-10T03:46:22.831Z"
   },
   {
    "duration": 23,
    "start_time": "2022-03-10T03:46:22.898Z"
   },
   {
    "duration": 62,
    "start_time": "2022-03-10T03:46:22.924Z"
   },
   {
    "duration": 3,
    "start_time": "2022-03-10T03:46:22.989Z"
   },
   {
    "duration": 92,
    "start_time": "2022-03-10T03:46:22.994Z"
   },
   {
    "duration": 13,
    "start_time": "2022-03-10T03:46:23.089Z"
   },
   {
    "duration": 18,
    "start_time": "2022-03-10T03:46:23.104Z"
   },
   {
    "duration": 92,
    "start_time": "2022-03-10T03:46:23.124Z"
   },
   {
    "duration": 71,
    "start_time": "2022-03-10T03:46:23.219Z"
   },
   {
    "duration": 9,
    "start_time": "2022-03-10T03:46:24.046Z"
   },
   {
    "duration": 41,
    "start_time": "2022-03-10T03:46:24.827Z"
   },
   {
    "duration": 73,
    "start_time": "2022-03-10T03:46:48.095Z"
   },
   {
    "duration": 51,
    "start_time": "2022-03-10T03:47:10.033Z"
   },
   {
    "duration": 54,
    "start_time": "2022-03-10T03:48:25.201Z"
   },
   {
    "duration": 231,
    "start_time": "2022-03-10T03:49:08.406Z"
   },
   {
    "duration": 75,
    "start_time": "2022-03-10T03:49:31.531Z"
   },
   {
    "duration": 286,
    "start_time": "2022-03-10T03:49:36.472Z"
   },
   {
    "duration": 50,
    "start_time": "2022-03-10T03:49:44.002Z"
   },
   {
    "duration": 224,
    "start_time": "2022-03-10T03:50:31.293Z"
   },
   {
    "duration": 55,
    "start_time": "2022-03-10T03:50:46.164Z"
   },
   {
    "duration": 40,
    "start_time": "2022-03-10T03:51:08.415Z"
   },
   {
    "duration": 39,
    "start_time": "2022-03-10T03:51:14.704Z"
   },
   {
    "duration": 27,
    "start_time": "2022-03-10T03:51:18.594Z"
   },
   {
    "duration": 69,
    "start_time": "2022-03-10T03:51:41.402Z"
   },
   {
    "duration": 218,
    "start_time": "2022-03-10T03:51:50.863Z"
   },
   {
    "duration": 30,
    "start_time": "2022-03-10T03:51:57.332Z"
   },
   {
    "duration": 53,
    "start_time": "2022-03-10T03:52:13.361Z"
   },
   {
    "duration": 59,
    "start_time": "2022-03-10T03:52:21.637Z"
   },
   {
    "duration": 55,
    "start_time": "2022-03-10T03:52:34.839Z"
   },
   {
    "duration": 71,
    "start_time": "2022-03-10T05:27:35.703Z"
   },
   {
    "duration": 81,
    "start_time": "2022-03-10T05:27:41.980Z"
   },
   {
    "duration": 229,
    "start_time": "2022-03-10T05:27:59.948Z"
   },
   {
    "duration": 70,
    "start_time": "2022-03-10T05:29:25.448Z"
   },
   {
    "duration": 70,
    "start_time": "2022-03-10T05:29:31.745Z"
   },
   {
    "duration": 74,
    "start_time": "2022-03-10T05:29:34.679Z"
   },
   {
    "duration": 223,
    "start_time": "2022-03-10T05:29:37.988Z"
   },
   {
    "duration": 244,
    "start_time": "2022-03-10T05:32:03.135Z"
   },
   {
    "duration": 220,
    "start_time": "2022-03-10T05:35:40.776Z"
   },
   {
    "duration": 372,
    "start_time": "2022-03-10T05:35:52.566Z"
   },
   {
    "duration": 74,
    "start_time": "2022-03-10T05:37:33.998Z"
   },
   {
    "duration": 361,
    "start_time": "2022-03-10T05:38:40.874Z"
   },
   {
    "duration": 48,
    "start_time": "2022-03-10T05:44:38.498Z"
   },
   {
    "duration": 222,
    "start_time": "2022-03-10T05:45:22.436Z"
   },
   {
    "duration": 229,
    "start_time": "2022-03-10T05:45:50.368Z"
   },
   {
    "duration": 63,
    "start_time": "2022-03-10T05:46:03.672Z"
   },
   {
    "duration": 66,
    "start_time": "2022-03-10T05:46:27.974Z"
   },
   {
    "duration": 227,
    "start_time": "2022-03-10T05:46:37.996Z"
   },
   {
    "duration": 217,
    "start_time": "2022-03-10T05:46:42.085Z"
   },
   {
    "duration": 209,
    "start_time": "2022-03-10T05:47:02.818Z"
   },
   {
    "duration": 300,
    "start_time": "2022-03-10T05:47:36.673Z"
   },
   {
    "duration": 252,
    "start_time": "2022-03-10T05:47:43.822Z"
   },
   {
    "duration": 214,
    "start_time": "2022-03-10T05:48:31.344Z"
   },
   {
    "duration": 286,
    "start_time": "2022-03-10T05:48:47.328Z"
   },
   {
    "duration": 212,
    "start_time": "2022-03-10T05:49:19.185Z"
   },
   {
    "duration": 3,
    "start_time": "2022-03-10T05:49:35.004Z"
   },
   {
    "duration": 66,
    "start_time": "2022-03-10T05:49:35.030Z"
   },
   {
    "duration": 9,
    "start_time": "2022-03-10T05:49:35.098Z"
   },
   {
    "duration": 104,
    "start_time": "2022-03-10T05:49:35.189Z"
   },
   {
    "duration": 15,
    "start_time": "2022-03-10T05:49:35.296Z"
   },
   {
    "duration": 10,
    "start_time": "2022-03-10T05:49:35.314Z"
   },
   {
    "duration": 19,
    "start_time": "2022-03-10T05:49:35.326Z"
   },
   {
    "duration": 36,
    "start_time": "2022-03-10T05:49:35.348Z"
   },
   {
    "duration": 12,
    "start_time": "2022-03-10T05:49:35.387Z"
   },
   {
    "duration": 22,
    "start_time": "2022-03-10T05:49:35.402Z"
   },
   {
    "duration": 9,
    "start_time": "2022-03-10T05:49:35.427Z"
   },
   {
    "duration": 57,
    "start_time": "2022-03-10T05:49:35.439Z"
   },
   {
    "duration": 11,
    "start_time": "2022-03-10T05:49:35.498Z"
   },
   {
    "duration": 20,
    "start_time": "2022-03-10T05:49:35.512Z"
   },
   {
    "duration": 48,
    "start_time": "2022-03-10T05:49:35.535Z"
   },
   {
    "duration": 17,
    "start_time": "2022-03-10T05:49:35.585Z"
   },
   {
    "duration": 13,
    "start_time": "2022-03-10T05:49:35.818Z"
   },
   {
    "duration": 16,
    "start_time": "2022-03-10T05:49:36.060Z"
   },
   {
    "duration": 24,
    "start_time": "2022-03-10T05:49:36.277Z"
   },
   {
    "duration": 11,
    "start_time": "2022-03-10T05:49:36.468Z"
   },
   {
    "duration": 4,
    "start_time": "2022-03-10T05:49:36.676Z"
   },
   {
    "duration": 68,
    "start_time": "2022-03-10T05:49:37.091Z"
   },
   {
    "duration": 12,
    "start_time": "2022-03-10T05:49:37.386Z"
   },
   {
    "duration": 17,
    "start_time": "2022-03-10T05:49:37.706Z"
   },
   {
    "duration": 44,
    "start_time": "2022-03-10T05:49:38.035Z"
   },
   {
    "duration": 48,
    "start_time": "2022-03-10T05:49:39.348Z"
   },
   {
    "duration": 10,
    "start_time": "2022-03-10T05:49:39.751Z"
   },
   {
    "duration": 54,
    "start_time": "2022-03-10T05:49:40.358Z"
   },
   {
    "duration": 222,
    "start_time": "2022-03-10T05:49:42.119Z"
   },
   {
    "duration": 676,
    "start_time": "2022-03-10T05:50:07.722Z"
   },
   {
    "duration": 208,
    "start_time": "2022-03-10T05:54:04.401Z"
   },
   {
    "duration": 254,
    "start_time": "2022-03-10T05:55:46.310Z"
   },
   {
    "duration": 321,
    "start_time": "2022-03-10T06:00:00.280Z"
   },
   {
    "duration": 72,
    "start_time": "2022-03-10T06:02:53.115Z"
   },
   {
    "duration": 351,
    "start_time": "2022-03-10T06:02:58.738Z"
   },
   {
    "duration": 5374,
    "start_time": "2022-03-10T06:03:52.835Z"
   },
   {
    "duration": 230,
    "start_time": "2022-03-10T06:04:10.834Z"
   },
   {
    "duration": 73,
    "start_time": "2022-03-10T06:06:06.021Z"
   },
   {
    "duration": 89,
    "start_time": "2022-03-10T06:06:17.895Z"
   },
   {
    "duration": 242,
    "start_time": "2022-03-10T06:06:41.024Z"
   },
   {
    "duration": 14,
    "start_time": "2022-03-10T06:06:56.731Z"
   },
   {
    "duration": 53,
    "start_time": "2022-03-10T06:07:18.208Z"
   },
   {
    "duration": 52,
    "start_time": "2022-03-10T06:07:30.891Z"
   },
   {
    "duration": 4,
    "start_time": "2022-03-10T06:07:50.300Z"
   },
   {
    "duration": 69,
    "start_time": "2022-03-10T06:07:50.329Z"
   },
   {
    "duration": 9,
    "start_time": "2022-03-10T06:07:50.401Z"
   },
   {
    "duration": 117,
    "start_time": "2022-03-10T06:07:50.480Z"
   },
   {
    "duration": 14,
    "start_time": "2022-03-10T06:07:50.600Z"
   },
   {
    "duration": 9,
    "start_time": "2022-03-10T06:07:50.617Z"
   },
   {
    "duration": 9,
    "start_time": "2022-03-10T06:07:50.629Z"
   },
   {
    "duration": 45,
    "start_time": "2022-03-10T06:07:50.641Z"
   },
   {
    "duration": 12,
    "start_time": "2022-03-10T06:07:50.689Z"
   },
   {
    "duration": 13,
    "start_time": "2022-03-10T06:07:50.704Z"
   },
   {
    "duration": 8,
    "start_time": "2022-03-10T06:07:50.719Z"
   },
   {
    "duration": 67,
    "start_time": "2022-03-10T06:07:50.730Z"
   },
   {
    "duration": 11,
    "start_time": "2022-03-10T06:07:50.800Z"
   },
   {
    "duration": 17,
    "start_time": "2022-03-10T06:07:50.814Z"
   },
   {
    "duration": 48,
    "start_time": "2022-03-10T06:07:50.834Z"
   },
   {
    "duration": 16,
    "start_time": "2022-03-10T06:07:50.885Z"
   },
   {
    "duration": 14,
    "start_time": "2022-03-10T06:07:50.903Z"
   },
   {
    "duration": 16,
    "start_time": "2022-03-10T06:07:50.919Z"
   },
   {
    "duration": 65,
    "start_time": "2022-03-10T06:07:50.940Z"
   },
   {
    "duration": 11,
    "start_time": "2022-03-10T06:07:51.008Z"
   },
   {
    "duration": 3,
    "start_time": "2022-03-10T06:07:51.022Z"
   },
   {
    "duration": 66,
    "start_time": "2022-03-10T06:07:51.302Z"
   },
   {
    "duration": 14,
    "start_time": "2022-03-10T06:07:51.666Z"
   },
   {
    "duration": 19,
    "start_time": "2022-03-10T06:07:52.065Z"
   },
   {
    "duration": 46,
    "start_time": "2022-03-10T06:07:52.519Z"
   },
   {
    "duration": 47,
    "start_time": "2022-03-10T06:07:54.725Z"
   },
   {
    "duration": 10,
    "start_time": "2022-03-10T06:07:55.749Z"
   },
   {
    "duration": 57,
    "start_time": "2022-03-10T06:07:57.605Z"
   },
   {
    "duration": 54,
    "start_time": "2022-03-10T06:08:03.082Z"
   },
   {
    "duration": 56,
    "start_time": "2022-03-10T06:08:18.629Z"
   },
   {
    "duration": 50,
    "start_time": "2022-03-10T06:09:20.334Z"
   },
   {
    "duration": 56,
    "start_time": "2022-03-10T06:09:36.536Z"
   },
   {
    "duration": 46,
    "start_time": "2022-03-10T06:09:46.250Z"
   },
   {
    "duration": 52,
    "start_time": "2022-03-10T06:10:39.519Z"
   },
   {
    "duration": 3,
    "start_time": "2022-03-10T06:10:45.412Z"
   },
   {
    "duration": 64,
    "start_time": "2022-03-10T06:10:45.441Z"
   },
   {
    "duration": 9,
    "start_time": "2022-03-10T06:10:45.508Z"
   },
   {
    "duration": 100,
    "start_time": "2022-03-10T06:10:45.598Z"
   },
   {
    "duration": 15,
    "start_time": "2022-03-10T06:10:45.702Z"
   },
   {
    "duration": 10,
    "start_time": "2022-03-10T06:10:45.720Z"
   },
   {
    "duration": 11,
    "start_time": "2022-03-10T06:10:45.733Z"
   },
   {
    "duration": 40,
    "start_time": "2022-03-10T06:10:45.746Z"
   },
   {
    "duration": 20,
    "start_time": "2022-03-10T06:10:45.789Z"
   },
   {
    "duration": 13,
    "start_time": "2022-03-10T06:10:45.812Z"
   },
   {
    "duration": 9,
    "start_time": "2022-03-10T06:10:45.827Z"
   },
   {
    "duration": 20,
    "start_time": "2022-03-10T06:10:46.021Z"
   },
   {
    "duration": 13,
    "start_time": "2022-03-10T06:10:46.292Z"
   },
   {
    "duration": 19,
    "start_time": "2022-03-10T06:10:46.475Z"
   },
   {
    "duration": 10,
    "start_time": "2022-03-10T06:10:46.692Z"
   },
   {
    "duration": 16,
    "start_time": "2022-03-10T06:10:46.904Z"
   },
   {
    "duration": 14,
    "start_time": "2022-03-10T06:10:47.120Z"
   },
   {
    "duration": 16,
    "start_time": "2022-03-10T06:10:47.312Z"
   },
   {
    "duration": 26,
    "start_time": "2022-03-10T06:10:47.517Z"
   },
   {
    "duration": 12,
    "start_time": "2022-03-10T06:10:47.805Z"
   },
   {
    "duration": 3,
    "start_time": "2022-03-10T06:10:48.183Z"
   },
   {
    "duration": 68,
    "start_time": "2022-03-10T06:10:48.522Z"
   },
   {
    "duration": 13,
    "start_time": "2022-03-10T06:10:49.102Z"
   },
   {
    "duration": 19,
    "start_time": "2022-03-10T06:10:49.728Z"
   },
   {
    "duration": 44,
    "start_time": "2022-03-10T06:10:50.161Z"
   },
   {
    "duration": 48,
    "start_time": "2022-03-10T06:11:27.348Z"
   },
   {
    "duration": 9,
    "start_time": "2022-03-10T06:11:27.593Z"
   },
   {
    "duration": 57,
    "start_time": "2022-03-10T06:11:27.946Z"
   },
   {
    "duration": 45,
    "start_time": "2022-03-10T06:11:28.589Z"
   },
   {
    "duration": 50,
    "start_time": "2022-03-10T06:36:22.871Z"
   },
   {
    "duration": 35,
    "start_time": "2022-03-10T06:39:43.963Z"
   },
   {
    "duration": 212,
    "start_time": "2022-03-10T06:48:20.447Z"
   },
   {
    "duration": 205,
    "start_time": "2022-03-10T06:50:08.839Z"
   },
   {
    "duration": 311,
    "start_time": "2022-03-10T06:51:13.041Z"
   },
   {
    "duration": 70,
    "start_time": "2022-03-10T06:51:54.127Z"
   },
   {
    "duration": 331,
    "start_time": "2022-03-10T06:51:58.921Z"
   },
   {
    "duration": 227,
    "start_time": "2022-03-10T06:52:15.323Z"
   },
   {
    "duration": 364,
    "start_time": "2022-03-10T06:52:21.734Z"
   },
   {
    "duration": 37,
    "start_time": "2022-03-10T06:52:26.768Z"
   },
   {
    "duration": 93,
    "start_time": "2022-03-10T06:54:36.373Z"
   },
   {
    "duration": 68,
    "start_time": "2022-03-10T06:54:54.212Z"
   },
   {
    "duration": 78,
    "start_time": "2022-03-10T07:00:02.681Z"
   },
   {
    "duration": 35,
    "start_time": "2022-03-10T07:00:23.621Z"
   },
   {
    "duration": 38,
    "start_time": "2022-03-10T07:02:47.915Z"
   },
   {
    "duration": 1061,
    "start_time": "2022-03-10T07:03:58.293Z"
   },
   {
    "duration": 1048,
    "start_time": "2022-03-10T07:04:11.593Z"
   },
   {
    "duration": 36,
    "start_time": "2022-03-10T07:05:58.205Z"
   },
   {
    "duration": 28,
    "start_time": "2022-03-10T07:22:09.242Z"
   },
   {
    "duration": 260,
    "start_time": "2022-03-10T07:22:19.237Z"
   },
   {
    "duration": 7,
    "start_time": "2022-03-10T07:22:26.333Z"
   },
   {
    "duration": 6,
    "start_time": "2022-03-10T07:22:30.489Z"
   },
   {
    "duration": 5,
    "start_time": "2022-03-10T07:22:55.958Z"
   },
   {
    "duration": 6,
    "start_time": "2022-03-10T07:23:04.955Z"
   },
   {
    "duration": 6,
    "start_time": "2022-03-10T07:23:26.857Z"
   },
   {
    "duration": 7,
    "start_time": "2022-03-10T07:23:34.187Z"
   },
   {
    "duration": 6,
    "start_time": "2022-03-10T07:23:40.121Z"
   },
   {
    "duration": 6,
    "start_time": "2022-03-10T07:23:47.575Z"
   },
   {
    "duration": 236,
    "start_time": "2022-03-10T07:23:51.423Z"
   },
   {
    "duration": 1023,
    "start_time": "2022-03-10T07:24:10.738Z"
   },
   {
    "duration": 258,
    "start_time": "2022-03-10T07:24:24.487Z"
   },
   {
    "duration": 287,
    "start_time": "2022-03-10T07:24:32.820Z"
   },
   {
    "duration": 782,
    "start_time": "2022-03-10T07:24:42.218Z"
   },
   {
    "duration": 545,
    "start_time": "2022-03-10T07:24:51.910Z"
   },
   {
    "duration": 250,
    "start_time": "2022-03-10T07:25:00.942Z"
   },
   {
    "duration": 251,
    "start_time": "2022-03-10T07:25:08.872Z"
   },
   {
    "duration": 241,
    "start_time": "2022-03-10T07:25:13.243Z"
   },
   {
    "duration": 324,
    "start_time": "2022-03-10T07:25:16.761Z"
   },
   {
    "duration": 240,
    "start_time": "2022-03-10T07:25:19.814Z"
   },
   {
    "duration": 261,
    "start_time": "2022-03-10T07:25:24.083Z"
   },
   {
    "duration": 249,
    "start_time": "2022-03-10T07:25:44.129Z"
   },
   {
    "duration": 486,
    "start_time": "2022-03-10T07:26:01.362Z"
   },
   {
    "duration": 3062,
    "start_time": "2022-03-10T07:26:04.795Z"
   },
   {
    "duration": 1589,
    "start_time": "2022-03-10T07:26:14.785Z"
   },
   {
    "duration": 666,
    "start_time": "2022-03-10T07:26:25.396Z"
   },
   {
    "duration": 644,
    "start_time": "2022-03-10T07:26:30.838Z"
   },
   {
    "duration": 1051,
    "start_time": "2022-03-10T07:26:50.425Z"
   },
   {
    "duration": 385,
    "start_time": "2022-03-10T07:26:56.453Z"
   },
   {
    "duration": 1741,
    "start_time": "2022-03-10T07:27:08.913Z"
   },
   {
    "duration": 3913,
    "start_time": "2022-03-10T07:27:47.696Z"
   },
   {
    "duration": 10129,
    "start_time": "2022-03-10T07:27:59.027Z"
   },
   {
    "duration": 1137,
    "start_time": "2022-03-10T07:28:32.931Z"
   },
   {
    "duration": 522,
    "start_time": "2022-03-10T07:28:47.975Z"
   },
   {
    "duration": 358,
    "start_time": "2022-03-10T07:28:56.109Z"
   },
   {
    "duration": 474,
    "start_time": "2022-03-10T07:29:02.216Z"
   },
   {
    "duration": 802,
    "start_time": "2022-03-10T07:29:08.721Z"
   },
   {
    "duration": 1727,
    "start_time": "2022-03-10T07:29:15.142Z"
   },
   {
    "duration": 9245,
    "start_time": "2022-03-10T07:29:36.795Z"
   },
   {
    "duration": 3116,
    "start_time": "2022-03-10T07:29:51.345Z"
   },
   {
    "duration": 509,
    "start_time": "2022-03-10T07:30:00.873Z"
   },
   {
    "duration": 582,
    "start_time": "2022-03-10T07:30:09.495Z"
   },
   {
    "duration": 3750,
    "start_time": "2022-03-10T07:30:19.069Z"
   },
   {
    "duration": 426,
    "start_time": "2022-03-10T07:30:30.562Z"
   },
   {
    "duration": 309,
    "start_time": "2022-03-10T07:30:44.081Z"
   },
   {
    "duration": 730,
    "start_time": "2022-03-10T07:30:58.634Z"
   },
   {
    "duration": 4185,
    "start_time": "2022-03-10T07:31:02.146Z"
   },
   {
    "duration": 3069,
    "start_time": "2022-03-10T07:31:53.210Z"
   },
   {
    "duration": 4553,
    "start_time": "2022-03-10T07:31:56.282Z"
   },
   {
    "duration": 290,
    "start_time": "2022-03-10T07:32:16.455Z"
   },
   {
    "duration": 269,
    "start_time": "2022-03-10T07:32:27.213Z"
   },
   {
    "duration": 315,
    "start_time": "2022-03-10T07:32:32.548Z"
   },
   {
    "duration": 311,
    "start_time": "2022-03-10T07:32:41.352Z"
   },
   {
    "duration": 332,
    "start_time": "2022-03-10T07:32:44.403Z"
   },
   {
    "duration": 371,
    "start_time": "2022-03-10T07:32:46.964Z"
   },
   {
    "duration": 392,
    "start_time": "2022-03-10T07:32:49.193Z"
   },
   {
    "duration": 420,
    "start_time": "2022-03-10T07:32:51.953Z"
   },
   {
    "duration": 475,
    "start_time": "2022-03-10T07:32:54.524Z"
   },
   {
    "duration": 500,
    "start_time": "2022-03-10T07:32:56.857Z"
   },
   {
    "duration": 517,
    "start_time": "2022-03-10T07:32:59.445Z"
   },
   {
    "duration": 563,
    "start_time": "2022-03-10T07:33:02.243Z"
   },
   {
    "duration": 594,
    "start_time": "2022-03-10T07:33:05.023Z"
   },
   {
    "duration": 636,
    "start_time": "2022-03-10T07:33:07.939Z"
   },
   {
    "duration": 684,
    "start_time": "2022-03-10T07:33:10.428Z"
   },
   {
    "duration": 804,
    "start_time": "2022-03-10T07:33:14.868Z"
   },
   {
    "duration": 1144,
    "start_time": "2022-03-10T07:33:19.807Z"
   },
   {
    "duration": 1295,
    "start_time": "2022-03-10T07:33:24.159Z"
   },
   {
    "duration": 1878,
    "start_time": "2022-03-10T07:33:28.985Z"
   },
   {
    "duration": 2439,
    "start_time": "2022-03-10T07:33:33.930Z"
   },
   {
    "duration": 2208,
    "start_time": "2022-03-10T07:33:41.674Z"
   },
   {
    "duration": 1578,
    "start_time": "2022-03-10T07:34:04.398Z"
   },
   {
    "duration": 15486,
    "start_time": "2022-03-10T07:34:07.585Z"
   },
   {
    "duration": 1625,
    "start_time": "2022-03-10T07:34:31.670Z"
   },
   {
    "duration": 1043,
    "start_time": "2022-03-10T07:36:03.127Z"
   },
   {
    "duration": 1545,
    "start_time": "2022-03-10T07:36:09.309Z"
   },
   {
    "duration": 554,
    "start_time": "2022-03-10T07:36:19.007Z"
   },
   {
    "duration": 2894,
    "start_time": "2022-03-10T07:36:22.365Z"
   },
   {
    "duration": 3244,
    "start_time": "2022-03-10T07:36:40.860Z"
   },
   {
    "duration": 582,
    "start_time": "2022-03-10T07:36:57.251Z"
   },
   {
    "duration": 533,
    "start_time": "2022-03-10T07:37:06.070Z"
   },
   {
    "duration": 304,
    "start_time": "2022-03-10T07:37:12.344Z"
   },
   {
    "duration": 409,
    "start_time": "2022-03-10T07:37:15.540Z"
   },
   {
    "duration": 2483,
    "start_time": "2022-03-10T07:37:22.151Z"
   },
   {
    "duration": 2954,
    "start_time": "2022-03-10T07:37:46.186Z"
   },
   {
    "duration": 1577,
    "start_time": "2022-03-10T07:37:52.277Z"
   },
   {
    "duration": 816,
    "start_time": "2022-03-10T07:37:57.179Z"
   },
   {
    "duration": 534,
    "start_time": "2022-03-10T07:38:01.395Z"
   },
   {
    "duration": 2824,
    "start_time": "2022-03-10T07:38:06.211Z"
   },
   {
    "duration": 277,
    "start_time": "2022-03-10T07:38:17.376Z"
   },
   {
    "duration": 531,
    "start_time": "2022-03-10T07:38:19.793Z"
   },
   {
    "duration": 802,
    "start_time": "2022-03-10T07:38:23.459Z"
   },
   {
    "duration": 659,
    "start_time": "2022-03-10T07:38:27.992Z"
   },
   {
    "duration": 4296,
    "start_time": "2022-03-10T07:38:37.488Z"
   },
   {
    "duration": 2828,
    "start_time": "2022-03-10T07:38:45.062Z"
   },
   {
    "duration": 2351,
    "start_time": "2022-03-10T07:38:51.316Z"
   },
   {
    "duration": 1551,
    "start_time": "2022-03-10T07:38:57.397Z"
   },
   {
    "duration": 513,
    "start_time": "2022-03-10T07:39:02.260Z"
   },
   {
    "duration": 409,
    "start_time": "2022-03-10T07:39:06.143Z"
   },
   {
    "duration": 375,
    "start_time": "2022-03-10T07:39:25.496Z"
   },
   {
    "duration": 6,
    "start_time": "2022-03-10T07:42:21.651Z"
   },
   {
    "duration": 6,
    "start_time": "2022-03-10T07:42:25.878Z"
   },
   {
    "duration": 437,
    "start_time": "2022-03-10T07:42:32.785Z"
   },
   {
    "duration": 1607,
    "start_time": "2022-03-10T07:42:35.663Z"
   },
   {
    "duration": 896,
    "start_time": "2022-03-10T07:42:44.575Z"
   },
   {
    "duration": 208,
    "start_time": "2022-03-10T07:46:20.647Z"
   },
   {
    "duration": 210,
    "start_time": "2022-03-10T07:46:29.021Z"
   },
   {
    "duration": 219,
    "start_time": "2022-03-10T07:46:35.962Z"
   },
   {
    "duration": 6,
    "start_time": "2022-03-10T07:46:39.010Z"
   },
   {
    "duration": 7,
    "start_time": "2022-03-10T07:46:48.967Z"
   },
   {
    "duration": 13,
    "start_time": "2022-03-10T07:48:16.855Z"
   },
   {
    "duration": 337,
    "start_time": "2022-03-10T07:48:42.369Z"
   },
   {
    "duration": 359,
    "start_time": "2022-03-10T07:48:48.870Z"
   },
   {
    "duration": 371,
    "start_time": "2022-03-10T07:55:02.111Z"
   },
   {
    "duration": 224,
    "start_time": "2022-03-10T08:01:33.312Z"
   },
   {
    "duration": 262,
    "start_time": "2022-03-10T08:01:44.684Z"
   },
   {
    "duration": 229,
    "start_time": "2022-03-10T08:01:49.220Z"
   },
   {
    "duration": 227,
    "start_time": "2022-03-10T08:01:54.665Z"
   },
   {
    "duration": 231,
    "start_time": "2022-03-10T08:02:07.244Z"
   },
   {
    "duration": 451,
    "start_time": "2022-03-10T08:02:31.116Z"
   },
   {
    "duration": 552,
    "start_time": "2022-03-10T08:02:44.990Z"
   },
   {
    "duration": 1142,
    "start_time": "2022-03-10T08:05:51.792Z"
   },
   {
    "duration": 11258,
    "start_time": "2022-03-10T08:05:58.605Z"
   },
   {
    "duration": 1646,
    "start_time": "2022-03-10T08:06:14.283Z"
   },
   {
    "duration": 3189,
    "start_time": "2022-03-10T08:06:26.909Z"
   },
   {
    "duration": 5637,
    "start_time": "2022-03-10T08:06:34.303Z"
   },
   {
    "duration": 842,
    "start_time": "2022-03-10T08:06:45.816Z"
   },
   {
    "duration": 6360,
    "start_time": "2022-03-10T08:06:51.106Z"
   },
   {
    "duration": 1118,
    "start_time": "2022-03-10T08:06:59.428Z"
   },
   {
    "duration": 3015,
    "start_time": "2022-03-10T08:24:27.421Z"
   },
   {
    "duration": 4707,
    "start_time": "2022-03-10T08:24:37.212Z"
   },
   {
    "duration": 4198,
    "start_time": "2022-03-10T08:24:47.903Z"
   },
   {
    "duration": 1154,
    "start_time": "2022-03-10T08:24:54.623Z"
   },
   {
    "duration": 867,
    "start_time": "2022-03-10T08:24:59.671Z"
   },
   {
    "duration": 350,
    "start_time": "2022-03-10T08:25:13.473Z"
   },
   {
    "duration": 392,
    "start_time": "2022-03-10T08:25:17.913Z"
   },
   {
    "duration": 660,
    "start_time": "2022-03-10T08:25:25.727Z"
   },
   {
    "duration": 4355,
    "start_time": "2022-03-10T08:25:30.435Z"
   },
   {
    "duration": 8491,
    "start_time": "2022-03-10T08:25:53.752Z"
   },
   {
    "duration": 16407,
    "start_time": "2022-03-10T08:26:10.783Z"
   },
   {
    "duration": 2969,
    "start_time": "2022-03-10T08:27:10.632Z"
   },
   {
    "duration": 1665,
    "start_time": "2022-03-10T08:27:18.726Z"
   },
   {
    "duration": 939,
    "start_time": "2022-03-10T08:27:25.166Z"
   },
   {
    "duration": 723,
    "start_time": "2022-03-10T08:27:34.318Z"
   },
   {
    "duration": 569,
    "start_time": "2022-03-10T08:27:38.499Z"
   },
   {
    "duration": 401,
    "start_time": "2022-03-10T08:27:42.912Z"
   },
   {
    "duration": 1694,
    "start_time": "2022-03-10T08:28:03.259Z"
   },
   {
    "duration": 69,
    "start_time": "2022-03-10T08:29:30.687Z"
   },
   {
    "duration": 547,
    "start_time": "2022-03-10T08:29:51.750Z"
   },
   {
    "duration": 1601,
    "start_time": "2022-03-10T08:30:19.858Z"
   },
   {
    "duration": 552,
    "start_time": "2022-03-10T08:31:18.907Z"
   },
   {
    "duration": 411,
    "start_time": "2022-03-10T08:32:12.827Z"
   },
   {
    "duration": 1631,
    "start_time": "2022-03-10T08:32:30.624Z"
   },
   {
    "duration": 929,
    "start_time": "2022-03-10T08:32:35.239Z"
   },
   {
    "duration": 564,
    "start_time": "2022-03-10T08:32:38.788Z"
   },
   {
    "duration": 104,
    "start_time": "2022-03-10T08:33:33.563Z"
   },
   {
    "duration": 63,
    "start_time": "2022-03-10T08:33:57.177Z"
   },
   {
    "duration": 61,
    "start_time": "2022-03-10T08:34:05.716Z"
   },
   {
    "duration": 14,
    "start_time": "2022-03-10T08:34:29.363Z"
   },
   {
    "duration": 82,
    "start_time": "2022-03-10T08:34:39.239Z"
   },
   {
    "duration": 15,
    "start_time": "2022-03-10T08:34:43.524Z"
   },
   {
    "duration": 16,
    "start_time": "2022-03-10T08:34:46.165Z"
   },
   {
    "duration": 425,
    "start_time": "2022-03-10T08:35:18.648Z"
   },
   {
    "duration": 372,
    "start_time": "2022-03-10T08:35:23.881Z"
   },
   {
    "duration": 15,
    "start_time": "2022-03-10T08:35:48.573Z"
   },
   {
    "duration": 16,
    "start_time": "2022-03-10T08:35:50.285Z"
   },
   {
    "duration": 12,
    "start_time": "2022-03-10T08:37:08.317Z"
   },
   {
    "duration": 14,
    "start_time": "2022-03-10T08:37:12.607Z"
   },
   {
    "duration": 14,
    "start_time": "2022-03-10T08:37:14.120Z"
   },
   {
    "duration": 11,
    "start_time": "2022-03-10T08:37:24.049Z"
   },
   {
    "duration": 15,
    "start_time": "2022-03-10T08:37:24.695Z"
   },
   {
    "duration": 11,
    "start_time": "2022-03-10T08:37:35.015Z"
   },
   {
    "duration": 19,
    "start_time": "2022-03-10T08:37:36.523Z"
   },
   {
    "duration": 3,
    "start_time": "2022-03-10T08:37:42.050Z"
   },
   {
    "duration": 63,
    "start_time": "2022-03-10T08:37:42.570Z"
   },
   {
    "duration": 9,
    "start_time": "2022-03-10T08:37:42.636Z"
   },
   {
    "duration": 102,
    "start_time": "2022-03-10T08:37:42.726Z"
   },
   {
    "duration": 15,
    "start_time": "2022-03-10T08:37:42.830Z"
   },
   {
    "duration": 10,
    "start_time": "2022-03-10T08:37:42.848Z"
   },
   {
    "duration": 10,
    "start_time": "2022-03-10T08:37:42.883Z"
   },
   {
    "duration": 12,
    "start_time": "2022-03-10T08:37:42.895Z"
   },
   {
    "duration": 12,
    "start_time": "2022-03-10T08:37:42.911Z"
   },
   {
    "duration": 14,
    "start_time": "2022-03-10T08:37:42.926Z"
   },
   {
    "duration": 11,
    "start_time": "2022-03-10T08:37:42.983Z"
   },
   {
    "duration": 25,
    "start_time": "2022-03-10T08:37:42.996Z"
   },
   {
    "duration": 14,
    "start_time": "2022-03-10T08:37:43.024Z"
   },
   {
    "duration": 52,
    "start_time": "2022-03-10T08:37:43.044Z"
   },
   {
    "duration": 9,
    "start_time": "2022-03-10T08:37:43.099Z"
   },
   {
    "duration": 14,
    "start_time": "2022-03-10T08:37:43.111Z"
   },
   {
    "duration": 51,
    "start_time": "2022-03-10T08:37:43.134Z"
   },
   {
    "duration": 19,
    "start_time": "2022-03-10T08:37:43.188Z"
   },
   {
    "duration": 76,
    "start_time": "2022-03-10T08:37:43.210Z"
   },
   {
    "duration": 14,
    "start_time": "2022-03-10T08:37:43.289Z"
   },
   {
    "duration": 4,
    "start_time": "2022-03-10T08:37:43.306Z"
   },
   {
    "duration": 107,
    "start_time": "2022-03-10T08:37:43.313Z"
   },
   {
    "duration": 14,
    "start_time": "2022-03-10T08:37:43.423Z"
   },
   {
    "duration": 51,
    "start_time": "2022-03-10T08:37:43.440Z"
   },
   {
    "duration": 43,
    "start_time": "2022-03-10T08:37:43.493Z"
   },
   {
    "duration": 80,
    "start_time": "2022-03-10T08:37:43.541Z"
   },
   {
    "duration": 9,
    "start_time": "2022-03-10T08:37:43.624Z"
   },
   {
    "duration": 86,
    "start_time": "2022-03-10T08:37:43.636Z"
   },
   {
    "duration": 62,
    "start_time": "2022-03-10T08:37:43.724Z"
   },
   {
    "duration": 7,
    "start_time": "2022-03-10T08:37:43.789Z"
   },
   {
    "duration": 554,
    "start_time": "2022-03-10T08:37:43.799Z"
   },
   {
    "duration": 317,
    "start_time": "2022-03-10T08:37:44.355Z"
   },
   {
    "duration": 557,
    "start_time": "2022-03-10T08:37:44.990Z"
   },
   {
    "duration": 558,
    "start_time": "2022-03-10T08:37:45.551Z"
   },
   {
    "duration": 1122,
    "start_time": "2022-03-10T08:37:46.113Z"
   },
   {
    "duration": 19,
    "start_time": "2022-03-10T08:37:47.239Z"
   },
   {
    "duration": 35,
    "start_time": "2022-03-10T08:37:47.261Z"
   },
   {
    "duration": 82,
    "start_time": "2022-03-10T08:42:08.982Z"
   },
   {
    "duration": 660,
    "start_time": "2022-03-10T08:42:14.842Z"
   },
   {
    "duration": 1091,
    "start_time": "2022-03-10T08:42:28.333Z"
   },
   {
    "duration": 1139,
    "start_time": "2022-03-10T08:42:43.626Z"
   },
   {
    "duration": 707,
    "start_time": "2022-03-10T08:43:27.864Z"
   },
   {
    "duration": 3938,
    "start_time": "2022-03-10T08:43:33.210Z"
   },
   {
    "duration": 563,
    "start_time": "2022-03-10T08:46:41.722Z"
   },
   {
    "duration": 526,
    "start_time": "2022-03-10T08:47:02.819Z"
   },
   {
    "duration": 266,
    "start_time": "2022-03-10T08:51:25.533Z"
   },
   {
    "duration": 270,
    "start_time": "2022-03-10T08:51:43.872Z"
   },
   {
    "duration": 253,
    "start_time": "2022-03-10T08:52:46.940Z"
   },
   {
    "duration": 265,
    "start_time": "2022-03-10T08:53:04.273Z"
   },
   {
    "duration": 254,
    "start_time": "2022-03-10T08:53:31.729Z"
   },
   {
    "duration": 257,
    "start_time": "2022-03-10T08:54:36.890Z"
   },
   {
    "duration": 251,
    "start_time": "2022-03-10T08:54:51.383Z"
   },
   {
    "duration": 248,
    "start_time": "2022-03-10T08:54:56.134Z"
   },
   {
    "duration": 256,
    "start_time": "2022-03-10T08:55:05.003Z"
   },
   {
    "duration": 261,
    "start_time": "2022-03-10T08:55:13.869Z"
   },
   {
    "duration": 250,
    "start_time": "2022-03-10T08:55:17.417Z"
   },
   {
    "duration": 303,
    "start_time": "2022-03-10T08:56:28.745Z"
   },
   {
    "duration": 554,
    "start_time": "2022-03-10T08:56:32.962Z"
   },
   {
    "duration": 568,
    "start_time": "2022-03-10T08:56:38.209Z"
   },
   {
    "duration": 218,
    "start_time": "2022-03-10T09:01:16.089Z"
   },
   {
    "duration": 200,
    "start_time": "2022-03-10T09:01:23.690Z"
   },
   {
    "duration": 194,
    "start_time": "2022-03-10T09:01:28.355Z"
   },
   {
    "duration": 547,
    "start_time": "2022-03-10T09:01:49.911Z"
   },
   {
    "duration": 295,
    "start_time": "2022-03-10T09:02:38.416Z"
   },
   {
    "duration": 1600,
    "start_time": "2022-03-10T09:02:42.233Z"
   },
   {
    "duration": 798,
    "start_time": "2022-03-10T09:02:47.042Z"
   },
   {
    "duration": 785,
    "start_time": "2022-03-10T09:03:45.453Z"
   },
   {
    "duration": 803,
    "start_time": "2022-03-10T09:04:16.064Z"
   },
   {
    "duration": 962,
    "start_time": "2022-03-10T09:04:26.502Z"
   },
   {
    "duration": 512,
    "start_time": "2022-03-10T09:04:34.204Z"
   },
   {
    "duration": 561,
    "start_time": "2022-03-10T09:04:49.054Z"
   },
   {
    "duration": 560,
    "start_time": "2022-03-10T09:04:55.172Z"
   },
   {
    "duration": 1682,
    "start_time": "2022-03-10T09:05:18.809Z"
   },
   {
    "duration": 1130,
    "start_time": "2022-03-10T09:05:24.481Z"
   },
   {
    "duration": 3086,
    "start_time": "2022-03-10T09:05:29.448Z"
   },
   {
    "duration": 6354,
    "start_time": "2022-03-10T09:05:43.192Z"
   },
   {
    "duration": 356,
    "start_time": "2022-03-10T09:05:54.262Z"
   },
   {
    "duration": 626,
    "start_time": "2022-03-10T09:05:56.915Z"
   },
   {
    "duration": 593,
    "start_time": "2022-03-10T09:06:10.617Z"
   },
   {
    "duration": 614,
    "start_time": "2022-03-10T09:06:16.939Z"
   },
   {
    "duration": 574,
    "start_time": "2022-03-10T09:06:24.922Z"
   },
   {
    "duration": 550,
    "start_time": "2022-03-10T09:06:34.085Z"
   },
   {
    "duration": 557,
    "start_time": "2022-03-10T09:06:52.856Z"
   },
   {
    "duration": 815,
    "start_time": "2022-03-10T09:06:59.568Z"
   },
   {
    "duration": 675,
    "start_time": "2022-03-10T09:07:05.615Z"
   },
   {
    "duration": 1070,
    "start_time": "2022-03-10T09:07:10.238Z"
   },
   {
    "duration": 1652,
    "start_time": "2022-03-10T09:07:14.384Z"
   },
   {
    "duration": 420,
    "start_time": "2022-03-10T09:07:19.952Z"
   },
   {
    "duration": 714,
    "start_time": "2022-03-10T09:07:23.530Z"
   },
   {
    "duration": 1027,
    "start_time": "2022-03-10T09:07:27.996Z"
   },
   {
    "duration": 817,
    "start_time": "2022-03-10T09:07:32.110Z"
   },
   {
    "duration": 568,
    "start_time": "2022-03-10T09:07:36.809Z"
   },
   {
    "duration": 740,
    "start_time": "2022-03-10T09:07:41.201Z"
   },
   {
    "duration": 663,
    "start_time": "2022-03-10T09:07:53.914Z"
   },
   {
    "duration": 691,
    "start_time": "2022-03-10T09:08:02.405Z"
   },
   {
    "duration": 625,
    "start_time": "2022-03-10T09:08:11.326Z"
   },
   {
    "duration": 662,
    "start_time": "2022-03-10T09:08:26.677Z"
   },
   {
    "duration": 499,
    "start_time": "2022-03-10T09:08:32.552Z"
   },
   {
    "duration": 654,
    "start_time": "2022-03-10T09:08:37.273Z"
   },
   {
    "duration": 385,
    "start_time": "2022-03-10T09:08:40.934Z"
   },
   {
    "duration": 536,
    "start_time": "2022-03-10T09:08:45.574Z"
   },
   {
    "duration": 493,
    "start_time": "2022-03-10T09:08:57.187Z"
   },
   {
    "duration": 710,
    "start_time": "2022-03-10T09:09:03.657Z"
   },
   {
    "duration": 550,
    "start_time": "2022-03-10T09:09:08.934Z"
   },
   {
    "duration": 516,
    "start_time": "2022-03-10T09:09:14.623Z"
   },
   {
    "duration": 794,
    "start_time": "2022-03-10T09:09:19.764Z"
   },
   {
    "duration": 1591,
    "start_time": "2022-03-10T09:09:23.784Z"
   },
   {
    "duration": 1882,
    "start_time": "2022-03-10T09:09:28.907Z"
   },
   {
    "duration": 297,
    "start_time": "2022-03-10T09:09:35.251Z"
   },
   {
    "duration": 530,
    "start_time": "2022-03-10T09:09:38.010Z"
   },
   {
    "duration": 768,
    "start_time": "2022-03-10T09:09:41.196Z"
   },
   {
    "duration": 717,
    "start_time": "2022-03-10T09:09:46.394Z"
   },
   {
    "duration": 601,
    "start_time": "2022-03-10T09:09:50.444Z"
   },
   {
    "duration": 613,
    "start_time": "2022-03-10T09:10:20.532Z"
   },
   {
    "duration": 682,
    "start_time": "2022-03-10T09:10:25.684Z"
   },
   {
    "duration": 1131,
    "start_time": "2022-03-10T09:10:31.398Z"
   },
   {
    "duration": 1720,
    "start_time": "2022-03-10T09:10:35.778Z"
   },
   {
    "duration": 767,
    "start_time": "2022-03-10T09:10:42.810Z"
   },
   {
    "duration": 847,
    "start_time": "2022-03-10T09:10:47.354Z"
   },
   {
    "duration": 939,
    "start_time": "2022-03-10T09:11:35.136Z"
   },
   {
    "duration": 674,
    "start_time": "2022-03-10T09:11:41.626Z"
   },
   {
    "duration": 429,
    "start_time": "2022-03-10T09:11:44.993Z"
   },
   {
    "duration": 566,
    "start_time": "2022-03-10T09:11:59.232Z"
   },
   {
    "duration": 572,
    "start_time": "2022-03-10T09:12:11.274Z"
   },
   {
    "duration": 3100,
    "start_time": "2022-03-10T09:12:16.986Z"
   },
   {
    "duration": 70,
    "start_time": "2022-03-10T09:12:27.299Z"
   },
   {
    "duration": 18590,
    "start_time": "2022-03-10T09:12:32.295Z"
   },
   {
    "duration": 4741,
    "start_time": "2022-03-10T09:13:05.007Z"
   },
   {
    "duration": 4475,
    "start_time": "2022-03-10T09:13:56.270Z"
   },
   {
    "duration": 916,
    "start_time": "2022-03-10T09:14:02.907Z"
   },
   {
    "duration": 1495,
    "start_time": "2022-03-10T09:14:11.968Z"
   },
   {
    "duration": 3201,
    "start_time": "2022-03-10T09:14:25.823Z"
   },
   {
    "duration": 6990,
    "start_time": "2022-03-10T09:14:51.530Z"
   },
   {
    "duration": 548,
    "start_time": "2022-03-10T09:15:07.811Z"
   },
   {
    "duration": 622,
    "start_time": "2022-03-10T09:15:15.389Z"
   },
   {
    "duration": 870,
    "start_time": "2022-03-10T09:15:22.980Z"
   },
   {
    "duration": 914,
    "start_time": "2022-03-10T09:15:28.093Z"
   },
   {
    "duration": 610,
    "start_time": "2022-03-10T09:15:34.548Z"
   },
   {
    "duration": 885,
    "start_time": "2022-03-10T09:15:38.738Z"
   },
   {
    "duration": 868,
    "start_time": "2022-03-10T09:16:04.221Z"
   },
   {
    "duration": 837,
    "start_time": "2022-03-10T09:16:13.672Z"
   },
   {
    "duration": 789,
    "start_time": "2022-03-10T09:16:19.320Z"
   },
   {
    "duration": 949,
    "start_time": "2022-03-10T09:16:28.308Z"
   },
   {
    "duration": 1729,
    "start_time": "2022-03-10T09:16:35.186Z"
   },
   {
    "duration": 1785,
    "start_time": "2022-03-10T09:16:47.732Z"
   },
   {
    "duration": 1668,
    "start_time": "2022-03-10T09:16:54.860Z"
   },
   {
    "duration": 1848,
    "start_time": "2022-03-10T09:17:00.275Z"
   },
   {
    "duration": 920,
    "start_time": "2022-03-10T09:17:05.576Z"
   },
   {
    "duration": 379,
    "start_time": "2022-03-10T09:17:10.248Z"
   },
   {
    "duration": 591,
    "start_time": "2022-03-10T09:17:14.632Z"
   },
   {
    "duration": 614,
    "start_time": "2022-03-10T09:17:18.968Z"
   },
   {
    "duration": 601,
    "start_time": "2022-03-10T09:17:34.336Z"
   },
   {
    "duration": 910,
    "start_time": "2022-03-10T09:17:55.472Z"
   },
   {
    "duration": 797,
    "start_time": "2022-03-10T09:18:03.075Z"
   },
   {
    "duration": 3478,
    "start_time": "2022-03-10T09:18:07.851Z"
   },
   {
    "duration": 1835,
    "start_time": "2022-03-10T09:18:15.896Z"
   },
   {
    "duration": 841,
    "start_time": "2022-03-10T09:18:20.577Z"
   },
   {
    "duration": 1273,
    "start_time": "2022-03-10T09:18:25.058Z"
   },
   {
    "duration": 1394,
    "start_time": "2022-03-10T09:18:37.302Z"
   },
   {
    "duration": 667,
    "start_time": "2022-03-10T09:18:47.443Z"
   },
   {
    "duration": 588,
    "start_time": "2022-03-10T09:18:55.344Z"
   },
   {
    "duration": 606,
    "start_time": "2022-03-10T09:19:00.882Z"
   },
   {
    "duration": 791,
    "start_time": "2022-03-10T09:19:07.678Z"
   },
   {
    "duration": 690,
    "start_time": "2022-03-10T09:19:17.116Z"
   },
   {
    "duration": 1077,
    "start_time": "2022-03-10T09:19:27.011Z"
   },
   {
    "duration": 868,
    "start_time": "2022-03-10T09:19:31.217Z"
   },
   {
    "duration": 554,
    "start_time": "2022-03-10T09:19:34.728Z"
   },
   {
    "duration": 588,
    "start_time": "2022-03-10T09:19:42.850Z"
   },
   {
    "duration": 735,
    "start_time": "2022-03-10T09:19:49.534Z"
   },
   {
    "duration": 776,
    "start_time": "2022-03-10T09:19:59.046Z"
   },
   {
    "duration": 469,
    "start_time": "2022-03-10T09:20:05.569Z"
   },
   {
    "duration": 398,
    "start_time": "2022-03-10T09:20:09.512Z"
   },
   {
    "duration": 357,
    "start_time": "2022-03-10T09:20:12.458Z"
   },
   {
    "duration": 404,
    "start_time": "2022-03-10T09:20:14.671Z"
   },
   {
    "duration": 464,
    "start_time": "2022-03-10T09:20:16.818Z"
   },
   {
    "duration": 709,
    "start_time": "2022-03-10T09:20:19.147Z"
   },
   {
    "duration": 496,
    "start_time": "2022-03-10T09:20:25.751Z"
   },
   {
    "duration": 556,
    "start_time": "2022-03-10T09:20:28.399Z"
   },
   {
    "duration": 219,
    "start_time": "2022-03-10T09:27:10.663Z"
   },
   {
    "duration": 227,
    "start_time": "2022-03-10T09:27:29.187Z"
   },
   {
    "duration": 561,
    "start_time": "2022-03-10T09:27:51.183Z"
   },
   {
    "duration": 311,
    "start_time": "2022-03-10T09:27:57.307Z"
   },
   {
    "duration": 278,
    "start_time": "2022-03-10T09:28:12.591Z"
   },
   {
    "duration": 227,
    "start_time": "2022-03-10T09:29:20.307Z"
   },
   {
    "duration": 200,
    "start_time": "2022-03-10T09:29:34.816Z"
   },
   {
    "duration": 202,
    "start_time": "2022-03-10T09:29:42.909Z"
   },
   {
    "duration": 226,
    "start_time": "2022-03-10T09:29:45.982Z"
   },
   {
    "duration": 789,
    "start_time": "2022-03-10T09:30:14.293Z"
   },
   {
    "duration": 285,
    "start_time": "2022-03-10T09:30:18.016Z"
   },
   {
    "duration": 203,
    "start_time": "2022-03-10T09:31:29.991Z"
   },
   {
    "duration": 521,
    "start_time": "2022-03-10T09:32:02.625Z"
   },
   {
    "duration": 653,
    "start_time": "2022-03-10T09:32:09.370Z"
   },
   {
    "duration": 597,
    "start_time": "2022-03-10T09:32:17.172Z"
   },
   {
    "duration": 463,
    "start_time": "2022-03-10T09:32:24.865Z"
   },
   {
    "duration": 503,
    "start_time": "2022-03-10T09:32:33.430Z"
   },
   {
    "duration": 207,
    "start_time": "2022-03-10T09:33:28.267Z"
   },
   {
    "duration": 188,
    "start_time": "2022-03-10T09:33:41.499Z"
   },
   {
    "duration": 200,
    "start_time": "2022-03-10T09:33:47.019Z"
   },
   {
    "duration": 209,
    "start_time": "2022-03-10T09:33:58.340Z"
   },
   {
    "duration": 78,
    "start_time": "2022-03-10T09:40:22.403Z"
   },
   {
    "duration": 16,
    "start_time": "2022-03-10T09:40:28.191Z"
   },
   {
    "duration": 16,
    "start_time": "2022-03-10T09:40:30.426Z"
   },
   {
    "duration": 66,
    "start_time": "2022-03-10T09:41:15.630Z"
   },
   {
    "duration": 17,
    "start_time": "2022-03-10T09:41:21.154Z"
   },
   {
    "duration": 15,
    "start_time": "2022-03-10T09:41:22.008Z"
   },
   {
    "duration": 639,
    "start_time": "2022-03-10T09:43:12.855Z"
   },
   {
    "duration": 660,
    "start_time": "2022-03-10T09:44:15.444Z"
   },
   {
    "duration": 1172,
    "start_time": "2022-03-10T09:44:55.795Z"
   },
   {
    "duration": 1079,
    "start_time": "2022-03-10T09:45:22.703Z"
   },
   {
    "duration": 1553,
    "start_time": "2022-03-10T09:45:31.260Z"
   },
   {
    "duration": 1246,
    "start_time": "2022-03-10T09:45:41.429Z"
   },
   {
    "duration": 1127,
    "start_time": "2022-03-10T09:45:59.782Z"
   },
   {
    "duration": 1084,
    "start_time": "2022-03-10T09:46:41.553Z"
   },
   {
    "duration": 1086,
    "start_time": "2022-03-10T09:46:47.846Z"
   },
   {
    "duration": 1074,
    "start_time": "2022-03-10T09:46:54.270Z"
   },
   {
    "duration": 1226,
    "start_time": "2022-03-10T09:47:46.624Z"
   },
   {
    "duration": 1199,
    "start_time": "2022-03-10T09:47:54.862Z"
   },
   {
    "duration": 1283,
    "start_time": "2022-03-10T09:48:01.283Z"
   },
   {
    "duration": 1196,
    "start_time": "2022-03-10T09:48:10.097Z"
   },
   {
    "duration": 1077,
    "start_time": "2022-03-10T09:48:17.889Z"
   },
   {
    "duration": 1211,
    "start_time": "2022-03-10T09:48:23.661Z"
   },
   {
    "duration": 1110,
    "start_time": "2022-03-10T09:48:31.093Z"
   },
   {
    "duration": 1049,
    "start_time": "2022-03-10T09:50:07.976Z"
   },
   {
    "duration": 1113,
    "start_time": "2022-03-10T09:56:10.304Z"
   },
   {
    "duration": 1112,
    "start_time": "2022-03-10T09:56:59.687Z"
   },
   {
    "duration": 1085,
    "start_time": "2022-03-10T09:57:08.630Z"
   },
   {
    "duration": 1092,
    "start_time": "2022-03-10T09:57:23.790Z"
   },
   {
    "duration": 1112,
    "start_time": "2022-03-10T09:57:50.893Z"
   },
   {
    "duration": 1245,
    "start_time": "2022-03-10T10:00:10.515Z"
   },
   {
    "duration": 230,
    "start_time": "2022-03-10T10:00:48.939Z"
   },
   {
    "duration": 80,
    "start_time": "2022-03-10T10:02:07.059Z"
   },
   {
    "duration": 71,
    "start_time": "2022-03-10T10:02:11.028Z"
   },
   {
    "duration": 118,
    "start_time": "2022-03-10T10:02:20.821Z"
   },
   {
    "duration": 108,
    "start_time": "2022-03-10T10:02:27.813Z"
   },
   {
    "duration": 4,
    "start_time": "2022-03-10T10:03:28.462Z"
   },
   {
    "duration": 5,
    "start_time": "2022-03-10T10:03:40.422Z"
   },
   {
    "duration": 8,
    "start_time": "2022-03-10T10:04:12.569Z"
   },
   {
    "duration": 138,
    "start_time": "2022-03-10T10:04:18.658Z"
   },
   {
    "duration": 78,
    "start_time": "2022-03-10T10:05:16.634Z"
   },
   {
    "duration": 85,
    "start_time": "2022-03-10T10:05:22.356Z"
   },
   {
    "duration": 104,
    "start_time": "2022-03-10T10:05:29.257Z"
   },
   {
    "duration": 74,
    "start_time": "2022-03-10T10:05:49.065Z"
   },
   {
    "duration": 71,
    "start_time": "2022-03-10T10:07:03.517Z"
   },
   {
    "duration": 79,
    "start_time": "2022-03-10T10:07:15.713Z"
   },
   {
    "duration": 9,
    "start_time": "2022-03-10T10:07:55.099Z"
   },
   {
    "duration": 9,
    "start_time": "2022-03-10T10:08:04.999Z"
   },
   {
    "duration": 18,
    "start_time": "2022-03-10T10:08:59.337Z"
   },
   {
    "duration": 5711,
    "start_time": "2022-03-10T10:09:20.231Z"
   },
   {
    "duration": 6073,
    "start_time": "2022-03-10T10:10:20.317Z"
   },
   {
    "duration": 359,
    "start_time": "2022-03-10T10:10:44.154Z"
   },
   {
    "duration": 1409,
    "start_time": "2022-03-10T10:15:21.510Z"
   },
   {
    "duration": 1365,
    "start_time": "2022-03-10T10:17:32.240Z"
   },
   {
    "duration": 712,
    "start_time": "2022-03-10T10:18:01.778Z"
   },
   {
    "duration": 480,
    "start_time": "2022-03-10T10:18:07.251Z"
   },
   {
    "duration": 507,
    "start_time": "2022-03-10T10:18:14.289Z"
   },
   {
    "duration": 4,
    "start_time": "2022-03-10T10:18:24.226Z"
   },
   {
    "duration": 64,
    "start_time": "2022-03-10T10:18:24.254Z"
   },
   {
    "duration": 10,
    "start_time": "2022-03-10T10:18:24.320Z"
   },
   {
    "duration": 128,
    "start_time": "2022-03-10T10:18:24.423Z"
   },
   {
    "duration": 15,
    "start_time": "2022-03-10T10:18:24.554Z"
   },
   {
    "duration": 10,
    "start_time": "2022-03-10T10:18:24.584Z"
   },
   {
    "duration": 12,
    "start_time": "2022-03-10T10:18:24.596Z"
   },
   {
    "duration": 6,
    "start_time": "2022-03-10T10:18:24.611Z"
   },
   {
    "duration": 13,
    "start_time": "2022-03-10T10:18:24.619Z"
   },
   {
    "duration": 60,
    "start_time": "2022-03-10T10:18:24.635Z"
   },
   {
    "duration": 11,
    "start_time": "2022-03-10T10:18:24.698Z"
   },
   {
    "duration": 20,
    "start_time": "2022-03-10T10:18:24.712Z"
   },
   {
    "duration": 57,
    "start_time": "2022-03-10T10:18:24.735Z"
   },
   {
    "duration": 18,
    "start_time": "2022-03-10T10:18:24.794Z"
   },
   {
    "duration": 9,
    "start_time": "2022-03-10T10:18:24.814Z"
   },
   {
    "duration": 58,
    "start_time": "2022-03-10T10:18:24.826Z"
   },
   {
    "duration": 13,
    "start_time": "2022-03-10T10:18:24.886Z"
   },
   {
    "duration": 14,
    "start_time": "2022-03-10T10:18:24.902Z"
   },
   {
    "duration": 65,
    "start_time": "2022-03-10T10:18:24.919Z"
   },
   {
    "duration": 10,
    "start_time": "2022-03-10T10:18:24.987Z"
   },
   {
    "duration": 5,
    "start_time": "2022-03-10T10:18:25.000Z"
   },
   {
    "duration": 101,
    "start_time": "2022-03-10T10:18:25.008Z"
   },
   {
    "duration": 16,
    "start_time": "2022-03-10T10:18:25.112Z"
   },
   {
    "duration": 58,
    "start_time": "2022-03-10T10:18:25.131Z"
   },
   {
    "duration": 44,
    "start_time": "2022-03-10T10:18:25.473Z"
   },
   {
    "duration": 46,
    "start_time": "2022-03-10T10:18:25.918Z"
   },
   {
    "duration": 11,
    "start_time": "2022-03-10T10:18:26.114Z"
   },
   {
    "duration": 58,
    "start_time": "2022-03-10T10:18:26.450Z"
   },
   {
    "duration": 37,
    "start_time": "2022-03-10T10:18:26.700Z"
   },
   {
    "duration": 6,
    "start_time": "2022-03-10T10:18:26.901Z"
   },
   {
    "duration": 502,
    "start_time": "2022-03-10T10:18:27.648Z"
   },
   {
    "duration": 224,
    "start_time": "2022-03-10T10:18:28.420Z"
   },
   {
    "duration": 555,
    "start_time": "2022-03-10T10:18:29.056Z"
   },
   {
    "duration": 4454,
    "start_time": "2022-03-10T10:18:30.074Z"
   },
   {
    "duration": 221,
    "start_time": "2022-03-10T10:18:34.531Z"
   },
   {
    "duration": 313,
    "start_time": "2022-03-10T10:18:34.755Z"
   },
   {
    "duration": 522,
    "start_time": "2022-03-10T10:18:35.369Z"
   },
   {
    "duration": 195,
    "start_time": "2022-03-10T10:18:36.145Z"
   },
   {
    "duration": 497,
    "start_time": "2022-03-10T10:18:36.902Z"
   },
   {
    "duration": 1093,
    "start_time": "2022-03-10T10:18:37.437Z"
   },
   {
    "duration": 19,
    "start_time": "2022-03-10T10:18:39.244Z"
   },
   {
    "duration": 17,
    "start_time": "2022-03-10T10:18:40.039Z"
   },
   {
    "duration": 1132,
    "start_time": "2022-03-10T10:18:40.840Z"
   },
   {
    "duration": 1139,
    "start_time": "2022-03-10T10:18:41.982Z"
   },
   {
    "duration": 1152,
    "start_time": "2022-03-10T10:18:43.124Z"
   },
   {
    "duration": 19,
    "start_time": "2022-03-10T10:18:44.284Z"
   },
   {
    "duration": 1347,
    "start_time": "2022-03-10T10:18:47.965Z"
   },
   {
    "duration": 457,
    "start_time": "2022-03-10T10:29:20.543Z"
   },
   {
    "duration": 21,
    "start_time": "2022-03-10T10:31:42.423Z"
   },
   {
    "duration": 33,
    "start_time": "2022-03-10T10:31:50.660Z"
   },
   {
    "duration": 10,
    "start_time": "2022-03-10T10:32:01.255Z"
   },
   {
    "duration": 11,
    "start_time": "2022-03-10T10:32:12.604Z"
   },
   {
    "duration": 89,
    "start_time": "2022-03-10T10:32:57.087Z"
   },
   {
    "duration": 93,
    "start_time": "2022-03-10T10:33:05.142Z"
   },
   {
    "duration": 56,
    "start_time": "2022-03-10T10:33:10.149Z"
   },
   {
    "duration": 75,
    "start_time": "2022-03-10T10:34:10.314Z"
   },
   {
    "duration": 357,
    "start_time": "2022-03-10T10:34:13.121Z"
   },
   {
    "duration": 90,
    "start_time": "2022-03-10T10:34:16.535Z"
   },
   {
    "duration": 9,
    "start_time": "2022-03-10T10:34:23.302Z"
   },
   {
    "duration": 12,
    "start_time": "2022-03-10T10:34:34.126Z"
   },
   {
    "duration": 10,
    "start_time": "2022-03-10T10:35:48.721Z"
   },
   {
    "duration": 295,
    "start_time": "2022-03-10T10:36:03.986Z"
   },
   {
    "duration": 281,
    "start_time": "2022-03-10T10:36:10.653Z"
   },
   {
    "duration": 70,
    "start_time": "2022-03-10T10:36:29.681Z"
   },
   {
    "duration": 335,
    "start_time": "2022-03-10T10:36:32.974Z"
   },
   {
    "duration": 250,
    "start_time": "2022-03-10T10:36:38.166Z"
   },
   {
    "duration": 323,
    "start_time": "2022-03-10T10:36:50.488Z"
   },
   {
    "duration": 10,
    "start_time": "2022-03-10T10:36:58.092Z"
   },
   {
    "duration": 9,
    "start_time": "2022-03-10T10:37:23.448Z"
   },
   {
    "duration": 79,
    "start_time": "2022-03-10T10:37:29.932Z"
   },
   {
    "duration": 317,
    "start_time": "2022-03-10T10:37:35.859Z"
   },
   {
    "duration": 275,
    "start_time": "2022-03-10T10:37:42.001Z"
   },
   {
    "duration": 11,
    "start_time": "2022-03-10T10:37:50.286Z"
   },
   {
    "duration": 72,
    "start_time": "2022-03-10T10:39:03.279Z"
   },
   {
    "duration": 20,
    "start_time": "2022-03-10T10:39:35.898Z"
   },
   {
    "duration": 93,
    "start_time": "2022-03-10T10:39:52.050Z"
   },
   {
    "duration": 61,
    "start_time": "2022-03-10T10:40:04.043Z"
   },
   {
    "duration": 316,
    "start_time": "2022-03-10T10:41:05.088Z"
   },
   {
    "duration": 216,
    "start_time": "2022-03-10T10:41:15.527Z"
   },
   {
    "duration": 281,
    "start_time": "2022-03-10T10:41:35.566Z"
   },
   {
    "duration": 85,
    "start_time": "2022-03-10T10:41:45.316Z"
   },
   {
    "duration": 11,
    "start_time": "2022-03-10T10:41:49.778Z"
   },
   {
    "duration": 247,
    "start_time": "2022-03-10T10:43:09.363Z"
   },
   {
    "duration": 9,
    "start_time": "2022-03-10T10:45:06.896Z"
   },
   {
    "duration": 11,
    "start_time": "2022-03-10T10:45:18.027Z"
   },
   {
    "duration": 354,
    "start_time": "2022-03-10T10:45:30.925Z"
   },
   {
    "duration": 167,
    "start_time": "2022-03-10T10:45:57.113Z"
   },
   {
    "duration": 237,
    "start_time": "2022-03-10T10:46:06.131Z"
   },
   {
    "duration": 396,
    "start_time": "2022-03-10T10:46:15.878Z"
   },
   {
    "duration": 11,
    "start_time": "2022-03-10T10:46:30.454Z"
   },
   {
    "duration": 8,
    "start_time": "2022-03-10T10:46:49.319Z"
   },
   {
    "duration": 53,
    "start_time": "2022-03-10T10:47:03.586Z"
   },
   {
    "duration": 9,
    "start_time": "2022-03-10T10:47:26.028Z"
   },
   {
    "duration": 76,
    "start_time": "2022-03-10T10:47:55.897Z"
   },
   {
    "duration": 368,
    "start_time": "2022-03-10T10:47:59.801Z"
   },
   {
    "duration": 74,
    "start_time": "2022-03-10T10:48:02.575Z"
   },
   {
    "duration": 9,
    "start_time": "2022-03-10T10:48:12.328Z"
   },
   {
    "duration": 11,
    "start_time": "2022-03-10T10:48:52.385Z"
   },
   {
    "duration": 72,
    "start_time": "2022-03-10T10:49:07.410Z"
   },
   {
    "duration": 224,
    "start_time": "2022-03-10T10:49:10.094Z"
   },
   {
    "duration": 11,
    "start_time": "2022-03-10T10:49:16.270Z"
   },
   {
    "duration": 226,
    "start_time": "2022-03-10T10:49:43.193Z"
   },
   {
    "duration": 98,
    "start_time": "2022-03-10T10:49:57.295Z"
   },
   {
    "duration": 243,
    "start_time": "2022-03-10T10:50:00.726Z"
   },
   {
    "duration": 11,
    "start_time": "2022-03-10T10:50:16.718Z"
   },
   {
    "duration": 12,
    "start_time": "2022-03-10T10:50:26.831Z"
   },
   {
    "duration": 11,
    "start_time": "2022-03-10T10:50:56.195Z"
   },
   {
    "duration": 71,
    "start_time": "2022-03-10T10:54:19.639Z"
   },
   {
    "duration": 86,
    "start_time": "2022-03-10T10:56:35.488Z"
   },
   {
    "duration": 73,
    "start_time": "2022-03-10T10:56:55.383Z"
   },
   {
    "duration": 69,
    "start_time": "2022-03-10T10:56:58.287Z"
   },
   {
    "duration": 76,
    "start_time": "2022-03-10T10:57:09.841Z"
   },
   {
    "duration": 6,
    "start_time": "2022-03-10T10:58:01.291Z"
   },
   {
    "duration": 5,
    "start_time": "2022-03-10T10:58:10.723Z"
   },
   {
    "duration": 79,
    "start_time": "2022-03-10T11:00:46.574Z"
   },
   {
    "duration": 80,
    "start_time": "2022-03-10T11:01:29.799Z"
   },
   {
    "duration": 3,
    "start_time": "2022-03-10T11:01:37.591Z"
   },
   {
    "duration": 347,
    "start_time": "2022-03-10T11:03:02.277Z"
   },
   {
    "duration": 5359,
    "start_time": "2022-03-10T11:05:22.576Z"
   },
   {
    "duration": 5878,
    "start_time": "2022-03-10T11:05:39.260Z"
   },
   {
    "duration": 6045,
    "start_time": "2022-03-10T11:05:45.778Z"
   },
   {
    "duration": 7,
    "start_time": "2022-03-10T11:05:54.043Z"
   },
   {
    "duration": 11,
    "start_time": "2022-03-10T11:06:20.842Z"
   },
   {
    "duration": 394,
    "start_time": "2022-03-10T11:13:12.594Z"
   },
   {
    "duration": 13,
    "start_time": "2022-03-10T11:13:24.780Z"
   },
   {
    "duration": 7,
    "start_time": "2022-03-10T11:13:46.315Z"
   },
   {
    "duration": 9,
    "start_time": "2022-03-10T11:13:55.318Z"
   },
   {
    "duration": 6267,
    "start_time": "2022-03-10T11:14:05.253Z"
   },
   {
    "duration": 9,
    "start_time": "2022-03-10T11:14:24.658Z"
   },
   {
    "duration": 6040,
    "start_time": "2022-03-10T11:15:35.255Z"
   },
   {
    "duration": 9,
    "start_time": "2022-03-10T11:15:49.737Z"
   },
   {
    "duration": 102,
    "start_time": "2022-03-10T11:17:03.630Z"
   },
   {
    "duration": 15,
    "start_time": "2022-03-10T11:18:38.315Z"
   },
   {
    "duration": 25,
    "start_time": "2022-03-10T11:18:48.120Z"
   },
   {
    "duration": 80,
    "start_time": "2022-03-10T11:21:11.679Z"
   },
   {
    "duration": 80,
    "start_time": "2022-03-10T11:21:16.642Z"
   },
   {
    "duration": 13,
    "start_time": "2022-03-10T11:21:19.609Z"
   },
   {
    "duration": 83,
    "start_time": "2022-03-10T11:23:44.641Z"
   },
   {
    "duration": 24,
    "start_time": "2022-03-10T11:24:18.493Z"
   },
   {
    "duration": 824,
    "start_time": "2022-03-11T04:55:00.254Z"
   },
   {
    "duration": 81,
    "start_time": "2022-03-11T04:55:01.080Z"
   },
   {
    "duration": 29,
    "start_time": "2022-03-11T04:55:01.164Z"
   },
   {
    "duration": 120,
    "start_time": "2022-03-11T04:55:02.546Z"
   },
   {
    "duration": 16,
    "start_time": "2022-03-11T04:55:03.065Z"
   },
   {
    "duration": 11,
    "start_time": "2022-03-11T04:55:03.095Z"
   },
   {
    "duration": 11,
    "start_time": "2022-03-11T04:55:03.125Z"
   },
   {
    "duration": 8,
    "start_time": "2022-03-11T04:55:03.155Z"
   },
   {
    "duration": 13,
    "start_time": "2022-03-11T04:55:03.189Z"
   },
   {
    "duration": 15,
    "start_time": "2022-03-11T04:55:03.225Z"
   },
   {
    "duration": 10,
    "start_time": "2022-03-11T04:55:03.246Z"
   },
   {
    "duration": 21,
    "start_time": "2022-03-11T04:55:03.277Z"
   },
   {
    "duration": 12,
    "start_time": "2022-03-11T04:55:03.307Z"
   },
   {
    "duration": 19,
    "start_time": "2022-03-11T04:55:03.338Z"
   },
   {
    "duration": 9,
    "start_time": "2022-03-11T04:55:03.373Z"
   },
   {
    "duration": 16,
    "start_time": "2022-03-11T04:55:03.398Z"
   },
   {
    "duration": 14,
    "start_time": "2022-03-11T04:55:03.432Z"
   },
   {
    "duration": 21,
    "start_time": "2022-03-11T04:55:03.459Z"
   },
   {
    "duration": 25,
    "start_time": "2022-03-11T04:55:03.487Z"
   },
   {
    "duration": 13,
    "start_time": "2022-03-11T04:55:03.518Z"
   },
   {
    "duration": 25,
    "start_time": "2022-03-11T04:55:03.548Z"
   },
   {
    "duration": 71,
    "start_time": "2022-03-11T04:55:03.590Z"
   },
   {
    "duration": 12,
    "start_time": "2022-03-11T04:55:04.042Z"
   },
   {
    "duration": 19,
    "start_time": "2022-03-11T04:55:04.477Z"
   },
   {
    "duration": 46,
    "start_time": "2022-03-11T04:55:04.783Z"
   },
   {
    "duration": 55,
    "start_time": "2022-03-11T04:55:05.827Z"
   },
   {
    "duration": 13,
    "start_time": "2022-03-11T04:55:06.145Z"
   },
   {
    "duration": 68,
    "start_time": "2022-03-11T04:55:06.430Z"
   },
   {
    "duration": 39,
    "start_time": "2022-03-11T04:55:06.644Z"
   },
   {
    "duration": 7,
    "start_time": "2022-03-11T04:55:06.947Z"
   },
   {
    "duration": 641,
    "start_time": "2022-03-11T04:55:08.623Z"
   },
   {
    "duration": 251,
    "start_time": "2022-03-11T04:55:09.266Z"
   },
   {
    "duration": 634,
    "start_time": "2022-03-11T04:55:09.520Z"
   },
   {
    "duration": 572,
    "start_time": "2022-03-11T04:55:10.157Z"
   },
   {
    "duration": 224,
    "start_time": "2022-03-11T04:55:10.731Z"
   },
   {
    "duration": 330,
    "start_time": "2022-03-11T04:55:10.958Z"
   },
   {
    "duration": 535,
    "start_time": "2022-03-11T04:55:11.290Z"
   },
   {
    "duration": 214,
    "start_time": "2022-03-11T04:55:11.827Z"
   },
   {
    "duration": 481,
    "start_time": "2022-03-11T04:55:12.485Z"
   },
   {
    "duration": 1180,
    "start_time": "2022-03-11T04:55:13.897Z"
   },
   {
    "duration": 22,
    "start_time": "2022-03-11T04:55:18.861Z"
   },
   {
    "duration": 17,
    "start_time": "2022-03-11T04:55:19.485Z"
   },
   {
    "duration": 1181,
    "start_time": "2022-03-11T04:55:20.074Z"
   },
   {
    "duration": 1226,
    "start_time": "2022-03-11T04:55:21.259Z"
   },
   {
    "duration": 1216,
    "start_time": "2022-03-11T04:55:22.489Z"
   },
   {
    "duration": 18,
    "start_time": "2022-03-11T04:55:23.708Z"
   },
   {
    "duration": 1480,
    "start_time": "2022-03-11T04:55:24.090Z"
   },
   {
    "duration": 9,
    "start_time": "2022-03-11T04:55:25.878Z"
   },
   {
    "duration": 442,
    "start_time": "2022-03-11T04:55:29.474Z"
   },
   {
    "duration": 6,
    "start_time": "2022-03-11T04:56:31.290Z"
   },
   {
    "duration": 8,
    "start_time": "2022-03-11T04:57:04.286Z"
   },
   {
    "duration": 362,
    "start_time": "2022-03-11T05:06:11.163Z"
   },
   {
    "duration": 14,
    "start_time": "2022-03-11T05:06:16.165Z"
   },
   {
    "duration": 35,
    "start_time": "2022-03-11T05:06:27.707Z"
   },
   {
    "duration": 57,
    "start_time": "2022-03-11T05:06:35.431Z"
   },
   {
    "duration": 122,
    "start_time": "2022-03-11T05:07:47.391Z"
   },
   {
    "duration": 62,
    "start_time": "2022-03-11T05:07:53.624Z"
   },
   {
    "duration": 65,
    "start_time": "2022-03-11T05:09:01.493Z"
   },
   {
    "duration": 19,
    "start_time": "2022-03-11T05:09:28.495Z"
   },
   {
    "duration": 21,
    "start_time": "2022-03-11T05:10:22.213Z"
   },
   {
    "duration": 22,
    "start_time": "2022-03-11T05:12:57.549Z"
   },
   {
    "duration": 26,
    "start_time": "2022-03-11T05:14:53.449Z"
   },
   {
    "duration": 106,
    "start_time": "2022-03-11T05:17:25.348Z"
   },
   {
    "duration": 28,
    "start_time": "2022-03-11T05:18:14.592Z"
   },
   {
    "duration": 15,
    "start_time": "2022-03-11T05:22:29.646Z"
   },
   {
    "duration": 20,
    "start_time": "2022-03-11T05:22:58.707Z"
   },
   {
    "duration": 59,
    "start_time": "2022-03-11T05:30:37.471Z"
   },
   {
    "duration": 8014,
    "start_time": "2022-03-11T05:35:11.396Z"
   },
   {
    "duration": 311,
    "start_time": "2022-03-11T05:35:27.785Z"
   },
   {
    "duration": 66,
    "start_time": "2022-03-11T05:36:48.386Z"
   },
   {
    "duration": 4,
    "start_time": "2022-03-11T05:37:10.794Z"
   },
   {
    "duration": 73,
    "start_time": "2022-03-11T05:37:10.823Z"
   },
   {
    "duration": 10,
    "start_time": "2022-03-11T05:37:10.898Z"
   },
   {
    "duration": 104,
    "start_time": "2022-03-11T05:37:10.992Z"
   },
   {
    "duration": 14,
    "start_time": "2022-03-11T05:37:11.099Z"
   },
   {
    "duration": 13,
    "start_time": "2022-03-11T05:37:11.117Z"
   },
   {
    "duration": 45,
    "start_time": "2022-03-11T05:37:11.133Z"
   },
   {
    "duration": 6,
    "start_time": "2022-03-11T05:37:11.180Z"
   },
   {
    "duration": 17,
    "start_time": "2022-03-11T05:37:11.189Z"
   },
   {
    "duration": 15,
    "start_time": "2022-03-11T05:37:11.209Z"
   },
   {
    "duration": 52,
    "start_time": "2022-03-11T05:37:11.227Z"
   },
   {
    "duration": 28,
    "start_time": "2022-03-11T05:37:11.283Z"
   },
   {
    "duration": 13,
    "start_time": "2022-03-11T05:37:11.314Z"
   },
   {
    "duration": 58,
    "start_time": "2022-03-11T05:37:11.329Z"
   },
   {
    "duration": 8,
    "start_time": "2022-03-11T05:37:11.390Z"
   },
   {
    "duration": 15,
    "start_time": "2022-03-11T05:37:11.401Z"
   },
   {
    "duration": 55,
    "start_time": "2022-03-11T05:37:11.419Z"
   },
   {
    "duration": 18,
    "start_time": "2022-03-11T05:37:11.477Z"
   },
   {
    "duration": 31,
    "start_time": "2022-03-11T05:37:11.498Z"
   },
   {
    "duration": 12,
    "start_time": "2022-03-11T05:37:11.580Z"
   },
   {
    "duration": 3,
    "start_time": "2022-03-11T05:37:11.753Z"
   },
   {
    "duration": 67,
    "start_time": "2022-03-11T05:37:11.927Z"
   },
   {
    "duration": 15,
    "start_time": "2022-03-11T05:37:12.087Z"
   },
   {
    "duration": 19,
    "start_time": "2022-03-11T05:37:12.235Z"
   },
   {
    "duration": 42,
    "start_time": "2022-03-11T05:37:12.418Z"
   },
   {
    "duration": 51,
    "start_time": "2022-03-11T05:37:13.685Z"
   },
   {
    "duration": 14,
    "start_time": "2022-03-11T05:37:13.739Z"
   },
   {
    "duration": 73,
    "start_time": "2022-03-11T05:37:13.773Z"
   },
   {
    "duration": 61,
    "start_time": "2022-03-11T05:37:13.849Z"
   },
   {
    "duration": 8,
    "start_time": "2022-03-11T05:37:13.914Z"
   },
   {
    "duration": 684,
    "start_time": "2022-03-11T05:37:13.925Z"
   },
   {
    "duration": 243,
    "start_time": "2022-03-11T05:37:14.612Z"
   },
   {
    "duration": 578,
    "start_time": "2022-03-11T05:37:14.857Z"
   },
   {
    "duration": 593,
    "start_time": "2022-03-11T05:37:15.439Z"
   },
   {
    "duration": 226,
    "start_time": "2022-03-11T05:37:16.034Z"
   },
   {
    "duration": 342,
    "start_time": "2022-03-11T05:37:16.263Z"
   },
   {
    "duration": 713,
    "start_time": "2022-03-11T05:37:16.608Z"
   },
   {
    "duration": 237,
    "start_time": "2022-03-11T05:37:17.325Z"
   },
   {
    "duration": 518,
    "start_time": "2022-03-11T05:37:17.565Z"
   },
   {
    "duration": 1119,
    "start_time": "2022-03-11T05:37:18.086Z"
   },
   {
    "duration": 15,
    "start_time": "2022-03-11T05:37:19.207Z"
   },
   {
    "duration": 33,
    "start_time": "2022-03-11T05:37:19.225Z"
   },
   {
    "duration": 1298,
    "start_time": "2022-03-11T05:37:19.260Z"
   },
   {
    "duration": 1340,
    "start_time": "2022-03-11T05:37:20.560Z"
   },
   {
    "duration": 1163,
    "start_time": "2022-03-11T05:37:21.902Z"
   },
   {
    "duration": 24,
    "start_time": "2022-03-11T05:37:23.068Z"
   },
   {
    "duration": 1405,
    "start_time": "2022-03-11T05:37:23.095Z"
   },
   {
    "duration": 79,
    "start_time": "2022-03-11T05:37:24.503Z"
   },
   {
    "duration": 23,
    "start_time": "2022-03-11T05:37:24.585Z"
   },
   {
    "duration": 88,
    "start_time": "2022-03-11T05:37:24.610Z"
   },
   {
    "duration": 63,
    "start_time": "2022-03-11T05:40:42.772Z"
   },
   {
    "duration": 21,
    "start_time": "2022-03-11T05:40:50.895Z"
   },
   {
    "duration": 65,
    "start_time": "2022-03-11T05:40:59.105Z"
   },
   {
    "duration": 69,
    "start_time": "2022-03-11T05:42:28.375Z"
   },
   {
    "duration": 317,
    "start_time": "2022-03-11T05:42:43.209Z"
   },
   {
    "duration": 66,
    "start_time": "2022-03-11T05:42:54.495Z"
   },
   {
    "duration": 374,
    "start_time": "2022-03-11T05:44:32.213Z"
   },
   {
    "duration": 65,
    "start_time": "2022-03-11T05:44:42.882Z"
   },
   {
    "duration": 8083,
    "start_time": "2022-03-11T05:45:13.097Z"
   },
   {
    "duration": 7743,
    "start_time": "2022-03-11T05:45:35.559Z"
   },
   {
    "duration": 8194,
    "start_time": "2022-03-11T05:45:43.597Z"
   },
   {
    "duration": 9493,
    "start_time": "2022-03-11T05:45:57.252Z"
   },
   {
    "duration": 63,
    "start_time": "2022-03-11T05:47:04.733Z"
   },
   {
    "duration": 100,
    "start_time": "2022-03-11T05:47:33.197Z"
   },
   {
    "duration": 65,
    "start_time": "2022-03-11T05:47:48.582Z"
   },
   {
    "duration": 4,
    "start_time": "2022-03-11T05:47:57.009Z"
   },
   {
    "duration": 75,
    "start_time": "2022-03-11T05:47:57.256Z"
   },
   {
    "duration": 10,
    "start_time": "2022-03-11T05:47:57.417Z"
   },
   {
    "duration": 108,
    "start_time": "2022-03-11T05:47:58.223Z"
   },
   {
    "duration": 15,
    "start_time": "2022-03-11T05:47:58.414Z"
   },
   {
    "duration": 11,
    "start_time": "2022-03-11T05:47:58.637Z"
   },
   {
    "duration": 10,
    "start_time": "2022-03-11T05:47:58.830Z"
   },
   {
    "duration": 7,
    "start_time": "2022-03-11T05:47:59.020Z"
   },
   {
    "duration": 13,
    "start_time": "2022-03-11T05:47:59.216Z"
   },
   {
    "duration": 14,
    "start_time": "2022-03-11T05:47:59.418Z"
   },
   {
    "duration": 10,
    "start_time": "2022-03-11T05:47:59.611Z"
   },
   {
    "duration": 23,
    "start_time": "2022-03-11T05:47:59.809Z"
   },
   {
    "duration": 13,
    "start_time": "2022-03-11T05:48:00.034Z"
   },
   {
    "duration": 21,
    "start_time": "2022-03-11T05:48:00.276Z"
   },
   {
    "duration": 10,
    "start_time": "2022-03-11T05:48:00.467Z"
   },
   {
    "duration": 15,
    "start_time": "2022-03-11T05:48:00.689Z"
   },
   {
    "duration": 14,
    "start_time": "2022-03-11T05:48:00.912Z"
   },
   {
    "duration": 16,
    "start_time": "2022-03-11T05:48:01.102Z"
   },
   {
    "duration": 25,
    "start_time": "2022-03-11T05:48:01.328Z"
   },
   {
    "duration": 14,
    "start_time": "2022-03-11T05:48:01.592Z"
   },
   {
    "duration": 3,
    "start_time": "2022-03-11T05:48:01.836Z"
   },
   {
    "duration": 66,
    "start_time": "2022-03-11T05:48:02.045Z"
   },
   {
    "duration": 13,
    "start_time": "2022-03-11T05:48:02.445Z"
   },
   {
    "duration": 20,
    "start_time": "2022-03-11T05:48:02.788Z"
   },
   {
    "duration": 47,
    "start_time": "2022-03-11T05:48:03.105Z"
   },
   {
    "duration": 49,
    "start_time": "2022-03-11T05:48:03.872Z"
   },
   {
    "duration": 11,
    "start_time": "2022-03-11T05:48:04.502Z"
   },
   {
    "duration": 69,
    "start_time": "2022-03-11T05:48:04.923Z"
   },
   {
    "duration": 39,
    "start_time": "2022-03-11T05:48:05.316Z"
   },
   {
    "duration": 7,
    "start_time": "2022-03-11T05:48:05.819Z"
   },
   {
    "duration": 527,
    "start_time": "2022-03-11T05:48:06.586Z"
   },
   {
    "duration": 250,
    "start_time": "2022-03-11T05:48:07.116Z"
   },
   {
    "duration": 723,
    "start_time": "2022-03-11T05:48:07.374Z"
   },
   {
    "duration": 583,
    "start_time": "2022-03-11T05:48:08.100Z"
   },
   {
    "duration": 226,
    "start_time": "2022-03-11T05:48:08.686Z"
   },
   {
    "duration": 335,
    "start_time": "2022-03-11T05:48:08.915Z"
   },
   {
    "duration": 543,
    "start_time": "2022-03-11T05:48:09.254Z"
   },
   {
    "duration": 232,
    "start_time": "2022-03-11T05:48:09.800Z"
   },
   {
    "duration": 541,
    "start_time": "2022-03-11T05:48:10.035Z"
   },
   {
    "duration": 1369,
    "start_time": "2022-03-11T05:48:10.579Z"
   },
   {
    "duration": 25,
    "start_time": "2022-03-11T05:48:11.950Z"
   },
   {
    "duration": 16,
    "start_time": "2022-03-11T05:48:11.978Z"
   },
   {
    "duration": 1177,
    "start_time": "2022-03-11T05:48:11.996Z"
   },
   {
    "duration": 1200,
    "start_time": "2022-03-11T05:48:13.175Z"
   },
   {
    "duration": 1200,
    "start_time": "2022-03-11T05:48:14.379Z"
   },
   {
    "duration": 20,
    "start_time": "2022-03-11T05:48:15.582Z"
   },
   {
    "duration": 1651,
    "start_time": "2022-03-11T05:48:15.604Z"
   },
   {
    "duration": 80,
    "start_time": "2022-03-11T05:48:17.258Z"
   },
   {
    "duration": 43,
    "start_time": "2022-03-11T05:48:17.341Z"
   },
   {
    "duration": 87,
    "start_time": "2022-03-11T05:48:17.387Z"
   },
   {
    "duration": 66,
    "start_time": "2022-03-11T05:54:20.224Z"
   },
   {
    "duration": 66,
    "start_time": "2022-03-11T05:54:35.213Z"
   },
   {
    "duration": 185,
    "start_time": "2022-03-11T06:40:05.698Z"
   },
   {
    "duration": 69,
    "start_time": "2022-03-11T06:40:14.976Z"
   },
   {
    "duration": 71,
    "start_time": "2022-03-11T06:40:18.278Z"
   },
   {
    "duration": 120,
    "start_time": "2022-03-11T06:40:30.357Z"
   },
   {
    "duration": 76,
    "start_time": "2022-03-11T06:40:39.510Z"
   },
   {
    "duration": 69,
    "start_time": "2022-03-11T06:40:48.685Z"
   },
   {
    "duration": 70,
    "start_time": "2022-03-11T06:41:02.597Z"
   },
   {
    "duration": 25,
    "start_time": "2022-03-11T06:44:52.449Z"
   },
   {
    "duration": 339,
    "start_time": "2022-03-11T06:46:05.596Z"
   },
   {
    "duration": 7983,
    "start_time": "2022-03-11T06:46:26.090Z"
   },
   {
    "duration": 410,
    "start_time": "2022-03-11T06:58:26.607Z"
   },
   {
    "duration": 16,
    "start_time": "2022-03-11T06:59:38.568Z"
   },
   {
    "duration": 16,
    "start_time": "2022-03-11T06:59:48.804Z"
   },
   {
    "duration": 24,
    "start_time": "2022-03-11T07:07:36.079Z"
   },
   {
    "duration": 33,
    "start_time": "2022-03-11T07:16:42.670Z"
   },
   {
    "duration": 324,
    "start_time": "2022-03-11T07:20:56.511Z"
   },
   {
    "duration": 377,
    "start_time": "2022-03-11T07:23:03.863Z"
   },
   {
    "duration": 338,
    "start_time": "2022-03-11T07:25:44.098Z"
   },
   {
    "duration": 22,
    "start_time": "2022-03-11T07:26:06.346Z"
   },
   {
    "duration": 65,
    "start_time": "2022-03-11T07:26:10.346Z"
   },
   {
    "duration": 1527,
    "start_time": "2022-03-11T07:52:52.462Z"
   },
   {
    "duration": 1382,
    "start_time": "2022-03-11T07:53:09.473Z"
   },
   {
    "duration": 1268,
    "start_time": "2022-03-11T07:57:51.408Z"
   },
   {
    "duration": 13,
    "start_time": "2022-03-11T08:06:32.140Z"
   },
   {
    "duration": 26,
    "start_time": "2022-03-11T08:06:42.269Z"
   },
   {
    "duration": 39,
    "start_time": "2022-03-11T08:12:09.034Z"
   },
   {
    "duration": 136,
    "start_time": "2022-03-11T08:15:27.590Z"
   },
   {
    "duration": 66,
    "start_time": "2022-03-11T08:15:58.495Z"
   },
   {
    "duration": 24,
    "start_time": "2022-03-11T08:16:14.759Z"
   },
   {
    "duration": 34,
    "start_time": "2022-03-11T08:16:50.568Z"
   },
   {
    "duration": 25,
    "start_time": "2022-03-11T08:17:32.115Z"
   },
   {
    "duration": 37,
    "start_time": "2022-03-11T08:17:40.758Z"
   },
   {
    "duration": 38,
    "start_time": "2022-03-11T08:18:39.121Z"
   },
   {
    "duration": 418,
    "start_time": "2022-03-11T08:19:51.626Z"
   },
   {
    "duration": 33,
    "start_time": "2022-03-11T08:20:28.351Z"
   },
   {
    "duration": 108,
    "start_time": "2022-03-11T08:22:08.715Z"
   },
   {
    "duration": 25,
    "start_time": "2022-03-11T08:22:32.253Z"
   },
   {
    "duration": 28,
    "start_time": "2022-03-11T08:23:52.225Z"
   },
   {
    "duration": 27,
    "start_time": "2022-03-11T08:24:10.528Z"
   },
   {
    "duration": 26,
    "start_time": "2022-03-11T08:24:19.831Z"
   },
   {
    "duration": 76,
    "start_time": "2022-03-11T08:24:56.038Z"
   },
   {
    "duration": 11,
    "start_time": "2022-03-11T08:25:10.394Z"
   },
   {
    "duration": 441,
    "start_time": "2022-03-11T08:30:23.082Z"
   },
   {
    "duration": 430,
    "start_time": "2022-03-11T08:31:00.075Z"
   },
   {
    "duration": 474,
    "start_time": "2022-03-11T08:32:02.513Z"
   },
   {
    "duration": 512,
    "start_time": "2022-03-11T08:32:10.366Z"
   },
   {
    "duration": 1402,
    "start_time": "2022-03-11T08:32:34.744Z"
   },
   {
    "duration": 443,
    "start_time": "2022-03-11T08:32:49.557Z"
   },
   {
    "duration": 8365,
    "start_time": "2022-03-11T08:33:19.468Z"
   },
   {
    "duration": 430,
    "start_time": "2022-03-11T08:33:54.735Z"
   },
   {
    "duration": 470,
    "start_time": "2022-03-11T08:34:21.862Z"
   },
   {
    "duration": 593,
    "start_time": "2022-03-11T08:34:30.721Z"
   },
   {
    "duration": 431,
    "start_time": "2022-03-11T08:34:41.783Z"
   },
   {
    "duration": 50,
    "start_time": "2022-03-11T08:41:20.586Z"
   },
   {
    "duration": 11,
    "start_time": "2022-03-11T08:41:49.290Z"
   },
   {
    "duration": 24,
    "start_time": "2022-03-11T08:42:01.312Z"
   },
   {
    "duration": 11,
    "start_time": "2022-03-11T08:42:03.157Z"
   },
   {
    "duration": 415,
    "start_time": "2022-03-11T08:42:04.055Z"
   },
   {
    "duration": 4,
    "start_time": "2022-03-11T08:42:20.916Z"
   },
   {
    "duration": 78,
    "start_time": "2022-03-11T08:42:21.421Z"
   },
   {
    "duration": 10,
    "start_time": "2022-03-11T08:42:21.501Z"
   },
   {
    "duration": 106,
    "start_time": "2022-03-11T08:42:21.585Z"
   },
   {
    "duration": 15,
    "start_time": "2022-03-11T08:42:21.693Z"
   },
   {
    "duration": 14,
    "start_time": "2022-03-11T08:42:21.713Z"
   },
   {
    "duration": 55,
    "start_time": "2022-03-11T08:42:21.731Z"
   },
   {
    "duration": 9,
    "start_time": "2022-03-11T08:42:21.789Z"
   },
   {
    "duration": 71,
    "start_time": "2022-03-11T08:42:21.802Z"
   },
   {
    "duration": 15,
    "start_time": "2022-03-11T08:42:21.876Z"
   },
   {
    "duration": 9,
    "start_time": "2022-03-11T08:42:21.894Z"
   },
   {
    "duration": 70,
    "start_time": "2022-03-11T08:42:21.907Z"
   },
   {
    "duration": 12,
    "start_time": "2022-03-11T08:42:21.980Z"
   },
   {
    "duration": 23,
    "start_time": "2022-03-11T08:42:21.995Z"
   },
   {
    "duration": 58,
    "start_time": "2022-03-11T08:42:22.020Z"
   },
   {
    "duration": 15,
    "start_time": "2022-03-11T08:42:22.081Z"
   },
   {
    "duration": 13,
    "start_time": "2022-03-11T08:42:22.099Z"
   },
   {
    "duration": 64,
    "start_time": "2022-03-11T08:42:22.115Z"
   },
   {
    "duration": 24,
    "start_time": "2022-03-11T08:42:22.182Z"
   },
   {
    "duration": 11,
    "start_time": "2022-03-11T08:42:22.208Z"
   },
   {
    "duration": 3,
    "start_time": "2022-03-11T08:42:22.275Z"
   },
   {
    "duration": 97,
    "start_time": "2022-03-11T08:42:22.282Z"
   },
   {
    "duration": 14,
    "start_time": "2022-03-11T08:42:22.382Z"
   },
   {
    "duration": 28,
    "start_time": "2022-03-11T08:42:22.398Z"
   },
   {
    "duration": 83,
    "start_time": "2022-03-11T08:42:22.429Z"
   },
   {
    "duration": 79,
    "start_time": "2022-03-11T08:42:22.516Z"
   },
   {
    "duration": 11,
    "start_time": "2022-03-11T08:42:22.598Z"
   },
   {
    "duration": 97,
    "start_time": "2022-03-11T08:42:22.612Z"
   },
   {
    "duration": 63,
    "start_time": "2022-03-11T08:42:22.712Z"
   },
   {
    "duration": 6,
    "start_time": "2022-03-11T08:42:22.777Z"
   },
   {
    "duration": 574,
    "start_time": "2022-03-11T08:42:22.785Z"
   },
   {
    "duration": 247,
    "start_time": "2022-03-11T08:42:23.361Z"
   },
   {
    "duration": 728,
    "start_time": "2022-03-11T08:42:23.610Z"
   },
   {
    "duration": 625,
    "start_time": "2022-03-11T08:42:24.342Z"
   },
   {
    "duration": 241,
    "start_time": "2022-03-11T08:42:24.970Z"
   },
   {
    "duration": 351,
    "start_time": "2022-03-11T08:42:25.213Z"
   },
   {
    "duration": 557,
    "start_time": "2022-03-11T08:42:25.566Z"
   },
   {
    "duration": 212,
    "start_time": "2022-03-11T08:42:26.126Z"
   },
   {
    "duration": 520,
    "start_time": "2022-03-11T08:42:26.341Z"
   },
   {
    "duration": 1336,
    "start_time": "2022-03-11T08:42:26.864Z"
   },
   {
    "duration": 18,
    "start_time": "2022-03-11T08:42:28.202Z"
   },
   {
    "duration": 32,
    "start_time": "2022-03-11T08:42:28.222Z"
   },
   {
    "duration": 1231,
    "start_time": "2022-03-11T08:42:28.256Z"
   },
   {
    "duration": 1234,
    "start_time": "2022-03-11T08:42:29.490Z"
   },
   {
    "duration": 1366,
    "start_time": "2022-03-11T08:42:30.726Z"
   },
   {
    "duration": 23,
    "start_time": "2022-03-11T08:42:32.095Z"
   },
   {
    "duration": 1762,
    "start_time": "2022-03-11T08:42:32.122Z"
   },
   {
    "duration": 17,
    "start_time": "2022-03-11T08:42:33.887Z"
   },
   {
    "duration": 64,
    "start_time": "2022-03-11T08:42:33.911Z"
   },
   {
    "duration": 12,
    "start_time": "2022-03-11T08:42:33.978Z"
   },
   {
    "duration": 504,
    "start_time": "2022-03-11T08:42:33.993Z"
   },
   {
    "duration": 61,
    "start_time": "2022-03-11T08:52:40.269Z"
   },
   {
    "duration": 405,
    "start_time": "2022-03-11T08:56:41.597Z"
   },
   {
    "duration": 1838,
    "start_time": "2022-03-11T08:57:02.322Z"
   },
   {
    "duration": 1401,
    "start_time": "2022-03-11T08:57:19.420Z"
   },
   {
    "duration": 2878,
    "start_time": "2022-03-11T09:01:16.417Z"
   },
   {
    "duration": 2639,
    "start_time": "2022-03-11T09:02:52.213Z"
   },
   {
    "duration": 2663,
    "start_time": "2022-03-11T09:02:56.786Z"
   },
   {
    "duration": 2063,
    "start_time": "2022-03-11T09:03:03.779Z"
   },
   {
    "duration": 1294,
    "start_time": "2022-03-11T09:03:10.079Z"
   },
   {
    "duration": 1226,
    "start_time": "2022-03-11T09:03:13.105Z"
   },
   {
    "duration": 1259,
    "start_time": "2022-03-11T09:03:59.201Z"
   },
   {
    "duration": 1324,
    "start_time": "2022-03-11T09:04:05.106Z"
   },
   {
    "duration": 980,
    "start_time": "2022-03-11T09:04:18.833Z"
   },
   {
    "duration": 4,
    "start_time": "2022-03-11T09:04:32.677Z"
   },
   {
    "duration": 79,
    "start_time": "2022-03-11T09:04:32.705Z"
   },
   {
    "duration": 13,
    "start_time": "2022-03-11T09:04:32.788Z"
   },
   {
    "duration": 120,
    "start_time": "2022-03-11T09:04:32.860Z"
   },
   {
    "duration": 18,
    "start_time": "2022-03-11T09:04:32.983Z"
   },
   {
    "duration": 16,
    "start_time": "2022-03-11T09:04:33.005Z"
   },
   {
    "duration": 51,
    "start_time": "2022-03-11T09:04:33.024Z"
   },
   {
    "duration": 8,
    "start_time": "2022-03-11T09:04:33.079Z"
   },
   {
    "duration": 22,
    "start_time": "2022-03-11T09:04:33.091Z"
   },
   {
    "duration": 66,
    "start_time": "2022-03-11T09:04:33.116Z"
   },
   {
    "duration": 13,
    "start_time": "2022-03-11T09:04:33.185Z"
   },
   {
    "duration": 35,
    "start_time": "2022-03-11T09:04:33.201Z"
   },
   {
    "duration": 16,
    "start_time": "2022-03-11T09:04:33.277Z"
   },
   {
    "duration": 45,
    "start_time": "2022-03-11T09:04:33.296Z"
   },
   {
    "duration": 37,
    "start_time": "2022-03-11T09:04:33.345Z"
   },
   {
    "duration": 18,
    "start_time": "2022-03-11T09:04:33.384Z"
   },
   {
    "duration": 70,
    "start_time": "2022-03-11T09:04:33.407Z"
   },
   {
    "duration": 20,
    "start_time": "2022-03-11T09:04:33.481Z"
   },
   {
    "duration": 29,
    "start_time": "2022-03-11T09:04:33.504Z"
   },
   {
    "duration": 38,
    "start_time": "2022-03-11T09:04:33.535Z"
   },
   {
    "duration": 10,
    "start_time": "2022-03-11T09:04:33.577Z"
   },
   {
    "duration": 128,
    "start_time": "2022-03-11T09:04:33.590Z"
   },
   {
    "duration": 18,
    "start_time": "2022-03-11T09:04:33.776Z"
   },
   {
    "duration": 77,
    "start_time": "2022-03-11T09:04:33.799Z"
   },
   {
    "duration": 63,
    "start_time": "2022-03-11T09:04:33.880Z"
   },
   {
    "duration": 100,
    "start_time": "2022-03-11T09:04:33.946Z"
   },
   {
    "duration": 16,
    "start_time": "2022-03-11T09:04:34.075Z"
   },
   {
    "duration": 148,
    "start_time": "2022-03-11T09:04:34.094Z"
   },
   {
    "duration": 64,
    "start_time": "2022-03-11T09:04:34.245Z"
   },
   {
    "duration": 8,
    "start_time": "2022-03-11T09:04:34.312Z"
   },
   {
    "duration": 650,
    "start_time": "2022-03-11T09:04:34.323Z"
   },
   {
    "duration": 369,
    "start_time": "2022-03-11T09:04:34.977Z"
   },
   {
    "duration": 1196,
    "start_time": "2022-03-11T09:04:35.353Z"
   },
   {
    "duration": 832,
    "start_time": "2022-03-11T09:04:36.552Z"
   },
   {
    "duration": 258,
    "start_time": "2022-03-11T09:04:37.387Z"
   },
   {
    "duration": 381,
    "start_time": "2022-03-11T09:04:37.647Z"
   },
   {
    "duration": 574,
    "start_time": "2022-03-11T09:04:38.031Z"
   },
   {
    "duration": 223,
    "start_time": "2022-03-11T09:04:38.608Z"
   },
   {
    "duration": 753,
    "start_time": "2022-03-11T09:04:38.834Z"
   },
   {
    "duration": 1433,
    "start_time": "2022-03-11T09:04:39.590Z"
   },
   {
    "duration": 20,
    "start_time": "2022-03-11T09:04:41.027Z"
   },
   {
    "duration": 18,
    "start_time": "2022-03-11T09:04:41.075Z"
   },
   {
    "duration": 1247,
    "start_time": "2022-03-11T09:04:41.097Z"
   },
   {
    "duration": 1248,
    "start_time": "2022-03-11T09:04:42.347Z"
   },
   {
    "duration": 1192,
    "start_time": "2022-03-11T09:04:43.597Z"
   },
   {
    "duration": 21,
    "start_time": "2022-03-11T09:04:44.791Z"
   },
   {
    "duration": 1454,
    "start_time": "2022-03-11T09:04:44.815Z"
   },
   {
    "duration": 14,
    "start_time": "2022-03-11T09:04:46.274Z"
   },
   {
    "duration": 24,
    "start_time": "2022-03-11T09:04:46.290Z"
   },
   {
    "duration": 10,
    "start_time": "2022-03-11T09:04:46.316Z"
   },
   {
    "duration": 568,
    "start_time": "2022-03-11T09:04:46.328Z"
   },
   {
    "duration": 112,
    "start_time": "2022-03-11T09:04:46.899Z"
   },
   {
    "duration": 1623,
    "start_time": "2022-03-11T09:04:47.014Z"
   },
   {
    "duration": 847,
    "start_time": "2022-03-11T09:07:07.513Z"
   },
   {
    "duration": 372,
    "start_time": "2022-03-11T09:08:59.601Z"
   },
   {
    "duration": 408,
    "start_time": "2022-03-11T09:09:04.870Z"
   },
   {
    "duration": 366,
    "start_time": "2022-03-11T09:09:11.446Z"
   },
   {
    "duration": 299,
    "start_time": "2022-03-11T09:09:17.238Z"
   },
   {
    "duration": 74,
    "start_time": "2022-03-11T09:09:34.403Z"
   },
   {
    "duration": 306,
    "start_time": "2022-03-11T09:09:35.729Z"
   },
   {
    "duration": 338,
    "start_time": "2022-03-11T09:09:54.489Z"
   },
   {
    "duration": 331,
    "start_time": "2022-03-11T09:09:58.095Z"
   },
   {
    "duration": 338,
    "start_time": "2022-03-11T09:14:51.950Z"
   },
   {
    "duration": 413,
    "start_time": "2022-03-11T09:15:05.874Z"
   },
   {
    "duration": 349,
    "start_time": "2022-03-11T09:15:08.720Z"
   },
   {
    "duration": 333,
    "start_time": "2022-03-11T09:16:46.993Z"
   },
   {
    "duration": 590,
    "start_time": "2022-03-11T09:17:29.683Z"
   },
   {
    "duration": 593,
    "start_time": "2022-03-11T09:17:55.248Z"
   },
   {
    "duration": 338,
    "start_time": "2022-03-11T09:18:12.122Z"
   },
   {
    "duration": 437,
    "start_time": "2022-03-11T09:18:38.377Z"
   },
   {
    "duration": 6166,
    "start_time": "2022-03-11T09:20:13.437Z"
   },
   {
    "duration": 5817,
    "start_time": "2022-03-11T09:20:33.545Z"
   },
   {
    "duration": 605,
    "start_time": "2022-03-11T09:21:03.280Z"
   },
   {
    "duration": 5780,
    "start_time": "2022-03-11T09:21:25.131Z"
   },
   {
    "duration": 5186,
    "start_time": "2022-03-11T09:21:50.179Z"
   },
   {
    "duration": 45557,
    "start_time": "2022-03-11T09:23:53.568Z"
   },
   {
    "duration": 4,
    "start_time": "2022-03-11T09:24:39.127Z"
   },
   {
    "duration": 99,
    "start_time": "2022-03-11T09:24:39.134Z"
   },
   {
    "duration": 10,
    "start_time": "2022-03-11T09:24:39.235Z"
   },
   {
    "duration": 130,
    "start_time": "2022-03-11T09:24:39.248Z"
   },
   {
    "duration": 14,
    "start_time": "2022-03-11T09:24:39.381Z"
   },
   {
    "duration": 11,
    "start_time": "2022-03-11T09:24:39.398Z"
   },
   {
    "duration": 10,
    "start_time": "2022-03-11T09:24:39.412Z"
   },
   {
    "duration": 7,
    "start_time": "2022-03-11T09:24:39.473Z"
   },
   {
    "duration": 13,
    "start_time": "2022-03-11T09:24:39.482Z"
   },
   {
    "duration": 15,
    "start_time": "2022-03-11T09:24:39.498Z"
   },
   {
    "duration": 58,
    "start_time": "2022-03-11T09:24:39.516Z"
   },
   {
    "duration": 21,
    "start_time": "2022-03-11T09:24:39.577Z"
   },
   {
    "duration": 13,
    "start_time": "2022-03-11T09:24:39.601Z"
   },
   {
    "duration": 69,
    "start_time": "2022-03-11T09:24:39.617Z"
   },
   {
    "duration": 9,
    "start_time": "2022-03-11T09:24:39.689Z"
   },
   {
    "duration": 15,
    "start_time": "2022-03-11T09:24:39.701Z"
   },
   {
    "duration": 59,
    "start_time": "2022-03-11T09:24:39.719Z"
   },
   {
    "duration": 17,
    "start_time": "2022-03-11T09:24:39.780Z"
   },
   {
    "duration": 74,
    "start_time": "2022-03-11T09:24:39.799Z"
   },
   {
    "duration": 12,
    "start_time": "2022-03-11T09:24:39.876Z"
   },
   {
    "duration": 4,
    "start_time": "2022-03-11T09:24:39.891Z"
   },
   {
    "duration": 94,
    "start_time": "2022-03-11T09:24:39.900Z"
   },
   {
    "duration": 13,
    "start_time": "2022-03-11T09:24:39.997Z"
   },
   {
    "duration": 27,
    "start_time": "2022-03-11T09:24:40.013Z"
   },
   {
    "duration": 43,
    "start_time": "2022-03-11T09:24:40.074Z"
   },
   {
    "duration": 86,
    "start_time": "2022-03-11T09:24:40.120Z"
   },
   {
    "duration": 11,
    "start_time": "2022-03-11T09:24:40.208Z"
   },
   {
    "duration": 97,
    "start_time": "2022-03-11T09:24:40.222Z"
   },
   {
    "duration": 68,
    "start_time": "2022-03-11T09:24:40.322Z"
   },
   {
    "duration": 6,
    "start_time": "2022-03-11T09:24:40.393Z"
   },
   {
    "duration": 685,
    "start_time": "2022-03-11T09:24:40.402Z"
   },
   {
    "duration": 254,
    "start_time": "2022-03-11T09:24:41.090Z"
   },
   {
    "duration": 589,
    "start_time": "2022-03-11T09:24:41.347Z"
   },
   {
    "duration": 594,
    "start_time": "2022-03-11T09:24:41.938Z"
   },
   {
    "duration": 229,
    "start_time": "2022-03-11T09:24:42.534Z"
   },
   {
    "duration": 323,
    "start_time": "2022-03-11T09:24:42.773Z"
   },
   {
    "duration": 542,
    "start_time": "2022-03-11T09:24:43.099Z"
   },
   {
    "duration": 203,
    "start_time": "2022-03-11T09:24:45.809Z"
   },
   {
    "duration": 624,
    "start_time": "2022-03-11T09:24:46.116Z"
   },
   {
    "duration": 1184,
    "start_time": "2022-03-11T09:24:46.743Z"
   },
   {
    "duration": 22,
    "start_time": "2022-03-11T09:24:47.931Z"
   },
   {
    "duration": 16,
    "start_time": "2022-03-11T09:24:48.266Z"
   },
   {
    "duration": 1221,
    "start_time": "2022-03-11T09:30:21.346Z"
   },
   {
    "duration": 1271,
    "start_time": "2022-03-11T09:30:22.573Z"
   },
   {
    "duration": 1230,
    "start_time": "2022-03-11T09:30:23.847Z"
   },
   {
    "duration": 22,
    "start_time": "2022-03-11T09:30:25.080Z"
   },
   {
    "duration": 1621,
    "start_time": "2022-03-11T09:30:25.105Z"
   },
   {
    "duration": 15,
    "start_time": "2022-03-11T09:30:26.729Z"
   },
   {
    "duration": 49,
    "start_time": "2022-03-11T09:30:26.747Z"
   },
   {
    "duration": 11,
    "start_time": "2022-03-11T09:30:26.798Z"
   },
   {
    "duration": 447,
    "start_time": "2022-03-11T09:31:56.326Z"
   },
   {
    "duration": 63,
    "start_time": "2022-03-11T09:31:56.967Z"
   },
   {
    "duration": 6558,
    "start_time": "2022-03-11T09:31:58.080Z"
   },
   {
    "duration": 4839,
    "start_time": "2022-03-11T09:33:25.910Z"
   },
   {
    "duration": 5289,
    "start_time": "2022-03-11T09:34:21.496Z"
   },
   {
    "duration": 332,
    "start_time": "2022-03-11T09:34:38.176Z"
   },
   {
    "duration": 3,
    "start_time": "2022-03-11T09:34:58.529Z"
   },
   {
    "duration": 73,
    "start_time": "2022-03-11T09:35:00.254Z"
   },
   {
    "duration": 10,
    "start_time": "2022-03-11T09:35:00.329Z"
   },
   {
    "duration": 148,
    "start_time": "2022-03-11T09:35:02.893Z"
   },
   {
    "duration": 20,
    "start_time": "2022-03-11T09:35:03.618Z"
   },
   {
    "duration": 11,
    "start_time": "2022-03-11T09:35:04.374Z"
   },
   {
    "duration": 10,
    "start_time": "2022-03-11T09:35:04.872Z"
   },
   {
    "duration": 7,
    "start_time": "2022-03-11T09:35:05.266Z"
   },
   {
    "duration": 13,
    "start_time": "2022-03-11T09:35:05.634Z"
   },
   {
    "duration": 17,
    "start_time": "2022-03-11T09:35:06.108Z"
   },
   {
    "duration": 10,
    "start_time": "2022-03-11T09:35:06.548Z"
   },
   {
    "duration": 22,
    "start_time": "2022-03-11T09:35:06.935Z"
   },
   {
    "duration": 13,
    "start_time": "2022-03-11T09:35:07.408Z"
   },
   {
    "duration": 22,
    "start_time": "2022-03-11T09:35:07.849Z"
   },
   {
    "duration": 10,
    "start_time": "2022-03-11T09:35:08.266Z"
   },
   {
    "duration": 16,
    "start_time": "2022-03-11T09:35:08.721Z"
   },
   {
    "duration": 16,
    "start_time": "2022-03-11T09:35:09.141Z"
   },
   {
    "duration": 15,
    "start_time": "2022-03-11T09:35:09.555Z"
   },
   {
    "duration": 25,
    "start_time": "2022-03-11T09:35:09.974Z"
   },
   {
    "duration": 11,
    "start_time": "2022-03-11T09:35:10.390Z"
   },
   {
    "duration": 3,
    "start_time": "2022-03-11T09:35:10.833Z"
   },
   {
    "duration": 67,
    "start_time": "2022-03-11T09:35:11.282Z"
   },
   {
    "duration": 13,
    "start_time": "2022-03-11T09:35:11.970Z"
   },
   {
    "duration": 20,
    "start_time": "2022-03-11T09:35:12.458Z"
   },
   {
    "duration": 44,
    "start_time": "2022-03-11T09:35:12.898Z"
   },
   {
    "duration": 53,
    "start_time": "2022-03-11T09:35:14.026Z"
   },
   {
    "duration": 13,
    "start_time": "2022-03-11T09:35:14.687Z"
   },
   {
    "duration": 72,
    "start_time": "2022-03-11T09:35:15.371Z"
   },
   {
    "duration": 41,
    "start_time": "2022-03-11T09:35:15.968Z"
   },
   {
    "duration": 7,
    "start_time": "2022-03-11T09:35:16.664Z"
   },
   {
    "duration": 549,
    "start_time": "2022-03-11T09:35:21.269Z"
   },
   {
    "duration": 240,
    "start_time": "2022-03-11T09:35:22.712Z"
   },
   {
    "duration": 562,
    "start_time": "2022-03-11T09:35:28.821Z"
   },
   {
    "duration": 600,
    "start_time": "2022-03-11T09:35:29.964Z"
   },
   {
    "duration": 215,
    "start_time": "2022-03-11T09:35:31.028Z"
   },
   {
    "duration": 324,
    "start_time": "2022-03-11T09:35:33.615Z"
   },
   {
    "duration": 4065,
    "start_time": "2022-03-11T09:35:49.562Z"
   },
   {
    "duration": 227,
    "start_time": "2022-03-11T09:35:53.630Z"
   },
   {
    "duration": 559,
    "start_time": "2022-03-11T09:35:53.860Z"
   },
   {
    "duration": 1169,
    "start_time": "2022-03-11T09:35:54.421Z"
   },
   {
    "duration": 16,
    "start_time": "2022-03-11T09:35:58.374Z"
   },
   {
    "duration": 22,
    "start_time": "2022-03-11T09:35:59.498Z"
   },
   {
    "duration": 1194,
    "start_time": "2022-03-11T09:36:00.312Z"
   },
   {
    "duration": 1235,
    "start_time": "2022-03-11T09:36:03.433Z"
   },
   {
    "duration": 1160,
    "start_time": "2022-03-11T09:36:06.619Z"
   },
   {
    "duration": 23,
    "start_time": "2022-03-11T09:36:08.632Z"
   },
   {
    "duration": 1442,
    "start_time": "2022-03-11T09:36:19.148Z"
   },
   {
    "duration": 15,
    "start_time": "2022-03-11T09:36:21.618Z"
   },
   {
    "duration": 24,
    "start_time": "2022-03-11T09:36:24.530Z"
   },
   {
    "duration": 11,
    "start_time": "2022-03-11T09:36:25.563Z"
   },
   {
    "duration": 423,
    "start_time": "2022-03-11T09:36:26.470Z"
   },
   {
    "duration": 64,
    "start_time": "2022-03-11T09:36:27.500Z"
   },
   {
    "duration": 340,
    "start_time": "2022-03-11T09:36:28.654Z"
   },
   {
    "duration": 688,
    "start_time": "2022-03-11T09:37:06.496Z"
   },
   {
    "duration": 141,
    "start_time": "2022-03-11T09:37:31.419Z"
   },
   {
    "duration": 346,
    "start_time": "2022-03-11T09:37:40.963Z"
   },
   {
    "duration": 316,
    "start_time": "2022-03-11T09:37:55.253Z"
   },
   {
    "duration": 434,
    "start_time": "2022-03-11T09:37:59.977Z"
   },
   {
    "duration": 410,
    "start_time": "2022-03-11T09:38:05.182Z"
   },
   {
    "duration": 394,
    "start_time": "2022-03-11T09:38:08.686Z"
   },
   {
    "duration": 418,
    "start_time": "2022-03-11T09:38:15.096Z"
   },
   {
    "duration": 419,
    "start_time": "2022-03-11T09:38:21.174Z"
   },
   {
    "duration": 543,
    "start_time": "2022-03-11T09:39:15.207Z"
   },
   {
    "duration": 679,
    "start_time": "2022-03-11T09:39:39.514Z"
   },
   {
    "duration": 1384,
    "start_time": "2022-03-11T09:40:35.251Z"
   },
   {
    "duration": 600,
    "start_time": "2022-03-11T09:40:52.008Z"
   },
   {
    "duration": 576,
    "start_time": "2022-03-11T09:40:54.507Z"
   },
   {
    "duration": 828,
    "start_time": "2022-03-11T09:40:59.529Z"
   },
   {
    "duration": 328,
    "start_time": "2022-03-11T09:41:01.851Z"
   },
   {
    "duration": 415,
    "start_time": "2022-03-11T09:41:05.402Z"
   },
   {
    "duration": 456,
    "start_time": "2022-03-11T09:41:11.090Z"
   },
   {
    "duration": 318,
    "start_time": "2022-03-11T09:41:25.646Z"
   },
   {
    "duration": 300,
    "start_time": "2022-03-11T09:41:30.230Z"
   },
   {
    "duration": 718,
    "start_time": "2022-03-11T09:41:36.093Z"
   },
   {
    "duration": 1120,
    "start_time": "2022-03-11T09:41:40.224Z"
   },
   {
    "duration": 458,
    "start_time": "2022-03-11T09:41:44.848Z"
   },
   {
    "duration": 523,
    "start_time": "2022-03-11T09:42:34.324Z"
   },
   {
    "duration": 400,
    "start_time": "2022-03-11T09:42:49.624Z"
   },
   {
    "duration": 284,
    "start_time": "2022-03-11T09:43:17.098Z"
   },
   {
    "duration": 292,
    "start_time": "2022-03-11T09:43:22.410Z"
   },
   {
    "duration": 561,
    "start_time": "2022-03-11T09:43:29.841Z"
   },
   {
    "duration": 503,
    "start_time": "2022-03-11T09:43:35.458Z"
   },
   {
    "duration": 3055,
    "start_time": "2022-03-11T09:51:16.947Z"
   },
   {
    "duration": 2296,
    "start_time": "2022-03-11T09:52:00.938Z"
   },
   {
    "duration": 2577,
    "start_time": "2022-03-11T09:52:32.018Z"
   },
   {
    "duration": 1281,
    "start_time": "2022-03-11T09:52:53.993Z"
   },
   {
    "duration": 2551,
    "start_time": "2022-03-11T09:53:19.965Z"
   },
   {
    "duration": 2507,
    "start_time": "2022-03-11T09:54:09.090Z"
   },
   {
    "duration": 4,
    "start_time": "2022-03-11T10:01:01.572Z"
   },
   {
    "duration": 65,
    "start_time": "2022-03-11T10:01:02.190Z"
   },
   {
    "duration": 11,
    "start_time": "2022-03-11T10:01:02.649Z"
   },
   {
    "duration": 105,
    "start_time": "2022-03-11T10:01:05.987Z"
   },
   {
    "duration": 17,
    "start_time": "2022-03-11T10:01:06.328Z"
   },
   {
    "duration": 14,
    "start_time": "2022-03-11T10:01:06.615Z"
   },
   {
    "duration": 11,
    "start_time": "2022-03-11T10:01:07.102Z"
   },
   {
    "duration": 7,
    "start_time": "2022-03-11T10:01:07.493Z"
   },
   {
    "duration": 13,
    "start_time": "2022-03-11T10:01:07.846Z"
   },
   {
    "duration": 16,
    "start_time": "2022-03-11T10:01:08.205Z"
   },
   {
    "duration": 10,
    "start_time": "2022-03-11T10:01:08.597Z"
   },
   {
    "duration": 20,
    "start_time": "2022-03-11T10:01:08.987Z"
   },
   {
    "duration": 12,
    "start_time": "2022-03-11T10:01:09.366Z"
   },
   {
    "duration": 20,
    "start_time": "2022-03-11T10:01:09.750Z"
   },
   {
    "duration": 11,
    "start_time": "2022-03-11T10:01:10.117Z"
   },
   {
    "duration": 16,
    "start_time": "2022-03-11T10:01:10.535Z"
   },
   {
    "duration": 14,
    "start_time": "2022-03-11T10:01:10.924Z"
   },
   {
    "duration": 21,
    "start_time": "2022-03-11T10:01:11.373Z"
   },
   {
    "duration": 33,
    "start_time": "2022-03-11T10:01:11.821Z"
   },
   {
    "duration": 13,
    "start_time": "2022-03-11T10:01:12.279Z"
   },
   {
    "duration": 68,
    "start_time": "2022-03-11T10:01:12.945Z"
   },
   {
    "duration": 14,
    "start_time": "2022-03-11T10:01:21.363Z"
   },
   {
    "duration": 27,
    "start_time": "2022-03-11T10:01:23.233Z"
   },
   {
    "duration": 41,
    "start_time": "2022-03-11T10:01:24.348Z"
   },
   {
    "duration": 49,
    "start_time": "2022-03-11T10:01:26.245Z"
   },
   {
    "duration": 10,
    "start_time": "2022-03-11T10:01:27.390Z"
   },
   {
    "duration": 67,
    "start_time": "2022-03-11T10:01:28.283Z"
   },
   {
    "duration": 39,
    "start_time": "2022-03-11T10:01:28.998Z"
   },
   {
    "duration": 6,
    "start_time": "2022-03-11T10:01:29.648Z"
   },
   {
    "duration": 531,
    "start_time": "2022-03-11T10:02:29.667Z"
   },
   {
    "duration": 227,
    "start_time": "2022-03-11T10:02:33.844Z"
   },
   {
    "duration": 533,
    "start_time": "2022-03-11T10:04:54.006Z"
   },
   {
    "duration": 223,
    "start_time": "2022-03-11T10:04:56.806Z"
   },
   {
    "duration": 547,
    "start_time": "2022-03-11T10:05:19.907Z"
   },
   {
    "duration": 536,
    "start_time": "2022-03-11T10:05:24.640Z"
   },
   {
    "duration": 1190,
    "start_time": "2022-03-11T10:05:52.149Z"
   },
   {
    "duration": 683,
    "start_time": "2022-03-11T10:05:59.519Z"
   },
   {
    "duration": 596,
    "start_time": "2022-03-11T10:06:05.014Z"
   },
   {
    "duration": 11,
    "start_time": "2022-03-11T10:06:40.712Z"
   },
   {
    "duration": 224,
    "start_time": "2022-03-11T10:06:53.726Z"
   },
   {
    "duration": 697,
    "start_time": "2022-03-11T10:08:03.474Z"
   },
   {
    "duration": 301,
    "start_time": "2022-03-11T10:08:14.745Z"
   },
   {
    "duration": 350,
    "start_time": "2022-03-11T10:08:19.697Z"
   },
   {
    "duration": 1114,
    "start_time": "2022-03-11T10:08:26.259Z"
   },
   {
    "duration": 223,
    "start_time": "2022-03-11T10:08:50.483Z"
   },
   {
    "duration": 7,
    "start_time": "2022-03-11T10:10:44.743Z"
   },
   {
    "duration": 10,
    "start_time": "2022-03-11T10:11:06.894Z"
   },
   {
    "duration": 621,
    "start_time": "2022-03-11T10:12:19.708Z"
   },
   {
    "duration": 715,
    "start_time": "2022-03-11T10:12:43.150Z"
   },
   {
    "duration": 11,
    "start_time": "2022-03-11T10:12:56.677Z"
   },
   {
    "duration": 1125,
    "start_time": "2022-03-11T10:13:05.225Z"
   },
   {
    "duration": 1357,
    "start_time": "2022-03-11T10:13:23.837Z"
   },
   {
    "duration": 377,
    "start_time": "2022-03-11T10:13:30.119Z"
   },
   {
    "duration": 794,
    "start_time": "2022-03-11T10:13:33.987Z"
   },
   {
    "duration": 726,
    "start_time": "2022-03-11T10:13:38.250Z"
   },
   {
    "duration": 837,
    "start_time": "2022-03-11T10:13:43.663Z"
   },
   {
    "duration": 217,
    "start_time": "2022-03-11T10:14:14.637Z"
   },
   {
    "duration": 216,
    "start_time": "2022-03-11T10:14:39.445Z"
   },
   {
    "duration": 579,
    "start_time": "2022-03-11T10:14:59.673Z"
   },
   {
    "duration": 543,
    "start_time": "2022-03-11T10:15:24.937Z"
   },
   {
    "duration": 1272,
    "start_time": "2022-03-11T10:15:31.977Z"
   },
   {
    "duration": 592,
    "start_time": "2022-03-11T10:16:21.843Z"
   },
   {
    "duration": 214,
    "start_time": "2022-03-11T10:17:01.829Z"
   },
   {
    "duration": 271,
    "start_time": "2022-03-11T10:17:18.653Z"
   },
   {
    "duration": 233,
    "start_time": "2022-03-11T10:17:22.383Z"
   },
   {
    "duration": 229,
    "start_time": "2022-03-11T10:17:30.187Z"
   },
   {
    "duration": 220,
    "start_time": "2022-03-11T10:17:37.726Z"
   },
   {
    "duration": 248,
    "start_time": "2022-03-11T10:18:15.975Z"
   },
   {
    "duration": 572,
    "start_time": "2022-03-11T10:18:24.791Z"
   },
   {
    "duration": 9,
    "start_time": "2022-03-11T10:19:33.379Z"
   },
   {
    "duration": 9,
    "start_time": "2022-03-11T10:19:55.740Z"
   },
   {
    "duration": 223,
    "start_time": "2022-03-11T10:20:10.114Z"
   },
   {
    "duration": 9,
    "start_time": "2022-03-11T10:20:21.797Z"
   },
   {
    "duration": 10,
    "start_time": "2022-03-11T10:20:39.589Z"
   },
   {
    "duration": 108,
    "start_time": "2022-03-11T10:20:47.888Z"
   },
   {
    "duration": 322,
    "start_time": "2022-03-11T10:20:53.120Z"
   },
   {
    "duration": 9,
    "start_time": "2022-03-11T10:21:04.221Z"
   },
   {
    "duration": 10,
    "start_time": "2022-03-11T10:21:13.763Z"
   },
   {
    "duration": 11,
    "start_time": "2022-03-11T10:21:17.856Z"
   },
   {
    "duration": 212,
    "start_time": "2022-03-11T10:22:06.822Z"
   },
   {
    "duration": 224,
    "start_time": "2022-03-11T10:22:20.041Z"
   },
   {
    "duration": 260,
    "start_time": "2022-03-11T10:22:25.942Z"
   },
   {
    "duration": 224,
    "start_time": "2022-03-11T10:22:28.932Z"
   },
   {
    "duration": 220,
    "start_time": "2022-03-11T10:22:37.081Z"
   },
   {
    "duration": 220,
    "start_time": "2022-03-11T10:22:46.299Z"
   },
   {
    "duration": 11,
    "start_time": "2022-03-11T10:23:08.515Z"
   },
   {
    "duration": 10,
    "start_time": "2022-03-11T10:23:12.806Z"
   },
   {
    "duration": 572,
    "start_time": "2022-03-11T10:23:22.574Z"
   },
   {
    "duration": 569,
    "start_time": "2022-03-11T10:24:04.495Z"
   },
   {
    "duration": 560,
    "start_time": "2022-03-11T10:24:16.526Z"
   },
   {
    "duration": 542,
    "start_time": "2022-03-11T10:24:22.921Z"
   },
   {
    "duration": 13,
    "start_time": "2022-03-11T10:24:53.055Z"
   },
   {
    "duration": 566,
    "start_time": "2022-03-11T10:24:59.540Z"
   },
   {
    "duration": 219,
    "start_time": "2022-03-11T10:25:06.493Z"
   },
   {
    "duration": 312,
    "start_time": "2022-03-11T10:25:25.135Z"
   },
   {
    "duration": 11,
    "start_time": "2022-03-11T10:25:32.974Z"
   },
   {
    "duration": 539,
    "start_time": "2022-03-11T10:25:51.977Z"
   },
   {
    "duration": 8,
    "start_time": "2022-03-11T10:26:22.172Z"
   },
   {
    "duration": 8,
    "start_time": "2022-03-11T10:26:26.757Z"
   },
   {
    "duration": 8,
    "start_time": "2022-03-11T10:26:34.044Z"
   },
   {
    "duration": 9,
    "start_time": "2022-03-11T10:27:10.887Z"
   },
   {
    "duration": 557,
    "start_time": "2022-03-11T10:29:08.367Z"
   },
   {
    "duration": 543,
    "start_time": "2022-03-11T10:29:11.957Z"
   },
   {
    "duration": 224,
    "start_time": "2022-03-11T10:29:15.966Z"
   },
   {
    "duration": 210,
    "start_time": "2022-03-11T10:29:22.351Z"
   },
   {
    "duration": 209,
    "start_time": "2022-03-11T10:29:25.929Z"
   },
   {
    "duration": 209,
    "start_time": "2022-03-11T10:29:28.913Z"
   },
   {
    "duration": 237,
    "start_time": "2022-03-11T10:30:28.394Z"
   },
   {
    "duration": 311,
    "start_time": "2022-03-11T10:31:16.156Z"
   },
   {
    "duration": 139,
    "start_time": "2022-03-11T10:32:00.650Z"
   },
   {
    "duration": 708,
    "start_time": "2022-03-11T10:32:04.980Z"
   },
   {
    "duration": 10,
    "start_time": "2022-03-11T10:32:11.945Z"
   },
   {
    "duration": 10,
    "start_time": "2022-03-11T10:32:12.324Z"
   },
   {
    "duration": 653,
    "start_time": "2022-03-11T10:32:12.764Z"
   },
   {
    "duration": 267,
    "start_time": "2022-03-11T10:32:16.826Z"
   },
   {
    "duration": 413,
    "start_time": "2022-03-11T10:32:18.944Z"
   },
   {
    "duration": 11,
    "start_time": "2022-03-11T10:32:25.037Z"
   },
   {
    "duration": 505,
    "start_time": "2022-03-11T10:32:28.547Z"
   },
   {
    "duration": 468,
    "start_time": "2022-03-11T10:32:35.826Z"
   },
   {
    "duration": 407,
    "start_time": "2022-03-11T10:32:40.515Z"
   },
   {
    "duration": 510,
    "start_time": "2022-03-11T10:32:44.722Z"
   },
   {
    "duration": 10,
    "start_time": "2022-03-11T10:33:22.187Z"
   },
   {
    "duration": 281,
    "start_time": "2022-03-11T10:34:07.899Z"
   },
   {
    "duration": 489,
    "start_time": "2022-03-11T10:34:22.495Z"
   },
   {
    "duration": 656,
    "start_time": "2022-03-11T10:35:09.745Z"
   },
   {
    "duration": 17,
    "start_time": "2022-03-11T10:35:57.767Z"
   },
   {
    "duration": 15,
    "start_time": "2022-03-11T10:36:00.127Z"
   },
   {
    "duration": 1157,
    "start_time": "2022-03-11T10:36:03.133Z"
   },
   {
    "duration": 1495,
    "start_time": "2022-03-11T10:51:05.481Z"
   },
   {
    "duration": 69,
    "start_time": "2022-03-11T10:56:57.174Z"
   },
   {
    "duration": 30,
    "start_time": "2022-03-11T10:56:57.246Z"
   },
   {
    "duration": 130,
    "start_time": "2022-03-11T10:56:57.280Z"
   },
   {
    "duration": 19,
    "start_time": "2022-03-11T10:56:57.414Z"
   },
   {
    "duration": 38,
    "start_time": "2022-03-11T10:56:57.436Z"
   },
   {
    "duration": 9,
    "start_time": "2022-03-11T10:56:57.477Z"
   },
   {
    "duration": 8,
    "start_time": "2022-03-11T10:56:57.489Z"
   },
   {
    "duration": 74,
    "start_time": "2022-03-11T10:56:57.499Z"
   },
   {
    "duration": 21,
    "start_time": "2022-03-11T10:56:57.577Z"
   },
   {
    "duration": 13,
    "start_time": "2022-03-11T10:56:57.602Z"
   },
   {
    "duration": 4,
    "start_time": "2022-03-11T10:57:16.958Z"
   },
   {
    "duration": 73,
    "start_time": "2022-03-11T10:57:17.854Z"
   },
   {
    "duration": 9,
    "start_time": "2022-03-11T10:57:18.454Z"
   },
   {
    "duration": 116,
    "start_time": "2022-03-11T10:57:23.279Z"
   },
   {
    "duration": 16,
    "start_time": "2022-03-11T10:57:24.525Z"
   },
   {
    "duration": 12,
    "start_time": "2022-03-11T10:57:25.393Z"
   },
   {
    "duration": 10,
    "start_time": "2022-03-11T10:57:26.297Z"
   },
   {
    "duration": 7,
    "start_time": "2022-03-11T10:57:27.046Z"
   },
   {
    "duration": 14,
    "start_time": "2022-03-11T10:57:27.633Z"
   },
   {
    "duration": 14,
    "start_time": "2022-03-11T10:57:28.293Z"
   },
   {
    "duration": 10,
    "start_time": "2022-03-11T10:57:28.712Z"
   },
   {
    "duration": 24,
    "start_time": "2022-03-11T10:57:29.140Z"
   },
   {
    "duration": 14,
    "start_time": "2022-03-11T10:57:29.578Z"
   },
   {
    "duration": 21,
    "start_time": "2022-03-11T10:57:30.007Z"
   },
   {
    "duration": 9,
    "start_time": "2022-03-11T10:57:30.401Z"
   },
   {
    "duration": 16,
    "start_time": "2022-03-11T10:57:30.830Z"
   },
   {
    "duration": 14,
    "start_time": "2022-03-11T10:57:31.270Z"
   },
   {
    "duration": 17,
    "start_time": "2022-03-11T10:57:31.653Z"
   },
   {
    "duration": 24,
    "start_time": "2022-03-11T10:57:32.061Z"
   },
   {
    "duration": 13,
    "start_time": "2022-03-11T10:57:32.419Z"
   },
   {
    "duration": 67,
    "start_time": "2022-03-11T10:57:32.836Z"
   },
   {
    "duration": 13,
    "start_time": "2022-03-11T10:57:33.241Z"
   },
   {
    "duration": 20,
    "start_time": "2022-03-11T10:57:33.750Z"
   },
   {
    "duration": 43,
    "start_time": "2022-03-11T10:57:34.308Z"
   },
   {
    "duration": 53,
    "start_time": "2022-03-11T11:00:31.538Z"
   },
   {
    "duration": 11,
    "start_time": "2022-03-11T11:00:32.197Z"
   },
   {
    "duration": 77,
    "start_time": "2022-03-11T11:00:32.597Z"
   },
   {
    "duration": 41,
    "start_time": "2022-03-11T11:00:32.942Z"
   },
   {
    "duration": 7,
    "start_time": "2022-03-11T11:00:33.234Z"
   },
   {
    "duration": 13,
    "start_time": "2022-03-11T11:00:34.080Z"
   },
   {
    "duration": 558,
    "start_time": "2022-03-11T11:00:36.062Z"
   },
   {
    "duration": 248,
    "start_time": "2022-03-11T11:00:36.623Z"
   },
   {
    "duration": 624,
    "start_time": "2022-03-11T11:00:36.874Z"
   },
   {
    "duration": 10,
    "start_time": "2022-03-11T11:00:37.502Z"
   },
   {
    "duration": 10,
    "start_time": "2022-03-11T11:00:37.514Z"
   },
   {
    "duration": 885,
    "start_time": "2022-03-11T11:00:37.527Z"
   },
   {
    "duration": 214,
    "start_time": "2022-03-11T11:00:39.754Z"
   },
   {
    "duration": 594,
    "start_time": "2022-03-11T11:00:40.643Z"
   },
   {
    "duration": 12,
    "start_time": "2022-03-11T11:00:41.554Z"
   },
   {
    "duration": 9,
    "start_time": "2022-03-11T11:00:44.061Z"
   },
   {
    "duration": 587,
    "start_time": "2022-03-11T11:00:44.662Z"
   },
   {
    "duration": 215,
    "start_time": "2022-03-11T11:00:45.897Z"
   },
   {
    "duration": 319,
    "start_time": "2022-03-11T11:00:46.968Z"
   },
   {
    "duration": 11,
    "start_time": "2022-03-11T11:00:49.113Z"
   },
   {
    "duration": 10,
    "start_time": "2022-03-11T11:00:49.947Z"
   },
   {
    "duration": 526,
    "start_time": "2022-03-11T11:00:50.730Z"
   },
   {
    "duration": 226,
    "start_time": "2022-03-11T11:00:52.266Z"
   },
   {
    "duration": 640,
    "start_time": "2022-03-11T11:00:54.810Z"
   },
   {
    "duration": 1140,
    "start_time": "2022-03-11T11:00:56.282Z"
   },
   {
    "duration": 20,
    "start_time": "2022-03-11T11:01:00.893Z"
   },
   {
    "duration": 16,
    "start_time": "2022-03-11T11:01:01.482Z"
   },
   {
    "duration": 1168,
    "start_time": "2022-03-11T11:01:03.791Z"
   },
   {
    "duration": 1103,
    "start_time": "2022-03-11T11:01:17.358Z"
   },
   {
    "duration": 1113,
    "start_time": "2022-03-11T11:10:13.087Z"
   },
   {
    "duration": 1336,
    "start_time": "2022-03-11T11:10:59.456Z"
   },
   {
    "duration": 1163,
    "start_time": "2022-03-11T11:11:18.910Z"
   },
   {
    "duration": 1166,
    "start_time": "2022-03-11T11:11:24.383Z"
   },
   {
    "duration": 1178,
    "start_time": "2022-03-11T11:11:34.883Z"
   },
   {
    "duration": 1154,
    "start_time": "2022-03-11T11:11:47.484Z"
   },
   {
    "duration": 28,
    "start_time": "2022-03-11T11:11:56.612Z"
   },
   {
    "duration": 399,
    "start_time": "2022-03-11T11:14:42.279Z"
   },
   {
    "duration": 333,
    "start_time": "2022-03-11T11:14:48.985Z"
   },
   {
    "duration": 472,
    "start_time": "2022-03-11T11:16:13.359Z"
   },
   {
    "duration": 2107,
    "start_time": "2022-03-11T11:16:22.013Z"
   },
   {
    "duration": 395,
    "start_time": "2022-03-11T11:23:41.720Z"
   },
   {
    "duration": 550,
    "start_time": "2022-03-11T11:30:54.253Z"
   },
   {
    "duration": 2410,
    "start_time": "2022-03-11T11:31:00.325Z"
   },
   {
    "duration": 2124,
    "start_time": "2022-03-11T11:31:38.878Z"
   },
   {
    "duration": 2169,
    "start_time": "2022-03-11T11:33:17.498Z"
   },
   {
    "duration": 3416,
    "start_time": "2022-03-11T11:34:28.671Z"
   },
   {
    "duration": 166,
    "start_time": "2022-03-11T11:35:31.477Z"
   },
   {
    "duration": 941,
    "start_time": "2022-03-11T11:35:38.394Z"
   },
   {
    "duration": 865,
    "start_time": "2022-03-11T11:35:50.264Z"
   },
   {
    "duration": 4,
    "start_time": "2022-03-11T11:36:04.773Z"
   },
   {
    "duration": 73,
    "start_time": "2022-03-11T11:36:05.227Z"
   },
   {
    "duration": 11,
    "start_time": "2022-03-11T11:36:05.631Z"
   },
   {
    "duration": 111,
    "start_time": "2022-03-11T11:36:07.358Z"
   },
   {
    "duration": 19,
    "start_time": "2022-03-11T11:36:07.888Z"
   },
   {
    "duration": 14,
    "start_time": "2022-03-11T11:36:08.552Z"
   },
   {
    "duration": 13,
    "start_time": "2022-03-11T11:36:08.827Z"
   },
   {
    "duration": 8,
    "start_time": "2022-03-11T11:36:09.338Z"
   },
   {
    "duration": 15,
    "start_time": "2022-03-11T11:36:09.374Z"
   },
   {
    "duration": 18,
    "start_time": "2022-03-11T11:36:09.408Z"
   },
   {
    "duration": 10,
    "start_time": "2022-03-11T11:36:09.442Z"
   },
   {
    "duration": 21,
    "start_time": "2022-03-11T11:36:09.480Z"
   },
   {
    "duration": 13,
    "start_time": "2022-03-11T11:36:09.503Z"
   },
   {
    "duration": 55,
    "start_time": "2022-03-11T11:36:09.530Z"
   },
   {
    "duration": 10,
    "start_time": "2022-03-11T11:36:09.588Z"
   },
   {
    "duration": 21,
    "start_time": "2022-03-11T11:36:09.602Z"
   },
   {
    "duration": 54,
    "start_time": "2022-03-11T11:36:09.626Z"
   },
   {
    "duration": 14,
    "start_time": "2022-03-11T11:36:09.683Z"
   },
   {
    "duration": 23,
    "start_time": "2022-03-11T11:36:09.700Z"
   },
   {
    "duration": 10,
    "start_time": "2022-03-11T11:36:09.780Z"
   },
   {
    "duration": 67,
    "start_time": "2022-03-11T11:36:10.886Z"
   },
   {
    "duration": 14,
    "start_time": "2022-03-11T11:36:11.440Z"
   },
   {
    "duration": 18,
    "start_time": "2022-03-11T11:36:11.739Z"
   },
   {
    "duration": 39,
    "start_time": "2022-03-11T11:36:11.933Z"
   },
   {
    "duration": 49,
    "start_time": "2022-03-11T11:36:12.343Z"
   },
   {
    "duration": 12,
    "start_time": "2022-03-11T11:36:12.772Z"
   },
   {
    "duration": 71,
    "start_time": "2022-03-11T11:36:12.975Z"
   },
   {
    "duration": 41,
    "start_time": "2022-03-11T11:36:13.128Z"
   },
   {
    "duration": 8,
    "start_time": "2022-03-11T11:36:13.351Z"
   },
   {
    "duration": 11,
    "start_time": "2022-03-11T11:36:13.746Z"
   },
   {
    "duration": 524,
    "start_time": "2022-03-11T11:36:13.962Z"
   },
   {
    "duration": 246,
    "start_time": "2022-03-11T11:36:14.489Z"
   },
   {
    "duration": 633,
    "start_time": "2022-03-11T11:36:15.124Z"
   },
   {
    "duration": 20,
    "start_time": "2022-03-11T11:36:15.760Z"
   },
   {
    "duration": 9,
    "start_time": "2022-03-11T11:36:15.783Z"
   },
   {
    "duration": 906,
    "start_time": "2022-03-11T11:36:15.795Z"
   },
   {
    "duration": 242,
    "start_time": "2022-03-11T11:36:16.704Z"
   },
   {
    "duration": 608,
    "start_time": "2022-03-11T11:36:16.949Z"
   },
   {
    "duration": 19,
    "start_time": "2022-03-11T11:36:17.560Z"
   },
   {
    "duration": 9,
    "start_time": "2022-03-11T11:36:18.016Z"
   },
   {
    "duration": 608,
    "start_time": "2022-03-11T11:36:18.556Z"
   },
   {
    "duration": 231,
    "start_time": "2022-03-11T11:36:19.167Z"
   },
   {
    "duration": 334,
    "start_time": "2022-03-11T11:36:19.401Z"
   },
   {
    "duration": 11,
    "start_time": "2022-03-11T11:36:19.738Z"
   },
   {
    "duration": 10,
    "start_time": "2022-03-11T11:36:19.978Z"
   },
   {
    "duration": 516,
    "start_time": "2022-03-11T11:36:20.428Z"
   },
   {
    "duration": 238,
    "start_time": "2022-03-11T11:36:20.948Z"
   },
   {
    "duration": 518,
    "start_time": "2022-03-11T11:36:21.188Z"
   },
   {
    "duration": 1141,
    "start_time": "2022-03-11T11:36:21.708Z"
   },
   {
    "duration": 30,
    "start_time": "2022-03-11T11:36:22.852Z"
   },
   {
    "duration": 24,
    "start_time": "2022-03-11T11:36:23.005Z"
   },
   {
    "duration": 1110,
    "start_time": "2022-03-11T11:36:23.719Z"
   },
   {
    "duration": 1110,
    "start_time": "2022-03-11T11:36:24.832Z"
   },
   {
    "duration": 1097,
    "start_time": "2022-03-11T11:36:28.859Z"
   },
   {
    "duration": 29,
    "start_time": "2022-03-11T11:36:29.958Z"
   },
   {
    "duration": 1554,
    "start_time": "2022-03-11T11:36:29.989Z"
   },
   {
    "duration": 345,
    "start_time": "2022-03-11T11:37:29.709Z"
   },
   {
    "duration": 458,
    "start_time": "2022-03-11T11:39:37.880Z"
   },
   {
    "duration": 2631,
    "start_time": "2022-03-11T11:39:46.528Z"
   },
   {
    "duration": 321,
    "start_time": "2022-03-11T11:40:58.286Z"
   },
   {
    "duration": 3110,
    "start_time": "2022-03-11T11:41:06.793Z"
   },
   {
    "duration": 17,
    "start_time": "2022-03-11T11:42:03.798Z"
   },
   {
    "duration": 29,
    "start_time": "2022-03-11T11:42:05.432Z"
   },
   {
    "duration": 11,
    "start_time": "2022-03-11T11:42:06.396Z"
   },
   {
    "duration": 14,
    "start_time": "2022-03-11T11:42:26.506Z"
   },
   {
    "duration": 25,
    "start_time": "2022-03-11T11:42:31.449Z"
   },
   {
    "duration": 12,
    "start_time": "2022-03-11T11:42:33.989Z"
   },
   {
    "duration": 459,
    "start_time": "2022-03-11T11:42:34.917Z"
   },
   {
    "duration": 64,
    "start_time": "2022-03-11T11:42:40.723Z"
   },
   {
    "duration": 429,
    "start_time": "2022-03-11T11:42:42.130Z"
   },
   {
    "duration": 415,
    "start_time": "2022-03-11T11:42:49.766Z"
   },
   {
    "duration": 514,
    "start_time": "2022-03-11T11:42:50.693Z"
   },
   {
    "duration": 498,
    "start_time": "2022-03-11T11:42:51.732Z"
   },
   {
    "duration": 2630,
    "start_time": "2022-03-11T11:43:29.289Z"
   },
   {
    "duration": 5826,
    "start_time": "2022-03-11T11:43:43.780Z"
   },
   {
    "duration": 2071,
    "start_time": "2022-03-11T11:44:10.480Z"
   },
   {
    "duration": 12,
    "start_time": "2022-03-11T11:44:59.850Z"
   },
   {
    "duration": 465,
    "start_time": "2022-03-11T11:45:02.812Z"
   },
   {
    "duration": 68,
    "start_time": "2022-03-11T11:45:03.755Z"
   },
   {
    "duration": 504,
    "start_time": "2022-03-11T11:45:05.040Z"
   },
   {
    "duration": 439,
    "start_time": "2022-03-11T11:45:07.085Z"
   },
   {
    "duration": 474,
    "start_time": "2022-03-11T11:45:07.527Z"
   },
   {
    "duration": 570,
    "start_time": "2022-03-11T11:45:08.005Z"
   },
   {
    "duration": 2406,
    "start_time": "2022-03-11T11:45:25.639Z"
   },
   {
    "duration": 424,
    "start_time": "2022-03-11T11:45:34.806Z"
   },
   {
    "duration": 322,
    "start_time": "2022-03-11T11:45:51.102Z"
   },
   {
    "duration": 347,
    "start_time": "2022-03-11T11:46:31.617Z"
   },
   {
    "duration": 2744,
    "start_time": "2022-03-11T11:46:41.058Z"
   },
   {
    "duration": 2089,
    "start_time": "2022-03-11T11:46:47.739Z"
   },
   {
    "duration": 3097,
    "start_time": "2022-03-11T11:46:53.818Z"
   },
   {
    "duration": 2087,
    "start_time": "2022-03-11T11:47:07.330Z"
   },
   {
    "duration": 342,
    "start_time": "2022-03-11T11:47:22.201Z"
   },
   {
    "duration": 2309,
    "start_time": "2022-03-11T11:47:26.831Z"
   },
   {
    "duration": 118,
    "start_time": "2022-03-11T12:09:02.280Z"
   },
   {
    "duration": 16,
    "start_time": "2022-03-11T12:09:16.643Z"
   },
   {
    "duration": 12,
    "start_time": "2022-03-11T12:19:40.744Z"
   },
   {
    "duration": 11,
    "start_time": "2022-03-11T12:31:46.537Z"
   },
   {
    "duration": 11,
    "start_time": "2022-03-11T12:34:06.763Z"
   },
   {
    "duration": 9,
    "start_time": "2022-03-11T12:34:11.782Z"
   },
   {
    "duration": 9,
    "start_time": "2022-03-11T12:35:43.463Z"
   },
   {
    "duration": 10,
    "start_time": "2022-03-11T12:37:24.853Z"
   },
   {
    "duration": 12,
    "start_time": "2022-03-11T12:37:31.116Z"
   },
   {
    "duration": 325,
    "start_time": "2022-03-11T12:41:56.663Z"
   },
   {
    "duration": 52,
    "start_time": "2022-03-11T12:42:09.315Z"
   },
   {
    "duration": 12,
    "start_time": "2022-03-11T12:42:37.444Z"
   },
   {
    "duration": 61,
    "start_time": "2022-03-11T12:42:39.052Z"
   },
   {
    "duration": 27,
    "start_time": "2022-03-11T12:42:40.727Z"
   },
   {
    "duration": 15,
    "start_time": "2022-03-11T12:42:48.662Z"
   },
   {
    "duration": 3,
    "start_time": "2022-03-11T12:42:58.627Z"
   },
   {
    "duration": 73,
    "start_time": "2022-03-11T12:42:59.010Z"
   },
   {
    "duration": 11,
    "start_time": "2022-03-11T12:42:59.310Z"
   },
   {
    "duration": 115,
    "start_time": "2022-03-11T12:42:59.913Z"
   },
   {
    "duration": 16,
    "start_time": "2022-03-11T12:43:00.620Z"
   },
   {
    "duration": 12,
    "start_time": "2022-03-11T12:43:02.257Z"
   },
   {
    "duration": 14,
    "start_time": "2022-03-11T12:43:02.842Z"
   },
   {
    "duration": 12,
    "start_time": "2022-03-11T12:43:04.080Z"
   },
   {
    "duration": 8,
    "start_time": "2022-03-11T12:43:08.314Z"
   },
   {
    "duration": 13,
    "start_time": "2022-03-11T12:43:11.034Z"
   },
   {
    "duration": 46,
    "start_time": "2022-03-11T12:43:29.237Z"
   },
   {
    "duration": 324,
    "start_time": "2022-03-11T12:43:45.160Z"
   },
   {
    "duration": 104,
    "start_time": "2022-03-11T12:45:10.147Z"
   },
   {
    "duration": 103,
    "start_time": "2022-03-11T12:45:20.715Z"
   },
   {
    "duration": 106,
    "start_time": "2022-03-11T12:45:28.966Z"
   },
   {
    "duration": 151,
    "start_time": "2022-03-11T12:45:47.883Z"
   },
   {
    "duration": 105,
    "start_time": "2022-03-11T12:46:00.146Z"
   },
   {
    "duration": 107,
    "start_time": "2022-03-11T12:47:47.728Z"
   },
   {
    "duration": 16,
    "start_time": "2022-03-11T12:47:52.949Z"
   },
   {
    "duration": 14,
    "start_time": "2022-03-11T12:49:12.242Z"
   },
   {
    "duration": 13,
    "start_time": "2022-03-11T12:49:26.333Z"
   },
   {
    "duration": 4,
    "start_time": "2022-03-11T12:49:36.415Z"
   },
   {
    "duration": 72,
    "start_time": "2022-03-11T12:49:36.616Z"
   },
   {
    "duration": 10,
    "start_time": "2022-03-11T12:49:36.797Z"
   },
   {
    "duration": 106,
    "start_time": "2022-03-11T12:49:37.176Z"
   },
   {
    "duration": 16,
    "start_time": "2022-03-11T12:49:37.596Z"
   },
   {
    "duration": 12,
    "start_time": "2022-03-11T12:49:39.282Z"
   },
   {
    "duration": 10,
    "start_time": "2022-03-11T12:49:40.094Z"
   },
   {
    "duration": 13,
    "start_time": "2022-03-11T12:49:42.434Z"
   },
   {
    "duration": 18,
    "start_time": "2022-03-11T12:49:48.752Z"
   },
   {
    "duration": 16,
    "start_time": "2022-03-11T12:49:59.976Z"
   },
   {
    "duration": 8,
    "start_time": "2022-03-11T12:50:41.812Z"
   },
   {
    "duration": 14,
    "start_time": "2022-03-11T12:52:49.706Z"
   },
   {
    "duration": 16,
    "start_time": "2022-03-11T12:53:20.849Z"
   },
   {
    "duration": 9,
    "start_time": "2022-03-11T13:00:28.704Z"
   },
   {
    "duration": 16,
    "start_time": "2022-03-11T13:04:50.280Z"
   },
   {
    "duration": 18,
    "start_time": "2022-03-11T13:07:00.451Z"
   },
   {
    "duration": 4,
    "start_time": "2022-03-11T13:07:42.764Z"
   },
   {
    "duration": 68,
    "start_time": "2022-03-11T13:07:43.022Z"
   },
   {
    "duration": 10,
    "start_time": "2022-03-11T13:07:43.264Z"
   },
   {
    "duration": 107,
    "start_time": "2022-03-11T13:07:43.642Z"
   },
   {
    "duration": 16,
    "start_time": "2022-03-11T13:07:44.006Z"
   },
   {
    "duration": 11,
    "start_time": "2022-03-11T13:07:45.114Z"
   },
   {
    "duration": 10,
    "start_time": "2022-03-11T13:07:45.538Z"
   },
   {
    "duration": 15,
    "start_time": "2022-03-11T13:07:46.074Z"
   },
   {
    "duration": 18,
    "start_time": "2022-03-11T13:07:47.662Z"
   },
   {
    "duration": 8,
    "start_time": "2022-03-11T13:07:53.133Z"
   },
   {
    "duration": 12,
    "start_time": "2022-03-11T13:07:55.760Z"
   },
   {
    "duration": 10,
    "start_time": "2022-03-11T13:07:56.426Z"
   },
   {
    "duration": 10,
    "start_time": "2022-03-11T13:17:12.593Z"
   },
   {
    "duration": 25,
    "start_time": "2022-03-11T13:19:16.114Z"
   },
   {
    "duration": 19,
    "start_time": "2022-03-11T13:19:31.008Z"
   },
   {
    "duration": 14,
    "start_time": "2022-03-11T13:21:47.798Z"
   },
   {
    "duration": 14,
    "start_time": "2022-03-11T13:23:07.890Z"
   },
   {
    "duration": 10,
    "start_time": "2022-03-11T13:23:29.271Z"
   },
   {
    "duration": 3,
    "start_time": "2022-03-11T13:23:38.439Z"
   },
   {
    "duration": 72,
    "start_time": "2022-03-11T13:23:38.650Z"
   },
   {
    "duration": 10,
    "start_time": "2022-03-11T13:23:38.872Z"
   },
   {
    "duration": 112,
    "start_time": "2022-03-11T13:23:39.373Z"
   },
   {
    "duration": 16,
    "start_time": "2022-03-11T13:23:39.875Z"
   },
   {
    "duration": 11,
    "start_time": "2022-03-11T13:23:41.347Z"
   },
   {
    "duration": 11,
    "start_time": "2022-03-11T13:23:41.878Z"
   },
   {
    "duration": 19,
    "start_time": "2022-03-11T13:23:42.565Z"
   },
   {
    "duration": 21,
    "start_time": "2022-03-11T13:25:55.592Z"
   },
   {
    "duration": 21,
    "start_time": "2022-03-11T13:25:57.095Z"
   },
   {
    "duration": 7,
    "start_time": "2022-03-11T13:25:58.447Z"
   },
   {
    "duration": 12,
    "start_time": "2022-03-11T13:25:59.560Z"
   },
   {
    "duration": 10,
    "start_time": "2022-03-11T13:26:01.088Z"
   },
   {
    "duration": 18,
    "start_time": "2022-03-11T13:26:01.654Z"
   },
   {
    "duration": 12,
    "start_time": "2022-03-11T13:26:03.621Z"
   },
   {
    "duration": 16,
    "start_time": "2022-03-11T13:27:41.324Z"
   },
   {
    "duration": 981,
    "start_time": "2022-03-11T13:28:49.377Z"
   },
   {
    "duration": 19,
    "start_time": "2022-03-11T13:29:05.539Z"
   },
   {
    "duration": 14,
    "start_time": "2022-03-11T13:29:24.508Z"
   },
   {
    "duration": 7,
    "start_time": "2022-03-11T13:30:46.697Z"
   },
   {
    "duration": 17,
    "start_time": "2022-03-11T13:30:48.658Z"
   },
   {
    "duration": 18,
    "start_time": "2022-03-11T13:30:54.507Z"
   },
   {
    "duration": 10,
    "start_time": "2022-03-11T13:31:36.624Z"
   },
   {
    "duration": 19,
    "start_time": "2022-03-11T13:34:51.709Z"
   },
   {
    "duration": 28,
    "start_time": "2022-03-11T13:43:17.006Z"
   },
   {
    "duration": 20,
    "start_time": "2022-03-11T13:43:29.671Z"
   },
   {
    "duration": 19,
    "start_time": "2022-03-11T13:45:55.975Z"
   },
   {
    "duration": 18,
    "start_time": "2022-03-11T13:46:04.995Z"
   },
   {
    "duration": 10,
    "start_time": "2022-03-11T13:59:32.773Z"
   },
   {
    "duration": 22,
    "start_time": "2022-03-11T14:02:28.442Z"
   },
   {
    "duration": 5,
    "start_time": "2022-03-11T14:02:33.968Z"
   },
   {
    "duration": 100,
    "start_time": "2022-03-11T14:02:34.485Z"
   },
   {
    "duration": 14,
    "start_time": "2022-03-11T14:02:34.589Z"
   },
   {
    "duration": 138,
    "start_time": "2022-03-11T14:02:34.605Z"
   },
   {
    "duration": 28,
    "start_time": "2022-03-11T14:02:34.745Z"
   },
   {
    "duration": 12,
    "start_time": "2022-03-11T14:02:34.839Z"
   },
   {
    "duration": 10,
    "start_time": "2022-03-11T14:02:35.576Z"
   },
   {
    "duration": 14,
    "start_time": "2022-03-11T14:02:36.136Z"
   },
   {
    "duration": 17,
    "start_time": "2022-03-11T14:02:36.614Z"
   },
   {
    "duration": 8,
    "start_time": "2022-03-11T14:02:37.197Z"
   },
   {
    "duration": 17,
    "start_time": "2022-03-11T14:02:38.003Z"
   },
   {
    "duration": 9,
    "start_time": "2022-03-11T14:02:38.617Z"
   },
   {
    "duration": 18,
    "start_time": "2022-03-11T14:02:38.799Z"
   },
   {
    "duration": 7,
    "start_time": "2022-03-11T14:02:39.858Z"
   },
   {
    "duration": 14,
    "start_time": "2022-03-11T14:02:40.554Z"
   },
   {
    "duration": 22,
    "start_time": "2022-03-11T14:02:42.131Z"
   },
   {
    "duration": 14,
    "start_time": "2022-03-11T14:02:43.319Z"
   },
   {
    "duration": 19,
    "start_time": "2022-03-11T14:02:44.971Z"
   },
   {
    "duration": 4,
    "start_time": "2022-03-11T14:03:32.417Z"
   },
   {
    "duration": 86,
    "start_time": "2022-03-11T14:03:32.697Z"
   },
   {
    "duration": 12,
    "start_time": "2022-03-11T14:03:32.919Z"
   },
   {
    "duration": 151,
    "start_time": "2022-03-11T14:03:33.450Z"
   },
   {
    "duration": 16,
    "start_time": "2022-03-11T14:03:34.140Z"
   },
   {
    "duration": 14,
    "start_time": "2022-03-11T14:03:40.147Z"
   },
   {
    "duration": 11,
    "start_time": "2022-03-11T14:03:44.761Z"
   },
   {
    "duration": 19,
    "start_time": "2022-03-11T14:03:45.904Z"
   },
   {
    "duration": 20,
    "start_time": "2022-03-11T14:03:50.197Z"
   },
   {
    "duration": 18,
    "start_time": "2022-03-11T14:04:02.814Z"
   },
   {
    "duration": 18,
    "start_time": "2022-03-11T14:04:17.875Z"
   },
   {
    "duration": 21,
    "start_time": "2022-03-11T14:04:18.887Z"
   },
   {
    "duration": 18,
    "start_time": "2022-03-11T14:04:23.795Z"
   },
   {
    "duration": 14,
    "start_time": "2022-03-11T14:04:24.470Z"
   },
   {
    "duration": 16,
    "start_time": "2022-03-11T14:05:19.747Z"
   },
   {
    "duration": 14,
    "start_time": "2022-03-11T14:05:21.617Z"
   },
   {
    "duration": 3,
    "start_time": "2022-03-11T14:05:35.603Z"
   },
   {
    "duration": 13,
    "start_time": "2022-03-11T14:05:36.014Z"
   },
   {
    "duration": 5,
    "start_time": "2022-03-11T14:06:00.006Z"
   },
   {
    "duration": 103,
    "start_time": "2022-03-11T14:06:00.252Z"
   },
   {
    "duration": 14,
    "start_time": "2022-03-11T14:06:00.779Z"
   },
   {
    "duration": 168,
    "start_time": "2022-03-11T14:06:00.858Z"
   },
   {
    "duration": 24,
    "start_time": "2022-03-11T14:06:01.030Z"
   },
   {
    "duration": 13,
    "start_time": "2022-03-11T14:06:02.799Z"
   },
   {
    "duration": 17,
    "start_time": "2022-03-11T14:06:04.000Z"
   },
   {
    "duration": 18,
    "start_time": "2022-03-11T14:06:05.306Z"
   },
   {
    "duration": 3,
    "start_time": "2022-03-11T14:06:06.968Z"
   },
   {
    "duration": 18,
    "start_time": "2022-03-11T14:06:08.196Z"
   },
   {
    "duration": 12,
    "start_time": "2022-03-11T14:06:15.362Z"
   },
   {
    "duration": 15,
    "start_time": "2022-03-11T14:06:16.987Z"
   },
   {
    "duration": 13,
    "start_time": "2022-03-11T14:06:33.629Z"
   },
   {
    "duration": 15,
    "start_time": "2022-03-11T14:06:34.135Z"
   },
   {
    "duration": 3,
    "start_time": "2022-03-11T14:06:58.071Z"
   },
   {
    "duration": 67,
    "start_time": "2022-03-11T14:06:58.457Z"
   },
   {
    "duration": 10,
    "start_time": "2022-03-11T14:06:58.690Z"
   },
   {
    "duration": 114,
    "start_time": "2022-03-11T14:06:59.069Z"
   },
   {
    "duration": 16,
    "start_time": "2022-03-11T14:06:59.460Z"
   },
   {
    "duration": 13,
    "start_time": "2022-03-11T14:07:01.709Z"
   },
   {
    "duration": 10,
    "start_time": "2022-03-11T14:07:03.333Z"
   },
   {
    "duration": 15,
    "start_time": "2022-03-11T14:07:09.270Z"
   },
   {
    "duration": 10,
    "start_time": "2022-03-11T14:07:12.761Z"
   },
   {
    "duration": 14,
    "start_time": "2022-03-11T14:07:13.381Z"
   },
   {
    "duration": 4,
    "start_time": "2022-03-11T14:08:06.854Z"
   },
   {
    "duration": 68,
    "start_time": "2022-03-11T14:08:07.104Z"
   },
   {
    "duration": 11,
    "start_time": "2022-03-11T14:08:07.315Z"
   },
   {
    "duration": 117,
    "start_time": "2022-03-11T14:08:07.781Z"
   },
   {
    "duration": 18,
    "start_time": "2022-03-11T14:08:08.548Z"
   },
   {
    "duration": 12,
    "start_time": "2022-03-11T14:08:11.584Z"
   },
   {
    "duration": 10,
    "start_time": "2022-03-11T14:08:14.110Z"
   },
   {
    "duration": 7,
    "start_time": "2022-03-11T14:08:29.847Z"
   },
   {
    "duration": 19,
    "start_time": "2022-03-11T14:08:31.007Z"
   },
   {
    "duration": 7,
    "start_time": "2022-03-11T14:09:18.262Z"
   },
   {
    "duration": 8,
    "start_time": "2022-03-11T14:10:39.158Z"
   },
   {
    "duration": 6,
    "start_time": "2022-03-11T14:10:40.323Z"
   },
   {
    "duration": 14,
    "start_time": "2022-03-11T14:10:44.568Z"
   },
   {
    "duration": 13,
    "start_time": "2022-03-11T14:11:17.118Z"
   },
   {
    "duration": 16,
    "start_time": "2022-03-11T14:11:18.005Z"
   },
   {
    "duration": 15,
    "start_time": "2022-03-11T14:25:17.039Z"
   },
   {
    "duration": 14,
    "start_time": "2022-03-11T14:25:40.688Z"
   },
   {
    "duration": 4,
    "start_time": "2022-03-11T14:25:52.219Z"
   },
   {
    "duration": 73,
    "start_time": "2022-03-11T14:25:52.413Z"
   },
   {
    "duration": 10,
    "start_time": "2022-03-11T14:25:52.589Z"
   },
   {
    "duration": 165,
    "start_time": "2022-03-11T14:25:52.969Z"
   },
   {
    "duration": 15,
    "start_time": "2022-03-11T14:25:53.335Z"
   },
   {
    "duration": 12,
    "start_time": "2022-03-11T14:25:54.647Z"
   },
   {
    "duration": 10,
    "start_time": "2022-03-11T14:25:55.082Z"
   },
   {
    "duration": 8,
    "start_time": "2022-03-11T14:25:56.100Z"
   },
   {
    "duration": 7,
    "start_time": "2022-03-11T14:25:57.107Z"
   },
   {
    "duration": 15,
    "start_time": "2022-03-11T14:25:58.470Z"
   },
   {
    "duration": 19,
    "start_time": "2022-03-11T14:26:17.782Z"
   },
   {
    "duration": 11,
    "start_time": "2022-03-11T14:26:33.137Z"
   },
   {
    "duration": 23,
    "start_time": "2022-03-11T14:26:36.608Z"
   },
   {
    "duration": 16,
    "start_time": "2022-03-11T14:26:50.850Z"
   },
   {
    "duration": 11,
    "start_time": "2022-03-11T14:29:20.163Z"
   },
   {
    "duration": 22,
    "start_time": "2022-03-11T14:29:22.430Z"
   },
   {
    "duration": 18,
    "start_time": "2022-03-11T14:29:25.965Z"
   },
   {
    "duration": 18,
    "start_time": "2022-03-11T14:29:34.234Z"
   },
   {
    "duration": 17,
    "start_time": "2022-03-11T14:35:13.726Z"
   },
   {
    "duration": 20,
    "start_time": "2022-03-11T14:35:27.216Z"
   },
   {
    "duration": 9,
    "start_time": "2022-03-11T14:36:08.400Z"
   },
   {
    "duration": 11,
    "start_time": "2022-03-11T14:37:54.629Z"
   },
   {
    "duration": 19,
    "start_time": "2022-03-11T14:42:54.592Z"
   },
   {
    "duration": 25,
    "start_time": "2022-03-11T14:43:49.460Z"
   },
   {
    "duration": 11,
    "start_time": "2022-03-11T14:45:08.834Z"
   },
   {
    "duration": 67,
    "start_time": "2022-03-11T14:46:03.260Z"
   },
   {
    "duration": 14,
    "start_time": "2022-03-11T14:48:17.343Z"
   },
   {
    "duration": 7,
    "start_time": "2022-03-11T14:50:06.712Z"
   },
   {
    "duration": 15,
    "start_time": "2022-03-11T14:50:16.066Z"
   },
   {
    "duration": 10,
    "start_time": "2022-03-11T14:51:09.607Z"
   },
   {
    "duration": 13,
    "start_time": "2022-03-11T14:51:19.632Z"
   },
   {
    "duration": 14,
    "start_time": "2022-03-11T14:53:34.487Z"
   },
   {
    "duration": 97,
    "start_time": "2022-03-11T14:54:42.490Z"
   },
   {
    "duration": 35,
    "start_time": "2022-03-11T14:57:22.763Z"
   },
   {
    "duration": 35,
    "start_time": "2022-03-11T14:57:27.039Z"
   },
   {
    "duration": 16,
    "start_time": "2022-03-11T14:57:27.769Z"
   },
   {
    "duration": 19,
    "start_time": "2022-03-11T15:01:45.475Z"
   },
   {
    "duration": 5,
    "start_time": "2022-03-11T15:01:57.017Z"
   },
   {
    "duration": 41,
    "start_time": "2022-03-11T15:02:00.562Z"
   },
   {
    "duration": 8,
    "start_time": "2022-03-11T15:03:07.998Z"
   },
   {
    "duration": 16,
    "start_time": "2022-03-11T15:03:14.080Z"
   },
   {
    "duration": 11,
    "start_time": "2022-03-11T15:03:57.850Z"
   },
   {
    "duration": 4,
    "start_time": "2022-03-11T15:06:34.481Z"
   },
   {
    "duration": 70,
    "start_time": "2022-03-11T15:06:34.657Z"
   },
   {
    "duration": 12,
    "start_time": "2022-03-11T15:06:34.865Z"
   },
   {
    "duration": 116,
    "start_time": "2022-03-11T15:06:35.238Z"
   },
   {
    "duration": 17,
    "start_time": "2022-03-11T15:06:35.621Z"
   },
   {
    "duration": 11,
    "start_time": "2022-03-11T15:06:36.853Z"
   },
   {
    "duration": 10,
    "start_time": "2022-03-11T15:06:37.244Z"
   },
   {
    "duration": 8,
    "start_time": "2022-03-11T15:06:37.668Z"
   },
   {
    "duration": 7,
    "start_time": "2022-03-11T15:06:37.916Z"
   },
   {
    "duration": 15,
    "start_time": "2022-03-11T15:06:38.415Z"
   },
   {
    "duration": 21,
    "start_time": "2022-03-11T15:06:39.078Z"
   },
   {
    "duration": 10,
    "start_time": "2022-03-11T15:06:39.610Z"
   },
   {
    "duration": 22,
    "start_time": "2022-03-11T15:06:39.959Z"
   },
   {
    "duration": 8,
    "start_time": "2022-03-11T15:06:40.582Z"
   },
   {
    "duration": 11,
    "start_time": "2022-03-11T15:06:41.180Z"
   },
   {
    "duration": 20,
    "start_time": "2022-03-11T15:06:41.799Z"
   },
   {
    "duration": 19,
    "start_time": "2022-03-11T15:06:42.940Z"
   },
   {
    "duration": 15,
    "start_time": "2022-03-11T15:06:43.969Z"
   },
   {
    "duration": 9,
    "start_time": "2022-03-11T15:06:44.779Z"
   },
   {
    "duration": 23,
    "start_time": "2022-03-11T15:06:45.506Z"
   },
   {
    "duration": 11,
    "start_time": "2022-03-11T15:06:46.026Z"
   },
   {
    "duration": 12,
    "start_time": "2022-03-11T15:06:47.519Z"
   },
   {
    "duration": 6,
    "start_time": "2022-03-11T15:06:47.895Z"
   },
   {
    "duration": 13,
    "start_time": "2022-03-11T15:06:48.260Z"
   },
   {
    "duration": 19,
    "start_time": "2022-03-11T15:06:49.086Z"
   },
   {
    "duration": 37,
    "start_time": "2022-03-11T15:06:50.216Z"
   },
   {
    "duration": 8,
    "start_time": "2022-03-11T15:06:51.898Z"
   },
   {
    "duration": 13,
    "start_time": "2022-03-11T15:06:53.363Z"
   },
   {
    "duration": 8,
    "start_time": "2022-03-11T15:13:55.476Z"
   },
   {
    "duration": 18,
    "start_time": "2022-03-11T15:13:56.819Z"
   },
   {
    "duration": 34,
    "start_time": "2022-03-11T15:13:57.378Z"
   },
   {
    "duration": 11,
    "start_time": "2022-03-11T15:14:51.785Z"
   },
   {
    "duration": 68,
    "start_time": "2022-03-11T15:16:53.811Z"
   },
   {
    "duration": 63,
    "start_time": "2022-03-11T15:17:13.655Z"
   },
   {
    "duration": 43,
    "start_time": "2022-03-11T15:18:13.701Z"
   },
   {
    "duration": 313,
    "start_time": "2022-03-11T15:18:31.751Z"
   },
   {
    "duration": 24,
    "start_time": "2022-03-11T15:18:36.350Z"
   },
   {
    "duration": 41,
    "start_time": "2022-03-11T15:19:33.322Z"
   },
   {
    "duration": 11,
    "start_time": "2022-03-11T15:28:06.567Z"
   },
   {
    "duration": 872,
    "start_time": "2022-03-11T15:28:42.282Z"
   },
   {
    "duration": 13,
    "start_time": "2022-03-11T15:29:54.860Z"
   },
   {
    "duration": 618,
    "start_time": "2022-03-11T15:29:56.553Z"
   },
   {
    "duration": 1112,
    "start_time": "2022-03-11T15:33:31.878Z"
   },
   {
    "duration": 12,
    "start_time": "2022-03-11T15:36:40.539Z"
   },
   {
    "duration": 1087,
    "start_time": "2022-03-11T15:37:05.145Z"
   },
   {
    "duration": 579,
    "start_time": "2022-03-11T15:37:11.079Z"
   },
   {
    "duration": 757,
    "start_time": "2022-03-11T15:37:14.950Z"
   },
   {
    "duration": 565,
    "start_time": "2022-03-11T15:37:19.787Z"
   },
   {
    "duration": 12,
    "start_time": "2022-03-11T15:39:28.338Z"
   },
   {
    "duration": 227,
    "start_time": "2022-03-11T15:40:47.418Z"
   },
   {
    "duration": 604,
    "start_time": "2022-03-11T15:44:28.995Z"
   },
   {
    "duration": 591,
    "start_time": "2022-03-11T15:44:32.170Z"
   },
   {
    "duration": 13,
    "start_time": "2022-03-11T15:48:18.036Z"
   },
   {
    "duration": 10,
    "start_time": "2022-03-11T15:50:16.945Z"
   },
   {
    "duration": 10,
    "start_time": "2022-03-11T15:50:36.209Z"
   },
   {
    "duration": 801,
    "start_time": "2022-03-11T15:50:42.765Z"
   },
   {
    "duration": 328,
    "start_time": "2022-03-11T15:52:39.584Z"
   },
   {
    "duration": 13,
    "start_time": "2022-03-11T15:54:46.211Z"
   },
   {
    "duration": 10,
    "start_time": "2022-03-11T15:56:24.911Z"
   },
   {
    "duration": 138,
    "start_time": "2022-03-11T15:57:00.360Z"
   },
   {
    "duration": 531,
    "start_time": "2022-03-11T15:57:18.705Z"
   },
   {
    "duration": 2100,
    "start_time": "2022-03-11T15:57:23.938Z"
   },
   {
    "duration": 234,
    "start_time": "2022-03-11T15:58:31.182Z"
   },
   {
    "duration": 10,
    "start_time": "2022-03-11T15:59:05.302Z"
   },
   {
    "duration": 11,
    "start_time": "2022-03-11T15:59:14.125Z"
   },
   {
    "duration": 513,
    "start_time": "2022-03-11T16:00:31.200Z"
   },
   {
    "duration": 570,
    "start_time": "2022-03-11T16:00:39.384Z"
   },
   {
    "duration": 512,
    "start_time": "2022-03-11T16:00:52.387Z"
   },
   {
    "duration": 502,
    "start_time": "2022-03-11T16:01:00.516Z"
   },
   {
    "duration": 1292,
    "start_time": "2022-03-11T16:02:32.818Z"
   },
   {
    "duration": 587,
    "start_time": "2022-03-11T16:03:14.403Z"
   },
   {
    "duration": 135,
    "start_time": "2022-03-11T16:04:26.061Z"
   },
   {
    "duration": 9,
    "start_time": "2022-03-11T16:04:32.220Z"
   },
   {
    "duration": 11,
    "start_time": "2022-03-11T16:04:40.970Z"
   },
   {
    "duration": 318,
    "start_time": "2022-03-11T16:05:46.023Z"
   },
   {
    "duration": 364,
    "start_time": "2022-03-11T16:05:51.805Z"
   },
   {
    "duration": 10,
    "start_time": "2022-03-11T16:06:14.761Z"
   },
   {
    "duration": 103,
    "start_time": "2022-03-11T16:07:15.926Z"
   },
   {
    "duration": 312,
    "start_time": "2022-03-11T16:07:25.426Z"
   },
   {
    "duration": 20,
    "start_time": "2022-03-11T16:07:56.401Z"
   },
   {
    "duration": 19,
    "start_time": "2022-03-11T16:08:15.597Z"
   },
   {
    "duration": 20,
    "start_time": "2022-03-11T16:08:33.662Z"
   },
   {
    "duration": 20,
    "start_time": "2022-03-11T16:08:51.428Z"
   },
   {
    "duration": 20,
    "start_time": "2022-03-11T16:09:24.375Z"
   },
   {
    "duration": 4,
    "start_time": "2022-03-11T16:12:05.111Z"
   },
   {
    "duration": 68,
    "start_time": "2022-03-11T16:12:05.142Z"
   },
   {
    "duration": 12,
    "start_time": "2022-03-11T16:12:05.213Z"
   },
   {
    "duration": 131,
    "start_time": "2022-03-11T16:12:05.237Z"
   },
   {
    "duration": 16,
    "start_time": "2022-03-11T16:12:05.374Z"
   },
   {
    "duration": 13,
    "start_time": "2022-03-11T16:12:05.501Z"
   },
   {
    "duration": 14,
    "start_time": "2022-03-11T16:12:05.551Z"
   },
   {
    "duration": 8,
    "start_time": "2022-03-11T16:12:05.621Z"
   },
   {
    "duration": 7,
    "start_time": "2022-03-11T16:12:05.656Z"
   },
   {
    "duration": 27,
    "start_time": "2022-03-11T16:12:05.705Z"
   },
   {
    "duration": 22,
    "start_time": "2022-03-11T16:12:05.774Z"
   },
   {
    "duration": 10,
    "start_time": "2022-03-11T16:12:07.290Z"
   },
   {
    "duration": 23,
    "start_time": "2022-03-11T16:12:07.500Z"
   },
   {
    "duration": 7,
    "start_time": "2022-03-11T16:12:07.919Z"
   },
   {
    "duration": 11,
    "start_time": "2022-03-11T16:12:08.339Z"
   },
   {
    "duration": 21,
    "start_time": "2022-03-11T16:12:08.729Z"
   },
   {
    "duration": 18,
    "start_time": "2022-03-11T16:12:09.118Z"
   },
   {
    "duration": 17,
    "start_time": "2022-03-11T16:12:09.522Z"
   },
   {
    "duration": 9,
    "start_time": "2022-03-11T16:12:10.069Z"
   },
   {
    "duration": 24,
    "start_time": "2022-03-11T16:12:10.170Z"
   },
   {
    "duration": 16,
    "start_time": "2022-03-11T16:12:10.237Z"
   },
   {
    "duration": 15,
    "start_time": "2022-03-11T16:12:10.291Z"
   },
   {
    "duration": 7,
    "start_time": "2022-03-11T16:12:10.320Z"
   },
   {
    "duration": 15,
    "start_time": "2022-03-11T16:12:10.351Z"
   },
   {
    "duration": 16,
    "start_time": "2022-03-11T16:12:10.416Z"
   },
   {
    "duration": 38,
    "start_time": "2022-03-11T16:12:10.467Z"
   },
   {
    "duration": 8,
    "start_time": "2022-03-11T16:12:10.533Z"
   },
   {
    "duration": 10,
    "start_time": "2022-03-11T16:12:10.565Z"
   },
   {
    "duration": 9,
    "start_time": "2022-03-11T16:12:10.684Z"
   },
   {
    "duration": 18,
    "start_time": "2022-03-11T16:12:10.736Z"
   },
   {
    "duration": 42,
    "start_time": "2022-03-11T16:12:10.785Z"
   },
   {
    "duration": 11,
    "start_time": "2022-03-11T16:12:10.837Z"
   },
   {
    "duration": 69,
    "start_time": "2022-03-11T16:12:10.900Z"
   },
   {
    "duration": 44,
    "start_time": "2022-03-11T16:12:11.106Z"
   },
   {
    "duration": 11,
    "start_time": "2022-03-11T16:12:11.938Z"
   },
   {
    "duration": 544,
    "start_time": "2022-03-11T16:12:12.252Z"
   },
   {
    "duration": 230,
    "start_time": "2022-03-11T16:12:13.527Z"
   },
   {
    "duration": 612,
    "start_time": "2022-03-11T16:12:14.127Z"
   },
   {
    "duration": 11,
    "start_time": "2022-03-11T16:12:15.253Z"
   },
   {
    "duration": 575,
    "start_time": "2022-03-11T16:12:15.750Z"
   },
   {
    "duration": 11,
    "start_time": "2022-03-11T16:12:20.572Z"
   },
   {
    "duration": 219,
    "start_time": "2022-03-11T16:12:21.561Z"
   },
   {
    "duration": 589,
    "start_time": "2022-03-11T16:12:23.184Z"
   },
   {
    "duration": 12,
    "start_time": "2022-03-11T16:12:24.951Z"
   },
   {
    "duration": 11,
    "start_time": "2022-03-11T16:12:25.594Z"
   },
   {
    "duration": 569,
    "start_time": "2022-03-11T16:12:26.356Z"
   },
   {
    "duration": 210,
    "start_time": "2022-03-11T16:12:27.936Z"
   },
   {
    "duration": 323,
    "start_time": "2022-03-11T16:12:28.729Z"
   },
   {
    "duration": 14,
    "start_time": "2022-03-11T16:12:30.009Z"
   },
   {
    "duration": 10,
    "start_time": "2022-03-11T16:12:31.339Z"
   },
   {
    "duration": 828,
    "start_time": "2022-03-11T16:12:32.123Z"
   },
   {
    "duration": 818,
    "start_time": "2022-03-11T16:12:38.218Z"
   },
   {
    "duration": 209,
    "start_time": "2022-03-11T16:12:41.119Z"
   },
   {
    "duration": 504,
    "start_time": "2022-03-11T16:12:42.682Z"
   },
   {
    "duration": 581,
    "start_time": "2022-03-11T16:12:46.541Z"
   },
   {
    "duration": 214,
    "start_time": "2022-03-11T16:13:17.837Z"
   },
   {
    "duration": 18,
    "start_time": "2022-03-11T16:17:04.729Z"
   },
   {
    "duration": 16,
    "start_time": "2022-03-11T16:17:05.631Z"
   },
   {
    "duration": 1174,
    "start_time": "2022-03-11T16:18:08.108Z"
   },
   {
    "duration": 1132,
    "start_time": "2022-03-11T16:18:45.137Z"
   },
   {
    "duration": 1155,
    "start_time": "2022-03-11T16:18:46.273Z"
   },
   {
    "duration": 20,
    "start_time": "2022-03-11T16:18:47.431Z"
   },
   {
    "duration": 1408,
    "start_time": "2022-03-11T16:18:47.488Z"
   },
   {
    "duration": 2667,
    "start_time": "2022-03-11T16:18:48.900Z"
   },
   {
    "duration": 15,
    "start_time": "2022-03-11T16:18:51.574Z"
   },
   {
    "duration": 36055,
    "start_time": "2022-03-11T16:19:42.544Z"
   },
   {
    "duration": 36890,
    "start_time": "2022-03-11T16:24:16.396Z"
   },
   {
    "duration": 911,
    "start_time": "2022-03-11T16:24:53.289Z"
   },
   {
    "duration": 327,
    "start_time": "2022-03-11T16:27:56.793Z"
   },
   {
    "duration": 3749,
    "start_time": "2022-03-11T16:29:21.255Z"
   },
   {
    "duration": 38632,
    "start_time": "2022-03-11T16:30:41.811Z"
   },
   {
    "duration": 37829,
    "start_time": "2022-03-11T16:34:04.282Z"
   },
   {
    "duration": 930,
    "start_time": "2022-03-11T16:36:35.202Z"
   },
   {
    "duration": 987,
    "start_time": "2022-03-11T16:36:39.407Z"
   },
   {
    "duration": 224,
    "start_time": "2022-03-12T03:08:06.458Z"
   },
   {
    "duration": 677,
    "start_time": "2022-03-12T03:08:14.149Z"
   },
   {
    "duration": 60,
    "start_time": "2022-03-12T03:08:14.828Z"
   },
   {
    "duration": 11,
    "start_time": "2022-03-12T03:08:14.890Z"
   },
   {
    "duration": 76,
    "start_time": "2022-03-12T03:08:14.946Z"
   },
   {
    "duration": 12,
    "start_time": "2022-03-12T03:08:15.401Z"
   },
   {
    "duration": 8,
    "start_time": "2022-03-12T03:08:16.763Z"
   },
   {
    "duration": 7,
    "start_time": "2022-03-12T03:08:17.195Z"
   },
   {
    "duration": 5,
    "start_time": "2022-03-12T03:08:17.614Z"
   },
   {
    "duration": 5,
    "start_time": "2022-03-12T03:08:17.865Z"
   },
   {
    "duration": 10,
    "start_time": "2022-03-12T03:08:18.311Z"
   },
   {
    "duration": 16,
    "start_time": "2022-03-12T03:08:18.729Z"
   },
   {
    "duration": 7,
    "start_time": "2022-03-12T03:08:19.153Z"
   },
   {
    "duration": 16,
    "start_time": "2022-03-12T03:08:19.355Z"
   },
   {
    "duration": 4,
    "start_time": "2022-03-12T03:08:20.116Z"
   },
   {
    "duration": 7,
    "start_time": "2022-03-12T03:08:20.185Z"
   },
   {
    "duration": 14,
    "start_time": "2022-03-12T03:08:20.236Z"
   },
   {
    "duration": 12,
    "start_time": "2022-03-12T03:08:20.302Z"
   },
   {
    "duration": 10,
    "start_time": "2022-03-12T03:08:20.361Z"
   },
   {
    "duration": 6,
    "start_time": "2022-03-12T03:08:20.423Z"
   },
   {
    "duration": 14,
    "start_time": "2022-03-12T03:08:20.523Z"
   },
   {
    "duration": 8,
    "start_time": "2022-03-12T03:08:20.581Z"
   },
   {
    "duration": 7,
    "start_time": "2022-03-12T03:08:20.644Z"
   },
   {
    "duration": 5,
    "start_time": "2022-03-12T03:08:20.674Z"
   },
   {
    "duration": 8,
    "start_time": "2022-03-12T03:08:20.703Z"
   },
   {
    "duration": 11,
    "start_time": "2022-03-12T03:08:22.351Z"
   },
   {
    "duration": 26,
    "start_time": "2022-03-12T03:08:23.431Z"
   },
   {
    "duration": 6,
    "start_time": "2022-03-12T03:08:23.506Z"
   },
   {
    "duration": 7,
    "start_time": "2022-03-12T03:08:23.535Z"
   },
   {
    "duration": 5,
    "start_time": "2022-03-12T03:08:23.654Z"
   },
   {
    "duration": 11,
    "start_time": "2022-03-12T03:08:23.717Z"
   },
   {
    "duration": 20,
    "start_time": "2022-03-12T03:08:23.746Z"
   },
   {
    "duration": 8,
    "start_time": "2022-03-12T03:08:23.816Z"
   },
   {
    "duration": 40,
    "start_time": "2022-03-12T03:08:23.870Z"
   },
   {
    "duration": 29,
    "start_time": "2022-03-12T03:08:23.941Z"
   },
   {
    "duration": 7,
    "start_time": "2022-03-12T03:08:24.787Z"
   },
   {
    "duration": 337,
    "start_time": "2022-03-12T03:08:25.579Z"
   },
   {
    "duration": 144,
    "start_time": "2022-03-12T03:08:26.424Z"
   },
   {
    "duration": 395,
    "start_time": "2022-03-12T03:08:26.570Z"
   },
   {
    "duration": 8,
    "start_time": "2022-03-12T03:08:26.967Z"
   },
   {
    "duration": 318,
    "start_time": "2022-03-12T03:08:26.976Z"
   },
   {
    "duration": 7,
    "start_time": "2022-03-12T03:08:27.296Z"
   },
   {
    "duration": 133,
    "start_time": "2022-03-12T03:08:27.304Z"
   },
   {
    "duration": 304,
    "start_time": "2022-03-12T03:08:27.440Z"
   },
   {
    "duration": 7,
    "start_time": "2022-03-12T03:08:27.745Z"
   },
   {
    "duration": 14,
    "start_time": "2022-03-12T03:08:27.753Z"
   },
   {
    "duration": 310,
    "start_time": "2022-03-12T03:08:27.769Z"
   },
   {
    "duration": 123,
    "start_time": "2022-03-12T03:08:28.081Z"
   },
   {
    "duration": 171,
    "start_time": "2022-03-12T03:08:29.065Z"
   },
   {
    "duration": 8,
    "start_time": "2022-03-12T03:08:30.669Z"
   },
   {
    "duration": 8,
    "start_time": "2022-03-12T03:08:31.052Z"
   },
   {
    "duration": 502,
    "start_time": "2022-03-12T03:08:31.476Z"
   },
   {
    "duration": 118,
    "start_time": "2022-03-12T03:08:32.406Z"
   },
   {
    "duration": 258,
    "start_time": "2022-03-12T03:08:33.223Z"
   },
   {
    "duration": 313,
    "start_time": "2022-03-12T03:08:34.815Z"
   },
   {
    "duration": 120,
    "start_time": "2022-03-12T03:08:35.254Z"
   },
   {
    "duration": 12,
    "start_time": "2022-03-12T03:08:38.268Z"
   },
   {
    "duration": 12,
    "start_time": "2022-03-12T03:08:38.957Z"
   },
   {
    "duration": 464,
    "start_time": "2022-03-12T03:08:40.493Z"
   },
   {
    "duration": 434,
    "start_time": "2022-03-12T03:08:53.165Z"
   },
   {
    "duration": 2,
    "start_time": "2022-03-12T03:14:41.011Z"
   },
   {
    "duration": 51,
    "start_time": "2022-03-12T03:14:42.356Z"
   },
   {
    "duration": 8,
    "start_time": "2022-03-12T03:14:42.409Z"
   },
   {
    "duration": 78,
    "start_time": "2022-03-12T03:14:46.895Z"
   },
   {
    "duration": 10,
    "start_time": "2022-03-12T03:14:48.115Z"
   },
   {
    "duration": 8,
    "start_time": "2022-03-12T03:14:50.840Z"
   },
   {
    "duration": 7,
    "start_time": "2022-03-12T03:14:51.743Z"
   },
   {
    "duration": 5,
    "start_time": "2022-03-12T03:14:52.340Z"
   },
   {
    "duration": 5,
    "start_time": "2022-03-12T03:14:52.844Z"
   },
   {
    "duration": 9,
    "start_time": "2022-03-12T03:14:52.922Z"
   },
   {
    "duration": 13,
    "start_time": "2022-03-12T03:14:52.978Z"
   },
   {
    "duration": 7,
    "start_time": "2022-03-12T03:14:53.037Z"
   },
   {
    "duration": 16,
    "start_time": "2022-03-12T03:14:53.084Z"
   },
   {
    "duration": 5,
    "start_time": "2022-03-12T03:14:53.136Z"
   },
   {
    "duration": 8,
    "start_time": "2022-03-12T03:14:53.196Z"
   },
   {
    "duration": 15,
    "start_time": "2022-03-12T03:14:59.844Z"
   },
   {
    "duration": 13,
    "start_time": "2022-03-12T03:15:00.969Z"
   },
   {
    "duration": 11,
    "start_time": "2022-03-12T03:15:01.033Z"
   },
   {
    "duration": 6,
    "start_time": "2022-03-12T03:15:01.093Z"
   },
   {
    "duration": 16,
    "start_time": "2022-03-12T03:15:01.184Z"
   },
   {
    "duration": 9,
    "start_time": "2022-03-12T03:15:01.247Z"
   },
   {
    "duration": 9,
    "start_time": "2022-03-12T03:15:01.314Z"
   },
   {
    "duration": 5,
    "start_time": "2022-03-12T03:15:01.341Z"
   },
   {
    "duration": 9,
    "start_time": "2022-03-12T03:15:01.369Z"
   },
   {
    "duration": 12,
    "start_time": "2022-03-12T03:15:01.437Z"
   },
   {
    "duration": 25,
    "start_time": "2022-03-12T03:15:03.068Z"
   },
   {
    "duration": 6,
    "start_time": "2022-03-12T03:15:03.698Z"
   },
   {
    "duration": 8,
    "start_time": "2022-03-12T03:15:03.888Z"
   },
   {
    "duration": 5,
    "start_time": "2022-03-12T03:15:05.284Z"
   },
   {
    "duration": 14,
    "start_time": "2022-03-12T03:15:05.291Z"
   },
   {
    "duration": 19,
    "start_time": "2022-03-12T03:15:05.307Z"
   },
   {
    "duration": 6,
    "start_time": "2022-03-12T03:15:05.328Z"
   },
   {
    "duration": 44,
    "start_time": "2022-03-12T03:15:05.335Z"
   },
   {
    "duration": 22,
    "start_time": "2022-03-12T03:15:05.380Z"
   },
   {
    "duration": 7,
    "start_time": "2022-03-12T03:15:05.404Z"
   },
   {
    "duration": 287,
    "start_time": "2022-03-12T03:15:06.596Z"
   },
   {
    "duration": 139,
    "start_time": "2022-03-12T03:15:06.885Z"
   },
   {
    "duration": 360,
    "start_time": "2022-03-12T03:15:07.026Z"
   },
   {
    "duration": 7,
    "start_time": "2022-03-12T03:15:07.388Z"
   },
   {
    "duration": 328,
    "start_time": "2022-03-12T03:15:07.397Z"
   },
   {
    "duration": 6,
    "start_time": "2022-03-12T03:15:07.727Z"
   },
   {
    "duration": 131,
    "start_time": "2022-03-12T03:15:07.735Z"
   },
   {
    "duration": 305,
    "start_time": "2022-03-12T03:15:07.899Z"
   },
   {
    "duration": 8,
    "start_time": "2022-03-12T03:15:08.205Z"
   },
   {
    "duration": 6,
    "start_time": "2022-03-12T03:15:08.215Z"
   },
   {
    "duration": 319,
    "start_time": "2022-03-12T03:15:09.230Z"
   },
   {
    "duration": 117,
    "start_time": "2022-03-12T03:15:11.650Z"
   },
   {
    "duration": 175,
    "start_time": "2022-03-12T03:15:12.997Z"
   },
   {
    "duration": 10,
    "start_time": "2022-03-12T03:15:14.417Z"
   },
   {
    "duration": 8,
    "start_time": "2022-03-12T03:15:14.428Z"
   },
   {
    "duration": 444,
    "start_time": "2022-03-12T03:15:15.509Z"
   },
   {
    "duration": 122,
    "start_time": "2022-03-12T03:15:16.674Z"
   },
   {
    "duration": 287,
    "start_time": "2022-03-12T03:15:16.798Z"
   },
   {
    "duration": 324,
    "start_time": "2022-03-12T03:15:17.903Z"
   },
   {
    "duration": 139,
    "start_time": "2022-03-12T03:15:18.229Z"
   },
   {
    "duration": 13,
    "start_time": "2022-03-12T03:15:21.452Z"
   },
   {
    "duration": 11,
    "start_time": "2022-03-12T03:15:21.810Z"
   },
   {
    "duration": 521,
    "start_time": "2022-03-12T03:15:26.744Z"
   },
   {
    "duration": 277,
    "start_time": "2022-03-12T03:22:49.451Z"
   },
   {
    "duration": 192,
    "start_time": "2022-03-12T03:22:56.060Z"
   },
   {
    "duration": 702,
    "start_time": "2022-03-12T03:23:01.157Z"
   },
   {
    "duration": 62,
    "start_time": "2022-03-12T03:23:01.861Z"
   },
   {
    "duration": 13,
    "start_time": "2022-03-12T03:23:01.925Z"
   },
   {
    "duration": 90,
    "start_time": "2022-03-12T03:23:01.940Z"
   },
   {
    "duration": 11,
    "start_time": "2022-03-12T03:23:02.032Z"
   },
   {
    "duration": 26,
    "start_time": "2022-03-12T03:23:02.044Z"
   },
   {
    "duration": 6,
    "start_time": "2022-03-12T03:23:02.072Z"
   },
   {
    "duration": 4,
    "start_time": "2022-03-12T03:23:02.081Z"
   },
   {
    "duration": 7,
    "start_time": "2022-03-12T03:23:02.087Z"
   },
   {
    "duration": 11,
    "start_time": "2022-03-12T03:23:02.096Z"
   },
   {
    "duration": 13,
    "start_time": "2022-03-12T03:23:02.108Z"
   },
   {
    "duration": 42,
    "start_time": "2022-03-12T03:23:02.123Z"
   },
   {
    "duration": 53,
    "start_time": "2022-03-12T03:23:02.167Z"
   },
   {
    "duration": 6,
    "start_time": "2022-03-12T03:23:02.222Z"
   },
   {
    "duration": 18,
    "start_time": "2022-03-12T03:23:02.229Z"
   },
   {
    "duration": 24,
    "start_time": "2022-03-12T03:23:02.249Z"
   },
   {
    "duration": 14,
    "start_time": "2022-03-12T03:23:03.691Z"
   },
   {
    "duration": 12,
    "start_time": "2022-03-12T03:23:03.752Z"
   },
   {
    "duration": 7,
    "start_time": "2022-03-12T03:23:03.828Z"
   },
   {
    "duration": 16,
    "start_time": "2022-03-12T03:23:03.911Z"
   },
   {
    "duration": 9,
    "start_time": "2022-03-12T03:23:03.976Z"
   },
   {
    "duration": 9,
    "start_time": "2022-03-12T03:23:04.040Z"
   },
   {
    "duration": 5,
    "start_time": "2022-03-12T03:23:04.069Z"
   },
   {
    "duration": 8,
    "start_time": "2022-03-12T03:23:04.099Z"
   },
   {
    "duration": 12,
    "start_time": "2022-03-12T03:23:04.161Z"
   },
   {
    "duration": 27,
    "start_time": "2022-03-12T03:23:04.234Z"
   },
   {
    "duration": 6,
    "start_time": "2022-03-12T03:23:04.282Z"
   },
   {
    "duration": 7,
    "start_time": "2022-03-12T03:23:04.312Z"
   },
   {
    "duration": 5,
    "start_time": "2022-03-12T03:23:04.442Z"
   },
   {
    "duration": 13,
    "start_time": "2022-03-12T03:23:04.505Z"
   },
   {
    "duration": 21,
    "start_time": "2022-03-12T03:23:04.532Z"
   },
   {
    "duration": 8,
    "start_time": "2022-03-12T03:23:04.601Z"
   },
   {
    "duration": 41,
    "start_time": "2022-03-12T03:23:04.652Z"
   },
   {
    "duration": 23,
    "start_time": "2022-03-12T03:23:04.723Z"
   },
   {
    "duration": 8,
    "start_time": "2022-03-12T03:23:04.834Z"
   },
   {
    "duration": 364,
    "start_time": "2022-03-12T03:23:04.873Z"
   },
   {
    "duration": 131,
    "start_time": "2022-03-12T03:23:06.423Z"
   },
   {
    "duration": 377,
    "start_time": "2022-03-12T03:23:09.110Z"
   },
   {
    "duration": 7,
    "start_time": "2022-03-12T03:23:13.279Z"
   },
   {
    "duration": 297,
    "start_time": "2022-03-12T03:23:13.675Z"
   },
   {
    "duration": 8,
    "start_time": "2022-03-12T03:23:14.572Z"
   },
   {
    "duration": 122,
    "start_time": "2022-03-12T03:23:15.042Z"
   },
   {
    "duration": 298,
    "start_time": "2022-03-12T03:23:15.947Z"
   },
   {
    "duration": 7,
    "start_time": "2022-03-12T03:23:18.436Z"
   },
   {
    "duration": 7,
    "start_time": "2022-03-12T03:23:18.823Z"
   },
   {
    "duration": 301,
    "start_time": "2022-03-12T03:23:19.072Z"
   },
   {
    "duration": 123,
    "start_time": "2022-03-12T03:23:19.758Z"
   },
   {
    "duration": 184,
    "start_time": "2022-03-12T03:23:19.883Z"
   },
   {
    "duration": 8,
    "start_time": "2022-03-12T03:23:20.525Z"
   },
   {
    "duration": 7,
    "start_time": "2022-03-12T03:23:21.043Z"
   },
   {
    "duration": 511,
    "start_time": "2022-03-12T03:23:21.532Z"
   },
   {
    "duration": 118,
    "start_time": "2022-03-12T03:23:23.662Z"
   },
   {
    "duration": 258,
    "start_time": "2022-03-12T03:23:24.563Z"
   },
   {
    "duration": 310,
    "start_time": "2022-03-12T03:23:25.916Z"
   },
   {
    "duration": 129,
    "start_time": "2022-03-12T03:23:26.363Z"
   },
   {
    "duration": 13,
    "start_time": "2022-03-12T03:23:29.194Z"
   },
   {
    "duration": 9,
    "start_time": "2022-03-12T03:23:29.729Z"
   },
   {
    "duration": 2,
    "start_time": "2022-03-12T03:26:26.271Z"
   },
   {
    "duration": 58,
    "start_time": "2022-03-12T03:26:26.274Z"
   },
   {
    "duration": 4883,
    "start_time": "2022-03-12T03:29:00.149Z"
   },
   {
    "duration": 3,
    "start_time": "2022-03-12T03:29:07.120Z"
   },
   {
    "duration": 58,
    "start_time": "2022-03-12T03:29:07.796Z"
   },
   {
    "duration": 10,
    "start_time": "2022-03-12T03:29:08.761Z"
   },
   {
    "duration": 84,
    "start_time": "2022-03-12T03:29:10.035Z"
   },
   {
    "duration": 11,
    "start_time": "2022-03-12T03:29:10.578Z"
   },
   {
    "duration": 8,
    "start_time": "2022-03-12T03:29:10.768Z"
   },
   {
    "duration": 6,
    "start_time": "2022-03-12T03:29:10.834Z"
   },
   {
    "duration": 5,
    "start_time": "2022-03-12T03:29:10.886Z"
   },
   {
    "duration": 4,
    "start_time": "2022-03-12T03:29:10.917Z"
   },
   {
    "duration": 10,
    "start_time": "2022-03-12T03:29:10.982Z"
   },
   {
    "duration": 14,
    "start_time": "2022-03-12T03:29:11.048Z"
   },
   {
    "duration": 7,
    "start_time": "2022-03-12T03:29:11.101Z"
   },
   {
    "duration": 15,
    "start_time": "2022-03-12T03:29:11.131Z"
   },
   {
    "duration": 4,
    "start_time": "2022-03-12T03:29:11.197Z"
   },
   {
    "duration": 8,
    "start_time": "2022-03-12T03:29:11.247Z"
   },
   {
    "duration": 13,
    "start_time": "2022-03-12T03:29:11.320Z"
   },
   {
    "duration": 12,
    "start_time": "2022-03-12T03:29:11.398Z"
   },
   {
    "duration": 11,
    "start_time": "2022-03-12T03:29:11.451Z"
   },
   {
    "duration": 7,
    "start_time": "2022-03-12T03:29:11.914Z"
   },
   {
    "duration": 15,
    "start_time": "2022-03-12T03:29:12.836Z"
   },
   {
    "duration": 8,
    "start_time": "2022-03-12T03:29:12.895Z"
   },
   {
    "duration": 7,
    "start_time": "2022-03-12T03:29:12.956Z"
   },
   {
    "duration": 4,
    "start_time": "2022-03-12T03:29:13.005Z"
   },
   {
    "duration": 7,
    "start_time": "2022-03-12T03:29:13.034Z"
   },
   {
    "duration": 11,
    "start_time": "2022-03-12T03:29:13.095Z"
   },
   {
    "duration": 25,
    "start_time": "2022-03-12T03:29:13.160Z"
   },
   {
    "duration": 6,
    "start_time": "2022-03-12T03:29:13.222Z"
   },
   {
    "duration": 7,
    "start_time": "2022-03-12T03:29:13.239Z"
   },
   {
    "duration": 5,
    "start_time": "2022-03-12T03:29:13.371Z"
   },
   {
    "duration": 13,
    "start_time": "2022-03-12T03:29:13.436Z"
   },
   {
    "duration": 21,
    "start_time": "2022-03-12T03:29:13.467Z"
   },
   {
    "duration": 8,
    "start_time": "2022-03-12T03:29:13.529Z"
   },
   {
    "duration": 43,
    "start_time": "2022-03-12T03:29:13.581Z"
   },
   {
    "duration": 23,
    "start_time": "2022-03-12T03:29:13.637Z"
   },
   {
    "duration": 8,
    "start_time": "2022-03-12T03:29:13.770Z"
   },
   {
    "duration": 284,
    "start_time": "2022-03-12T03:29:14.699Z"
   },
   {
    "duration": 132,
    "start_time": "2022-03-12T03:29:16.329Z"
   },
   {
    "duration": 345,
    "start_time": "2022-03-12T03:29:16.463Z"
   },
   {
    "duration": 7,
    "start_time": "2022-03-12T03:29:16.810Z"
   },
   {
    "duration": 344,
    "start_time": "2022-03-12T03:29:16.819Z"
   },
   {
    "duration": 8,
    "start_time": "2022-03-12T03:29:17.164Z"
   },
   {
    "duration": 140,
    "start_time": "2022-03-12T03:29:17.173Z"
   },
   {
    "duration": 339,
    "start_time": "2022-03-12T03:29:17.316Z"
   },
   {
    "duration": 12,
    "start_time": "2022-03-12T03:29:17.657Z"
   },
   {
    "duration": 7,
    "start_time": "2022-03-12T03:29:17.670Z"
   },
   {
    "duration": 332,
    "start_time": "2022-03-12T03:29:17.678Z"
   },
   {
    "duration": 130,
    "start_time": "2022-03-12T03:29:18.011Z"
   },
   {
    "duration": 179,
    "start_time": "2022-03-12T03:29:18.143Z"
   },
   {
    "duration": 7,
    "start_time": "2022-03-12T03:29:18.324Z"
   },
   {
    "duration": 7,
    "start_time": "2022-03-12T03:29:18.332Z"
   },
   {
    "duration": 465,
    "start_time": "2022-03-12T03:29:18.341Z"
   },
   {
    "duration": 129,
    "start_time": "2022-03-12T03:29:18.808Z"
   },
   {
    "duration": 284,
    "start_time": "2022-03-12T03:29:18.939Z"
   },
   {
    "duration": 330,
    "start_time": "2022-03-12T03:29:19.773Z"
   },
   {
    "duration": 132,
    "start_time": "2022-03-12T03:29:20.105Z"
   },
   {
    "duration": 12,
    "start_time": "2022-03-12T03:29:20.938Z"
   },
   {
    "duration": 10,
    "start_time": "2022-03-12T03:29:21.154Z"
   },
   {
    "duration": 484,
    "start_time": "2022-03-12T03:29:23.611Z"
   },
   {
    "duration": 156511,
    "start_time": "2022-03-12T03:29:30.099Z"
   },
   {
    "duration": 465,
    "start_time": "2022-03-12T03:34:20.216Z"
   },
   {
    "duration": 399,
    "start_time": "2022-03-12T03:34:27.973Z"
   },
   {
    "duration": 812,
    "start_time": "2022-03-12T03:35:02.471Z"
   },
   {
    "duration": 1253,
    "start_time": "2022-03-12T03:35:13.275Z"
   },
   {
    "duration": 1227,
    "start_time": "2022-03-12T03:35:28.178Z"
   },
   {
    "duration": 14,
    "start_time": "2022-03-12T03:35:50.864Z"
   },
   {
    "duration": 786,
    "start_time": "2022-03-12T03:35:55.363Z"
   },
   {
    "duration": 1830,
    "start_time": "2022-03-12T03:36:33.693Z"
   },
   {
    "duration": 8,
    "start_time": "2022-03-12T03:37:57.726Z"
   },
   {
    "duration": 252,
    "start_time": "2022-03-12T03:38:06.690Z"
   },
   {
    "duration": 3,
    "start_time": "2022-03-12T03:38:29.578Z"
   },
   {
    "duration": 52,
    "start_time": "2022-03-12T03:38:30.094Z"
   },
   {
    "duration": 7,
    "start_time": "2022-03-12T03:38:30.621Z"
   },
   {
    "duration": 75,
    "start_time": "2022-03-12T03:38:30.674Z"
   },
   {
    "duration": 10,
    "start_time": "2022-03-12T03:38:30.751Z"
   },
   {
    "duration": 8,
    "start_time": "2022-03-12T03:38:30.921Z"
   },
   {
    "duration": 8,
    "start_time": "2022-03-12T03:38:30.975Z"
   },
   {
    "duration": 6,
    "start_time": "2022-03-12T03:38:31.039Z"
   },
   {
    "duration": 5,
    "start_time": "2022-03-12T03:38:31.069Z"
   },
   {
    "duration": 10,
    "start_time": "2022-03-12T03:38:31.136Z"
   },
   {
    "duration": 14,
    "start_time": "2022-03-12T03:38:31.209Z"
   },
   {
    "duration": 7,
    "start_time": "2022-03-12T03:38:31.260Z"
   },
   {
    "duration": 16,
    "start_time": "2022-03-12T03:38:31.303Z"
   },
   {
    "duration": 4,
    "start_time": "2022-03-12T03:38:31.351Z"
   },
   {
    "duration": 8,
    "start_time": "2022-03-12T03:38:31.423Z"
   },
   {
    "duration": 13,
    "start_time": "2022-03-12T03:38:31.482Z"
   },
   {
    "duration": 14,
    "start_time": "2022-03-12T03:38:31.537Z"
   },
   {
    "duration": 12,
    "start_time": "2022-03-12T03:38:31.598Z"
   },
   {
    "duration": 7,
    "start_time": "2022-03-12T03:38:31.656Z"
   },
   {
    "duration": 14,
    "start_time": "2022-03-12T03:38:31.747Z"
   },
   {
    "duration": 9,
    "start_time": "2022-03-12T03:38:31.807Z"
   },
   {
    "duration": 9,
    "start_time": "2022-03-12T03:38:31.869Z"
   },
   {
    "duration": 5,
    "start_time": "2022-03-12T03:38:31.899Z"
   },
   {
    "duration": 9,
    "start_time": "2022-03-12T03:38:31.928Z"
   },
   {
    "duration": 11,
    "start_time": "2022-03-12T03:38:31.990Z"
   },
   {
    "duration": 27,
    "start_time": "2022-03-12T03:38:32.049Z"
   },
   {
    "duration": 7,
    "start_time": "2022-03-12T03:38:32.112Z"
   },
   {
    "duration": 8,
    "start_time": "2022-03-12T03:38:32.141Z"
   },
   {
    "duration": 5,
    "start_time": "2022-03-12T03:38:32.272Z"
   },
   {
    "duration": 12,
    "start_time": "2022-03-12T03:38:32.346Z"
   },
   {
    "duration": 22,
    "start_time": "2022-03-12T03:38:32.375Z"
   },
   {
    "duration": 8,
    "start_time": "2022-03-12T03:38:32.436Z"
   },
   {
    "duration": 39,
    "start_time": "2022-03-12T03:38:32.499Z"
   },
   {
    "duration": 23,
    "start_time": "2022-03-12T03:38:32.563Z"
   },
   {
    "duration": 8,
    "start_time": "2022-03-12T03:38:32.699Z"
   },
   {
    "duration": 290,
    "start_time": "2022-03-12T03:38:32.730Z"
   },
   {
    "duration": 143,
    "start_time": "2022-03-12T03:38:33.022Z"
   },
   {
    "duration": 340,
    "start_time": "2022-03-12T03:38:33.167Z"
   },
   {
    "duration": 7,
    "start_time": "2022-03-12T03:38:33.509Z"
   },
   {
    "duration": 333,
    "start_time": "2022-03-12T03:38:33.518Z"
   },
   {
    "duration": 11,
    "start_time": "2022-03-12T03:38:33.852Z"
   },
   {
    "duration": 133,
    "start_time": "2022-03-12T03:38:33.865Z"
   },
   {
    "duration": 333,
    "start_time": "2022-03-12T03:38:34.001Z"
   },
   {
    "duration": 7,
    "start_time": "2022-03-12T03:38:34.336Z"
   },
   {
    "duration": 20,
    "start_time": "2022-03-12T03:38:34.344Z"
   },
   {
    "duration": 326,
    "start_time": "2022-03-12T03:38:34.366Z"
   },
   {
    "duration": 132,
    "start_time": "2022-03-12T03:38:34.694Z"
   },
   {
    "duration": 167,
    "start_time": "2022-03-12T03:38:35.591Z"
   },
   {
    "duration": 8,
    "start_time": "2022-03-12T03:38:35.760Z"
   },
   {
    "duration": 13,
    "start_time": "2022-03-12T03:38:35.769Z"
   },
   {
    "duration": 448,
    "start_time": "2022-03-12T03:38:36.595Z"
   },
   {
    "duration": 120,
    "start_time": "2022-03-12T03:38:37.292Z"
   },
   {
    "duration": 270,
    "start_time": "2022-03-12T03:38:38.307Z"
   },
   {
    "duration": 320,
    "start_time": "2022-03-12T03:38:39.409Z"
   },
   {
    "duration": 124,
    "start_time": "2022-03-12T03:38:39.767Z"
   },
   {
    "duration": 12,
    "start_time": "2022-03-12T03:38:40.847Z"
   },
   {
    "duration": 9,
    "start_time": "2022-03-12T03:38:40.877Z"
   },
   {
    "duration": 1315,
    "start_time": "2022-03-12T03:38:40.970Z"
   },
   {
    "duration": 17,
    "start_time": "2022-03-12T03:38:42.287Z"
   },
   {
    "duration": 835,
    "start_time": "2022-03-12T03:38:42.306Z"
   },
   {
    "duration": 1610,
    "start_time": "2022-03-12T03:38:43.143Z"
   },
   {
    "duration": 10,
    "start_time": "2022-03-12T03:38:44.762Z"
   },
   {
    "duration": 14,
    "start_time": "2022-03-12T03:38:44.774Z"
   },
   {
    "duration": 7,
    "start_time": "2022-03-12T03:38:44.790Z"
   },
   {
    "duration": 266,
    "start_time": "2022-03-12T03:38:44.799Z"
   },
   {
    "duration": 37,
    "start_time": "2022-03-12T03:38:45.067Z"
   },
   {
    "duration": 258,
    "start_time": "2022-03-12T03:38:45.106Z"
   },
   {
    "duration": 248,
    "start_time": "2022-03-12T03:38:45.366Z"
   },
   {
    "duration": 240,
    "start_time": "2022-03-12T03:38:45.616Z"
   },
   {
    "duration": 277,
    "start_time": "2022-03-12T03:38:45.862Z"
   },
   {
    "duration": 1238,
    "start_time": "2022-03-12T03:38:46.141Z"
   },
   {
    "duration": 1553,
    "start_time": "2022-03-12T03:39:34.491Z"
   },
   {
    "duration": 15,
    "start_time": "2022-03-12T03:40:34.371Z"
   },
   {
    "duration": 15,
    "start_time": "2022-03-12T03:41:51.814Z"
   },
   {
    "duration": 3,
    "start_time": "2022-03-12T03:41:59.278Z"
   },
   {
    "duration": 51,
    "start_time": "2022-03-12T03:41:59.307Z"
   },
   {
    "duration": 6,
    "start_time": "2022-03-12T03:41:59.360Z"
   },
   {
    "duration": 72,
    "start_time": "2022-03-12T03:41:59.405Z"
   },
   {
    "duration": 11,
    "start_time": "2022-03-12T03:41:59.478Z"
   },
   {
    "duration": 9,
    "start_time": "2022-03-12T03:41:59.646Z"
   },
   {
    "duration": 6,
    "start_time": "2022-03-12T03:41:59.704Z"
   },
   {
    "duration": 5,
    "start_time": "2022-03-12T03:41:59.770Z"
   },
   {
    "duration": 5,
    "start_time": "2022-03-12T03:41:59.798Z"
   },
   {
    "duration": 10,
    "start_time": "2022-03-12T03:41:59.863Z"
   },
   {
    "duration": 13,
    "start_time": "2022-03-12T03:41:59.912Z"
   },
   {
    "duration": 8,
    "start_time": "2022-03-12T03:41:59.997Z"
   },
   {
    "duration": 18,
    "start_time": "2022-03-12T03:42:00.023Z"
   },
   {
    "duration": 6,
    "start_time": "2022-03-12T03:42:00.073Z"
   },
   {
    "duration": 7,
    "start_time": "2022-03-12T03:42:00.137Z"
   },
   {
    "duration": 14,
    "start_time": "2022-03-12T03:42:00.194Z"
   },
   {
    "duration": 12,
    "start_time": "2022-03-12T03:42:00.255Z"
   },
   {
    "duration": 11,
    "start_time": "2022-03-12T03:42:00.321Z"
   },
   {
    "duration": 7,
    "start_time": "2022-03-12T03:42:01.874Z"
   },
   {
    "duration": 15,
    "start_time": "2022-03-12T03:42:01.973Z"
   },
   {
    "duration": 9,
    "start_time": "2022-03-12T03:42:02.034Z"
   },
   {
    "duration": 8,
    "start_time": "2022-03-12T03:42:02.094Z"
   },
   {
    "duration": 5,
    "start_time": "2022-03-12T03:42:02.124Z"
   },
   {
    "duration": 9,
    "start_time": "2022-03-12T03:42:02.166Z"
   },
   {
    "duration": 10,
    "start_time": "2022-03-12T03:42:02.217Z"
   },
   {
    "duration": 27,
    "start_time": "2022-03-12T03:42:02.276Z"
   },
   {
    "duration": 6,
    "start_time": "2022-03-12T03:42:02.354Z"
   },
   {
    "duration": 7,
    "start_time": "2022-03-12T03:42:02.394Z"
   },
   {
    "duration": 5,
    "start_time": "2022-03-12T03:42:02.495Z"
   },
   {
    "duration": 11,
    "start_time": "2022-03-12T03:42:02.554Z"
   },
   {
    "duration": 20,
    "start_time": "2022-03-12T03:42:02.596Z"
   },
   {
    "duration": 7,
    "start_time": "2022-03-12T03:42:02.646Z"
   },
   {
    "duration": 40,
    "start_time": "2022-03-12T03:42:02.706Z"
   },
   {
    "duration": 23,
    "start_time": "2022-03-12T03:42:02.773Z"
   },
   {
    "duration": 7,
    "start_time": "2022-03-12T03:42:02.887Z"
   },
   {
    "duration": 292,
    "start_time": "2022-03-12T03:42:03.733Z"
   },
   {
    "duration": 136,
    "start_time": "2022-03-12T03:42:04.279Z"
   },
   {
    "duration": 335,
    "start_time": "2022-03-12T03:42:04.417Z"
   },
   {
    "duration": 13,
    "start_time": "2022-03-12T03:42:04.754Z"
   },
   {
    "duration": 336,
    "start_time": "2022-03-12T03:42:04.769Z"
   },
   {
    "duration": 7,
    "start_time": "2022-03-12T03:42:05.107Z"
   },
   {
    "duration": 137,
    "start_time": "2022-03-12T03:42:05.115Z"
   },
   {
    "duration": 327,
    "start_time": "2022-03-12T03:42:05.254Z"
   },
   {
    "duration": 7,
    "start_time": "2022-03-12T03:42:05.583Z"
   },
   {
    "duration": 6,
    "start_time": "2022-03-12T03:42:05.591Z"
   },
   {
    "duration": 326,
    "start_time": "2022-03-12T03:42:05.599Z"
   },
   {
    "duration": 120,
    "start_time": "2022-03-12T03:42:06.249Z"
   },
   {
    "duration": 175,
    "start_time": "2022-03-12T03:42:07.143Z"
   },
   {
    "duration": 7,
    "start_time": "2022-03-12T03:42:08.395Z"
   },
   {
    "duration": 7,
    "start_time": "2022-03-12T03:42:08.606Z"
   },
   {
    "duration": 453,
    "start_time": "2022-03-12T03:42:08.869Z"
   },
   {
    "duration": 122,
    "start_time": "2022-03-12T03:42:09.560Z"
   },
   {
    "duration": 265,
    "start_time": "2022-03-12T03:42:10.281Z"
   },
   {
    "duration": 304,
    "start_time": "2022-03-12T03:42:11.845Z"
   },
   {
    "duration": 121,
    "start_time": "2022-03-12T03:42:12.855Z"
   },
   {
    "duration": 12,
    "start_time": "2022-03-12T03:42:15.387Z"
   },
   {
    "duration": 11,
    "start_time": "2022-03-12T03:42:15.928Z"
   },
   {
    "duration": 1282,
    "start_time": "2022-03-12T03:42:19.208Z"
   },
   {
    "duration": 15,
    "start_time": "2022-03-12T03:42:28.241Z"
   },
   {
    "duration": 15,
    "start_time": "2022-03-12T03:42:50.166Z"
   },
   {
    "duration": 17,
    "start_time": "2022-03-12T03:42:56.281Z"
   },
   {
    "duration": 16,
    "start_time": "2022-03-12T03:43:05.479Z"
   },
   {
    "duration": 195,
    "start_time": "2022-03-12T03:43:14.596Z"
   },
   {
    "duration": 446,
    "start_time": "2022-03-12T03:43:22.168Z"
   },
   {
    "duration": 17,
    "start_time": "2022-03-12T03:43:31.463Z"
   },
   {
    "duration": 16,
    "start_time": "2022-03-12T03:45:05.445Z"
   },
   {
    "duration": 16,
    "start_time": "2022-03-12T03:45:46.642Z"
   },
   {
    "duration": 18,
    "start_time": "2022-03-12T03:48:04.397Z"
   },
   {
    "duration": 16,
    "start_time": "2022-03-12T03:49:07.599Z"
   },
   {
    "duration": 774,
    "start_time": "2022-03-12T03:51:24.744Z"
   },
   {
    "duration": 417,
    "start_time": "2022-03-12T03:54:16.436Z"
   },
   {
    "duration": 184,
    "start_time": "2022-03-12T03:55:18.310Z"
   },
   {
    "duration": 194,
    "start_time": "2022-03-12T03:56:00.692Z"
   },
   {
    "duration": 206,
    "start_time": "2022-03-12T03:58:50.962Z"
   },
   {
    "duration": 181,
    "start_time": "2022-03-12T04:03:16.930Z"
   },
   {
    "duration": 6,
    "start_time": "2022-03-12T04:03:30.603Z"
   },
   {
    "duration": 13,
    "start_time": "2022-03-12T04:04:00.901Z"
   },
   {
    "duration": 13,
    "start_time": "2022-03-12T04:04:36.314Z"
   },
   {
    "duration": 35,
    "start_time": "2022-03-12T04:04:54.682Z"
   },
   {
    "duration": 12,
    "start_time": "2022-03-12T04:05:00.630Z"
   },
   {
    "duration": 29,
    "start_time": "2022-03-12T04:05:23.399Z"
   },
   {
    "duration": 3,
    "start_time": "2022-03-12T04:05:32.404Z"
   },
   {
    "duration": 53,
    "start_time": "2022-03-12T04:05:32.606Z"
   },
   {
    "duration": 8,
    "start_time": "2022-03-12T04:05:32.858Z"
   },
   {
    "duration": 77,
    "start_time": "2022-03-12T04:05:33.713Z"
   },
   {
    "duration": 13,
    "start_time": "2022-03-12T04:05:34.633Z"
   },
   {
    "duration": 10,
    "start_time": "2022-03-12T04:05:36.697Z"
   },
   {
    "duration": 9,
    "start_time": "2022-03-12T04:05:37.575Z"
   },
   {
    "duration": 6,
    "start_time": "2022-03-12T04:05:38.433Z"
   },
   {
    "duration": 6,
    "start_time": "2022-03-12T04:05:38.806Z"
   },
   {
    "duration": 12,
    "start_time": "2022-03-12T04:05:39.915Z"
   },
   {
    "duration": 14,
    "start_time": "2022-03-12T04:05:40.823Z"
   },
   {
    "duration": 7,
    "start_time": "2022-03-12T04:05:41.721Z"
   },
   {
    "duration": 18,
    "start_time": "2022-03-12T04:05:43.058Z"
   },
   {
    "duration": 4,
    "start_time": "2022-03-12T04:05:44.798Z"
   },
   {
    "duration": 8,
    "start_time": "2022-03-12T04:05:45.736Z"
   },
   {
    "duration": 13,
    "start_time": "2022-03-12T04:05:46.831Z"
   },
   {
    "duration": 13,
    "start_time": "2022-03-12T04:05:47.584Z"
   },
   {
    "duration": 11,
    "start_time": "2022-03-12T04:05:49.063Z"
   },
   {
    "duration": 7,
    "start_time": "2022-03-12T04:05:50.154Z"
   },
   {
    "duration": 15,
    "start_time": "2022-03-12T04:05:52.453Z"
   },
   {
    "duration": 13,
    "start_time": "2022-03-12T04:05:53.262Z"
   },
   {
    "duration": 8,
    "start_time": "2022-03-12T04:05:54.486Z"
   },
   {
    "duration": 5,
    "start_time": "2022-03-12T04:05:54.902Z"
   },
   {
    "duration": 10,
    "start_time": "2022-03-12T04:05:55.498Z"
   },
   {
    "duration": 13,
    "start_time": "2022-03-12T04:05:56.738Z"
   },
   {
    "duration": 24,
    "start_time": "2022-03-12T04:05:59.655Z"
   },
   {
    "duration": 6,
    "start_time": "2022-03-12T04:06:01.199Z"
   },
   {
    "duration": 9,
    "start_time": "2022-03-12T04:06:02.020Z"
   },
   {
    "duration": 5,
    "start_time": "2022-03-12T04:06:04.462Z"
   },
   {
    "duration": 13,
    "start_time": "2022-03-12T04:06:05.592Z"
   },
   {
    "duration": 22,
    "start_time": "2022-03-12T04:06:07.331Z"
   },
   {
    "duration": 9,
    "start_time": "2022-03-12T04:06:10.042Z"
   },
   {
    "duration": 42,
    "start_time": "2022-03-12T04:06:11.963Z"
   },
   {
    "duration": 35,
    "start_time": "2022-03-12T04:06:37.094Z"
   },
   {
    "duration": 23,
    "start_time": "2022-03-12T04:06:38.467Z"
   },
   {
    "duration": 9,
    "start_time": "2022-03-12T04:06:40.363Z"
   },
   {
    "duration": 279,
    "start_time": "2022-03-12T04:06:40.726Z"
   },
   {
    "duration": 1915,
    "start_time": "2022-03-12T04:06:41.573Z"
   },
   {
    "duration": 369,
    "start_time": "2022-03-12T04:06:43.490Z"
   },
   {
    "duration": 10,
    "start_time": "2022-03-12T04:06:43.863Z"
   },
   {
    "duration": 351,
    "start_time": "2022-03-12T04:06:43.875Z"
   },
   {
    "duration": 9,
    "start_time": "2022-03-12T04:06:44.228Z"
   },
   {
    "duration": 148,
    "start_time": "2022-03-12T04:06:44.239Z"
   },
   {
    "duration": 327,
    "start_time": "2022-03-12T04:06:44.389Z"
   },
   {
    "duration": 6,
    "start_time": "2022-03-12T04:06:44.719Z"
   },
   {
    "duration": 6,
    "start_time": "2022-03-12T04:06:44.727Z"
   },
   {
    "duration": 346,
    "start_time": "2022-03-12T04:06:44.735Z"
   },
   {
    "duration": 134,
    "start_time": "2022-03-12T04:06:45.083Z"
   },
   {
    "duration": 188,
    "start_time": "2022-03-12T04:06:45.219Z"
   },
   {
    "duration": 7,
    "start_time": "2022-03-12T04:06:45.409Z"
   },
   {
    "duration": 6,
    "start_time": "2022-03-12T04:06:45.418Z"
   },
   {
    "duration": 475,
    "start_time": "2022-03-12T04:06:45.425Z"
   },
   {
    "duration": 141,
    "start_time": "2022-03-12T04:06:45.902Z"
   },
   {
    "duration": 261,
    "start_time": "2022-03-12T04:06:46.150Z"
   },
   {
    "duration": 314,
    "start_time": "2022-03-12T04:06:47.244Z"
   },
   {
    "duration": 119,
    "start_time": "2022-03-12T04:06:47.651Z"
   },
   {
    "duration": 13,
    "start_time": "2022-03-12T04:06:48.564Z"
   },
   {
    "duration": 11,
    "start_time": "2022-03-12T04:06:48.593Z"
   },
   {
    "duration": 29,
    "start_time": "2022-03-12T04:06:48.637Z"
   },
   {
    "duration": 1270,
    "start_time": "2022-03-12T04:06:48.725Z"
   },
   {
    "duration": 23,
    "start_time": "2022-03-12T04:06:49.997Z"
   },
   {
    "duration": 772,
    "start_time": "2022-03-12T04:06:50.577Z"
   },
   {
    "duration": 13,
    "start_time": "2022-03-12T04:06:51.971Z"
   },
   {
    "duration": 922,
    "start_time": "2022-03-12T04:08:35.661Z"
   },
   {
    "duration": 904,
    "start_time": "2022-03-12T04:08:44.394Z"
   },
   {
    "duration": 883,
    "start_time": "2022-03-12T04:08:48.107Z"
   },
   {
    "duration": 16,
    "start_time": "2022-03-12T04:08:55.907Z"
   },
   {
    "duration": 258,
    "start_time": "2022-03-12T04:09:06.085Z"
   },
   {
    "duration": 13,
    "start_time": "2022-03-12T04:09:33.869Z"
   },
   {
    "duration": 3,
    "start_time": "2022-03-12T04:09:48.813Z"
   },
   {
    "duration": 60,
    "start_time": "2022-03-12T04:09:49.184Z"
   },
   {
    "duration": 7,
    "start_time": "2022-03-12T04:09:49.500Z"
   },
   {
    "duration": 78,
    "start_time": "2022-03-12T04:09:50.357Z"
   },
   {
    "duration": 12,
    "start_time": "2022-03-12T04:09:52.032Z"
   },
   {
    "duration": 12,
    "start_time": "2022-03-12T04:09:53.064Z"
   },
   {
    "duration": 7,
    "start_time": "2022-03-12T04:09:53.130Z"
   },
   {
    "duration": 6,
    "start_time": "2022-03-12T04:09:53.193Z"
   },
   {
    "duration": 5,
    "start_time": "2022-03-12T04:09:53.223Z"
   },
   {
    "duration": 10,
    "start_time": "2022-03-12T04:09:53.287Z"
   },
   {
    "duration": 12,
    "start_time": "2022-03-12T04:09:53.337Z"
   },
   {
    "duration": 8,
    "start_time": "2022-03-12T04:09:54.150Z"
   },
   {
    "duration": 13,
    "start_time": "2022-03-12T04:09:54.892Z"
   },
   {
    "duration": 5,
    "start_time": "2022-03-12T04:09:56.844Z"
   },
   {
    "duration": 7,
    "start_time": "2022-03-12T04:09:57.706Z"
   },
   {
    "duration": 14,
    "start_time": "2022-03-12T04:09:58.438Z"
   },
   {
    "duration": 13,
    "start_time": "2022-03-12T04:09:59.195Z"
   },
   {
    "duration": 12,
    "start_time": "2022-03-12T04:10:00.406Z"
   },
   {
    "duration": 7,
    "start_time": "2022-03-12T04:10:01.429Z"
   },
   {
    "duration": 14,
    "start_time": "2022-03-12T04:10:02.757Z"
   },
   {
    "duration": 8,
    "start_time": "2022-03-12T04:10:03.645Z"
   },
   {
    "duration": 9,
    "start_time": "2022-03-12T04:10:04.470Z"
   },
   {
    "duration": 5,
    "start_time": "2022-03-12T04:10:04.874Z"
   },
   {
    "duration": 8,
    "start_time": "2022-03-12T04:10:05.272Z"
   },
   {
    "duration": 11,
    "start_time": "2022-03-12T04:10:06.096Z"
   },
   {
    "duration": 26,
    "start_time": "2022-03-12T04:10:06.914Z"
   },
   {
    "duration": 6,
    "start_time": "2022-03-12T04:10:07.750Z"
   },
   {
    "duration": 8,
    "start_time": "2022-03-12T04:10:08.206Z"
   },
   {
    "duration": 5,
    "start_time": "2022-03-12T04:10:10.443Z"
   },
   {
    "duration": 12,
    "start_time": "2022-03-12T04:10:12.041Z"
   },
   {
    "duration": 20,
    "start_time": "2022-03-12T04:10:13.652Z"
   },
   {
    "duration": 8,
    "start_time": "2022-03-12T04:10:16.753Z"
   },
   {
    "duration": 38,
    "start_time": "2022-03-12T04:10:20.251Z"
   },
   {
    "duration": 24,
    "start_time": "2022-03-12T04:10:33.229Z"
   },
   {
    "duration": 8,
    "start_time": "2022-03-12T04:10:41.980Z"
   },
   {
    "duration": 304,
    "start_time": "2022-03-12T04:10:44.759Z"
   },
   {
    "duration": 128,
    "start_time": "2022-03-12T04:10:46.052Z"
   },
   {
    "duration": 325,
    "start_time": "2022-03-12T04:10:47.247Z"
   },
   {
    "duration": 8,
    "start_time": "2022-03-12T04:10:49.629Z"
   },
   {
    "duration": 300,
    "start_time": "2022-03-12T04:10:50.123Z"
   },
   {
    "duration": 8,
    "start_time": "2022-03-12T04:10:51.186Z"
   },
   {
    "duration": 118,
    "start_time": "2022-03-12T04:10:51.696Z"
   },
   {
    "duration": 305,
    "start_time": "2022-03-12T04:10:52.878Z"
   },
   {
    "duration": 8,
    "start_time": "2022-03-12T04:10:55.439Z"
   },
   {
    "duration": 7,
    "start_time": "2022-03-12T04:10:55.983Z"
   },
   {
    "duration": 300,
    "start_time": "2022-03-12T04:10:56.388Z"
   },
   {
    "duration": 117,
    "start_time": "2022-03-12T04:10:57.528Z"
   },
   {
    "duration": 166,
    "start_time": "2022-03-12T04:10:58.847Z"
   },
   {
    "duration": 9,
    "start_time": "2022-03-12T04:11:00.845Z"
   },
   {
    "duration": 9,
    "start_time": "2022-03-12T04:11:01.443Z"
   },
   {
    "duration": 434,
    "start_time": "2022-03-12T04:11:02.388Z"
   },
   {
    "duration": 124,
    "start_time": "2022-03-12T04:11:06.759Z"
   },
   {
    "duration": 260,
    "start_time": "2022-03-12T04:11:08.145Z"
   },
   {
    "duration": 319,
    "start_time": "2022-03-12T04:11:11.777Z"
   },
   {
    "duration": 125,
    "start_time": "2022-03-12T04:11:14.853Z"
   },
   {
    "duration": 12,
    "start_time": "2022-03-12T04:11:22.386Z"
   },
   {
    "duration": 37,
    "start_time": "2022-03-12T04:11:29.511Z"
   },
   {
    "duration": 30,
    "start_time": "2022-03-12T04:11:37.447Z"
   },
   {
    "duration": 1314,
    "start_time": "2022-03-12T04:11:55.261Z"
   },
   {
    "duration": 18,
    "start_time": "2022-03-12T04:12:02.151Z"
   },
   {
    "duration": 756,
    "start_time": "2022-03-12T04:12:05.903Z"
   },
   {
    "duration": 13,
    "start_time": "2022-03-12T04:12:10.153Z"
   },
   {
    "duration": 35,
    "start_time": "2022-03-12T04:12:36.355Z"
   },
   {
    "duration": 3,
    "start_time": "2022-03-12T04:14:44.515Z"
   },
   {
    "duration": 5,
    "start_time": "2022-03-12T04:15:14.000Z"
   },
   {
    "duration": 54,
    "start_time": "2022-03-12T04:15:14.055Z"
   },
   {
    "duration": 6,
    "start_time": "2022-03-12T04:15:14.111Z"
   },
   {
    "duration": 73,
    "start_time": "2022-03-12T04:15:14.147Z"
   },
   {
    "duration": 9,
    "start_time": "2022-03-12T04:15:14.222Z"
   },
   {
    "duration": 8,
    "start_time": "2022-03-12T04:15:14.368Z"
   },
   {
    "duration": 6,
    "start_time": "2022-03-12T04:15:14.444Z"
   },
   {
    "duration": 5,
    "start_time": "2022-03-12T04:15:14.494Z"
   },
   {
    "duration": 5,
    "start_time": "2022-03-12T04:15:14.524Z"
   },
   {
    "duration": 11,
    "start_time": "2022-03-12T04:15:14.589Z"
   },
   {
    "duration": 13,
    "start_time": "2022-03-12T04:15:14.640Z"
   },
   {
    "duration": 7,
    "start_time": "2022-03-12T04:15:14.707Z"
   },
   {
    "duration": 17,
    "start_time": "2022-03-12T04:15:14.738Z"
   },
   {
    "duration": 5,
    "start_time": "2022-03-12T04:15:14.811Z"
   },
   {
    "duration": 7,
    "start_time": "2022-03-12T04:15:14.861Z"
   },
   {
    "duration": 14,
    "start_time": "2022-03-12T04:15:14.916Z"
   },
   {
    "duration": 12,
    "start_time": "2022-03-12T04:15:14.981Z"
   },
   {
    "duration": 12,
    "start_time": "2022-03-12T04:15:15.041Z"
   },
   {
    "duration": 7,
    "start_time": "2022-03-12T04:15:15.670Z"
   },
   {
    "duration": 16,
    "start_time": "2022-03-12T04:15:16.875Z"
   },
   {
    "duration": 8,
    "start_time": "2022-03-12T04:15:16.937Z"
   },
   {
    "duration": 8,
    "start_time": "2022-03-12T04:15:17.001Z"
   },
   {
    "duration": 4,
    "start_time": "2022-03-12T04:15:17.029Z"
   },
   {
    "duration": 8,
    "start_time": "2022-03-12T04:15:17.058Z"
   },
   {
    "duration": 11,
    "start_time": "2022-03-12T04:15:17.119Z"
   },
   {
    "duration": 25,
    "start_time": "2022-03-12T04:15:17.184Z"
   },
   {
    "duration": 6,
    "start_time": "2022-03-12T04:15:17.238Z"
   },
   {
    "duration": 8,
    "start_time": "2022-03-12T04:15:17.280Z"
   },
   {
    "duration": 5,
    "start_time": "2022-03-12T04:15:17.400Z"
   },
   {
    "duration": 12,
    "start_time": "2022-03-12T04:15:17.459Z"
   },
   {
    "duration": 21,
    "start_time": "2022-03-12T04:15:17.503Z"
   },
   {
    "duration": 8,
    "start_time": "2022-03-12T04:15:17.554Z"
   },
   {
    "duration": 40,
    "start_time": "2022-03-12T04:15:17.611Z"
   },
   {
    "duration": 24,
    "start_time": "2022-03-12T04:15:17.679Z"
   },
   {
    "duration": 8,
    "start_time": "2022-03-12T04:15:17.798Z"
   },
   {
    "duration": 282,
    "start_time": "2022-03-12T04:15:17.827Z"
   },
   {
    "duration": 139,
    "start_time": "2022-03-12T04:15:18.111Z"
   },
   {
    "duration": 343,
    "start_time": "2022-03-12T04:15:18.251Z"
   },
   {
    "duration": 8,
    "start_time": "2022-03-12T04:15:18.595Z"
   },
   {
    "duration": 335,
    "start_time": "2022-03-12T04:15:18.604Z"
   },
   {
    "duration": 7,
    "start_time": "2022-03-12T04:15:18.941Z"
   },
   {
    "duration": 144,
    "start_time": "2022-03-12T04:15:18.949Z"
   },
   {
    "duration": 321,
    "start_time": "2022-03-12T04:15:19.095Z"
   },
   {
    "duration": 7,
    "start_time": "2022-03-12T04:15:19.418Z"
   },
   {
    "duration": 7,
    "start_time": "2022-03-12T04:15:19.427Z"
   },
   {
    "duration": 337,
    "start_time": "2022-03-12T04:15:19.436Z"
   },
   {
    "duration": 134,
    "start_time": "2022-03-12T04:15:19.774Z"
   },
   {
    "duration": 192,
    "start_time": "2022-03-12T04:15:19.910Z"
   },
   {
    "duration": 7,
    "start_time": "2022-03-12T04:15:20.104Z"
   },
   {
    "duration": 9,
    "start_time": "2022-03-12T04:15:20.113Z"
   },
   {
    "duration": 460,
    "start_time": "2022-03-12T04:15:20.124Z"
   },
   {
    "duration": 132,
    "start_time": "2022-03-12T04:15:20.586Z"
   },
   {
    "duration": 281,
    "start_time": "2022-03-12T04:15:20.719Z"
   },
   {
    "duration": 317,
    "start_time": "2022-03-12T04:15:21.455Z"
   },
   {
    "duration": 128,
    "start_time": "2022-03-12T04:15:21.774Z"
   },
   {
    "duration": 12,
    "start_time": "2022-03-12T04:15:22.126Z"
   },
   {
    "duration": 36,
    "start_time": "2022-03-12T04:15:22.764Z"
   },
   {
    "duration": 1314,
    "start_time": "2022-03-12T04:15:23.891Z"
   },
   {
    "duration": 17,
    "start_time": "2022-03-12T04:15:33.763Z"
   },
   {
    "duration": 27,
    "start_time": "2022-03-12T04:16:27.017Z"
   },
   {
    "duration": 208,
    "start_time": "2022-03-12T04:19:46.080Z"
   },
   {
    "duration": 762,
    "start_time": "2022-03-12T04:21:39.838Z"
   },
   {
    "duration": 252,
    "start_time": "2022-03-12T04:23:25.770Z"
   },
   {
    "duration": 437,
    "start_time": "2022-03-12T04:23:35.078Z"
   },
   {
    "duration": 260,
    "start_time": "2022-03-12T04:24:03.262Z"
   },
   {
    "duration": 253,
    "start_time": "2022-03-12T04:24:23.092Z"
   },
   {
    "duration": 14,
    "start_time": "2022-03-12T04:28:12.517Z"
   },
   {
    "duration": 19,
    "start_time": "2022-03-12T04:28:36.683Z"
   },
   {
    "duration": 21,
    "start_time": "2022-03-12T04:28:44.224Z"
   },
   {
    "duration": 20,
    "start_time": "2022-03-12T04:29:06.251Z"
   },
   {
    "duration": 187,
    "start_time": "2022-03-12T04:29:28.746Z"
   },
   {
    "duration": 3,
    "start_time": "2022-03-12T04:29:35.690Z"
   },
   {
    "duration": 54,
    "start_time": "2022-03-12T04:29:36.212Z"
   },
   {
    "duration": 8,
    "start_time": "2022-03-12T04:29:36.268Z"
   },
   {
    "duration": 71,
    "start_time": "2022-03-12T04:29:36.310Z"
   },
   {
    "duration": 13,
    "start_time": "2022-03-12T04:29:36.384Z"
   },
   {
    "duration": 10,
    "start_time": "2022-03-12T04:29:36.550Z"
   },
   {
    "duration": 8,
    "start_time": "2022-03-12T04:29:36.607Z"
   },
   {
    "duration": 6,
    "start_time": "2022-03-12T04:29:36.672Z"
   },
   {
    "duration": 5,
    "start_time": "2022-03-12T04:29:36.702Z"
   },
   {
    "duration": 11,
    "start_time": "2022-03-12T04:29:36.770Z"
   },
   {
    "duration": 14,
    "start_time": "2022-03-12T04:29:36.816Z"
   },
   {
    "duration": 8,
    "start_time": "2022-03-12T04:29:36.892Z"
   },
   {
    "duration": 17,
    "start_time": "2022-03-12T04:29:36.921Z"
   },
   {
    "duration": 5,
    "start_time": "2022-03-12T04:29:36.987Z"
   },
   {
    "duration": 9,
    "start_time": "2022-03-12T04:29:37.037Z"
   },
   {
    "duration": 14,
    "start_time": "2022-03-12T04:29:37.103Z"
   },
   {
    "duration": 13,
    "start_time": "2022-03-12T04:29:37.158Z"
   },
   {
    "duration": 13,
    "start_time": "2022-03-12T04:29:37.224Z"
   },
   {
    "duration": 8,
    "start_time": "2022-03-12T04:29:37.308Z"
   },
   {
    "duration": 16,
    "start_time": "2022-03-12T04:29:37.377Z"
   },
   {
    "duration": 10,
    "start_time": "2022-03-12T04:29:37.441Z"
   },
   {
    "duration": 10,
    "start_time": "2022-03-12T04:29:37.494Z"
   },
   {
    "duration": 5,
    "start_time": "2022-03-12T04:29:37.536Z"
   },
   {
    "duration": 9,
    "start_time": "2022-03-12T04:29:37.565Z"
   },
   {
    "duration": 10,
    "start_time": "2022-03-12T04:29:37.615Z"
   },
   {
    "duration": 26,
    "start_time": "2022-03-12T04:29:37.680Z"
   },
   {
    "duration": 6,
    "start_time": "2022-03-12T04:29:37.740Z"
   },
   {
    "duration": 6,
    "start_time": "2022-03-12T04:29:37.769Z"
   },
   {
    "duration": 4,
    "start_time": "2022-03-12T04:29:37.905Z"
   },
   {
    "duration": 11,
    "start_time": "2022-03-12T04:29:37.969Z"
   },
   {
    "duration": 20,
    "start_time": "2022-03-12T04:29:37.997Z"
   },
   {
    "duration": 7,
    "start_time": "2022-03-12T04:29:38.073Z"
   },
   {
    "duration": 39,
    "start_time": "2022-03-12T04:29:38.123Z"
   },
   {
    "duration": 24,
    "start_time": "2022-03-12T04:29:38.192Z"
   },
   {
    "duration": 8,
    "start_time": "2022-03-12T04:29:38.324Z"
   },
   {
    "duration": 292,
    "start_time": "2022-03-12T04:29:38.353Z"
   },
   {
    "duration": 140,
    "start_time": "2022-03-12T04:29:38.646Z"
   },
   {
    "duration": 331,
    "start_time": "2022-03-12T04:29:38.788Z"
   },
   {
    "duration": 8,
    "start_time": "2022-03-12T04:29:39.121Z"
   },
   {
    "duration": 342,
    "start_time": "2022-03-12T04:29:39.131Z"
   },
   {
    "duration": 7,
    "start_time": "2022-03-12T04:29:40.462Z"
   },
   {
    "duration": 117,
    "start_time": "2022-03-12T04:29:40.669Z"
   },
   {
    "duration": 317,
    "start_time": "2022-03-12T04:29:41.168Z"
   },
   {
    "duration": 9,
    "start_time": "2022-03-12T04:29:41.901Z"
   },
   {
    "duration": 9,
    "start_time": "2022-03-12T04:29:42.096Z"
   },
   {
    "duration": 341,
    "start_time": "2022-03-12T04:29:42.328Z"
   },
   {
    "duration": 136,
    "start_time": "2022-03-12T04:29:42.712Z"
   },
   {
    "duration": 171,
    "start_time": "2022-03-12T04:29:43.101Z"
   },
   {
    "duration": 8,
    "start_time": "2022-03-12T04:29:43.603Z"
   },
   {
    "duration": 8,
    "start_time": "2022-03-12T04:29:43.793Z"
   },
   {
    "duration": 457,
    "start_time": "2022-03-12T04:29:43.988Z"
   },
   {
    "duration": 132,
    "start_time": "2022-03-12T04:29:44.447Z"
   },
   {
    "duration": 267,
    "start_time": "2022-03-12T04:29:44.754Z"
   },
   {
    "duration": 314,
    "start_time": "2022-03-12T04:29:45.789Z"
   },
   {
    "duration": 138,
    "start_time": "2022-03-12T04:29:46.108Z"
   },
   {
    "duration": 13,
    "start_time": "2022-03-12T04:29:47.013Z"
   },
   {
    "duration": 36,
    "start_time": "2022-03-12T04:29:47.358Z"
   },
   {
    "duration": 1339,
    "start_time": "2022-03-12T04:29:48.880Z"
   },
   {
    "duration": 16,
    "start_time": "2022-03-12T04:29:50.220Z"
   },
   {
    "duration": 3,
    "start_time": "2022-03-12T04:29:52.095Z"
   },
   {
    "duration": 195,
    "start_time": "2022-03-12T04:29:54.880Z"
   },
   {
    "duration": 211,
    "start_time": "2022-03-12T04:30:42.858Z"
   },
   {
    "duration": 152,
    "start_time": "2022-03-12T04:30:53.621Z"
   },
   {
    "duration": 193,
    "start_time": "2022-03-12T04:31:23.882Z"
   },
   {
    "duration": 1059,
    "start_time": "2022-03-12T04:32:24.346Z"
   },
   {
    "duration": 16017,
    "start_time": "2022-03-12T04:33:45.046Z"
   },
   {
    "duration": 1107,
    "start_time": "2022-03-12T04:34:27.428Z"
   },
   {
    "duration": 5213,
    "start_time": "2022-03-12T04:34:48.538Z"
   },
   {
    "duration": 1051,
    "start_time": "2022-03-12T04:36:51.926Z"
   },
   {
    "duration": 1227,
    "start_time": "2022-03-12T04:37:20.884Z"
   },
   {
    "duration": 1049,
    "start_time": "2022-03-12T04:37:49.067Z"
   },
   {
    "duration": 1020,
    "start_time": "2022-03-12T04:38:54.889Z"
   },
   {
    "duration": 1037,
    "start_time": "2022-03-12T04:39:13.763Z"
   },
   {
    "duration": 20,
    "start_time": "2022-03-12T04:39:38.407Z"
   },
   {
    "duration": 145,
    "start_time": "2022-03-12T04:40:23.491Z"
   },
   {
    "duration": 16,
    "start_time": "2022-03-12T04:46:20.306Z"
   },
   {
    "duration": 465,
    "start_time": "2022-03-12T04:51:40.099Z"
   },
   {
    "duration": 482,
    "start_time": "2022-03-12T04:53:42.207Z"
   },
   {
    "duration": 13,
    "start_time": "2022-03-12T04:57:34.052Z"
   },
   {
    "duration": 13,
    "start_time": "2022-03-12T04:58:11.181Z"
   },
   {
    "duration": 17,
    "start_time": "2022-03-12T04:59:12.256Z"
   },
   {
    "duration": 21,
    "start_time": "2022-03-12T05:00:26.959Z"
   },
   {
    "duration": 19,
    "start_time": "2022-03-12T05:02:17.249Z"
   },
   {
    "duration": 196,
    "start_time": "2022-03-12T05:02:42.151Z"
   },
   {
    "duration": 19,
    "start_time": "2022-03-12T05:02:54.034Z"
   },
   {
    "duration": 28,
    "start_time": "2022-03-12T05:04:57.828Z"
   },
   {
    "duration": 28,
    "start_time": "2022-03-12T05:05:04.111Z"
   },
   {
    "duration": 1060,
    "start_time": "2022-03-12T05:05:57.983Z"
   },
   {
    "duration": 11,
    "start_time": "2022-03-12T05:06:33.788Z"
   },
   {
    "duration": 320,
    "start_time": "2022-03-12T05:06:48.513Z"
   },
   {
    "duration": 765,
    "start_time": "2022-03-12T05:10:36.578Z"
   },
   {
    "duration": 719,
    "start_time": "2022-03-12T05:10:46.083Z"
   },
   {
    "duration": 734,
    "start_time": "2022-03-12T05:11:10.928Z"
   },
   {
    "duration": 288,
    "start_time": "2022-03-12T05:12:01.756Z"
   },
   {
    "duration": 269,
    "start_time": "2022-03-12T05:12:35.675Z"
   },
   {
    "duration": 281,
    "start_time": "2022-03-12T05:12:54.927Z"
   },
   {
    "duration": 281,
    "start_time": "2022-03-12T05:13:47.594Z"
   },
   {
    "duration": 7,
    "start_time": "2022-03-12T05:17:36.463Z"
   },
   {
    "duration": 233,
    "start_time": "2022-03-12T05:17:49.808Z"
   },
   {
    "duration": 7,
    "start_time": "2022-03-12T05:19:11.801Z"
   },
   {
    "duration": 373,
    "start_time": "2022-03-12T05:19:12.652Z"
   },
   {
    "duration": 221,
    "start_time": "2022-03-12T05:19:38.231Z"
   },
   {
    "duration": 223,
    "start_time": "2022-03-12T05:19:40.627Z"
   },
   {
    "duration": 237,
    "start_time": "2022-03-12T05:19:41.187Z"
   },
   {
    "duration": 229,
    "start_time": "2022-03-12T05:19:42.066Z"
   },
   {
    "duration": 271,
    "start_time": "2022-03-12T05:20:58.051Z"
   },
   {
    "duration": 8,
    "start_time": "2022-03-12T05:24:59.697Z"
   },
   {
    "duration": 682,
    "start_time": "2022-03-12T05:28:40.988Z"
   },
   {
    "duration": 736,
    "start_time": "2022-03-12T05:28:46.546Z"
   },
   {
    "duration": 680,
    "start_time": "2022-03-12T05:28:56.812Z"
   },
   {
    "duration": 735,
    "start_time": "2022-03-12T05:28:59.602Z"
   },
   {
    "duration": 783,
    "start_time": "2022-03-12T05:29:05.027Z"
   },
   {
    "duration": 626,
    "start_time": "2022-03-12T05:29:29.167Z"
   },
   {
    "duration": 183,
    "start_time": "2022-03-12T05:29:40.393Z"
   },
   {
    "duration": 4072,
    "start_time": "2022-03-12T05:30:19.699Z"
   },
   {
    "duration": 195,
    "start_time": "2022-03-12T05:30:32.242Z"
   },
   {
    "duration": 783,
    "start_time": "2022-03-12T05:30:44.434Z"
   },
   {
    "duration": 1829,
    "start_time": "2022-03-12T05:31:37.649Z"
   },
   {
    "duration": 897,
    "start_time": "2022-03-12T05:32:38.351Z"
   },
   {
    "duration": 646,
    "start_time": "2022-03-12T05:32:45.537Z"
   },
   {
    "duration": 1288,
    "start_time": "2022-03-12T05:52:35.480Z"
   },
   {
    "duration": 265,
    "start_time": "2022-03-12T05:58:39.386Z"
   },
   {
    "duration": 243,
    "start_time": "2022-03-12T05:59:13.947Z"
   },
   {
    "duration": 192,
    "start_time": "2022-03-12T05:59:37.955Z"
   },
   {
    "duration": 15,
    "start_time": "2022-03-12T05:59:45.113Z"
   },
   {
    "duration": 131,
    "start_time": "2022-03-21T08:09:29.080Z"
   },
   {
    "duration": 421,
    "start_time": "2022-03-21T08:10:12.899Z"
   },
   {
    "duration": 68,
    "start_time": "2022-03-21T08:10:13.322Z"
   },
   {
    "duration": 13,
    "start_time": "2022-03-21T08:10:13.392Z"
   },
   {
    "duration": 109,
    "start_time": "2022-03-21T08:10:13.406Z"
   },
   {
    "duration": 23,
    "start_time": "2022-03-21T08:10:13.518Z"
   },
   {
    "duration": 8,
    "start_time": "2022-03-21T08:10:13.542Z"
   },
   {
    "duration": 6,
    "start_time": "2022-03-21T08:10:13.552Z"
   },
   {
    "duration": 6,
    "start_time": "2022-03-21T08:10:13.559Z"
   },
   {
    "duration": 4,
    "start_time": "2022-03-21T08:10:13.567Z"
   },
   {
    "duration": 9,
    "start_time": "2022-03-21T08:10:13.573Z"
   },
   {
    "duration": 50,
    "start_time": "2022-03-21T08:10:13.584Z"
   },
   {
    "duration": 7,
    "start_time": "2022-03-21T08:10:13.635Z"
   },
   {
    "duration": 17,
    "start_time": "2022-03-21T08:10:13.644Z"
   },
   {
    "duration": 6,
    "start_time": "2022-03-21T08:10:13.665Z"
   },
   {
    "duration": 14,
    "start_time": "2022-03-21T08:10:13.673Z"
   },
   {
    "duration": 47,
    "start_time": "2022-03-21T08:10:13.689Z"
   },
   {
    "duration": 15,
    "start_time": "2022-03-21T08:10:13.737Z"
   },
   {
    "duration": 14,
    "start_time": "2022-03-21T08:10:13.754Z"
   },
   {
    "duration": 8,
    "start_time": "2022-03-21T08:10:13.770Z"
   },
   {
    "duration": 18,
    "start_time": "2022-03-21T08:10:13.780Z"
   },
   {
    "duration": 11,
    "start_time": "2022-03-21T08:10:13.834Z"
   },
   {
    "duration": 10,
    "start_time": "2022-03-21T08:10:13.847Z"
   },
   {
    "duration": 5,
    "start_time": "2022-03-21T08:10:13.859Z"
   },
   {
    "duration": 11,
    "start_time": "2022-03-21T08:10:13.865Z"
   },
   {
    "duration": 17,
    "start_time": "2022-03-21T08:10:13.878Z"
   },
   {
    "duration": 54,
    "start_time": "2022-03-21T08:10:13.896Z"
   },
   {
    "duration": 6,
    "start_time": "2022-03-21T08:10:13.952Z"
   },
   {
    "duration": 10,
    "start_time": "2022-03-21T08:10:13.960Z"
   },
   {
    "duration": 4,
    "start_time": "2022-03-21T08:10:13.972Z"
   },
   {
    "duration": 17,
    "start_time": "2022-03-21T08:10:13.978Z"
   },
   {
    "duration": 51,
    "start_time": "2022-03-21T08:10:13.996Z"
   },
   {
    "duration": 6,
    "start_time": "2022-03-21T08:10:14.049Z"
   },
   {
    "duration": 38,
    "start_time": "2022-03-21T08:10:14.056Z"
   },
   {
    "duration": 54,
    "start_time": "2022-03-21T08:10:14.095Z"
   },
   {
    "duration": 7,
    "start_time": "2022-03-21T08:10:14.150Z"
   },
   {
    "duration": 485,
    "start_time": "2022-03-21T08:10:14.159Z"
   },
   {
    "duration": 134,
    "start_time": "2022-03-21T08:10:14.646Z"
   },
   {
    "duration": 433,
    "start_time": "2022-03-21T08:10:14.782Z"
   },
   {
    "duration": 18,
    "start_time": "2022-03-21T08:10:15.217Z"
   },
   {
    "duration": 366,
    "start_time": "2022-03-21T08:10:15.237Z"
   },
   {
    "duration": 8,
    "start_time": "2022-03-21T08:10:15.609Z"
   },
   {
    "duration": 179,
    "start_time": "2022-03-21T08:10:15.619Z"
   },
   {
    "duration": 352,
    "start_time": "2022-03-21T08:10:15.800Z"
   },
   {
    "duration": 9,
    "start_time": "2022-03-21T08:10:16.154Z"
   },
   {
    "duration": 7,
    "start_time": "2022-03-21T08:10:16.165Z"
   },
   {
    "duration": 375,
    "start_time": "2022-03-21T08:10:16.174Z"
   },
   {
    "duration": 175,
    "start_time": "2022-03-21T08:10:16.551Z"
   },
   {
    "duration": 207,
    "start_time": "2022-03-21T08:10:16.728Z"
   },
   {
    "duration": 9,
    "start_time": "2022-03-21T08:10:16.937Z"
   },
   {
    "duration": 9,
    "start_time": "2022-03-21T08:10:16.948Z"
   },
   {
    "duration": 412,
    "start_time": "2022-03-21T08:10:16.959Z"
   },
   {
    "duration": 126,
    "start_time": "2022-03-21T08:10:17.373Z"
   },
   {
    "duration": 203,
    "start_time": "2022-03-21T08:10:17.501Z"
   },
   {
    "duration": 250,
    "start_time": "2022-03-21T08:10:17.705Z"
   },
   {
    "duration": 129,
    "start_time": "2022-03-21T08:10:17.956Z"
   },
   {
    "duration": 17,
    "start_time": "2022-03-21T08:10:18.088Z"
   },
   {
    "duration": 55,
    "start_time": "2022-03-21T08:10:18.106Z"
   },
   {
    "duration": 1171,
    "start_time": "2022-03-21T08:10:18.163Z"
   },
   {
    "duration": 19,
    "start_time": "2022-03-21T08:10:19.336Z"
   },
   {
    "duration": 142,
    "start_time": "2022-03-21T08:10:19.357Z"
   },
   {
    "duration": 419,
    "start_time": "2022-03-21T08:10:19.501Z"
   },
   {
    "duration": 18,
    "start_time": "2022-03-21T08:10:19.922Z"
   },
   {
    "duration": 26,
    "start_time": "2022-03-21T08:10:19.942Z"
   },
   {
    "duration": 10,
    "start_time": "2022-03-21T08:10:19.969Z"
   },
   {
    "duration": 265,
    "start_time": "2022-03-21T08:10:19.981Z"
   },
   {
    "duration": 8,
    "start_time": "2022-03-21T08:10:20.248Z"
   },
   {
    "duration": 190,
    "start_time": "2022-03-21T08:10:20.257Z"
   },
   {
    "duration": 174,
    "start_time": "2022-03-21T08:10:20.449Z"
   },
   {
    "duration": 245,
    "start_time": "2022-03-21T08:10:20.624Z"
   },
   {
    "duration": 448,
    "start_time": "2022-03-21T08:10:20.871Z"
   },
   {
    "duration": 582,
    "start_time": "2022-03-21T08:10:21.321Z"
   },
   {
    "duration": 28,
    "start_time": "2022-03-21T08:10:21.905Z"
   },
   {
    "duration": 7,
    "start_time": "2022-03-21T08:14:56.818Z"
   },
   {
    "duration": 3,
    "start_time": "2022-03-21T08:19:18.401Z"
   },
   {
    "duration": 23,
    "start_time": "2022-03-21T08:47:08.506Z"
   },
   {
    "duration": 8,
    "start_time": "2022-03-21T09:07:39.253Z"
   },
   {
    "duration": 68,
    "start_time": "2022-03-21T09:08:26.091Z"
   },
   {
    "duration": 29,
    "start_time": "2022-03-21T09:08:59.596Z"
   },
   {
    "duration": 47,
    "start_time": "2022-03-21T10:18:40.753Z"
   },
   {
    "duration": 429,
    "start_time": "2022-03-21T10:24:55.983Z"
   },
   {
    "duration": 88,
    "start_time": "2022-03-21T10:24:56.414Z"
   },
   {
    "duration": 15,
    "start_time": "2022-03-21T10:24:56.652Z"
   },
   {
    "duration": 109,
    "start_time": "2022-03-21T10:24:57.932Z"
   },
   {
    "duration": 16,
    "start_time": "2022-03-21T10:24:59.043Z"
   },
   {
    "duration": 12,
    "start_time": "2022-03-21T10:25:01.854Z"
   },
   {
    "duration": 8,
    "start_time": "2022-03-21T10:25:02.439Z"
   },
   {
    "duration": 5,
    "start_time": "2022-03-21T10:25:03.026Z"
   },
   {
    "duration": 5,
    "start_time": "2022-03-21T10:25:03.362Z"
   },
   {
    "duration": 10,
    "start_time": "2022-03-21T10:25:05.181Z"
   },
   {
    "duration": 17,
    "start_time": "2022-03-21T10:25:06.195Z"
   },
   {
    "duration": 7,
    "start_time": "2022-03-21T10:25:07.422Z"
   },
   {
    "duration": 16,
    "start_time": "2022-03-21T10:25:08.093Z"
   },
   {
    "duration": 4,
    "start_time": "2022-03-21T10:25:09.213Z"
   },
   {
    "duration": 7,
    "start_time": "2022-03-21T10:25:10.176Z"
   },
   {
    "duration": 13,
    "start_time": "2022-03-21T10:25:11.365Z"
   },
   {
    "duration": 6,
    "start_time": "2022-03-21T10:25:22.023Z"
   },
   {
    "duration": 15,
    "start_time": "2022-03-21T10:25:23.402Z"
   },
   {
    "duration": 10,
    "start_time": "2022-03-21T10:25:24.371Z"
   },
   {
    "duration": 9,
    "start_time": "2022-03-21T10:25:30.202Z"
   },
   {
    "duration": 14,
    "start_time": "2022-03-21T10:25:31.347Z"
   },
   {
    "duration": 28,
    "start_time": "2022-03-21T10:25:32.484Z"
   },
   {
    "duration": 6,
    "start_time": "2022-03-21T10:25:38.894Z"
   },
   {
    "duration": 9,
    "start_time": "2022-03-21T10:25:42.458Z"
   },
   {
    "duration": 5,
    "start_time": "2022-03-21T10:25:47.075Z"
   },
   {
    "duration": 13,
    "start_time": "2022-03-21T10:25:48.091Z"
   },
   {
    "duration": 22,
    "start_time": "2022-03-21T10:25:48.600Z"
   },
   {
    "duration": 6,
    "start_time": "2022-03-21T10:25:51.503Z"
   },
   {
    "duration": 35,
    "start_time": "2022-03-21T10:25:56.530Z"
   },
   {
    "duration": 25,
    "start_time": "2022-03-21T10:26:01.109Z"
   },
   {
    "duration": 423,
    "start_time": "2022-03-21T10:30:52.590Z"
   },
   {
    "duration": 86,
    "start_time": "2022-03-21T10:30:53.124Z"
   },
   {
    "duration": 7,
    "start_time": "2022-03-21T10:30:54.610Z"
   },
   {
    "duration": 91,
    "start_time": "2022-03-21T10:30:58.778Z"
   },
   {
    "duration": 15,
    "start_time": "2022-03-21T10:31:00.774Z"
   },
   {
    "duration": 9,
    "start_time": "2022-03-21T10:31:17.874Z"
   },
   {
    "duration": 6,
    "start_time": "2022-03-21T10:31:23.328Z"
   },
   {
    "duration": 5,
    "start_time": "2022-03-21T10:31:34.802Z"
   },
   {
    "duration": 5,
    "start_time": "2022-03-21T10:31:35.544Z"
   },
   {
    "duration": 9,
    "start_time": "2022-03-21T10:31:47.759Z"
   },
   {
    "duration": 12,
    "start_time": "2022-03-21T10:31:52.657Z"
   },
   {
    "duration": 7,
    "start_time": "2022-03-21T10:31:55.935Z"
   },
   {
    "duration": 17,
    "start_time": "2022-03-21T10:31:57.453Z"
   },
   {
    "duration": 4,
    "start_time": "2022-03-21T10:32:01.636Z"
   },
   {
    "duration": 8,
    "start_time": "2022-03-21T10:32:04.294Z"
   },
   {
    "duration": 20,
    "start_time": "2022-03-21T10:32:06.598Z"
   },
   {
    "duration": 7,
    "start_time": "2022-03-21T10:32:22.553Z"
   },
   {
    "duration": 15,
    "start_time": "2022-03-21T10:32:38.174Z"
   },
   {
    "duration": 8,
    "start_time": "2022-03-21T10:32:53.785Z"
   },
   {
    "duration": 8,
    "start_time": "2022-03-21T10:33:15.835Z"
   },
   {
    "duration": 14,
    "start_time": "2022-03-21T10:33:19.578Z"
   },
   {
    "duration": 30,
    "start_time": "2022-03-21T10:33:27.836Z"
   },
   {
    "duration": 6,
    "start_time": "2022-03-21T10:33:36.659Z"
   },
   {
    "duration": 8,
    "start_time": "2022-03-21T10:33:37.673Z"
   },
   {
    "duration": 4,
    "start_time": "2022-03-21T10:33:56.414Z"
   },
   {
    "duration": 11,
    "start_time": "2022-03-21T10:33:59.158Z"
   },
   {
    "duration": 22,
    "start_time": "2022-03-21T10:33:59.937Z"
   },
   {
    "duration": 7,
    "start_time": "2022-03-21T10:34:06.159Z"
   },
   {
    "duration": 36,
    "start_time": "2022-03-21T10:34:12.345Z"
   },
   {
    "duration": 25,
    "start_time": "2022-03-21T10:34:16.624Z"
   },
   {
    "duration": 234,
    "start_time": "2022-03-21T10:40:40.568Z"
   },
   {
    "duration": 9,
    "start_time": "2022-03-21T10:40:42.802Z"
   },
   {
    "duration": 290,
    "start_time": "2022-03-21T10:40:43.583Z"
   },
   {
    "duration": 8,
    "start_time": "2022-03-21T10:40:44.985Z"
   },
   {
    "duration": 105,
    "start_time": "2022-03-21T10:40:45.535Z"
   },
   {
    "duration": 230,
    "start_time": "2022-03-21T10:40:50.856Z"
   },
   {
    "duration": 8,
    "start_time": "2022-03-21T10:40:53.137Z"
   },
   {
    "duration": 6,
    "start_time": "2022-03-21T10:40:54.026Z"
   },
   {
    "duration": 230,
    "start_time": "2022-03-21T10:40:57.238Z"
   },
   {
    "duration": 110,
    "start_time": "2022-03-21T10:40:59.639Z"
   },
   {
    "duration": 136,
    "start_time": "2022-03-21T10:41:01.415Z"
   },
   {
    "duration": 8,
    "start_time": "2022-03-21T10:41:03.658Z"
   },
   {
    "duration": 7,
    "start_time": "2022-03-21T10:41:13.047Z"
   },
   {
    "duration": 352,
    "start_time": "2022-03-21T10:41:14.554Z"
   },
   {
    "duration": 363,
    "start_time": "2022-03-21T10:42:02.840Z"
   },
   {
    "duration": 3,
    "start_time": "2022-03-21T10:43:02.847Z"
   },
   {
    "duration": 73,
    "start_time": "2022-03-21T10:43:03.059Z"
   },
   {
    "duration": 6,
    "start_time": "2022-03-21T10:43:03.271Z"
   },
   {
    "duration": 88,
    "start_time": "2022-03-21T10:43:03.667Z"
   },
   {
    "duration": 15,
    "start_time": "2022-03-21T10:43:04.046Z"
   },
   {
    "duration": 9,
    "start_time": "2022-03-21T10:43:05.218Z"
   },
   {
    "duration": 6,
    "start_time": "2022-03-21T10:43:05.278Z"
   },
   {
    "duration": 5,
    "start_time": "2022-03-21T10:43:05.353Z"
   },
   {
    "duration": 5,
    "start_time": "2022-03-21T10:43:05.387Z"
   },
   {
    "duration": 10,
    "start_time": "2022-03-21T10:43:05.509Z"
   },
   {
    "duration": 12,
    "start_time": "2022-03-21T10:43:05.567Z"
   },
   {
    "duration": 7,
    "start_time": "2022-03-21T10:43:05.630Z"
   },
   {
    "duration": 16,
    "start_time": "2022-03-21T10:43:05.663Z"
   },
   {
    "duration": 4,
    "start_time": "2022-03-21T10:43:05.723Z"
   },
   {
    "duration": 7,
    "start_time": "2022-03-21T10:43:05.790Z"
   },
   {
    "duration": 13,
    "start_time": "2022-03-21T10:43:05.845Z"
   },
   {
    "duration": 7,
    "start_time": "2022-03-21T10:43:06.061Z"
   },
   {
    "duration": 14,
    "start_time": "2022-03-21T10:43:06.140Z"
   },
   {
    "duration": 8,
    "start_time": "2022-03-21T10:43:06.213Z"
   },
   {
    "duration": 9,
    "start_time": "2022-03-21T10:43:06.330Z"
   },
   {
    "duration": 13,
    "start_time": "2022-03-21T10:43:06.389Z"
   },
   {
    "duration": 28,
    "start_time": "2022-03-21T10:43:06.451Z"
   },
   {
    "duration": 8,
    "start_time": "2022-03-21T10:43:06.570Z"
   },
   {
    "duration": 7,
    "start_time": "2022-03-21T10:43:06.604Z"
   },
   {
    "duration": 5,
    "start_time": "2022-03-21T10:43:06.725Z"
   },
   {
    "duration": 12,
    "start_time": "2022-03-21T10:43:06.785Z"
   },
   {
    "duration": 25,
    "start_time": "2022-03-21T10:43:06.820Z"
   },
   {
    "duration": 7,
    "start_time": "2022-03-21T10:43:06.881Z"
   },
   {
    "duration": 36,
    "start_time": "2022-03-21T10:43:06.944Z"
   },
   {
    "duration": 25,
    "start_time": "2022-03-21T10:43:08.140Z"
   },
   {
    "duration": 8,
    "start_time": "2022-03-21T10:43:11.418Z"
   },
   {
    "duration": 205,
    "start_time": "2022-03-21T10:43:12.198Z"
   },
   {
    "duration": 120,
    "start_time": "2022-03-21T10:43:14.974Z"
   },
   {
    "duration": 241,
    "start_time": "2022-03-21T10:43:16.363Z"
   },
   {
    "duration": 8,
    "start_time": "2022-03-21T10:43:18.540Z"
   },
   {
    "duration": 232,
    "start_time": "2022-03-21T10:43:19.264Z"
   },
   {
    "duration": 8,
    "start_time": "2022-03-21T10:43:20.377Z"
   },
   {
    "duration": 111,
    "start_time": "2022-03-21T10:43:21.377Z"
   },
   {
    "duration": 314,
    "start_time": "2022-03-21T10:43:23.246Z"
   },
   {
    "duration": 7,
    "start_time": "2022-03-21T10:43:24.528Z"
   },
   {
    "duration": 6,
    "start_time": "2022-03-21T10:43:24.941Z"
   },
   {
    "duration": 223,
    "start_time": "2022-03-21T10:43:25.424Z"
   },
   {
    "duration": 123,
    "start_time": "2022-03-21T10:43:27.101Z"
   },
   {
    "duration": 127,
    "start_time": "2022-03-21T10:43:28.642Z"
   },
   {
    "duration": 8,
    "start_time": "2022-03-21T10:43:30.815Z"
   },
   {
    "duration": 7,
    "start_time": "2022-03-21T10:43:32.021Z"
   },
   {
    "duration": 11,
    "start_time": "2022-03-21T10:43:59.054Z"
   },
   {
    "duration": 12,
    "start_time": "2022-03-21T10:44:07.814Z"
   },
   {
    "duration": 295,
    "start_time": "2022-03-21T10:44:11.680Z"
   },
   {
    "duration": 389,
    "start_time": "2022-03-21T10:44:29.358Z"
   },
   {
    "duration": 104,
    "start_time": "2022-03-21T10:44:41.327Z"
   },
   {
    "duration": 198,
    "start_time": "2022-03-21T10:45:07.213Z"
   },
   {
    "duration": 184,
    "start_time": "2022-03-21T10:45:13.333Z"
   },
   {
    "duration": 184,
    "start_time": "2022-03-21T10:46:38.470Z"
   },
   {
    "duration": 192,
    "start_time": "2022-03-21T10:47:03.261Z"
   },
   {
    "duration": 322,
    "start_time": "2022-03-21T10:47:16.855Z"
   },
   {
    "duration": 554,
    "start_time": "2022-03-21T10:47:35.337Z"
   },
   {
    "duration": 112,
    "start_time": "2022-03-21T10:47:40.763Z"
   },
   {
    "duration": 15,
    "start_time": "2022-03-21T10:53:45.182Z"
   },
   {
    "duration": 39,
    "start_time": "2022-03-21T10:53:50.670Z"
   },
   {
    "duration": 2,
    "start_time": "2022-03-21T10:54:37.738Z"
   },
   {
    "duration": 72,
    "start_time": "2022-03-21T10:54:38.018Z"
   },
   {
    "duration": 7,
    "start_time": "2022-03-21T10:54:38.228Z"
   },
   {
    "duration": 96,
    "start_time": "2022-03-21T10:54:38.626Z"
   },
   {
    "duration": 15,
    "start_time": "2022-03-21T10:54:39.107Z"
   },
   {
    "duration": 8,
    "start_time": "2022-03-21T10:54:40.539Z"
   },
   {
    "duration": 7,
    "start_time": "2022-03-21T10:54:40.945Z"
   },
   {
    "duration": 5,
    "start_time": "2022-03-21T10:54:41.318Z"
   },
   {
    "duration": 5,
    "start_time": "2022-03-21T10:54:41.518Z"
   },
   {
    "duration": 11,
    "start_time": "2022-03-21T10:54:42.295Z"
   },
   {
    "duration": 15,
    "start_time": "2022-03-21T10:54:42.667Z"
   },
   {
    "duration": 7,
    "start_time": "2022-03-21T10:54:43.063Z"
   },
   {
    "duration": 17,
    "start_time": "2022-03-21T10:54:43.253Z"
   },
   {
    "duration": 5,
    "start_time": "2022-03-21T10:54:43.625Z"
   },
   {
    "duration": 8,
    "start_time": "2022-03-21T10:54:44.029Z"
   },
   {
    "duration": 14,
    "start_time": "2022-03-21T10:54:44.438Z"
   },
   {
    "duration": 7,
    "start_time": "2022-03-21T10:54:46.592Z"
   },
   {
    "duration": 15,
    "start_time": "2022-03-21T10:54:47.147Z"
   },
   {
    "duration": 9,
    "start_time": "2022-03-21T10:54:47.550Z"
   },
   {
    "duration": 9,
    "start_time": "2022-03-21T10:54:48.585Z"
   },
   {
    "duration": 14,
    "start_time": "2022-03-21T10:54:49.214Z"
   },
   {
    "duration": 28,
    "start_time": "2022-03-21T10:54:50.420Z"
   },
   {
    "duration": 6,
    "start_time": "2022-03-21T10:54:51.192Z"
   },
   {
    "duration": 7,
    "start_time": "2022-03-21T10:54:51.419Z"
   },
   {
    "duration": 5,
    "start_time": "2022-03-21T10:54:52.151Z"
   },
   {
    "duration": 12,
    "start_time": "2022-03-21T10:54:52.759Z"
   },
   {
    "duration": 22,
    "start_time": "2022-03-21T10:54:53.127Z"
   },
   {
    "duration": 6,
    "start_time": "2022-03-21T10:54:53.761Z"
   },
   {
    "duration": 37,
    "start_time": "2022-03-21T10:54:54.437Z"
   },
   {
    "duration": 26,
    "start_time": "2022-03-21T10:54:56.033Z"
   },
   {
    "duration": 16,
    "start_time": "2022-03-21T10:54:57.345Z"
   },
   {
    "duration": 8,
    "start_time": "2022-03-21T10:55:14.906Z"
   },
   {
    "duration": 196,
    "start_time": "2022-03-21T10:55:15.028Z"
   },
   {
    "duration": 113,
    "start_time": "2022-03-21T10:55:15.656Z"
   },
   {
    "duration": 218,
    "start_time": "2022-03-21T10:55:16.573Z"
   },
   {
    "duration": 9,
    "start_time": "2022-03-21T10:55:17.991Z"
   },
   {
    "duration": 227,
    "start_time": "2022-03-21T10:55:18.224Z"
   },
   {
    "duration": 7,
    "start_time": "2022-03-21T10:55:18.733Z"
   },
   {
    "duration": 108,
    "start_time": "2022-03-21T10:55:19.005Z"
   },
   {
    "duration": 219,
    "start_time": "2022-03-21T10:55:20.327Z"
   },
   {
    "duration": 7,
    "start_time": "2022-03-21T10:55:47.557Z"
   },
   {
    "duration": 6,
    "start_time": "2022-03-21T10:55:47.757Z"
   },
   {
    "duration": 226,
    "start_time": "2022-03-21T10:55:47.969Z"
   },
   {
    "duration": 105,
    "start_time": "2022-03-21T10:55:48.388Z"
   },
   {
    "duration": 127,
    "start_time": "2022-03-21T10:55:48.760Z"
   },
   {
    "duration": 8,
    "start_time": "2022-03-21T10:55:49.357Z"
   },
   {
    "duration": 12,
    "start_time": "2022-03-21T10:55:49.574Z"
   },
   {
    "duration": 449,
    "start_time": "2022-03-21T10:55:49.757Z"
   },
   {
    "duration": 116,
    "start_time": "2022-03-21T10:55:50.207Z"
   },
   {
    "duration": 185,
    "start_time": "2022-03-21T10:55:50.573Z"
   },
   {
    "duration": 213,
    "start_time": "2022-03-21T10:55:51.693Z"
   },
   {
    "duration": 119,
    "start_time": "2022-03-21T10:55:51.907Z"
   },
   {
    "duration": 16,
    "start_time": "2022-03-21T10:56:00.004Z"
   },
   {
    "duration": 39,
    "start_time": "2022-03-21T10:56:01.962Z"
   },
   {
    "duration": 10,
    "start_time": "2022-03-21T10:57:41.770Z"
   },
   {
    "duration": 37,
    "start_time": "2022-03-21T10:57:43.005Z"
   },
   {
    "duration": 3,
    "start_time": "2022-03-21T10:58:04.610Z"
   },
   {
    "duration": 85,
    "start_time": "2022-03-21T10:58:04.906Z"
   },
   {
    "duration": 7,
    "start_time": "2022-03-21T10:58:05.281Z"
   },
   {
    "duration": 122,
    "start_time": "2022-03-21T10:58:05.926Z"
   },
   {
    "duration": 19,
    "start_time": "2022-03-21T10:58:06.602Z"
   },
   {
    "duration": 8,
    "start_time": "2022-03-21T10:58:08.915Z"
   },
   {
    "duration": 6,
    "start_time": "2022-03-21T10:58:09.000Z"
   },
   {
    "duration": 5,
    "start_time": "2022-03-21T10:58:09.060Z"
   },
   {
    "duration": 5,
    "start_time": "2022-03-21T10:58:09.095Z"
   },
   {
    "duration": 11,
    "start_time": "2022-03-21T10:58:09.224Z"
   },
   {
    "duration": 12,
    "start_time": "2022-03-21T10:58:09.286Z"
   },
   {
    "duration": 7,
    "start_time": "2022-03-21T10:58:09.345Z"
   },
   {
    "duration": 15,
    "start_time": "2022-03-21T10:58:09.379Z"
   },
   {
    "duration": 4,
    "start_time": "2022-03-21T10:58:09.439Z"
   },
   {
    "duration": 7,
    "start_time": "2022-03-21T10:58:09.503Z"
   },
   {
    "duration": 13,
    "start_time": "2022-03-21T10:58:09.560Z"
   },
   {
    "duration": 7,
    "start_time": "2022-03-21T10:58:09.775Z"
   },
   {
    "duration": 18,
    "start_time": "2022-03-21T10:58:11.387Z"
   },
   {
    "duration": 9,
    "start_time": "2022-03-21T10:58:12.035Z"
   },
   {
    "duration": 10,
    "start_time": "2022-03-21T10:58:14.263Z"
   },
   {
    "duration": 16,
    "start_time": "2022-03-21T10:58:15.504Z"
   },
   {
    "duration": 28,
    "start_time": "2022-03-21T10:58:17.094Z"
   },
   {
    "duration": 7,
    "start_time": "2022-03-21T10:58:19.085Z"
   },
   {
    "duration": 7,
    "start_time": "2022-03-21T10:58:19.575Z"
   },
   {
    "duration": 5,
    "start_time": "2022-03-21T10:58:21.527Z"
   },
   {
    "duration": 15,
    "start_time": "2022-03-21T10:58:22.457Z"
   },
   {
    "duration": 30,
    "start_time": "2022-03-21T10:58:22.923Z"
   },
   {
    "duration": 7,
    "start_time": "2022-03-21T10:58:23.863Z"
   },
   {
    "duration": 38,
    "start_time": "2022-03-21T10:58:26.176Z"
   },
   {
    "duration": 27,
    "start_time": "2022-03-21T10:58:27.210Z"
   },
   {
    "duration": 18,
    "start_time": "2022-03-21T10:58:28.066Z"
   },
   {
    "duration": 9,
    "start_time": "2022-03-21T10:58:30.230Z"
   },
   {
    "duration": 224,
    "start_time": "2022-03-21T10:58:30.738Z"
   },
   {
    "duration": 119,
    "start_time": "2022-03-21T10:58:31.447Z"
   },
   {
    "duration": 233,
    "start_time": "2022-03-21T10:58:33.119Z"
   },
   {
    "duration": 9,
    "start_time": "2022-03-21T10:58:34.492Z"
   },
   {
    "duration": 240,
    "start_time": "2022-03-21T10:58:34.982Z"
   },
   {
    "duration": 10,
    "start_time": "2022-03-21T10:58:36.035Z"
   },
   {
    "duration": 172,
    "start_time": "2022-03-21T10:58:36.849Z"
   },
   {
    "duration": 411,
    "start_time": "2022-03-21T10:58:38.870Z"
   },
   {
    "duration": 7,
    "start_time": "2022-03-21T10:58:40.257Z"
   },
   {
    "duration": 6,
    "start_time": "2022-03-21T10:58:40.575Z"
   },
   {
    "duration": 226,
    "start_time": "2022-03-21T10:58:40.999Z"
   },
   {
    "duration": 107,
    "start_time": "2022-03-21T10:58:42.022Z"
   },
   {
    "duration": 127,
    "start_time": "2022-03-21T10:58:43.970Z"
   },
   {
    "duration": 7,
    "start_time": "2022-03-21T10:58:45.256Z"
   },
   {
    "duration": 12,
    "start_time": "2022-03-21T10:58:46.199Z"
   },
   {
    "duration": 292,
    "start_time": "2022-03-21T10:58:46.878Z"
   },
   {
    "duration": 105,
    "start_time": "2022-03-21T10:58:48.416Z"
   },
   {
    "duration": 201,
    "start_time": "2022-03-21T10:58:50.327Z"
   },
   {
    "duration": 212,
    "start_time": "2022-03-21T10:58:56.278Z"
   },
   {
    "duration": 112,
    "start_time": "2022-03-21T10:59:00.431Z"
   },
   {
    "duration": 15,
    "start_time": "2022-03-21T10:59:11.474Z"
   },
   {
    "duration": 42,
    "start_time": "2022-03-21T10:59:13.341Z"
   },
   {
    "duration": 8,
    "start_time": "2022-03-21T11:00:37.051Z"
   },
   {
    "duration": 40,
    "start_time": "2022-03-21T11:00:38.626Z"
   },
   {
    "duration": 3,
    "start_time": "2022-03-21T11:02:20.436Z"
   },
   {
    "duration": 74,
    "start_time": "2022-03-21T11:02:20.738Z"
   },
   {
    "duration": 8,
    "start_time": "2022-03-21T11:02:21.041Z"
   },
   {
    "duration": 109,
    "start_time": "2022-03-21T11:02:21.848Z"
   },
   {
    "duration": 23,
    "start_time": "2022-03-21T11:02:24.247Z"
   },
   {
    "duration": 14,
    "start_time": "2022-03-21T11:02:28.581Z"
   },
   {
    "duration": 6,
    "start_time": "2022-03-21T11:02:29.791Z"
   },
   {
    "duration": 6,
    "start_time": "2022-03-21T11:02:30.731Z"
   },
   {
    "duration": 5,
    "start_time": "2022-03-21T11:02:31.191Z"
   },
   {
    "duration": 2,
    "start_time": "2022-03-21T11:06:41.619Z"
   },
   {
    "duration": 69,
    "start_time": "2022-03-21T11:06:42.074Z"
   },
   {
    "duration": 8,
    "start_time": "2022-03-21T11:06:42.505Z"
   },
   {
    "duration": 98,
    "start_time": "2022-03-21T11:06:44.337Z"
   },
   {
    "duration": 15,
    "start_time": "2022-03-21T11:06:45.951Z"
   },
   {
    "duration": 8,
    "start_time": "2022-03-21T11:08:26.780Z"
   },
   {
    "duration": 6,
    "start_time": "2022-03-21T11:08:27.956Z"
   },
   {
    "duration": 5,
    "start_time": "2022-03-21T11:08:28.961Z"
   },
   {
    "duration": 5,
    "start_time": "2022-03-21T11:08:29.471Z"
   },
   {
    "duration": 12,
    "start_time": "2022-03-21T11:08:32.026Z"
   },
   {
    "duration": 13,
    "start_time": "2022-03-21T11:08:37.949Z"
   },
   {
    "duration": 7,
    "start_time": "2022-03-21T11:08:39.522Z"
   },
   {
    "duration": 16,
    "start_time": "2022-03-21T11:08:40.890Z"
   },
   {
    "duration": 6,
    "start_time": "2022-03-21T11:08:49.426Z"
   },
   {
    "duration": 8,
    "start_time": "2022-03-21T11:08:56.457Z"
   },
   {
    "duration": 15,
    "start_time": "2022-03-21T11:09:02.156Z"
   },
   {
    "duration": 6,
    "start_time": "2022-03-21T11:09:48.869Z"
   },
   {
    "duration": 14,
    "start_time": "2022-03-21T11:10:07.083Z"
   },
   {
    "duration": 8,
    "start_time": "2022-03-21T11:10:08.797Z"
   },
   {
    "duration": 8,
    "start_time": "2022-03-21T11:10:19.398Z"
   },
   {
    "duration": 15,
    "start_time": "2022-03-21T11:10:22.548Z"
   },
   {
    "duration": 29,
    "start_time": "2022-03-21T11:10:36.810Z"
   },
   {
    "duration": 6,
    "start_time": "2022-03-21T11:10:59.543Z"
   },
   {
    "duration": 7,
    "start_time": "2022-03-21T11:11:01.977Z"
   },
   {
    "duration": 4,
    "start_time": "2022-03-21T11:11:05.487Z"
   },
   {
    "duration": 12,
    "start_time": "2022-03-21T11:11:07.913Z"
   },
   {
    "duration": 23,
    "start_time": "2022-03-21T11:11:08.675Z"
   },
   {
    "duration": 7,
    "start_time": "2022-03-21T11:11:22.666Z"
   },
   {
    "duration": 42,
    "start_time": "2022-03-21T11:11:25.213Z"
   },
   {
    "duration": 25,
    "start_time": "2022-03-21T11:11:33.712Z"
   },
   {
    "duration": 17,
    "start_time": "2022-03-21T11:11:38.367Z"
   },
   {
    "duration": 8,
    "start_time": "2022-03-21T11:12:03.019Z"
   },
   {
    "duration": 7,
    "start_time": "2022-03-21T11:15:27.626Z"
   },
   {
    "duration": 6,
    "start_time": "2022-03-21T11:15:29.943Z"
   },
   {
    "duration": 237,
    "start_time": "2022-03-21T11:15:30.602Z"
   },
   {
    "duration": 116,
    "start_time": "2022-03-21T11:15:38.180Z"
   },
   {
    "duration": 124,
    "start_time": "2022-03-21T11:15:39.233Z"
   },
   {
    "duration": 7,
    "start_time": "2022-03-21T11:15:43.567Z"
   },
   {
    "duration": 11,
    "start_time": "2022-03-21T11:15:44.054Z"
   },
   {
    "duration": 506,
    "start_time": "2022-03-21T11:15:44.531Z"
   },
   {
    "duration": 104,
    "start_time": "2022-03-21T11:15:48.349Z"
   },
   {
    "duration": 188,
    "start_time": "2022-03-21T11:15:57.023Z"
   },
   {
    "duration": 221,
    "start_time": "2022-03-21T11:16:02.229Z"
   },
   {
    "duration": 110,
    "start_time": "2022-03-21T11:16:02.677Z"
   },
   {
    "duration": 16,
    "start_time": "2022-03-21T11:17:06.566Z"
   },
   {
    "duration": 40,
    "start_time": "2022-03-21T11:17:07.551Z"
   },
   {
    "duration": 9,
    "start_time": "2022-03-21T11:20:37.982Z"
   },
   {
    "duration": 40,
    "start_time": "2022-03-21T11:20:39.428Z"
   },
   {
    "duration": 10,
    "start_time": "2022-03-21T11:20:44.832Z"
   },
   {
    "duration": 41,
    "start_time": "2022-03-21T11:20:46.304Z"
   },
   {
    "duration": 11,
    "start_time": "2022-03-21T11:20:53.312Z"
   },
   {
    "duration": 38,
    "start_time": "2022-03-21T11:20:54.238Z"
   },
   {
    "duration": 3,
    "start_time": "2022-03-21T11:20:59.961Z"
   },
   {
    "duration": 74,
    "start_time": "2022-03-21T11:21:00.141Z"
   },
   {
    "duration": 7,
    "start_time": "2022-03-21T11:21:00.295Z"
   },
   {
    "duration": 91,
    "start_time": "2022-03-21T11:21:00.834Z"
   },
   {
    "duration": 13,
    "start_time": "2022-03-21T11:21:00.927Z"
   },
   {
    "duration": 9,
    "start_time": "2022-03-21T11:21:01.127Z"
   },
   {
    "duration": 6,
    "start_time": "2022-03-21T11:21:01.186Z"
   },
   {
    "duration": 5,
    "start_time": "2022-03-21T11:21:01.245Z"
   },
   {
    "duration": 6,
    "start_time": "2022-03-21T11:21:01.279Z"
   },
   {
    "duration": 10,
    "start_time": "2022-03-21T11:21:01.403Z"
   },
   {
    "duration": 12,
    "start_time": "2022-03-21T11:21:01.461Z"
   },
   {
    "duration": 8,
    "start_time": "2022-03-21T11:21:01.524Z"
   },
   {
    "duration": 16,
    "start_time": "2022-03-21T11:21:01.559Z"
   },
   {
    "duration": 4,
    "start_time": "2022-03-21T11:21:01.619Z"
   },
   {
    "duration": 8,
    "start_time": "2022-03-21T11:21:01.680Z"
   },
   {
    "duration": 13,
    "start_time": "2022-03-21T11:21:01.744Z"
   },
   {
    "duration": 7,
    "start_time": "2022-03-21T11:21:02.622Z"
   },
   {
    "duration": 13,
    "start_time": "2022-03-21T11:21:03.212Z"
   },
   {
    "duration": 8,
    "start_time": "2022-03-21T11:21:03.581Z"
   },
   {
    "duration": 8,
    "start_time": "2022-03-21T11:21:04.309Z"
   },
   {
    "duration": 17,
    "start_time": "2022-03-21T11:21:04.681Z"
   },
   {
    "duration": 29,
    "start_time": "2022-03-21T11:21:05.051Z"
   },
   {
    "duration": 6,
    "start_time": "2022-03-21T11:21:05.816Z"
   },
   {
    "duration": 8,
    "start_time": "2022-03-21T11:21:06.021Z"
   },
   {
    "duration": 4,
    "start_time": "2022-03-21T11:21:06.786Z"
   },
   {
    "duration": 13,
    "start_time": "2022-03-21T11:21:07.154Z"
   },
   {
    "duration": 23,
    "start_time": "2022-03-21T11:21:07.349Z"
   },
   {
    "duration": 6,
    "start_time": "2022-03-21T11:21:07.718Z"
   },
   {
    "duration": 35,
    "start_time": "2022-03-21T11:21:08.083Z"
   },
   {
    "duration": 24,
    "start_time": "2022-03-21T11:21:08.460Z"
   },
   {
    "duration": 14,
    "start_time": "2022-03-21T11:21:08.853Z"
   },
   {
    "duration": 7,
    "start_time": "2022-03-21T11:21:09.659Z"
   },
   {
    "duration": 201,
    "start_time": "2022-03-21T11:21:09.942Z"
   },
   {
    "duration": 120,
    "start_time": "2022-03-21T11:21:12.591Z"
   },
   {
    "duration": 219,
    "start_time": "2022-03-21T11:21:15.501Z"
   },
   {
    "duration": 8,
    "start_time": "2022-03-21T11:21:17.716Z"
   },
   {
    "duration": 229,
    "start_time": "2022-03-21T11:21:18.398Z"
   },
   {
    "duration": 7,
    "start_time": "2022-03-21T11:21:19.967Z"
   },
   {
    "duration": 113,
    "start_time": "2022-03-21T11:21:21.399Z"
   },
   {
    "duration": 218,
    "start_time": "2022-03-21T11:21:23.971Z"
   },
   {
    "duration": 7,
    "start_time": "2022-03-21T11:21:25.658Z"
   },
   {
    "duration": 6,
    "start_time": "2022-03-21T11:21:26.186Z"
   },
   {
    "duration": 225,
    "start_time": "2022-03-21T11:21:26.853Z"
   },
   {
    "duration": 109,
    "start_time": "2022-03-21T11:21:29.956Z"
   },
   {
    "duration": 130,
    "start_time": "2022-03-21T11:21:31.288Z"
   },
   {
    "duration": 7,
    "start_time": "2022-03-21T11:21:33.709Z"
   },
   {
    "duration": 12,
    "start_time": "2022-03-21T11:21:34.357Z"
   },
   {
    "duration": 567,
    "start_time": "2022-03-21T11:21:35.210Z"
   },
   {
    "duration": 111,
    "start_time": "2022-03-21T11:21:36.733Z"
   },
   {
    "duration": 182,
    "start_time": "2022-03-21T11:21:38.409Z"
   },
   {
    "duration": 211,
    "start_time": "2022-03-21T11:21:41.427Z"
   },
   {
    "duration": 110,
    "start_time": "2022-03-21T11:21:42.025Z"
   },
   {
    "duration": 18,
    "start_time": "2022-03-21T11:21:51.445Z"
   },
   {
    "duration": 39,
    "start_time": "2022-03-21T11:21:52.567Z"
   },
   {
    "duration": 12,
    "start_time": "2022-03-21T11:21:59.845Z"
   },
   {
    "duration": 38,
    "start_time": "2022-03-21T11:22:00.941Z"
   },
   {
    "duration": 10,
    "start_time": "2022-03-21T11:22:11.193Z"
   },
   {
    "duration": 40,
    "start_time": "2022-03-21T11:22:12.170Z"
   },
   {
    "duration": 12,
    "start_time": "2022-03-21T11:22:33.346Z"
   },
   {
    "duration": 39,
    "start_time": "2022-03-21T11:22:34.791Z"
   },
   {
    "duration": 11,
    "start_time": "2022-03-21T11:22:51.912Z"
   },
   {
    "duration": 41,
    "start_time": "2022-03-21T11:22:52.699Z"
   },
   {
    "duration": 11,
    "start_time": "2022-03-21T11:23:02.469Z"
   },
   {
    "duration": 39,
    "start_time": "2022-03-21T11:23:03.331Z"
   },
   {
    "duration": 11,
    "start_time": "2022-03-21T11:23:13.173Z"
   },
   {
    "duration": 40,
    "start_time": "2022-03-21T11:23:14.787Z"
   },
   {
    "duration": 10,
    "start_time": "2022-03-21T11:23:26.739Z"
   },
   {
    "duration": 41,
    "start_time": "2022-03-21T11:23:27.493Z"
   },
   {
    "duration": 3,
    "start_time": "2022-03-21T11:24:19.935Z"
   },
   {
    "duration": 74,
    "start_time": "2022-03-21T11:24:20.151Z"
   },
   {
    "duration": 11,
    "start_time": "2022-03-21T11:24:20.363Z"
   },
   {
    "duration": 95,
    "start_time": "2022-03-21T11:24:21.010Z"
   },
   {
    "duration": 15,
    "start_time": "2022-03-21T11:24:21.367Z"
   },
   {
    "duration": 8,
    "start_time": "2022-03-21T11:24:23.041Z"
   },
   {
    "duration": 6,
    "start_time": "2022-03-21T11:24:23.444Z"
   },
   {
    "duration": 5,
    "start_time": "2022-03-21T11:24:24.114Z"
   },
   {
    "duration": 5,
    "start_time": "2022-03-21T11:24:24.306Z"
   },
   {
    "duration": 11,
    "start_time": "2022-03-21T11:24:25.062Z"
   },
   {
    "duration": 13,
    "start_time": "2022-03-21T11:24:25.438Z"
   },
   {
    "duration": 9,
    "start_time": "2022-03-21T11:24:25.816Z"
   },
   {
    "duration": 19,
    "start_time": "2022-03-21T11:24:26.026Z"
   },
   {
    "duration": 6,
    "start_time": "2022-03-21T11:24:26.401Z"
   },
   {
    "duration": 7,
    "start_time": "2022-03-21T11:24:26.802Z"
   },
   {
    "duration": 14,
    "start_time": "2022-03-21T11:24:27.190Z"
   },
   {
    "duration": 8,
    "start_time": "2022-03-21T11:24:28.753Z"
   },
   {
    "duration": 17,
    "start_time": "2022-03-21T11:24:29.602Z"
   },
   {
    "duration": 10,
    "start_time": "2022-03-21T11:24:30.029Z"
   },
   {
    "duration": 10,
    "start_time": "2022-03-21T11:24:30.882Z"
   },
   {
    "duration": 14,
    "start_time": "2022-03-21T11:24:31.336Z"
   },
   {
    "duration": 26,
    "start_time": "2022-03-21T11:24:31.755Z"
   },
   {
    "duration": 8,
    "start_time": "2022-03-21T11:24:32.603Z"
   },
   {
    "duration": 7,
    "start_time": "2022-03-21T11:24:32.848Z"
   },
   {
    "duration": 4,
    "start_time": "2022-03-21T11:24:34.274Z"
   },
   {
    "duration": 13,
    "start_time": "2022-03-21T11:24:34.638Z"
   },
   {
    "duration": 23,
    "start_time": "2022-03-21T11:24:34.821Z"
   },
   {
    "duration": 6,
    "start_time": "2022-03-21T11:24:35.197Z"
   },
   {
    "duration": 37,
    "start_time": "2022-03-21T11:24:35.887Z"
   },
   {
    "duration": 25,
    "start_time": "2022-03-21T11:24:36.490Z"
   },
   {
    "duration": 17,
    "start_time": "2022-03-21T11:24:37.129Z"
   },
   {
    "duration": 8,
    "start_time": "2022-03-21T11:25:43.162Z"
   },
   {
    "duration": 203,
    "start_time": "2022-03-21T11:25:43.719Z"
   },
   {
    "duration": 116,
    "start_time": "2022-03-21T11:25:45.369Z"
   },
   {
    "duration": 221,
    "start_time": "2022-03-21T11:26:00.056Z"
   },
   {
    "duration": 15,
    "start_time": "2022-03-21T11:26:02.149Z"
   },
   {
    "duration": 7,
    "start_time": "2022-03-21T11:26:04.466Z"
   },
   {
    "duration": 19,
    "start_time": "2022-03-21T11:26:15.078Z"
   },
   {
    "duration": 221,
    "start_time": "2022-03-21T11:28:16.575Z"
   },
   {
    "duration": 8,
    "start_time": "2022-03-21T11:28:17.713Z"
   },
   {
    "duration": 104,
    "start_time": "2022-03-21T11:28:18.851Z"
   },
   {
    "duration": 226,
    "start_time": "2022-03-21T11:28:24.002Z"
   },
   {
    "duration": 216,
    "start_time": "2022-03-21T11:29:08.255Z"
   },
   {
    "duration": 230,
    "start_time": "2022-03-21T11:29:20.405Z"
   },
   {
    "duration": 20,
    "start_time": "2022-03-21T11:29:26.486Z"
   },
   {
    "duration": 8,
    "start_time": "2022-03-21T11:30:23.381Z"
   },
   {
    "duration": 7,
    "start_time": "2022-03-21T11:30:25.817Z"
   },
   {
    "duration": 226,
    "start_time": "2022-03-21T11:30:28.200Z"
   },
   {
    "duration": 103,
    "start_time": "2022-03-21T11:30:31.336Z"
   },
   {
    "duration": 19,
    "start_time": "2022-03-21T11:34:04.135Z"
   },
   {
    "duration": 17,
    "start_time": "2022-03-21T11:34:16.017Z"
   },
   {
    "duration": 17,
    "start_time": "2022-03-21T11:34:37.353Z"
   },
   {
    "duration": 3,
    "start_time": "2022-03-21T11:34:47.718Z"
   },
   {
    "duration": 72,
    "start_time": "2022-03-21T11:34:47.755Z"
   },
   {
    "duration": 7,
    "start_time": "2022-03-21T11:34:47.829Z"
   },
   {
    "duration": 95,
    "start_time": "2022-03-21T11:34:47.853Z"
   },
   {
    "duration": 14,
    "start_time": "2022-03-21T11:34:47.950Z"
   },
   {
    "duration": 8,
    "start_time": "2022-03-21T11:34:48.123Z"
   },
   {
    "duration": 6,
    "start_time": "2022-03-21T11:34:48.179Z"
   },
   {
    "duration": 6,
    "start_time": "2022-03-21T11:34:48.240Z"
   },
   {
    "duration": 4,
    "start_time": "2022-03-21T11:34:48.279Z"
   },
   {
    "duration": 12,
    "start_time": "2022-03-21T11:34:49.844Z"
   },
   {
    "duration": 12,
    "start_time": "2022-03-21T11:34:49.923Z"
   },
   {
    "duration": 8,
    "start_time": "2022-03-21T11:34:49.997Z"
   },
   {
    "duration": 18,
    "start_time": "2022-03-21T11:34:50.029Z"
   },
   {
    "duration": 5,
    "start_time": "2022-03-21T11:34:50.080Z"
   },
   {
    "duration": 8,
    "start_time": "2022-03-21T11:34:50.144Z"
   },
   {
    "duration": 17,
    "start_time": "2022-03-21T11:34:50.210Z"
   },
   {
    "duration": 6,
    "start_time": "2022-03-21T11:34:50.415Z"
   },
   {
    "duration": 13,
    "start_time": "2022-03-21T11:34:50.519Z"
   },
   {
    "duration": 8,
    "start_time": "2022-03-21T11:34:50.580Z"
   },
   {
    "duration": 8,
    "start_time": "2022-03-21T11:34:50.698Z"
   },
   {
    "duration": 13,
    "start_time": "2022-03-21T11:34:50.759Z"
   },
   {
    "duration": 28,
    "start_time": "2022-03-21T11:34:50.827Z"
   },
   {
    "duration": 6,
    "start_time": "2022-03-21T11:34:50.933Z"
   },
   {
    "duration": 7,
    "start_time": "2022-03-21T11:34:50.973Z"
   },
   {
    "duration": 5,
    "start_time": "2022-03-21T11:34:51.098Z"
   },
   {
    "duration": 12,
    "start_time": "2022-03-21T11:34:51.161Z"
   },
   {
    "duration": 20,
    "start_time": "2022-03-21T11:34:51.208Z"
   },
   {
    "duration": 6,
    "start_time": "2022-03-21T11:34:51.260Z"
   },
   {
    "duration": 38,
    "start_time": "2022-03-21T11:34:52.804Z"
   },
   {
    "duration": 25,
    "start_time": "2022-03-21T11:34:53.186Z"
   },
   {
    "duration": 14,
    "start_time": "2022-03-21T11:34:53.563Z"
   },
   {
    "duration": 8,
    "start_time": "2022-03-21T11:34:54.707Z"
   },
   {
    "duration": 461,
    "start_time": "2022-03-21T11:34:54.984Z"
   },
   {
    "duration": 113,
    "start_time": "2022-03-21T11:34:55.453Z"
   },
   {
    "duration": 216,
    "start_time": "2022-03-21T11:34:56.506Z"
   },
   {
    "duration": 25,
    "start_time": "2022-03-21T11:34:56.965Z"
   },
   {
    "duration": 7,
    "start_time": "2022-03-21T11:34:57.565Z"
   },
   {
    "duration": 228,
    "start_time": "2022-03-21T11:34:57.744Z"
   },
   {
    "duration": 7,
    "start_time": "2022-03-21T11:34:58.763Z"
   },
   {
    "duration": 101,
    "start_time": "2022-03-21T11:34:59.193Z"
   },
   {
    "duration": 225,
    "start_time": "2022-03-21T11:35:01.102Z"
   },
   {
    "duration": 17,
    "start_time": "2022-03-21T11:35:01.976Z"
   },
   {
    "duration": 7,
    "start_time": "2022-03-21T11:35:03.469Z"
   },
   {
    "duration": 6,
    "start_time": "2022-03-21T11:35:04.615Z"
   },
   {
    "duration": 224,
    "start_time": "2022-03-21T11:35:05.053Z"
   },
   {
    "duration": 98,
    "start_time": "2022-03-21T11:35:07.688Z"
   },
   {
    "duration": 123,
    "start_time": "2022-03-21T11:35:08.748Z"
   },
   {
    "duration": 18,
    "start_time": "2022-03-21T11:35:10.681Z"
   },
   {
    "duration": 13,
    "start_time": "2022-03-21T11:37:57.493Z"
   },
   {
    "duration": 7,
    "start_time": "2022-03-21T11:37:58.906Z"
   },
   {
    "duration": 184,
    "start_time": "2022-03-21T11:37:59.479Z"
   },
   {
    "duration": 3,
    "start_time": "2022-03-21T11:38:12.035Z"
   },
   {
    "duration": 75,
    "start_time": "2022-03-21T11:38:12.071Z"
   },
   {
    "duration": 7,
    "start_time": "2022-03-21T11:38:12.147Z"
   },
   {
    "duration": 96,
    "start_time": "2022-03-21T11:38:12.173Z"
   },
   {
    "duration": 15,
    "start_time": "2022-03-21T11:38:12.271Z"
   },
   {
    "duration": 9,
    "start_time": "2022-03-21T11:38:12.454Z"
   },
   {
    "duration": 7,
    "start_time": "2022-03-21T11:38:12.626Z"
   },
   {
    "duration": 6,
    "start_time": "2022-03-21T11:38:13.028Z"
   },
   {
    "duration": 4,
    "start_time": "2022-03-21T11:38:13.219Z"
   },
   {
    "duration": 11,
    "start_time": "2022-03-21T11:38:13.937Z"
   },
   {
    "duration": 14,
    "start_time": "2022-03-21T11:38:14.328Z"
   },
   {
    "duration": 6,
    "start_time": "2022-03-21T11:38:14.704Z"
   },
   {
    "duration": 16,
    "start_time": "2022-03-21T11:38:14.896Z"
   },
   {
    "duration": 4,
    "start_time": "2022-03-21T11:38:15.276Z"
   },
   {
    "duration": 7,
    "start_time": "2022-03-21T11:38:15.662Z"
   },
   {
    "duration": 14,
    "start_time": "2022-03-21T11:38:16.055Z"
   },
   {
    "duration": 6,
    "start_time": "2022-03-21T11:38:17.616Z"
   },
   {
    "duration": 15,
    "start_time": "2022-03-21T11:38:18.264Z"
   },
   {
    "duration": 8,
    "start_time": "2022-03-21T11:38:18.721Z"
   },
   {
    "duration": 9,
    "start_time": "2022-03-21T11:38:19.961Z"
   },
   {
    "duration": 13,
    "start_time": "2022-03-21T11:38:20.715Z"
   },
   {
    "duration": 27,
    "start_time": "2022-03-21T11:38:21.100Z"
   },
   {
    "duration": 7,
    "start_time": "2022-03-21T11:38:21.873Z"
   },
   {
    "duration": 7,
    "start_time": "2022-03-21T11:38:22.050Z"
   },
   {
    "duration": 5,
    "start_time": "2022-03-21T11:38:22.832Z"
   },
   {
    "duration": 12,
    "start_time": "2022-03-21T11:38:23.212Z"
   },
   {
    "duration": 23,
    "start_time": "2022-03-21T11:38:23.402Z"
   },
   {
    "duration": 7,
    "start_time": "2022-03-21T11:38:23.784Z"
   },
   {
    "duration": 35,
    "start_time": "2022-03-21T11:38:24.219Z"
   },
   {
    "duration": 25,
    "start_time": "2022-03-21T11:38:24.677Z"
   },
   {
    "duration": 15,
    "start_time": "2022-03-21T11:38:25.242Z"
   },
   {
    "duration": 8,
    "start_time": "2022-03-21T11:38:27.891Z"
   },
   {
    "duration": 204,
    "start_time": "2022-03-21T11:38:30.414Z"
   },
   {
    "duration": 122,
    "start_time": "2022-03-21T11:38:31.138Z"
   },
   {
    "duration": 240,
    "start_time": "2022-03-21T11:38:32.925Z"
   },
   {
    "duration": 25,
    "start_time": "2022-03-21T11:38:34.523Z"
   },
   {
    "duration": 7,
    "start_time": "2022-03-21T11:38:55.826Z"
   },
   {
    "duration": 213,
    "start_time": "2022-03-21T11:38:56.345Z"
   },
   {
    "duration": 7,
    "start_time": "2022-03-21T11:38:58.840Z"
   },
   {
    "duration": 107,
    "start_time": "2022-03-21T11:38:59.281Z"
   },
   {
    "duration": 220,
    "start_time": "2022-03-21T11:39:01.193Z"
   },
   {
    "duration": 20,
    "start_time": "2022-03-21T11:39:03.094Z"
   },
   {
    "duration": 18,
    "start_time": "2022-03-21T11:39:28.678Z"
   },
   {
    "duration": 20,
    "start_time": "2022-03-21T11:39:33.783Z"
   },
   {
    "duration": 18,
    "start_time": "2022-03-21T11:40:03.218Z"
   },
   {
    "duration": 3,
    "start_time": "2022-03-21T11:40:11.774Z"
   },
   {
    "duration": 74,
    "start_time": "2022-03-21T11:40:12.191Z"
   },
   {
    "duration": 7,
    "start_time": "2022-03-21T11:40:12.704Z"
   },
   {
    "duration": 96,
    "start_time": "2022-03-21T11:40:12.770Z"
   },
   {
    "duration": 14,
    "start_time": "2022-03-21T11:40:12.868Z"
   },
   {
    "duration": 8,
    "start_time": "2022-03-21T11:40:13.048Z"
   },
   {
    "duration": 6,
    "start_time": "2022-03-21T11:40:13.123Z"
   },
   {
    "duration": 5,
    "start_time": "2022-03-21T11:40:13.190Z"
   },
   {
    "duration": 5,
    "start_time": "2022-03-21T11:40:13.238Z"
   },
   {
    "duration": 11,
    "start_time": "2022-03-21T11:40:13.335Z"
   },
   {
    "duration": 13,
    "start_time": "2022-03-21T11:40:13.397Z"
   },
   {
    "duration": 7,
    "start_time": "2022-03-21T11:40:13.464Z"
   },
   {
    "duration": 16,
    "start_time": "2022-03-21T11:40:13.499Z"
   },
   {
    "duration": 5,
    "start_time": "2022-03-21T11:40:13.562Z"
   },
   {
    "duration": 6,
    "start_time": "2022-03-21T11:40:13.627Z"
   },
   {
    "duration": 13,
    "start_time": "2022-03-21T11:40:13.697Z"
   },
   {
    "duration": 7,
    "start_time": "2022-03-21T11:40:13.900Z"
   },
   {
    "duration": 14,
    "start_time": "2022-03-21T11:40:13.991Z"
   },
   {
    "duration": 9,
    "start_time": "2022-03-21T11:40:14.049Z"
   },
   {
    "duration": 8,
    "start_time": "2022-03-21T11:40:14.195Z"
   },
   {
    "duration": 14,
    "start_time": "2022-03-21T11:40:14.274Z"
   },
   {
    "duration": 28,
    "start_time": "2022-03-21T11:40:14.332Z"
   },
   {
    "duration": 6,
    "start_time": "2022-03-21T11:40:14.442Z"
   },
   {
    "duration": 7,
    "start_time": "2022-03-21T11:40:14.477Z"
   },
   {
    "duration": 5,
    "start_time": "2022-03-21T11:40:14.588Z"
   },
   {
    "duration": 14,
    "start_time": "2022-03-21T11:40:14.649Z"
   },
   {
    "duration": 25,
    "start_time": "2022-03-21T11:40:14.684Z"
   },
   {
    "duration": 7,
    "start_time": "2022-03-21T11:40:14.746Z"
   },
   {
    "duration": 37,
    "start_time": "2022-03-21T11:40:14.810Z"
   },
   {
    "duration": 24,
    "start_time": "2022-03-21T11:40:14.876Z"
   },
   {
    "duration": 15,
    "start_time": "2022-03-21T11:40:14.935Z"
   },
   {
    "duration": 7,
    "start_time": "2022-03-21T11:40:15.042Z"
   },
   {
    "duration": 210,
    "start_time": "2022-03-21T11:40:15.077Z"
   },
   {
    "duration": 129,
    "start_time": "2022-03-21T11:40:15.289Z"
   },
   {
    "duration": 234,
    "start_time": "2022-03-21T11:40:15.420Z"
   },
   {
    "duration": 27,
    "start_time": "2022-03-21T11:40:15.656Z"
   },
   {
    "duration": 7,
    "start_time": "2022-03-21T11:40:25.840Z"
   },
   {
    "duration": 547,
    "start_time": "2022-03-21T11:40:26.347Z"
   },
   {
    "duration": 7,
    "start_time": "2022-03-21T11:40:27.829Z"
   },
   {
    "duration": 110,
    "start_time": "2022-03-21T11:40:28.443Z"
   },
   {
    "duration": 222,
    "start_time": "2022-03-21T11:40:32.294Z"
   },
   {
    "duration": 19,
    "start_time": "2022-03-21T11:40:35.742Z"
   },
   {
    "duration": 19,
    "start_time": "2022-03-21T11:40:40.556Z"
   },
   {
    "duration": 19,
    "start_time": "2022-03-21T11:40:59.588Z"
   },
   {
    "duration": 20,
    "start_time": "2022-03-21T11:41:10.047Z"
   },
   {
    "duration": 20,
    "start_time": "2022-03-21T11:41:18.213Z"
   },
   {
    "duration": 19,
    "start_time": "2022-03-21T11:41:22.747Z"
   },
   {
    "duration": 20,
    "start_time": "2022-03-21T11:41:25.893Z"
   },
   {
    "duration": 224,
    "start_time": "2022-03-21T11:41:41.640Z"
   },
   {
    "duration": 3,
    "start_time": "2022-03-21T11:41:47.466Z"
   },
   {
    "duration": 78,
    "start_time": "2022-03-21T11:41:47.503Z"
   },
   {
    "duration": 7,
    "start_time": "2022-03-21T11:41:47.583Z"
   },
   {
    "duration": 97,
    "start_time": "2022-03-21T11:41:47.604Z"
   },
   {
    "duration": 14,
    "start_time": "2022-03-21T11:41:47.703Z"
   },
   {
    "duration": 9,
    "start_time": "2022-03-21T11:41:47.879Z"
   },
   {
    "duration": 7,
    "start_time": "2022-03-21T11:41:47.944Z"
   },
   {
    "duration": 5,
    "start_time": "2022-03-21T11:41:48.005Z"
   },
   {
    "duration": 5,
    "start_time": "2022-03-21T11:41:48.045Z"
   },
   {
    "duration": 10,
    "start_time": "2022-03-21T11:41:48.151Z"
   },
   {
    "duration": 15,
    "start_time": "2022-03-21T11:41:48.231Z"
   },
   {
    "duration": 8,
    "start_time": "2022-03-21T11:41:48.289Z"
   },
   {
    "duration": 17,
    "start_time": "2022-03-21T11:41:48.326Z"
   },
   {
    "duration": 5,
    "start_time": "2022-03-21T11:41:48.390Z"
   },
   {
    "duration": 8,
    "start_time": "2022-03-21T11:41:48.453Z"
   },
   {
    "duration": 21,
    "start_time": "2022-03-21T11:41:48.514Z"
   },
   {
    "duration": 9,
    "start_time": "2022-03-21T11:41:48.714Z"
   },
   {
    "duration": 20,
    "start_time": "2022-03-21T11:41:48.803Z"
   },
   {
    "duration": 13,
    "start_time": "2022-03-21T11:41:48.863Z"
   },
   {
    "duration": 12,
    "start_time": "2022-03-21T11:41:48.985Z"
   },
   {
    "duration": 20,
    "start_time": "2022-03-21T11:41:49.050Z"
   },
   {
    "duration": 42,
    "start_time": "2022-03-21T11:41:49.121Z"
   },
   {
    "duration": 6,
    "start_time": "2022-03-21T11:41:49.236Z"
   },
   {
    "duration": 7,
    "start_time": "2022-03-21T11:41:49.270Z"
   },
   {
    "duration": 4,
    "start_time": "2022-03-21T11:41:49.381Z"
   },
   {
    "duration": 12,
    "start_time": "2022-03-21T11:41:49.441Z"
   },
   {
    "duration": 24,
    "start_time": "2022-03-21T11:41:49.477Z"
   },
   {
    "duration": 6,
    "start_time": "2022-03-21T11:41:49.541Z"
   },
   {
    "duration": 36,
    "start_time": "2022-03-21T11:41:49.604Z"
   },
   {
    "duration": 26,
    "start_time": "2022-03-21T11:41:49.669Z"
   },
   {
    "duration": 16,
    "start_time": "2022-03-21T11:41:49.732Z"
   },
   {
    "duration": 8,
    "start_time": "2022-03-21T11:41:49.845Z"
   },
   {
    "duration": 215,
    "start_time": "2022-03-21T11:41:49.874Z"
   },
   {
    "duration": 127,
    "start_time": "2022-03-21T11:41:50.092Z"
   },
   {
    "duration": 251,
    "start_time": "2022-03-21T11:41:50.221Z"
   },
   {
    "duration": 25,
    "start_time": "2022-03-21T11:41:55.890Z"
   },
   {
    "duration": 8,
    "start_time": "2022-03-21T11:41:57.559Z"
   },
   {
    "duration": 377,
    "start_time": "2022-03-21T11:41:58.175Z"
   },
   {
    "duration": 9,
    "start_time": "2022-03-21T11:42:01.436Z"
   },
   {
    "duration": 108,
    "start_time": "2022-03-21T11:42:03.761Z"
   },
   {
    "duration": 233,
    "start_time": "2022-03-21T11:42:14.751Z"
   },
   {
    "duration": 1178,
    "start_time": "2022-03-21T11:43:22.258Z"
   },
   {
    "duration": 1026,
    "start_time": "2022-03-21T11:43:27.668Z"
   },
   {
    "duration": 523,
    "start_time": "2022-03-21T11:43:31.806Z"
   },
   {
    "duration": 171,
    "start_time": "2022-03-21T11:44:01.633Z"
   },
   {
    "duration": 426,
    "start_time": "2022-03-21T11:44:07.362Z"
   },
   {
    "duration": 457,
    "start_time": "2022-03-21T11:44:17.426Z"
   },
   {
    "duration": 478,
    "start_time": "2022-03-21T11:44:25.607Z"
   },
   {
    "duration": 454,
    "start_time": "2022-03-21T11:45:56.792Z"
   },
   {
    "duration": 20,
    "start_time": "2022-03-21T11:46:07.034Z"
   },
   {
    "duration": 21,
    "start_time": "2022-03-21T11:46:52.647Z"
   },
   {
    "duration": 7,
    "start_time": "2022-03-21T11:46:57.262Z"
   },
   {
    "duration": 6,
    "start_time": "2022-03-21T11:46:57.842Z"
   },
   {
    "duration": 226,
    "start_time": "2022-03-21T11:47:00.203Z"
   },
   {
    "duration": 112,
    "start_time": "2022-03-21T11:47:03.095Z"
   },
   {
    "duration": 140,
    "start_time": "2022-03-21T11:47:06.993Z"
   },
   {
    "duration": 20,
    "start_time": "2022-03-21T11:47:15.589Z"
   },
   {
    "duration": 7,
    "start_time": "2022-03-21T11:47:47.684Z"
   },
   {
    "duration": 13,
    "start_time": "2022-03-21T11:47:48.498Z"
   },
   {
    "duration": 712,
    "start_time": "2022-03-21T11:47:52.481Z"
   },
   {
    "duration": 97,
    "start_time": "2022-03-21T11:47:56.508Z"
   },
   {
    "duration": 160,
    "start_time": "2022-03-21T11:48:32.428Z"
   },
   {
    "duration": 19,
    "start_time": "2022-03-21T11:48:40.147Z"
   },
   {
    "duration": 189,
    "start_time": "2022-03-21T11:49:08.750Z"
   },
   {
    "duration": 204,
    "start_time": "2022-03-21T11:49:17.405Z"
   },
   {
    "duration": 193,
    "start_time": "2022-03-21T11:49:33.860Z"
   },
   {
    "duration": 21,
    "start_time": "2022-03-21T11:49:36.623Z"
   },
   {
    "duration": 18,
    "start_time": "2022-03-21T11:50:00.375Z"
   },
   {
    "duration": 18,
    "start_time": "2022-03-21T11:50:13.320Z"
   },
   {
    "duration": 314,
    "start_time": "2022-03-21T11:50:34.614Z"
   },
   {
    "duration": 310,
    "start_time": "2022-03-21T11:50:38.928Z"
   },
   {
    "duration": 3,
    "start_time": "2022-03-21T11:50:46.874Z"
   },
   {
    "duration": 74,
    "start_time": "2022-03-21T11:50:47.379Z"
   },
   {
    "duration": 6,
    "start_time": "2022-03-21T11:50:47.455Z"
   },
   {
    "duration": 93,
    "start_time": "2022-03-21T11:50:47.482Z"
   },
   {
    "duration": 13,
    "start_time": "2022-03-21T11:50:47.576Z"
   },
   {
    "duration": 8,
    "start_time": "2022-03-21T11:50:47.758Z"
   },
   {
    "duration": 6,
    "start_time": "2022-03-21T11:50:47.820Z"
   },
   {
    "duration": 5,
    "start_time": "2022-03-21T11:50:47.882Z"
   },
   {
    "duration": 4,
    "start_time": "2022-03-21T11:50:47.919Z"
   },
   {
    "duration": 10,
    "start_time": "2022-03-21T11:50:48.054Z"
   },
   {
    "duration": 14,
    "start_time": "2022-03-21T11:50:48.112Z"
   },
   {
    "duration": 7,
    "start_time": "2022-03-21T11:50:48.176Z"
   },
   {
    "duration": 16,
    "start_time": "2022-03-21T11:50:48.209Z"
   },
   {
    "duration": 5,
    "start_time": "2022-03-21T11:50:48.272Z"
   },
   {
    "duration": 8,
    "start_time": "2022-03-21T11:50:48.337Z"
   },
   {
    "duration": 15,
    "start_time": "2022-03-21T11:50:48.401Z"
   },
   {
    "duration": 7,
    "start_time": "2022-03-21T11:50:48.601Z"
   },
   {
    "duration": 17,
    "start_time": "2022-03-21T11:50:48.686Z"
   },
   {
    "duration": 9,
    "start_time": "2022-03-21T11:50:48.754Z"
   },
   {
    "duration": 9,
    "start_time": "2022-03-21T11:50:48.872Z"
   },
   {
    "duration": 15,
    "start_time": "2022-03-21T11:50:50.482Z"
   },
   {
    "duration": 28,
    "start_time": "2022-03-21T11:50:50.547Z"
   },
   {
    "duration": 6,
    "start_time": "2022-03-21T11:50:50.683Z"
   },
   {
    "duration": 7,
    "start_time": "2022-03-21T11:50:50.724Z"
   },
   {
    "duration": 5,
    "start_time": "2022-03-21T11:50:50.835Z"
   },
   {
    "duration": 12,
    "start_time": "2022-03-21T11:50:50.898Z"
   },
   {
    "duration": 24,
    "start_time": "2022-03-21T11:50:50.932Z"
   },
   {
    "duration": 6,
    "start_time": "2022-03-21T11:50:50.999Z"
   },
   {
    "duration": 39,
    "start_time": "2022-03-21T11:50:51.065Z"
   },
   {
    "duration": 25,
    "start_time": "2022-03-21T11:50:51.129Z"
   },
   {
    "duration": 16,
    "start_time": "2022-03-21T11:50:51.190Z"
   },
   {
    "duration": 7,
    "start_time": "2022-03-21T11:50:51.301Z"
   },
   {
    "duration": 200,
    "start_time": "2022-03-21T11:50:51.337Z"
   },
   {
    "duration": 165,
    "start_time": "2022-03-21T11:50:51.539Z"
   },
   {
    "duration": 237,
    "start_time": "2022-03-21T11:50:51.706Z"
   },
   {
    "duration": 24,
    "start_time": "2022-03-21T11:50:51.945Z"
   },
   {
    "duration": 6,
    "start_time": "2022-03-21T11:50:51.970Z"
   },
   {
    "duration": 251,
    "start_time": "2022-03-21T11:50:51.977Z"
   },
   {
    "duration": 7,
    "start_time": "2022-03-21T11:50:52.229Z"
   },
   {
    "duration": 122,
    "start_time": "2022-03-21T11:50:52.238Z"
   },
   {
    "duration": 459,
    "start_time": "2022-03-21T11:50:52.362Z"
   },
   {
    "duration": 18,
    "start_time": "2022-03-21T11:50:54.440Z"
   },
   {
    "duration": 7,
    "start_time": "2022-03-21T11:50:56.191Z"
   },
   {
    "duration": 6,
    "start_time": "2022-03-21T11:50:56.691Z"
   },
   {
    "duration": 230,
    "start_time": "2022-03-21T11:50:57.678Z"
   },
   {
    "duration": 101,
    "start_time": "2022-03-21T11:50:58.457Z"
   },
   {
    "duration": 132,
    "start_time": "2022-03-21T11:50:59.203Z"
   },
   {
    "duration": 18,
    "start_time": "2022-03-21T11:50:59.919Z"
   },
   {
    "duration": 8,
    "start_time": "2022-03-21T11:51:01.389Z"
   },
   {
    "duration": 12,
    "start_time": "2022-03-21T11:51:01.718Z"
   },
   {
    "duration": 315,
    "start_time": "2022-03-21T11:51:03.388Z"
   },
   {
    "duration": 407,
    "start_time": "2022-03-21T11:51:16.543Z"
   },
   {
    "duration": 347,
    "start_time": "2022-03-21T11:51:22.282Z"
   },
   {
    "duration": 180,
    "start_time": "2022-03-21T11:51:50.355Z"
   },
   {
    "duration": 20,
    "start_time": "2022-03-21T11:51:56.568Z"
   },
   {
    "duration": 216,
    "start_time": "2022-03-21T11:52:50.675Z"
   },
   {
    "duration": 107,
    "start_time": "2022-03-21T11:52:52.322Z"
   },
   {
    "duration": 20,
    "start_time": "2022-03-21T11:54:30.381Z"
   },
   {
    "duration": 17,
    "start_time": "2022-03-21T11:54:35.474Z"
   },
   {
    "duration": 17,
    "start_time": "2022-03-21T11:54:39.682Z"
   },
   {
    "duration": 3,
    "start_time": "2022-03-21T11:54:49.058Z"
   },
   {
    "duration": 82,
    "start_time": "2022-03-21T11:54:49.563Z"
   },
   {
    "duration": 6,
    "start_time": "2022-03-21T11:54:49.647Z"
   },
   {
    "duration": 90,
    "start_time": "2022-03-21T11:54:49.667Z"
   },
   {
    "duration": 13,
    "start_time": "2022-03-21T11:54:49.759Z"
   },
   {
    "duration": 8,
    "start_time": "2022-03-21T11:54:49.945Z"
   },
   {
    "duration": 6,
    "start_time": "2022-03-21T11:54:50.011Z"
   },
   {
    "duration": 5,
    "start_time": "2022-03-21T11:54:50.069Z"
   },
   {
    "duration": 4,
    "start_time": "2022-03-21T11:54:50.107Z"
   },
   {
    "duration": 12,
    "start_time": "2022-03-21T11:54:50.215Z"
   },
   {
    "duration": 12,
    "start_time": "2022-03-21T11:54:50.280Z"
   },
   {
    "duration": 7,
    "start_time": "2022-03-21T11:54:50.348Z"
   },
   {
    "duration": 18,
    "start_time": "2022-03-21T11:54:50.381Z"
   },
   {
    "duration": 6,
    "start_time": "2022-03-21T11:54:50.448Z"
   },
   {
    "duration": 7,
    "start_time": "2022-03-21T11:54:50.511Z"
   },
   {
    "duration": 14,
    "start_time": "2022-03-21T11:54:50.574Z"
   },
   {
    "duration": 6,
    "start_time": "2022-03-21T11:54:50.776Z"
   },
   {
    "duration": 16,
    "start_time": "2022-03-21T11:54:51.618Z"
   },
   {
    "duration": 8,
    "start_time": "2022-03-21T11:54:52.174Z"
   },
   {
    "duration": 8,
    "start_time": "2022-03-21T11:54:52.298Z"
   },
   {
    "duration": 13,
    "start_time": "2022-03-21T11:54:52.359Z"
   },
   {
    "duration": 27,
    "start_time": "2022-03-21T11:54:52.426Z"
   },
   {
    "duration": 6,
    "start_time": "2022-03-21T11:54:52.551Z"
   },
   {
    "duration": 9,
    "start_time": "2022-03-21T11:54:52.591Z"
   },
   {
    "duration": 5,
    "start_time": "2022-03-21T11:54:52.699Z"
   },
   {
    "duration": 12,
    "start_time": "2022-03-21T11:54:52.762Z"
   },
   {
    "duration": 20,
    "start_time": "2022-03-21T11:54:52.799Z"
   },
   {
    "duration": 6,
    "start_time": "2022-03-21T11:54:53.974Z"
   },
   {
    "duration": 37,
    "start_time": "2022-03-21T11:54:54.056Z"
   },
   {
    "duration": 25,
    "start_time": "2022-03-21T11:54:54.125Z"
   },
   {
    "duration": 15,
    "start_time": "2022-03-21T11:54:54.178Z"
   },
   {
    "duration": 8,
    "start_time": "2022-03-21T11:54:54.288Z"
   },
   {
    "duration": 201,
    "start_time": "2022-03-21T11:54:54.323Z"
   },
   {
    "duration": 130,
    "start_time": "2022-03-21T11:54:54.526Z"
   },
   {
    "duration": 757,
    "start_time": "2022-03-21T11:54:56.130Z"
   },
   {
    "duration": 27,
    "start_time": "2022-03-21T11:54:56.889Z"
   },
   {
    "duration": 8,
    "start_time": "2022-03-21T11:54:57.195Z"
   },
   {
    "duration": 229,
    "start_time": "2022-03-21T11:54:57.378Z"
   },
   {
    "duration": 7,
    "start_time": "2022-03-21T11:54:57.749Z"
   },
   {
    "duration": 110,
    "start_time": "2022-03-21T11:54:57.907Z"
   },
   {
    "duration": 469,
    "start_time": "2022-03-21T11:54:58.898Z"
   },
   {
    "duration": 18,
    "start_time": "2022-03-21T11:54:59.369Z"
   },
   {
    "duration": 7,
    "start_time": "2022-03-21T11:55:00.212Z"
   },
   {
    "duration": 6,
    "start_time": "2022-03-21T11:55:00.434Z"
   },
   {
    "duration": 228,
    "start_time": "2022-03-21T11:55:00.655Z"
   },
   {
    "duration": 111,
    "start_time": "2022-03-21T11:55:01.045Z"
   },
   {
    "duration": 135,
    "start_time": "2022-03-21T11:55:01.446Z"
   },
   {
    "duration": 18,
    "start_time": "2022-03-21T11:55:01.846Z"
   },
   {
    "duration": 8,
    "start_time": "2022-03-21T11:55:03.082Z"
   },
   {
    "duration": 12,
    "start_time": "2022-03-21T11:55:03.468Z"
   },
   {
    "duration": 328,
    "start_time": "2022-03-21T11:55:04.215Z"
   },
   {
    "duration": 101,
    "start_time": "2022-03-21T11:55:05.781Z"
   },
   {
    "duration": 181,
    "start_time": "2022-03-21T11:55:06.857Z"
   },
   {
    "duration": 17,
    "start_time": "2022-03-21T11:55:07.864Z"
   },
   {
    "duration": 225,
    "start_time": "2022-03-21T11:55:15.478Z"
   },
   {
    "duration": 103,
    "start_time": "2022-03-21T11:55:17.041Z"
   },
   {
    "duration": 17,
    "start_time": "2022-03-21T11:55:44.772Z"
   },
   {
    "duration": 18,
    "start_time": "2022-03-21T11:55:51.470Z"
   },
   {
    "duration": 17,
    "start_time": "2022-03-21T11:55:54.803Z"
   },
   {
    "duration": 17,
    "start_time": "2022-03-21T11:56:00.299Z"
   },
   {
    "duration": 17,
    "start_time": "2022-03-21T11:56:03.992Z"
   },
   {
    "duration": 3,
    "start_time": "2022-03-21T11:56:33.763Z"
   },
   {
    "duration": 72,
    "start_time": "2022-03-21T11:56:34.282Z"
   },
   {
    "duration": 7,
    "start_time": "2022-03-21T11:56:34.356Z"
   },
   {
    "duration": 94,
    "start_time": "2022-03-21T11:56:34.399Z"
   },
   {
    "duration": 17,
    "start_time": "2022-03-21T11:56:34.495Z"
   },
   {
    "duration": 8,
    "start_time": "2022-03-21T11:56:34.663Z"
   },
   {
    "duration": 6,
    "start_time": "2022-03-21T11:56:34.726Z"
   },
   {
    "duration": 5,
    "start_time": "2022-03-21T11:56:34.794Z"
   },
   {
    "duration": 5,
    "start_time": "2022-03-21T11:56:34.833Z"
   },
   {
    "duration": 11,
    "start_time": "2022-03-21T11:56:34.942Z"
   },
   {
    "duration": 14,
    "start_time": "2022-03-21T11:56:35.009Z"
   },
   {
    "duration": 8,
    "start_time": "2022-03-21T11:56:35.070Z"
   },
   {
    "duration": 16,
    "start_time": "2022-03-21T11:56:35.109Z"
   },
   {
    "duration": 5,
    "start_time": "2022-03-21T11:56:35.178Z"
   },
   {
    "duration": 7,
    "start_time": "2022-03-21T11:56:35.243Z"
   },
   {
    "duration": 14,
    "start_time": "2022-03-21T11:56:35.306Z"
   },
   {
    "duration": 6,
    "start_time": "2022-03-21T11:56:35.501Z"
   },
   {
    "duration": 16,
    "start_time": "2022-03-21T11:56:35.598Z"
   },
   {
    "duration": 8,
    "start_time": "2022-03-21T11:56:35.664Z"
   },
   {
    "duration": 9,
    "start_time": "2022-03-21T11:56:35.773Z"
   },
   {
    "duration": 14,
    "start_time": "2022-03-21T11:56:37.393Z"
   },
   {
    "duration": 28,
    "start_time": "2022-03-21T11:56:37.461Z"
   },
   {
    "duration": 6,
    "start_time": "2022-03-21T11:56:37.602Z"
   },
   {
    "duration": 7,
    "start_time": "2022-03-21T11:56:37.639Z"
   },
   {
    "duration": 5,
    "start_time": "2022-03-21T11:56:37.757Z"
   },
   {
    "duration": 12,
    "start_time": "2022-03-21T11:56:37.816Z"
   },
   {
    "duration": 24,
    "start_time": "2022-03-21T11:56:37.852Z"
   },
   {
    "duration": 8,
    "start_time": "2022-03-21T11:56:37.917Z"
   },
   {
    "duration": 37,
    "start_time": "2022-03-21T11:56:37.982Z"
   },
   {
    "duration": 25,
    "start_time": "2022-03-21T11:56:38.047Z"
   },
   {
    "duration": 14,
    "start_time": "2022-03-21T11:56:39.155Z"
   },
   {
    "duration": 8,
    "start_time": "2022-03-21T11:56:40.596Z"
   },
   {
    "duration": 194,
    "start_time": "2022-03-21T11:56:41.110Z"
   },
   {
    "duration": 122,
    "start_time": "2022-03-21T11:56:41.307Z"
   },
   {
    "duration": 240,
    "start_time": "2022-03-21T11:56:41.431Z"
   },
   {
    "duration": 31,
    "start_time": "2022-03-21T11:56:41.673Z"
   },
   {
    "duration": 7,
    "start_time": "2022-03-21T11:56:41.706Z"
   },
   {
    "duration": 240,
    "start_time": "2022-03-21T11:56:41.714Z"
   },
   {
    "duration": 7,
    "start_time": "2022-03-21T11:56:42.287Z"
   },
   {
    "duration": 111,
    "start_time": "2022-03-21T11:56:42.638Z"
   },
   {
    "duration": 465,
    "start_time": "2022-03-21T11:56:43.462Z"
   },
   {
    "duration": 19,
    "start_time": "2022-03-21T11:56:43.929Z"
   },
   {
    "duration": 8,
    "start_time": "2022-03-21T11:56:44.611Z"
   },
   {
    "duration": 6,
    "start_time": "2022-03-21T11:56:44.864Z"
   },
   {
    "duration": 216,
    "start_time": "2022-03-21T11:56:45.095Z"
   },
   {
    "duration": 98,
    "start_time": "2022-03-21T11:56:45.588Z"
   },
   {
    "duration": 124,
    "start_time": "2022-03-21T11:56:46.035Z"
   },
   {
    "duration": 18,
    "start_time": "2022-03-21T11:56:46.485Z"
   },
   {
    "duration": 8,
    "start_time": "2022-03-21T11:56:47.184Z"
   },
   {
    "duration": 11,
    "start_time": "2022-03-21T11:56:47.614Z"
   },
   {
    "duration": 325,
    "start_time": "2022-03-21T11:56:48.204Z"
   },
   {
    "duration": 92,
    "start_time": "2022-03-21T11:56:49.273Z"
   },
   {
    "duration": 176,
    "start_time": "2022-03-21T11:56:50.815Z"
   },
   {
    "duration": 19,
    "start_time": "2022-03-21T11:56:53.710Z"
   },
   {
    "duration": 7,
    "start_time": "2022-03-21T11:57:15.123Z"
   },
   {
    "duration": 218,
    "start_time": "2022-03-21T11:57:38.054Z"
   },
   {
    "duration": 95,
    "start_time": "2022-03-21T11:57:39.165Z"
   },
   {
    "duration": 40,
    "start_time": "2022-03-21T12:05:03.584Z"
   },
   {
    "duration": 375,
    "start_time": "2022-03-21T12:05:41.961Z"
   },
   {
    "duration": 13,
    "start_time": "2022-03-21T12:05:50.196Z"
   },
   {
    "duration": 3775,
    "start_time": "2022-03-21T12:07:13.732Z"
   },
   {
    "duration": 10,
    "start_time": "2022-03-21T12:07:39.400Z"
   },
   {
    "duration": 2,
    "start_time": "2022-03-21T12:07:48.486Z"
   },
   {
    "duration": 75,
    "start_time": "2022-03-21T12:07:48.990Z"
   },
   {
    "duration": 8,
    "start_time": "2022-03-21T12:07:49.067Z"
   },
   {
    "duration": 98,
    "start_time": "2022-03-21T12:07:49.097Z"
   },
   {
    "duration": 14,
    "start_time": "2022-03-21T12:07:49.200Z"
   },
   {
    "duration": 9,
    "start_time": "2022-03-21T12:07:49.371Z"
   },
   {
    "duration": 7,
    "start_time": "2022-03-21T12:07:49.436Z"
   },
   {
    "duration": 5,
    "start_time": "2022-03-21T12:07:49.502Z"
   },
   {
    "duration": 4,
    "start_time": "2022-03-21T12:07:49.541Z"
   },
   {
    "duration": 10,
    "start_time": "2022-03-21T12:07:49.656Z"
   },
   {
    "duration": 13,
    "start_time": "2022-03-21T12:07:49.721Z"
   },
   {
    "duration": 6,
    "start_time": "2022-03-21T12:07:49.786Z"
   },
   {
    "duration": 16,
    "start_time": "2022-03-21T12:07:49.824Z"
   },
   {
    "duration": 4,
    "start_time": "2022-03-21T12:07:49.890Z"
   },
   {
    "duration": 8,
    "start_time": "2022-03-21T12:07:49.958Z"
   },
   {
    "duration": 14,
    "start_time": "2022-03-21T12:07:50.023Z"
   },
   {
    "duration": 6,
    "start_time": "2022-03-21T12:07:50.215Z"
   },
   {
    "duration": 18,
    "start_time": "2022-03-21T12:07:50.299Z"
   },
   {
    "duration": 8,
    "start_time": "2022-03-21T12:07:50.364Z"
   },
   {
    "duration": 8,
    "start_time": "2022-03-21T12:07:50.476Z"
   },
   {
    "duration": 18,
    "start_time": "2022-03-21T12:07:50.544Z"
   },
   {
    "duration": 26,
    "start_time": "2022-03-21T12:07:50.608Z"
   },
   {
    "duration": 6,
    "start_time": "2022-03-21T12:07:50.725Z"
   },
   {
    "duration": 7,
    "start_time": "2022-03-21T12:07:52.251Z"
   },
   {
    "duration": 4,
    "start_time": "2022-03-21T12:07:52.870Z"
   },
   {
    "duration": 12,
    "start_time": "2022-03-21T12:07:52.933Z"
   },
   {
    "duration": 20,
    "start_time": "2022-03-21T12:07:52.970Z"
   },
   {
    "duration": 6,
    "start_time": "2022-03-21T12:07:53.037Z"
   },
   {
    "duration": 34,
    "start_time": "2022-03-21T12:07:53.103Z"
   },
   {
    "duration": 22,
    "start_time": "2022-03-21T12:07:53.171Z"
   },
   {
    "duration": 14,
    "start_time": "2022-03-21T12:07:53.235Z"
   },
   {
    "duration": 7,
    "start_time": "2022-03-21T12:07:53.347Z"
   },
   {
    "duration": 196,
    "start_time": "2022-03-21T12:07:53.388Z"
   },
   {
    "duration": 122,
    "start_time": "2022-03-21T12:07:53.587Z"
   },
   {
    "duration": 228,
    "start_time": "2022-03-21T12:07:54.437Z"
   },
   {
    "duration": 23,
    "start_time": "2022-03-21T12:07:54.996Z"
   },
   {
    "duration": 8,
    "start_time": "2022-03-21T12:07:55.103Z"
   },
   {
    "duration": 214,
    "start_time": "2022-03-21T12:07:55.137Z"
   },
   {
    "duration": 7,
    "start_time": "2022-03-21T12:07:55.878Z"
   },
   {
    "duration": 742,
    "start_time": "2022-03-21T12:07:56.385Z"
   },
   {
    "duration": 497,
    "start_time": "2022-03-21T12:07:57.129Z"
   },
   {
    "duration": 20,
    "start_time": "2022-03-21T12:07:57.628Z"
   },
   {
    "duration": 7,
    "start_time": "2022-03-21T12:07:57.650Z"
   },
   {
    "duration": 6,
    "start_time": "2022-03-21T12:07:57.658Z"
   },
   {
    "duration": 258,
    "start_time": "2022-03-21T12:07:57.666Z"
   },
   {
    "duration": 115,
    "start_time": "2022-03-21T12:07:57.925Z"
   },
   {
    "duration": 126,
    "start_time": "2022-03-21T12:07:58.653Z"
   },
   {
    "duration": 18,
    "start_time": "2022-03-21T12:07:59.512Z"
   },
   {
    "duration": 8,
    "start_time": "2022-03-21T12:08:00.945Z"
   },
   {
    "duration": 11,
    "start_time": "2022-03-21T12:08:01.151Z"
   },
   {
    "duration": 333,
    "start_time": "2022-03-21T12:08:01.368Z"
   },
   {
    "duration": 104,
    "start_time": "2022-03-21T12:08:01.781Z"
   },
   {
    "duration": 188,
    "start_time": "2022-03-21T12:08:02.147Z"
   },
   {
    "duration": 19,
    "start_time": "2022-03-21T12:08:02.611Z"
   },
   {
    "duration": 8,
    "start_time": "2022-03-21T12:08:03.212Z"
   },
   {
    "duration": 206,
    "start_time": "2022-03-21T12:08:03.247Z"
   },
   {
    "duration": 111,
    "start_time": "2022-03-21T12:08:03.455Z"
   },
   {
    "duration": 14,
    "start_time": "2022-03-21T12:08:32.570Z"
   },
   {
    "duration": 319,
    "start_time": "2022-03-21T12:09:37.553Z"
   },
   {
    "duration": 303,
    "start_time": "2022-03-21T12:11:51.026Z"
   },
   {
    "duration": 85330,
    "start_time": "2022-03-21T12:12:38.309Z"
   },
   {
    "duration": 19,
    "start_time": "2022-03-21T12:14:03.641Z"
   },
   {
    "duration": 117,
    "start_time": "2022-03-21T12:14:25.884Z"
   },
   {
    "duration": 83424,
    "start_time": "2022-03-21T12:16:27.225Z"
   },
   {
    "duration": 325,
    "start_time": "2022-03-21T12:21:12.526Z"
   },
   {
    "duration": 3,
    "start_time": "2022-03-21T12:25:37.269Z"
   },
   {
    "duration": 73,
    "start_time": "2022-03-21T12:25:37.520Z"
   },
   {
    "duration": 8,
    "start_time": "2022-03-21T12:25:37.782Z"
   },
   {
    "duration": 98,
    "start_time": "2022-03-21T12:25:38.329Z"
   },
   {
    "duration": 16,
    "start_time": "2022-03-21T12:25:38.430Z"
   },
   {
    "duration": 10,
    "start_time": "2022-03-21T12:25:38.599Z"
   },
   {
    "duration": 6,
    "start_time": "2022-03-21T12:25:38.672Z"
   },
   {
    "duration": 5,
    "start_time": "2022-03-21T12:25:38.731Z"
   },
   {
    "duration": 6,
    "start_time": "2022-03-21T12:25:39.746Z"
   },
   {
    "duration": 10,
    "start_time": "2022-03-21T12:25:40.899Z"
   },
   {
    "duration": 12,
    "start_time": "2022-03-21T12:25:41.327Z"
   },
   {
    "duration": 8,
    "start_time": "2022-03-21T12:25:42.097Z"
   },
   {
    "duration": 16,
    "start_time": "2022-03-21T12:25:42.900Z"
   },
   {
    "duration": 6,
    "start_time": "2022-03-21T12:25:43.928Z"
   },
   {
    "duration": 7,
    "start_time": "2022-03-21T12:25:44.809Z"
   },
   {
    "duration": 15,
    "start_time": "2022-03-21T12:25:45.724Z"
   },
   {
    "duration": 15,
    "start_time": "2022-03-21T12:26:00.534Z"
   },
   {
    "duration": 9,
    "start_time": "2022-03-21T12:26:01.225Z"
   },
   {
    "duration": 8,
    "start_time": "2022-03-21T12:26:01.352Z"
   },
   {
    "duration": 14,
    "start_time": "2022-03-21T12:26:01.414Z"
   },
   {
    "duration": 28,
    "start_time": "2022-03-21T12:26:01.479Z"
   },
   {
    "duration": 7,
    "start_time": "2022-03-21T12:26:01.607Z"
   },
   {
    "duration": 9,
    "start_time": "2022-03-21T12:26:01.644Z"
   },
   {
    "duration": 5,
    "start_time": "2022-03-21T12:26:01.759Z"
   },
   {
    "duration": 12,
    "start_time": "2022-03-21T12:26:01.825Z"
   },
   {
    "duration": 23,
    "start_time": "2022-03-21T12:26:01.863Z"
   },
   {
    "duration": 6,
    "start_time": "2022-03-21T12:26:01.926Z"
   },
   {
    "duration": 37,
    "start_time": "2022-03-21T12:26:02.000Z"
   },
   {
    "duration": 23,
    "start_time": "2022-03-21T12:26:02.061Z"
   },
   {
    "duration": 15,
    "start_time": "2022-03-21T12:26:02.127Z"
   },
   {
    "duration": 8,
    "start_time": "2022-03-21T12:26:02.235Z"
   },
   {
    "duration": 225,
    "start_time": "2022-03-21T12:26:02.272Z"
   },
   {
    "duration": 136,
    "start_time": "2022-03-21T12:26:02.502Z"
   },
   {
    "duration": 245,
    "start_time": "2022-03-21T12:26:02.640Z"
   },
   {
    "duration": 28,
    "start_time": "2022-03-21T12:26:02.887Z"
   },
   {
    "duration": 7,
    "start_time": "2022-03-21T12:26:02.917Z"
   },
   {
    "duration": 243,
    "start_time": "2022-03-21T12:26:02.925Z"
   },
   {
    "duration": 7,
    "start_time": "2022-03-21T12:26:04.527Z"
   },
   {
    "duration": 104,
    "start_time": "2022-03-21T12:26:04.731Z"
   },
   {
    "duration": 460,
    "start_time": "2022-03-21T12:26:05.453Z"
   },
   {
    "duration": 19,
    "start_time": "2022-03-21T12:26:05.943Z"
   },
   {
    "duration": 8,
    "start_time": "2022-03-21T12:26:07.580Z"
   },
   {
    "duration": 5,
    "start_time": "2022-03-21T12:26:07.756Z"
   },
   {
    "duration": 227,
    "start_time": "2022-03-21T12:26:07.950Z"
   },
   {
    "duration": 105,
    "start_time": "2022-03-21T12:26:08.317Z"
   },
   {
    "duration": 122,
    "start_time": "2022-03-21T12:26:08.861Z"
   },
   {
    "duration": 19,
    "start_time": "2022-03-21T12:26:09.537Z"
   },
   {
    "duration": 7,
    "start_time": "2022-03-21T12:26:10.943Z"
   },
   {
    "duration": 11,
    "start_time": "2022-03-21T12:26:11.105Z"
   },
   {
    "duration": 327,
    "start_time": "2022-03-21T12:26:11.277Z"
   },
   {
    "duration": 103,
    "start_time": "2022-03-21T12:26:11.690Z"
   },
   {
    "duration": 180,
    "start_time": "2022-03-21T12:26:12.358Z"
   },
   {
    "duration": 18,
    "start_time": "2022-03-21T12:26:12.814Z"
   },
   {
    "duration": 8,
    "start_time": "2022-03-21T12:26:14.354Z"
   },
   {
    "duration": 210,
    "start_time": "2022-03-21T12:26:14.773Z"
   },
   {
    "duration": 101,
    "start_time": "2022-03-21T12:26:15.014Z"
   },
   {
    "duration": 13,
    "start_time": "2022-03-21T12:26:18.294Z"
   },
   {
    "duration": 16,
    "start_time": "2022-03-21T12:26:53.732Z"
   },
   {
    "duration": 16,
    "start_time": "2022-03-21T12:28:08.639Z"
   },
   {
    "duration": 1131,
    "start_time": "2022-03-21T12:29:43.246Z"
   },
   {
    "duration": 1075,
    "start_time": "2022-03-21T12:32:24.950Z"
   },
   {
    "duration": 993,
    "start_time": "2022-03-21T12:32:53.635Z"
   },
   {
    "duration": 19,
    "start_time": "2022-03-21T12:33:33.513Z"
   },
   {
    "duration": 1471,
    "start_time": "2022-03-21T12:33:44.997Z"
   },
   {
    "duration": 395,
    "start_time": "2022-03-21T12:33:58.967Z"
   },
   {
    "duration": 435,
    "start_time": "2022-03-21T12:34:36.407Z"
   },
   {
    "duration": 8,
    "start_time": "2022-03-21T12:35:18.928Z"
   },
   {
    "duration": 22,
    "start_time": "2022-03-21T12:35:22.099Z"
   },
   {
    "duration": 12,
    "start_time": "2022-03-21T12:35:32.253Z"
   },
   {
    "duration": 265,
    "start_time": "2022-03-21T12:35:33.500Z"
   },
   {
    "duration": 8,
    "start_time": "2022-03-21T12:37:36.774Z"
   },
   {
    "duration": 191,
    "start_time": "2022-03-21T12:37:37.402Z"
   },
   {
    "duration": 166,
    "start_time": "2022-03-21T12:37:39.657Z"
   },
   {
    "duration": 158,
    "start_time": "2022-03-21T12:37:40.568Z"
   },
   {
    "duration": 201,
    "start_time": "2022-03-21T12:37:44.977Z"
   },
   {
    "duration": 389,
    "start_time": "2022-03-21T12:41:41.497Z"
   },
   {
    "duration": 13,
    "start_time": "2022-03-21T12:41:45.771Z"
   },
   {
    "duration": 16,
    "start_time": "2022-03-21T12:44:30.205Z"
   },
   {
    "duration": 131,
    "start_time": "2022-03-21T12:45:56.037Z"
   },
   {
    "duration": 422,
    "start_time": "2022-03-21T12:46:54.423Z"
   },
   {
    "duration": 14,
    "start_time": "2022-03-21T12:49:52.204Z"
   },
   {
    "duration": 133,
    "start_time": "2022-03-21T12:50:00.778Z"
   },
   {
    "duration": 457,
    "start_time": "2022-03-21T12:50:21.008Z"
   },
   {
    "duration": 135,
    "start_time": "2022-03-21T12:52:27.394Z"
   },
   {
    "duration": 462,
    "start_time": "2022-03-21T12:52:31.098Z"
   }
  ],
  "kernelspec": {
   "display_name": "Python 3 (ipykernel)",
   "language": "python",
   "name": "python3"
  },
  "language_info": {
   "codemirror_mode": {
    "name": "ipython",
    "version": 3
   },
   "file_extension": ".py",
   "mimetype": "text/x-python",
   "name": "python",
   "nbconvert_exporter": "python",
   "pygments_lexer": "ipython3",
   "version": "3.9.5"
  },
  "toc": {
   "base_numbering": 1,
   "nav_menu": {},
   "number_sections": true,
   "sideBar": true,
   "skip_h1_title": true,
   "title_cell": "Содержание",
   "title_sidebar": "Contents",
   "toc_cell": true,
   "toc_position": {
    "height": "calc(100% - 180px)",
    "left": "10px",
    "top": "150px",
    "width": "165px"
   },
   "toc_section_display": true,
   "toc_window_display": true
  }
 },
 "nbformat": 4,
 "nbformat_minor": 4
}
